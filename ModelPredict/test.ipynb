{
 "cells": [
  {
   "cell_type": "code",
   "execution_count": 6,
   "metadata": {},
   "outputs": [
    {
     "name": "stdout",
     "output_type": "stream",
     "text": [
      "up:  2690 bending:  1610 down:  1349\n"
     ]
    }
   ],
   "source": [
    "import os\n",
    "\n",
    "up = 0\n",
    "bending = 0\n",
    "down = 0\n",
    "inpath = '/Users/jayden/Desktop/test'\n",
    "for i in os.listdir(inpath):\n",
    "    with open(inpath + '/' + i, 'r') as f:\n",
    "        lines = f.readlines()\n",
    "        for line in lines:\n",
    "            if int(line[0]) == 0:\n",
    "                up += 1\n",
    "            elif int(line[0]) == 1:\n",
    "                bending += 1\n",
    "            elif int(line[0]) == 2:\n",
    "                down += 1\n",
    "print('up: ', up, 'bending: ', bending, 'down: ', down)\n"
   ]
  }
 ],
 "metadata": {
  "kernelspec": {
   "display_name": "venv3.1",
   "language": "python",
   "name": "python3"
  },
  "language_info": {
   "codemirror_mode": {
    "name": "ipython",
    "version": 3
   },
   "file_extension": ".py",
   "mimetype": "text/x-python",
   "name": "python",
   "nbconvert_exporter": "python",
   "pygments_lexer": "ipython3",
   "version": "3.10.13"
  }
 },
 "nbformat": 4,
 "nbformat_minor": 2
}
