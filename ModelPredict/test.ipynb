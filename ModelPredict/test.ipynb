{
 "cells": [
  {
   "cell_type": "code",
   "execution_count": 11,
   "metadata": {},
   "outputs": [
    {
     "name": "stdout",
     "output_type": "stream",
     "text": [
      "0.0 1.0 2.0 3.0 4.0\n",
      "\n",
      "1.0\n",
      "\n"
     ]
    }
   ],
   "source": [
    "a = \"rgb_12124.png\"\n",
    "b = f\"{a}/{a}\"\n",
    "c0 = []\n",
    "c = [0.0, 1.0, 2.0, 3.0, 4.0]\n",
    "d = \" \".join(str(e) for e in c)\n",
    "c0.append(c)\n",
    "c0.append([1.0])\n",
    "for e1 in c0:\n",
    "    print(\" \".join(str(e) for e in e1) + \"\\n\")"
   ]
  }
 ],
 "metadata": {
  "kernelspec": {
   "display_name": "venv3.1",
   "language": "python",
   "name": "python3"
  },
  "language_info": {
   "codemirror_mode": {
    "name": "ipython",
    "version": 3
   },
   "file_extension": ".py",
   "mimetype": "text/x-python",
   "name": "python",
   "nbconvert_exporter": "python",
   "pygments_lexer": "ipython3",
   "version": "3.10.13"
  }
 },
 "nbformat": 4,
 "nbformat_minor": 2
}
