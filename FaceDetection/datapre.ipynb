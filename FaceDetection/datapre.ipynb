{
 "cells": [
  {
   "cell_type": "code",
   "execution_count": 1,
   "metadata": {},
   "outputs": [],
   "source": [
    "import fiftyone as fo\n",
    "import fiftyone.zoo as foz"
   ]
  },
  {
   "cell_type": "code",
   "execution_count": 2,
   "metadata": {},
   "outputs": [],
   "source": [
    "dataset_origin = \"/Users/jayden/Library/CloudStorage/OneDrive-jaydentang/Datasets/open-images-v7-face\"\n",
    "dataset_new = \"/Users/jayden/Library/CloudStorage/OneDrive-jaydentang/Datasets/open-images-v7-face-yolo\"\n",
    "\n",
    "classes = [\"Person\", \"Human face\"]"
   ]
  },
  {
   "cell_type": "code",
   "execution_count": 3,
   "metadata": {},
   "outputs": [
    {
     "name": "stdout",
     "output_type": "stream",
     "text": [
      "Downloading split 'train' to './open-images-v7/train' if necessary\n",
      "Downloading 'https://storage.googleapis.com/openimages/2018_04/train/train-images-boxable-with-rotation.csv' to './open-images-v7/train/metadata/image_ids.csv'\n",
      " 100% |██████|    4.8Gb/4.8Gb [2.9m elapsed, 0s remaining, 34.7Mb/s]      \n",
      "Downloading 'https://storage.googleapis.com/openimages/v5/class-descriptions-boxable.csv' to './open-images-v7/train/metadata/classes.csv'\n",
      "Downloading 'https://storage.googleapis.com/openimages/2018_04/bbox_labels_600_hierarchy.json' to '/var/folders/02/cl_h566x7735tf5l3tqk_dd00000gn/T/tmpf9do3dra/metadata/hierarchy.json'\n",
      "Downloading 'https://storage.googleapis.com/openimages/v6/oidv6-train-annotations-bbox.csv' to './open-images-v7/train/labels/detections.csv'\n",
      "Downloading 7000 images\n",
      " 100% |█████████████████| 7000/7000 [13.6m elapsed, 0s remaining, 8.0 files/s]      \n",
      "Dataset info written to './open-images-v7/info.json'\n",
      "Deleting existing dataset 'open-images-v7-train-7000'\n",
      "Loading 'open-images-v7' split 'train'\n",
      " 100% |███████████████| 7000/7000 [28.2s elapsed, 0s remaining, 222.9 samples/s]      \n",
      "Dataset 'open-images-v7-train-7000' created\n",
      "   1% |/--------------|   46/7000 [116.1ms elapsed, 17.6s remaining, 396.2 samples/s] "
     ]
    },
    {
     "name": "stderr",
     "output_type": "stream",
     "text": [
      "/Users/jayden/.pyenv/versions/3.10.13/envs/venv3.1/lib/python3.10/site-packages/fiftyone/utils/yolo.py:993: UserWarning: Ignoring detection with label 'Human body' not in provided classes\n",
      "  warnings.warn(msg)\n",
      "/Users/jayden/.pyenv/versions/3.10.13/envs/venv3.1/lib/python3.10/site-packages/fiftyone/utils/yolo.py:993: UserWarning: Ignoring detection with label 'Human hair' not in provided classes\n",
      "  warnings.warn(msg)\n",
      "/Users/jayden/.pyenv/versions/3.10.13/envs/venv3.1/lib/python3.10/site-packages/fiftyone/utils/yolo.py:993: UserWarning: Ignoring detection with label 'Human head' not in provided classes\n",
      "  warnings.warn(msg)\n",
      "/Users/jayden/.pyenv/versions/3.10.13/envs/venv3.1/lib/python3.10/site-packages/fiftyone/utils/yolo.py:993: UserWarning: Ignoring detection with label 'Human arm' not in provided classes\n",
      "  warnings.warn(msg)\n",
      "/Users/jayden/.pyenv/versions/3.10.13/envs/venv3.1/lib/python3.10/site-packages/fiftyone/utils/yolo.py:993: UserWarning: Ignoring detection with label 'Human eye' not in provided classes\n",
      "  warnings.warn(msg)\n",
      "/Users/jayden/.pyenv/versions/3.10.13/envs/venv3.1/lib/python3.10/site-packages/fiftyone/utils/yolo.py:993: UserWarning: Ignoring detection with label 'Suit' not in provided classes\n",
      "  warnings.warn(msg)\n",
      "/Users/jayden/.pyenv/versions/3.10.13/envs/venv3.1/lib/python3.10/site-packages/fiftyone/utils/yolo.py:993: UserWarning: Ignoring detection with label 'Jug' not in provided classes\n",
      "  warnings.warn(msg)\n",
      "/Users/jayden/.pyenv/versions/3.10.13/envs/venv3.1/lib/python3.10/site-packages/fiftyone/utils/yolo.py:993: UserWarning: Ignoring detection with label 'Pitcher (Container)' not in provided classes\n",
      "  warnings.warn(msg)\n",
      "/Users/jayden/.pyenv/versions/3.10.13/envs/venv3.1/lib/python3.10/site-packages/fiftyone/utils/yolo.py:993: UserWarning: Ignoring detection with label 'Bookcase' not in provided classes\n",
      "  warnings.warn(msg)\n",
      "/Users/jayden/.pyenv/versions/3.10.13/envs/venv3.1/lib/python3.10/site-packages/fiftyone/utils/yolo.py:993: UserWarning: Ignoring detection with label 'Book' not in provided classes\n",
      "  warnings.warn(msg)\n",
      "/Users/jayden/.pyenv/versions/3.10.13/envs/venv3.1/lib/python3.10/site-packages/fiftyone/utils/yolo.py:993: UserWarning: Ignoring detection with label 'Building' not in provided classes\n",
      "  warnings.warn(msg)\n",
      "/Users/jayden/.pyenv/versions/3.10.13/envs/venv3.1/lib/python3.10/site-packages/fiftyone/utils/yolo.py:993: UserWarning: Ignoring detection with label 'Shelf' not in provided classes\n",
      "  warnings.warn(msg)\n",
      "/Users/jayden/.pyenv/versions/3.10.13/envs/venv3.1/lib/python3.10/site-packages/fiftyone/utils/yolo.py:993: UserWarning: Ignoring detection with label 'Clothing' not in provided classes\n",
      "  warnings.warn(msg)\n",
      "/Users/jayden/.pyenv/versions/3.10.13/envs/venv3.1/lib/python3.10/site-packages/fiftyone/utils/yolo.py:993: UserWarning: Ignoring detection with label 'Human mouth' not in provided classes\n",
      "  warnings.warn(msg)\n",
      "/Users/jayden/.pyenv/versions/3.10.13/envs/venv3.1/lib/python3.10/site-packages/fiftyone/utils/yolo.py:993: UserWarning: Ignoring detection with label 'Human nose' not in provided classes\n",
      "  warnings.warn(msg)\n",
      "/Users/jayden/.pyenv/versions/3.10.13/envs/venv3.1/lib/python3.10/site-packages/fiftyone/utils/yolo.py:993: UserWarning: Ignoring detection with label 'Cat' not in provided classes\n",
      "  warnings.warn(msg)\n",
      "/Users/jayden/.pyenv/versions/3.10.13/envs/venv3.1/lib/python3.10/site-packages/fiftyone/utils/yolo.py:993: UserWarning: Ignoring detection with label 'Furniture' not in provided classes\n",
      "  warnings.warn(msg)\n",
      "/Users/jayden/.pyenv/versions/3.10.13/envs/venv3.1/lib/python3.10/site-packages/fiftyone/utils/yolo.py:993: UserWarning: Ignoring detection with label 'Doll' not in provided classes\n",
      "  warnings.warn(msg)\n",
      "/Users/jayden/.pyenv/versions/3.10.13/envs/venv3.1/lib/python3.10/site-packages/fiftyone/utils/yolo.py:993: UserWarning: Ignoring detection with label 'Poster' not in provided classes\n",
      "  warnings.warn(msg)\n",
      "/Users/jayden/.pyenv/versions/3.10.13/envs/venv3.1/lib/python3.10/site-packages/fiftyone/utils/yolo.py:993: UserWarning: Ignoring detection with label 'Airplane' not in provided classes\n",
      "  warnings.warn(msg)\n",
      "/Users/jayden/.pyenv/versions/3.10.13/envs/venv3.1/lib/python3.10/site-packages/fiftyone/utils/yolo.py:993: UserWarning: Ignoring detection with label 'Hat' not in provided classes\n",
      "  warnings.warn(msg)\n",
      "/Users/jayden/.pyenv/versions/3.10.13/envs/venv3.1/lib/python3.10/site-packages/fiftyone/utils/yolo.py:993: UserWarning: Ignoring detection with label 'Food' not in provided classes\n",
      "  warnings.warn(msg)\n",
      "/Users/jayden/.pyenv/versions/3.10.13/envs/venv3.1/lib/python3.10/site-packages/fiftyone/utils/yolo.py:993: UserWarning: Ignoring detection with label 'Desk' not in provided classes\n",
      "  warnings.warn(msg)\n",
      "/Users/jayden/.pyenv/versions/3.10.13/envs/venv3.1/lib/python3.10/site-packages/fiftyone/utils/yolo.py:993: UserWarning: Ignoring detection with label 'Wheel' not in provided classes\n",
      "  warnings.warn(msg)\n",
      "/Users/jayden/.pyenv/versions/3.10.13/envs/venv3.1/lib/python3.10/site-packages/fiftyone/utils/yolo.py:993: UserWarning: Ignoring detection with label 'Footwear' not in provided classes\n",
      "  warnings.warn(msg)\n",
      "/Users/jayden/.pyenv/versions/3.10.13/envs/venv3.1/lib/python3.10/site-packages/fiftyone/utils/yolo.py:993: UserWarning: Ignoring detection with label 'Tire' not in provided classes\n",
      "  warnings.warn(msg)\n",
      "/Users/jayden/.pyenv/versions/3.10.13/envs/venv3.1/lib/python3.10/site-packages/fiftyone/utils/yolo.py:993: UserWarning: Ignoring detection with label 'Land vehicle' not in provided classes\n",
      "  warnings.warn(msg)\n",
      "/Users/jayden/.pyenv/versions/3.10.13/envs/venv3.1/lib/python3.10/site-packages/fiftyone/utils/yolo.py:993: UserWarning: Ignoring detection with label 'Toy' not in provided classes\n",
      "  warnings.warn(msg)\n",
      "/Users/jayden/.pyenv/versions/3.10.13/envs/venv3.1/lib/python3.10/site-packages/fiftyone/utils/yolo.py:993: UserWarning: Ignoring detection with label 'Microphone' not in provided classes\n",
      "  warnings.warn(msg)\n",
      "/Users/jayden/.pyenv/versions/3.10.13/envs/venv3.1/lib/python3.10/site-packages/fiftyone/utils/yolo.py:993: UserWarning: Ignoring detection with label 'Sea lion' not in provided classes\n",
      "  warnings.warn(msg)\n",
      "/Users/jayden/.pyenv/versions/3.10.13/envs/venv3.1/lib/python3.10/site-packages/fiftyone/utils/yolo.py:993: UserWarning: Ignoring detection with label 'Mammal' not in provided classes\n",
      "  warnings.warn(msg)\n",
      "/Users/jayden/.pyenv/versions/3.10.13/envs/venv3.1/lib/python3.10/site-packages/fiftyone/utils/yolo.py:993: UserWarning: Ignoring detection with label 'Door' not in provided classes\n",
      "  warnings.warn(msg)\n",
      "/Users/jayden/.pyenv/versions/3.10.13/envs/venv3.1/lib/python3.10/site-packages/fiftyone/utils/yolo.py:993: UserWarning: Ignoring detection with label 'Door handle' not in provided classes\n",
      "  warnings.warn(msg)\n",
      "/Users/jayden/.pyenv/versions/3.10.13/envs/venv3.1/lib/python3.10/site-packages/fiftyone/utils/yolo.py:993: UserWarning: Ignoring detection with label 'Camera' not in provided classes\n",
      "  warnings.warn(msg)\n",
      "/Users/jayden/.pyenv/versions/3.10.13/envs/venv3.1/lib/python3.10/site-packages/fiftyone/utils/yolo.py:993: UserWarning: Ignoring detection with label 'Sculpture' not in provided classes\n",
      "  warnings.warn(msg)\n",
      "/Users/jayden/.pyenv/versions/3.10.13/envs/venv3.1/lib/python3.10/site-packages/fiftyone/utils/yolo.py:993: UserWarning: Ignoring detection with label 'Bottle' not in provided classes\n",
      "  warnings.warn(msg)\n",
      "/Users/jayden/.pyenv/versions/3.10.13/envs/venv3.1/lib/python3.10/site-packages/fiftyone/utils/yolo.py:993: UserWarning: Ignoring detection with label 'Wine' not in provided classes\n",
      "  warnings.warn(msg)\n",
      "/Users/jayden/.pyenv/versions/3.10.13/envs/venv3.1/lib/python3.10/site-packages/fiftyone/utils/yolo.py:993: UserWarning: Ignoring detection with label 'Mirror' not in provided classes\n",
      "  warnings.warn(msg)\n",
      "/Users/jayden/.pyenv/versions/3.10.13/envs/venv3.1/lib/python3.10/site-packages/fiftyone/utils/yolo.py:993: UserWarning: Ignoring detection with label 'Swimwear' not in provided classes\n",
      "  warnings.warn(msg)\n",
      "/Users/jayden/.pyenv/versions/3.10.13/envs/venv3.1/lib/python3.10/site-packages/fiftyone/utils/yolo.py:993: UserWarning: Ignoring detection with label 'Bed' not in provided classes\n",
      "  warnings.warn(msg)\n",
      "/Users/jayden/.pyenv/versions/3.10.13/envs/venv3.1/lib/python3.10/site-packages/fiftyone/utils/yolo.py:993: UserWarning: Ignoring detection with label 'Medical equipment' not in provided classes\n",
      "  warnings.warn(msg)\n",
      "/Users/jayden/.pyenv/versions/3.10.13/envs/venv3.1/lib/python3.10/site-packages/fiftyone/utils/yolo.py:993: UserWarning: Ignoring detection with label 'Jeans' not in provided classes\n",
      "  warnings.warn(msg)\n",
      "/Users/jayden/.pyenv/versions/3.10.13/envs/venv3.1/lib/python3.10/site-packages/fiftyone/utils/yolo.py:993: UserWarning: Ignoring detection with label 'Boat' not in provided classes\n",
      "  warnings.warn(msg)\n",
      "/Users/jayden/.pyenv/versions/3.10.13/envs/venv3.1/lib/python3.10/site-packages/fiftyone/utils/yolo.py:993: UserWarning: Ignoring detection with label 'Drum' not in provided classes\n",
      "  warnings.warn(msg)\n",
      "/Users/jayden/.pyenv/versions/3.10.13/envs/venv3.1/lib/python3.10/site-packages/fiftyone/utils/yolo.py:993: UserWarning: Ignoring detection with label 'Skull' not in provided classes\n",
      "  warnings.warn(msg)\n",
      "/Users/jayden/.pyenv/versions/3.10.13/envs/venv3.1/lib/python3.10/site-packages/fiftyone/utils/yolo.py:993: UserWarning: Ignoring detection with label 'Office building' not in provided classes\n",
      "  warnings.warn(msg)\n",
      "/Users/jayden/.pyenv/versions/3.10.13/envs/venv3.1/lib/python3.10/site-packages/fiftyone/utils/yolo.py:993: UserWarning: Ignoring detection with label 'Table' not in provided classes\n",
      "  warnings.warn(msg)\n",
      "/Users/jayden/.pyenv/versions/3.10.13/envs/venv3.1/lib/python3.10/site-packages/fiftyone/utils/yolo.py:993: UserWarning: Ignoring detection with label 'Human hand' not in provided classes\n",
      "  warnings.warn(msg)\n",
      "/Users/jayden/.pyenv/versions/3.10.13/envs/venv3.1/lib/python3.10/site-packages/fiftyone/utils/yolo.py:993: UserWarning: Ignoring detection with label 'Fashion accessory' not in provided classes\n",
      "  warnings.warn(msg)\n",
      "/Users/jayden/.pyenv/versions/3.10.13/envs/venv3.1/lib/python3.10/site-packages/fiftyone/utils/yolo.py:993: UserWarning: Ignoring detection with label 'Piano' not in provided classes\n",
      "  warnings.warn(msg)\n",
      "/Users/jayden/.pyenv/versions/3.10.13/envs/venv3.1/lib/python3.10/site-packages/fiftyone/utils/yolo.py:993: UserWarning: Ignoring detection with label 'Organ (Musical Instrument)' not in provided classes\n",
      "  warnings.warn(msg)\n",
      "/Users/jayden/.pyenv/versions/3.10.13/envs/venv3.1/lib/python3.10/site-packages/fiftyone/utils/yolo.py:993: UserWarning: Ignoring detection with label 'Musical keyboard' not in provided classes\n",
      "  warnings.warn(msg)\n",
      "/Users/jayden/.pyenv/versions/3.10.13/envs/venv3.1/lib/python3.10/site-packages/fiftyone/utils/yolo.py:993: UserWarning: Ignoring detection with label 'Guitar' not in provided classes\n",
      "  warnings.warn(msg)\n",
      "/Users/jayden/.pyenv/versions/3.10.13/envs/venv3.1/lib/python3.10/site-packages/fiftyone/utils/yolo.py:993: UserWarning: Ignoring detection with label 'Helmet' not in provided classes\n",
      "  warnings.warn(msg)\n",
      "/Users/jayden/.pyenv/versions/3.10.13/envs/venv3.1/lib/python3.10/site-packages/fiftyone/utils/yolo.py:993: UserWarning: Ignoring detection with label 'Bicycle' not in provided classes\n",
      "  warnings.warn(msg)\n",
      "/Users/jayden/.pyenv/versions/3.10.13/envs/venv3.1/lib/python3.10/site-packages/fiftyone/utils/yolo.py:993: UserWarning: Ignoring detection with label 'Bicycle wheel' not in provided classes\n",
      "  warnings.warn(msg)\n",
      "/Users/jayden/.pyenv/versions/3.10.13/envs/venv3.1/lib/python3.10/site-packages/fiftyone/utils/yolo.py:993: UserWarning: Ignoring detection with label 'Bicycle helmet' not in provided classes\n",
      "  warnings.warn(msg)\n",
      "/Users/jayden/.pyenv/versions/3.10.13/envs/venv3.1/lib/python3.10/site-packages/fiftyone/utils/yolo.py:993: UserWarning: Ignoring detection with label 'Car' not in provided classes\n",
      "  warnings.warn(msg)\n",
      "/Users/jayden/.pyenv/versions/3.10.13/envs/venv3.1/lib/python3.10/site-packages/fiftyone/utils/yolo.py:993: UserWarning: Ignoring detection with label 'Goggles' not in provided classes\n",
      "  warnings.warn(msg)\n",
      "/Users/jayden/.pyenv/versions/3.10.13/envs/venv3.1/lib/python3.10/site-packages/fiftyone/utils/yolo.py:993: UserWarning: Ignoring detection with label 'Sunglasses' not in provided classes\n",
      "  warnings.warn(msg)\n",
      "/Users/jayden/.pyenv/versions/3.10.13/envs/venv3.1/lib/python3.10/site-packages/fiftyone/utils/yolo.py:993: UserWarning: Ignoring detection with label 'Lipstick' not in provided classes\n",
      "  warnings.warn(msg)\n",
      "/Users/jayden/.pyenv/versions/3.10.13/envs/venv3.1/lib/python3.10/site-packages/fiftyone/utils/yolo.py:993: UserWarning: Ignoring detection with label 'Glasses' not in provided classes\n",
      "  warnings.warn(msg)\n",
      "/Users/jayden/.pyenv/versions/3.10.13/envs/venv3.1/lib/python3.10/site-packages/fiftyone/utils/yolo.py:993: UserWarning: Ignoring detection with label 'Dress' not in provided classes\n",
      "  warnings.warn(msg)\n",
      "/Users/jayden/.pyenv/versions/3.10.13/envs/venv3.1/lib/python3.10/site-packages/fiftyone/utils/yolo.py:993: UserWarning: Ignoring detection with label 'Snowboard' not in provided classes\n",
      "  warnings.warn(msg)\n",
      "/Users/jayden/.pyenv/versions/3.10.13/envs/venv3.1/lib/python3.10/site-packages/fiftyone/utils/yolo.py:993: UserWarning: Ignoring detection with label 'Ski' not in provided classes\n",
      "  warnings.warn(msg)\n"
     ]
    },
    {
     "name": "stdout",
     "output_type": "stream",
     "text": [
      "   1% |---------------|   90/7000 [223.3ms elapsed, 17.1s remaining, 403.1 samples/s] "
     ]
    },
    {
     "name": "stderr",
     "output_type": "stream",
     "text": [
      "/Users/jayden/.pyenv/versions/3.10.13/envs/venv3.1/lib/python3.10/site-packages/fiftyone/utils/yolo.py:993: UserWarning: Ignoring detection with label 'Human leg' not in provided classes\n",
      "  warnings.warn(msg)\n",
      "/Users/jayden/.pyenv/versions/3.10.13/envs/venv3.1/lib/python3.10/site-packages/fiftyone/utils/yolo.py:993: UserWarning: Ignoring detection with label 'Cello' not in provided classes\n",
      "  warnings.warn(msg)\n",
      "/Users/jayden/.pyenv/versions/3.10.13/envs/venv3.1/lib/python3.10/site-packages/fiftyone/utils/yolo.py:993: UserWarning: Ignoring detection with label 'Human ear' not in provided classes\n",
      "  warnings.warn(msg)\n"
     ]
    },
    {
     "name": "stdout",
     "output_type": "stream",
     "text": [
      "   3% |/--------------|  193/7000 [887.1ms elapsed, 31.3s remaining, 217.6 samples/s] "
     ]
    },
    {
     "name": "stderr",
     "output_type": "stream",
     "text": [
      "/Users/jayden/.pyenv/versions/3.10.13/envs/venv3.1/lib/python3.10/site-packages/fiftyone/utils/yolo.py:993: UserWarning: Ignoring detection with label 'Drink' not in provided classes\n",
      "  warnings.warn(msg)\n",
      "/Users/jayden/.pyenv/versions/3.10.13/envs/venv3.1/lib/python3.10/site-packages/fiftyone/utils/yolo.py:993: UserWarning: Ignoring detection with label 'Tin can' not in provided classes\n",
      "  warnings.warn(msg)\n",
      "/Users/jayden/.pyenv/versions/3.10.13/envs/venv3.1/lib/python3.10/site-packages/fiftyone/utils/yolo.py:993: UserWarning: Ignoring detection with label 'Laptop' not in provided classes\n",
      "  warnings.warn(msg)\n",
      "/Users/jayden/.pyenv/versions/3.10.13/envs/venv3.1/lib/python3.10/site-packages/fiftyone/utils/yolo.py:993: UserWarning: Ignoring detection with label 'Boot' not in provided classes\n",
      "  warnings.warn(msg)\n",
      "/Users/jayden/.pyenv/versions/3.10.13/envs/venv3.1/lib/python3.10/site-packages/fiftyone/utils/yolo.py:993: UserWarning: Ignoring detection with label 'Horse' not in provided classes\n",
      "  warnings.warn(msg)\n",
      "/Users/jayden/.pyenv/versions/3.10.13/envs/venv3.1/lib/python3.10/site-packages/fiftyone/utils/yolo.py:993: UserWarning: Ignoring detection with label 'Football' not in provided classes\n",
      "  warnings.warn(msg)\n",
      "/Users/jayden/.pyenv/versions/3.10.13/envs/venv3.1/lib/python3.10/site-packages/fiftyone/utils/yolo.py:993: UserWarning: Ignoring detection with label 'French horn' not in provided classes\n",
      "  warnings.warn(msg)\n",
      "/Users/jayden/.pyenv/versions/3.10.13/envs/venv3.1/lib/python3.10/site-packages/fiftyone/utils/yolo.py:993: UserWarning: Ignoring detection with label 'Trumpet' not in provided classes\n",
      "  warnings.warn(msg)\n",
      "/Users/jayden/.pyenv/versions/3.10.13/envs/venv3.1/lib/python3.10/site-packages/fiftyone/utils/yolo.py:993: UserWarning: Ignoring detection with label 'Mug' not in provided classes\n",
      "  warnings.warn(msg)\n",
      "/Users/jayden/.pyenv/versions/3.10.13/envs/venv3.1/lib/python3.10/site-packages/fiftyone/utils/yolo.py:993: UserWarning: Ignoring detection with label 'Coffee cup' not in provided classes\n",
      "  warnings.warn(msg)\n",
      "/Users/jayden/.pyenv/versions/3.10.13/envs/venv3.1/lib/python3.10/site-packages/fiftyone/utils/yolo.py:993: UserWarning: Ignoring detection with label 'Miniskirt' not in provided classes\n",
      "  warnings.warn(msg)\n",
      "/Users/jayden/.pyenv/versions/3.10.13/envs/venv3.1/lib/python3.10/site-packages/fiftyone/utils/yolo.py:993: UserWarning: Ignoring detection with label 'Musical instrument' not in provided classes\n",
      "  warnings.warn(msg)\n",
      "/Users/jayden/.pyenv/versions/3.10.13/envs/venv3.1/lib/python3.10/site-packages/fiftyone/utils/yolo.py:993: UserWarning: Ignoring detection with label 'Sun hat' not in provided classes\n",
      "  warnings.warn(msg)\n",
      "/Users/jayden/.pyenv/versions/3.10.13/envs/venv3.1/lib/python3.10/site-packages/fiftyone/utils/yolo.py:993: UserWarning: Ignoring detection with label 'Fish' not in provided classes\n",
      "  warnings.warn(msg)\n",
      "/Users/jayden/.pyenv/versions/3.10.13/envs/venv3.1/lib/python3.10/site-packages/fiftyone/utils/yolo.py:993: UserWarning: Ignoring detection with label 'Tree' not in provided classes\n",
      "  warnings.warn(msg)\n",
      "/Users/jayden/.pyenv/versions/3.10.13/envs/venv3.1/lib/python3.10/site-packages/fiftyone/utils/yolo.py:993: UserWarning: Ignoring detection with label 'Plant' not in provided classes\n",
      "  warnings.warn(msg)\n",
      "/Users/jayden/.pyenv/versions/3.10.13/envs/venv3.1/lib/python3.10/site-packages/fiftyone/utils/yolo.py:993: UserWarning: Ignoring detection with label 'Flower' not in provided classes\n",
      "  warnings.warn(msg)\n",
      "/Users/jayden/.pyenv/versions/3.10.13/envs/venv3.1/lib/python3.10/site-packages/fiftyone/utils/yolo.py:993: UserWarning: Ignoring detection with label 'Flag' not in provided classes\n",
      "  warnings.warn(msg)\n",
      "/Users/jayden/.pyenv/versions/3.10.13/envs/venv3.1/lib/python3.10/site-packages/fiftyone/utils/yolo.py:993: UserWarning: Ignoring detection with label 'Tie' not in provided classes\n",
      "  warnings.warn(msg)\n",
      "/Users/jayden/.pyenv/versions/3.10.13/envs/venv3.1/lib/python3.10/site-packages/fiftyone/utils/yolo.py:993: UserWarning: Ignoring detection with label 'Infant bed' not in provided classes\n",
      "  warnings.warn(msg)\n",
      "/Users/jayden/.pyenv/versions/3.10.13/envs/venv3.1/lib/python3.10/site-packages/fiftyone/utils/yolo.py:993: UserWarning: Ignoring detection with label 'Fast food' not in provided classes\n",
      "  warnings.warn(msg)\n",
      "/Users/jayden/.pyenv/versions/3.10.13/envs/venv3.1/lib/python3.10/site-packages/fiftyone/utils/yolo.py:993: UserWarning: Ignoring detection with label 'Snack' not in provided classes\n",
      "  warnings.warn(msg)\n",
      "/Users/jayden/.pyenv/versions/3.10.13/envs/venv3.1/lib/python3.10/site-packages/fiftyone/utils/yolo.py:993: UserWarning: Ignoring detection with label 'Sports equipment' not in provided classes\n",
      "  warnings.warn(msg)\n",
      "/Users/jayden/.pyenv/versions/3.10.13/envs/venv3.1/lib/python3.10/site-packages/fiftyone/utils/yolo.py:993: UserWarning: Ignoring detection with label 'Chopsticks' not in provided classes\n",
      "  warnings.warn(msg)\n",
      "/Users/jayden/.pyenv/versions/3.10.13/envs/venv3.1/lib/python3.10/site-packages/fiftyone/utils/yolo.py:993: UserWarning: Ignoring detection with label 'Vehicle' not in provided classes\n",
      "  warnings.warn(msg)\n",
      "/Users/jayden/.pyenv/versions/3.10.13/envs/venv3.1/lib/python3.10/site-packages/fiftyone/utils/yolo.py:993: UserWarning: Ignoring detection with label 'Beer' not in provided classes\n",
      "  warnings.warn(msg)\n",
      "/Users/jayden/.pyenv/versions/3.10.13/envs/venv3.1/lib/python3.10/site-packages/fiftyone/utils/yolo.py:993: UserWarning: Ignoring detection with label 'Cocktail' not in provided classes\n",
      "  warnings.warn(msg)\n",
      "/Users/jayden/.pyenv/versions/3.10.13/envs/venv3.1/lib/python3.10/site-packages/fiftyone/utils/yolo.py:993: UserWarning: Ignoring detection with label 'Bronze sculpture' not in provided classes\n",
      "  warnings.warn(msg)\n",
      "/Users/jayden/.pyenv/versions/3.10.13/envs/venv3.1/lib/python3.10/site-packages/fiftyone/utils/yolo.py:993: UserWarning: Ignoring detection with label 'Bust' not in provided classes\n",
      "  warnings.warn(msg)\n",
      "/Users/jayden/.pyenv/versions/3.10.13/envs/venv3.1/lib/python3.10/site-packages/fiftyone/utils/yolo.py:993: UserWarning: Ignoring detection with label 'Swim cap' not in provided classes\n",
      "  warnings.warn(msg)\n",
      "/Users/jayden/.pyenv/versions/3.10.13/envs/venv3.1/lib/python3.10/site-packages/fiftyone/utils/yolo.py:993: UserWarning: Ignoring detection with label 'Swimming pool' not in provided classes\n",
      "  warnings.warn(msg)\n",
      "/Users/jayden/.pyenv/versions/3.10.13/envs/venv3.1/lib/python3.10/site-packages/fiftyone/utils/yolo.py:993: UserWarning: Ignoring detection with label 'Billboard' not in provided classes\n",
      "  warnings.warn(msg)\n"
     ]
    },
    {
     "name": "stdout",
     "output_type": "stream",
     "text": [
      "   4% |\\--------------|  272/7000 [1.1s elapsed, 27.0s remaining, 249.1 samples/s]    "
     ]
    },
    {
     "name": "stderr",
     "output_type": "stream",
     "text": [
      "/Users/jayden/.pyenv/versions/3.10.13/envs/venv3.1/lib/python3.10/site-packages/fiftyone/utils/yolo.py:993: UserWarning: Ignoring detection with label 'High heels' not in provided classes\n",
      "  warnings.warn(msg)\n",
      "/Users/jayden/.pyenv/versions/3.10.13/envs/venv3.1/lib/python3.10/site-packages/fiftyone/utils/yolo.py:993: UserWarning: Ignoring detection with label 'Tennis racket' not in provided classes\n",
      "  warnings.warn(msg)\n",
      "/Users/jayden/.pyenv/versions/3.10.13/envs/venv3.1/lib/python3.10/site-packages/fiftyone/utils/yolo.py:993: UserWarning: Ignoring detection with label 'Handbag' not in provided classes\n",
      "  warnings.warn(msg)\n",
      "/Users/jayden/.pyenv/versions/3.10.13/envs/venv3.1/lib/python3.10/site-packages/fiftyone/utils/yolo.py:993: UserWarning: Ignoring detection with label 'Cowboy hat' not in provided classes\n",
      "  warnings.warn(msg)\n",
      "/Users/jayden/.pyenv/versions/3.10.13/envs/venv3.1/lib/python3.10/site-packages/fiftyone/utils/yolo.py:993: UserWarning: Ignoring detection with label 'Jacket' not in provided classes\n",
      "  warnings.warn(msg)\n",
      "/Users/jayden/.pyenv/versions/3.10.13/envs/venv3.1/lib/python3.10/site-packages/fiftyone/utils/yolo.py:993: UserWarning: Ignoring detection with label 'Dog' not in provided classes\n",
      "  warnings.warn(msg)\n",
      "/Users/jayden/.pyenv/versions/3.10.13/envs/venv3.1/lib/python3.10/site-packages/fiftyone/utils/yolo.py:993: UserWarning: Ignoring detection with label 'Pastry' not in provided classes\n",
      "  warnings.warn(msg)\n",
      "/Users/jayden/.pyenv/versions/3.10.13/envs/venv3.1/lib/python3.10/site-packages/fiftyone/utils/yolo.py:993: UserWarning: Ignoring detection with label 'Chair' not in provided classes\n",
      "  warnings.warn(msg)\n",
      "/Users/jayden/.pyenv/versions/3.10.13/envs/venv3.1/lib/python3.10/site-packages/fiftyone/utils/yolo.py:993: UserWarning: Ignoring detection with label 'Balloon' not in provided classes\n",
      "  warnings.warn(msg)\n",
      "/Users/jayden/.pyenv/versions/3.10.13/envs/venv3.1/lib/python3.10/site-packages/fiftyone/utils/yolo.py:993: UserWarning: Ignoring detection with label 'Roller skates' not in provided classes\n",
      "  warnings.warn(msg)\n",
      "/Users/jayden/.pyenv/versions/3.10.13/envs/venv3.1/lib/python3.10/site-packages/fiftyone/utils/yolo.py:993: UserWarning: Ignoring detection with label 'Wine glass' not in provided classes\n",
      "  warnings.warn(msg)\n"
     ]
    },
    {
     "name": "stdout",
     "output_type": "stream",
     "text": [
      "   5% |/--------------|  354/7000 [1.3s elapsed, 24.3s remaining, 273.4 samples/s]    "
     ]
    },
    {
     "name": "stderr",
     "output_type": "stream",
     "text": [
      "/Users/jayden/.pyenv/versions/3.10.13/envs/venv3.1/lib/python3.10/site-packages/fiftyone/utils/yolo.py:993: UserWarning: Ignoring detection with label 'Tiara' not in provided classes\n",
      "  warnings.warn(msg)\n",
      "/Users/jayden/.pyenv/versions/3.10.13/envs/venv3.1/lib/python3.10/site-packages/fiftyone/utils/yolo.py:993: UserWarning: Ignoring detection with label 'Crown' not in provided classes\n",
      "  warnings.warn(msg)\n",
      "/Users/jayden/.pyenv/versions/3.10.13/envs/venv3.1/lib/python3.10/site-packages/fiftyone/utils/yolo.py:993: UserWarning: Ignoring detection with label 'Television' not in provided classes\n",
      "  warnings.warn(msg)\n",
      "/Users/jayden/.pyenv/versions/3.10.13/envs/venv3.1/lib/python3.10/site-packages/fiftyone/utils/yolo.py:993: UserWarning: Ignoring detection with label 'Trousers' not in provided classes\n",
      "  warnings.warn(msg)\n",
      "/Users/jayden/.pyenv/versions/3.10.13/envs/venv3.1/lib/python3.10/site-packages/fiftyone/utils/yolo.py:993: UserWarning: Ignoring detection with label 'Lion' not in provided classes\n",
      "  warnings.warn(msg)\n",
      "/Users/jayden/.pyenv/versions/3.10.13/envs/venv3.1/lib/python3.10/site-packages/fiftyone/utils/yolo.py:993: UserWarning: Ignoring detection with label 'House' not in provided classes\n",
      "  warnings.warn(msg)\n",
      "/Users/jayden/.pyenv/versions/3.10.13/envs/venv3.1/lib/python3.10/site-packages/fiftyone/utils/yolo.py:993: UserWarning: Ignoring detection with label 'Window' not in provided classes\n",
      "  warnings.warn(msg)\n",
      "/Users/jayden/.pyenv/versions/3.10.13/envs/venv3.1/lib/python3.10/site-packages/fiftyone/utils/yolo.py:993: UserWarning: Ignoring detection with label 'Weapon' not in provided classes\n",
      "  warnings.warn(msg)\n",
      "/Users/jayden/.pyenv/versions/3.10.13/envs/venv3.1/lib/python3.10/site-packages/fiftyone/utils/yolo.py:993: UserWarning: Ignoring detection with label 'Barrel' not in provided classes\n",
      "  warnings.warn(msg)\n",
      "/Users/jayden/.pyenv/versions/3.10.13/envs/venv3.1/lib/python3.10/site-packages/fiftyone/utils/yolo.py:993: UserWarning: Ignoring detection with label 'Fedora' not in provided classes\n",
      "  warnings.warn(msg)\n",
      "/Users/jayden/.pyenv/versions/3.10.13/envs/venv3.1/lib/python3.10/site-packages/fiftyone/utils/yolo.py:993: UserWarning: Ignoring detection with label 'Sports uniform' not in provided classes\n",
      "  warnings.warn(msg)\n",
      "/Users/jayden/.pyenv/versions/3.10.13/envs/venv3.1/lib/python3.10/site-packages/fiftyone/utils/yolo.py:993: UserWarning: Ignoring detection with label 'Mobile phone' not in provided classes\n",
      "  warnings.warn(msg)\n",
      "/Users/jayden/.pyenv/versions/3.10.13/envs/venv3.1/lib/python3.10/site-packages/fiftyone/utils/yolo.py:993: UserWarning: Ignoring detection with label 'Headphones' not in provided classes\n",
      "  warnings.warn(msg)\n"
     ]
    },
    {
     "name": "stdout",
     "output_type": "stream",
     "text": [
      "   6% |\\--------------|  439/7000 [1.5s elapsed, 22.5s remaining, 273.6 samples/s]    "
     ]
    },
    {
     "name": "stderr",
     "output_type": "stream",
     "text": [
      "/Users/jayden/.pyenv/versions/3.10.13/envs/venv3.1/lib/python3.10/site-packages/fiftyone/utils/yolo.py:993: UserWarning: Ignoring detection with label 'Watermelon' not in provided classes\n",
      "  warnings.warn(msg)\n",
      "/Users/jayden/.pyenv/versions/3.10.13/envs/venv3.1/lib/python3.10/site-packages/fiftyone/utils/yolo.py:993: UserWarning: Ignoring detection with label 'Bus' not in provided classes\n",
      "  warnings.warn(msg)\n",
      "/Users/jayden/.pyenv/versions/3.10.13/envs/venv3.1/lib/python3.10/site-packages/fiftyone/utils/yolo.py:993: UserWarning: Ignoring detection with label 'Houseplant' not in provided classes\n",
      "  warnings.warn(msg)\n",
      "/Users/jayden/.pyenv/versions/3.10.13/envs/venv3.1/lib/python3.10/site-packages/fiftyone/utils/yolo.py:993: UserWarning: Ignoring detection with label 'Flowerpot' not in provided classes\n",
      "  warnings.warn(msg)\n",
      "/Users/jayden/.pyenv/versions/3.10.13/envs/venv3.1/lib/python3.10/site-packages/fiftyone/utils/yolo.py:993: UserWarning: Ignoring detection with label 'Auto part' not in provided classes\n",
      "  warnings.warn(msg)\n",
      "/Users/jayden/.pyenv/versions/3.10.13/envs/venv3.1/lib/python3.10/site-packages/fiftyone/utils/yolo.py:993: UserWarning: Ignoring detection with label 'Flute' not in provided classes\n",
      "  warnings.warn(msg)\n",
      "/Users/jayden/.pyenv/versions/3.10.13/envs/venv3.1/lib/python3.10/site-packages/fiftyone/utils/yolo.py:993: UserWarning: Ignoring detection with label 'Bow and arrow' not in provided classes\n",
      "  warnings.warn(msg)\n",
      "/Users/jayden/.pyenv/versions/3.10.13/envs/venv3.1/lib/python3.10/site-packages/fiftyone/utils/yolo.py:993: UserWarning: Ignoring detection with label 'Animal' not in provided classes\n",
      "  warnings.warn(msg)\n",
      "/Users/jayden/.pyenv/versions/3.10.13/envs/venv3.1/lib/python3.10/site-packages/fiftyone/utils/yolo.py:993: UserWarning: Ignoring detection with label 'Sofa bed' not in provided classes\n",
      "  warnings.warn(msg)\n",
      "/Users/jayden/.pyenv/versions/3.10.13/envs/venv3.1/lib/python3.10/site-packages/fiftyone/utils/yolo.py:993: UserWarning: Ignoring detection with label 'Pencil case' not in provided classes\n",
      "  warnings.warn(msg)\n",
      "/Users/jayden/.pyenv/versions/3.10.13/envs/venv3.1/lib/python3.10/site-packages/fiftyone/utils/yolo.py:993: UserWarning: Ignoring detection with label 'Muffin' not in provided classes\n",
      "  warnings.warn(msg)\n",
      "/Users/jayden/.pyenv/versions/3.10.13/envs/venv3.1/lib/python3.10/site-packages/fiftyone/utils/yolo.py:993: UserWarning: Ignoring detection with label 'Cake' not in provided classes\n",
      "  warnings.warn(msg)\n",
      "/Users/jayden/.pyenv/versions/3.10.13/envs/venv3.1/lib/python3.10/site-packages/fiftyone/utils/yolo.py:993: UserWarning: Ignoring detection with label 'Curtain' not in provided classes\n",
      "  warnings.warn(msg)\n",
      "/Users/jayden/.pyenv/versions/3.10.13/envs/venv3.1/lib/python3.10/site-packages/fiftyone/utils/yolo.py:993: UserWarning: Ignoring detection with label 'Pig' not in provided classes\n",
      "  warnings.warn(msg)\n",
      "/Users/jayden/.pyenv/versions/3.10.13/envs/venv3.1/lib/python3.10/site-packages/fiftyone/utils/yolo.py:993: UserWarning: Ignoring detection with label 'Rose' not in provided classes\n",
      "  warnings.warn(msg)\n"
     ]
    },
    {
     "name": "stdout",
     "output_type": "stream",
     "text": [
      "   7% |█/-------------|  505/7000 [1.7s elapsed, 21.6s remaining, 390.5 samples/s]    "
     ]
    },
    {
     "name": "stderr",
     "output_type": "stream",
     "text": [
      "/Users/jayden/.pyenv/versions/3.10.13/envs/venv3.1/lib/python3.10/site-packages/fiftyone/utils/yolo.py:993: UserWarning: Ignoring detection with label 'Luggage and bags' not in provided classes\n",
      "  warnings.warn(msg)\n",
      "/Users/jayden/.pyenv/versions/3.10.13/envs/venv3.1/lib/python3.10/site-packages/fiftyone/utils/yolo.py:993: UserWarning: Ignoring detection with label 'Glove' not in provided classes\n",
      "  warnings.warn(msg)\n",
      "/Users/jayden/.pyenv/versions/3.10.13/envs/venv3.1/lib/python3.10/site-packages/fiftyone/utils/yolo.py:993: UserWarning: Ignoring detection with label 'Baseball bat' not in provided classes\n",
      "  warnings.warn(msg)\n",
      "/Users/jayden/.pyenv/versions/3.10.13/envs/venv3.1/lib/python3.10/site-packages/fiftyone/utils/yolo.py:993: UserWarning: Ignoring detection with label 'Sword' not in provided classes\n",
      "  warnings.warn(msg)\n",
      "/Users/jayden/.pyenv/versions/3.10.13/envs/venv3.1/lib/python3.10/site-packages/fiftyone/utils/yolo.py:993: UserWarning: Ignoring detection with label 'Ball' not in provided classes\n",
      "  warnings.warn(msg)\n",
      "/Users/jayden/.pyenv/versions/3.10.13/envs/venv3.1/lib/python3.10/site-packages/fiftyone/utils/yolo.py:993: UserWarning: Ignoring detection with label 'Picture frame' not in provided classes\n",
      "  warnings.warn(msg)\n",
      "/Users/jayden/.pyenv/versions/3.10.13/envs/venv3.1/lib/python3.10/site-packages/fiftyone/utils/yolo.py:993: UserWarning: Ignoring detection with label 'Rifle' not in provided classes\n",
      "  warnings.warn(msg)\n",
      "/Users/jayden/.pyenv/versions/3.10.13/envs/venv3.1/lib/python3.10/site-packages/fiftyone/utils/yolo.py:993: UserWarning: Ignoring detection with label 'Shirt' not in provided classes\n",
      "  warnings.warn(msg)\n",
      "/Users/jayden/.pyenv/versions/3.10.13/envs/venv3.1/lib/python3.10/site-packages/fiftyone/utils/yolo.py:993: UserWarning: Ignoring detection with label 'Lamp' not in provided classes\n",
      "  warnings.warn(msg)\n"
     ]
    },
    {
     "name": "stdout",
     "output_type": "stream",
     "text": [
      "   9% |█|-------------|  641/7000 [2.0s elapsed, 19.7s remaining, 397.2 samples/s]    "
     ]
    },
    {
     "name": "stderr",
     "output_type": "stream",
     "text": [
      "/Users/jayden/.pyenv/versions/3.10.13/envs/venv3.1/lib/python3.10/site-packages/fiftyone/utils/yolo.py:993: UserWarning: Ignoring detection with label 'Eagle' not in provided classes\n",
      "  warnings.warn(msg)\n",
      "/Users/jayden/.pyenv/versions/3.10.13/envs/venv3.1/lib/python3.10/site-packages/fiftyone/utils/yolo.py:993: UserWarning: Ignoring detection with label 'Falcon' not in provided classes\n",
      "  warnings.warn(msg)\n",
      "/Users/jayden/.pyenv/versions/3.10.13/envs/venv3.1/lib/python3.10/site-packages/fiftyone/utils/yolo.py:993: UserWarning: Ignoring detection with label 'Carnivore' not in provided classes\n",
      "  warnings.warn(msg)\n",
      "/Users/jayden/.pyenv/versions/3.10.13/envs/venv3.1/lib/python3.10/site-packages/fiftyone/utils/yolo.py:993: UserWarning: Ignoring detection with label 'Sandal' not in provided classes\n",
      "  warnings.warn(msg)\n",
      "/Users/jayden/.pyenv/versions/3.10.13/envs/venv3.1/lib/python3.10/site-packages/fiftyone/utils/yolo.py:993: UserWarning: Ignoring detection with label 'Pumpkin' not in provided classes\n",
      "  warnings.warn(msg)\n",
      "/Users/jayden/.pyenv/versions/3.10.13/envs/venv3.1/lib/python3.10/site-packages/fiftyone/utils/yolo.py:993: UserWarning: Ignoring detection with label 'Scarf' not in provided classes\n",
      "  warnings.warn(msg)\n",
      "/Users/jayden/.pyenv/versions/3.10.13/envs/venv3.1/lib/python3.10/site-packages/fiftyone/utils/yolo.py:993: UserWarning: Ignoring detection with label 'Coin' not in provided classes\n",
      "  warnings.warn(msg)\n",
      "/Users/jayden/.pyenv/versions/3.10.13/envs/venv3.1/lib/python3.10/site-packages/fiftyone/utils/yolo.py:993: UserWarning: Ignoring detection with label 'Box' not in provided classes\n",
      "  warnings.warn(msg)\n"
     ]
    },
    {
     "name": "stdout",
     "output_type": "stream",
     "text": [
      "  10% |█--------------|  734/7000 [2.2s elapsed, 18.6s remaining, 408.8 samples/s]    "
     ]
    },
    {
     "name": "stderr",
     "output_type": "stream",
     "text": [
      "/Users/jayden/.pyenv/versions/3.10.13/envs/venv3.1/lib/python3.10/site-packages/fiftyone/utils/yolo.py:993: UserWarning: Ignoring detection with label 'Vase' not in provided classes\n",
      "  warnings.warn(msg)\n",
      "/Users/jayden/.pyenv/versions/3.10.13/envs/venv3.1/lib/python3.10/site-packages/fiftyone/utils/yolo.py:993: UserWarning: Ignoring detection with label 'Rocket' not in provided classes\n",
      "  warnings.warn(msg)\n",
      "/Users/jayden/.pyenv/versions/3.10.13/envs/venv3.1/lib/python3.10/site-packages/fiftyone/utils/yolo.py:993: UserWarning: Ignoring detection with label 'Ladder' not in provided classes\n",
      "  warnings.warn(msg)\n",
      "/Users/jayden/.pyenv/versions/3.10.13/envs/venv3.1/lib/python3.10/site-packages/fiftyone/utils/yolo.py:993: UserWarning: Ignoring detection with label 'Candle' not in provided classes\n",
      "  warnings.warn(msg)\n",
      "/Users/jayden/.pyenv/versions/3.10.13/envs/venv3.1/lib/python3.10/site-packages/fiftyone/utils/yolo.py:993: UserWarning: Ignoring detection with label 'Turkey' not in provided classes\n",
      "  warnings.warn(msg)\n",
      "/Users/jayden/.pyenv/versions/3.10.13/envs/venv3.1/lib/python3.10/site-packages/fiftyone/utils/yolo.py:993: UserWarning: Ignoring detection with label 'Billiard table' not in provided classes\n",
      "  warnings.warn(msg)\n",
      "/Users/jayden/.pyenv/versions/3.10.13/envs/venv3.1/lib/python3.10/site-packages/fiftyone/utils/yolo.py:993: UserWarning: Ignoring detection with label 'Pillow' not in provided classes\n",
      "  warnings.warn(msg)\n"
     ]
    },
    {
     "name": "stdout",
     "output_type": "stream",
     "text": [
      "  12% |█|-------------|  812/7000 [2.4s elapsed, 18.1s remaining, 401.4 samples/s]    "
     ]
    },
    {
     "name": "stderr",
     "output_type": "stream",
     "text": [
      "/Users/jayden/.pyenv/versions/3.10.13/envs/venv3.1/lib/python3.10/site-packages/fiftyone/utils/yolo.py:993: UserWarning: Ignoring detection with label 'Christmas tree' not in provided classes\n",
      "  warnings.warn(msg)\n",
      "/Users/jayden/.pyenv/versions/3.10.13/envs/venv3.1/lib/python3.10/site-packages/fiftyone/utils/yolo.py:993: UserWarning: Ignoring detection with label 'Bowl' not in provided classes\n",
      "  warnings.warn(msg)\n",
      "/Users/jayden/.pyenv/versions/3.10.13/envs/venv3.1/lib/python3.10/site-packages/fiftyone/utils/yolo.py:993: UserWarning: Ignoring detection with label 'Duck' not in provided classes\n",
      "  warnings.warn(msg)\n",
      "/Users/jayden/.pyenv/versions/3.10.13/envs/venv3.1/lib/python3.10/site-packages/fiftyone/utils/yolo.py:993: UserWarning: Ignoring detection with label 'Goose' not in provided classes\n",
      "  warnings.warn(msg)\n",
      "/Users/jayden/.pyenv/versions/3.10.13/envs/venv3.1/lib/python3.10/site-packages/fiftyone/utils/yolo.py:993: UserWarning: Ignoring detection with label 'Human foot' not in provided classes\n",
      "  warnings.warn(msg)\n",
      "/Users/jayden/.pyenv/versions/3.10.13/envs/venv3.1/lib/python3.10/site-packages/fiftyone/utils/yolo.py:993: UserWarning: Ignoring detection with label 'Baked goods' not in provided classes\n",
      "  warnings.warn(msg)\n",
      "/Users/jayden/.pyenv/versions/3.10.13/envs/venv3.1/lib/python3.10/site-packages/fiftyone/utils/yolo.py:993: UserWarning: Ignoring detection with label 'Motorcycle' not in provided classes\n",
      "  warnings.warn(msg)\n",
      "/Users/jayden/.pyenv/versions/3.10.13/envs/venv3.1/lib/python3.10/site-packages/fiftyone/utils/yolo.py:993: UserWarning: Ignoring detection with label 'Coffee' not in provided classes\n",
      "  warnings.warn(msg)\n"
     ]
    },
    {
     "name": "stdout",
     "output_type": "stream",
     "text": [
      "  13% |██\\------------|  934/7000 [2.7s elapsed, 17.3s remaining, 412.6 samples/s]    "
     ]
    },
    {
     "name": "stderr",
     "output_type": "stream",
     "text": [
      "/Users/jayden/.pyenv/versions/3.10.13/envs/venv3.1/lib/python3.10/site-packages/fiftyone/utils/yolo.py:993: UserWarning: Ignoring detection with label 'Mixing bowl' not in provided classes\n",
      "  warnings.warn(msg)\n",
      "/Users/jayden/.pyenv/versions/3.10.13/envs/venv3.1/lib/python3.10/site-packages/fiftyone/utils/yolo.py:993: UserWarning: Ignoring detection with label 'Necklace' not in provided classes\n",
      "  warnings.warn(msg)\n",
      "/Users/jayden/.pyenv/versions/3.10.13/envs/venv3.1/lib/python3.10/site-packages/fiftyone/utils/yolo.py:993: UserWarning: Ignoring detection with label 'Teddy bear' not in provided classes\n",
      "  warnings.warn(msg)\n",
      "/Users/jayden/.pyenv/versions/3.10.13/envs/venv3.1/lib/python3.10/site-packages/fiftyone/utils/yolo.py:993: UserWarning: Ignoring detection with label 'Hiking equipment' not in provided classes\n",
      "  warnings.warn(msg)\n"
     ]
    },
    {
     "name": "stdout",
     "output_type": "stream",
     "text": [
      "  15% |██/------------| 1018/7000 [2.9s elapsed, 16.9s remaining, 410.7 samples/s]    "
     ]
    },
    {
     "name": "stderr",
     "output_type": "stream",
     "text": [
      "/Users/jayden/.pyenv/versions/3.10.13/envs/venv3.1/lib/python3.10/site-packages/fiftyone/utils/yolo.py:993: UserWarning: Ignoring detection with label 'Cart' not in provided classes\n",
      "  warnings.warn(msg)\n",
      "/Users/jayden/.pyenv/versions/3.10.13/envs/venv3.1/lib/python3.10/site-packages/fiftyone/utils/yolo.py:993: UserWarning: Ignoring detection with label 'Dinosaur' not in provided classes\n",
      "  warnings.warn(msg)\n",
      "/Users/jayden/.pyenv/versions/3.10.13/envs/venv3.1/lib/python3.10/site-packages/fiftyone/utils/yolo.py:993: UserWarning: Ignoring detection with label 'Umbrella' not in provided classes\n",
      "  warnings.warn(msg)\n",
      "/Users/jayden/.pyenv/versions/3.10.13/envs/venv3.1/lib/python3.10/site-packages/fiftyone/utils/yolo.py:993: UserWarning: Ignoring detection with label 'Palm tree' not in provided classes\n",
      "  warnings.warn(msg)\n",
      "/Users/jayden/.pyenv/versions/3.10.13/envs/venv3.1/lib/python3.10/site-packages/fiftyone/utils/yolo.py:993: UserWarning: Ignoring detection with label 'Pen' not in provided classes\n",
      "  warnings.warn(msg)\n",
      "/Users/jayden/.pyenv/versions/3.10.13/envs/venv3.1/lib/python3.10/site-packages/fiftyone/utils/yolo.py:993: UserWarning: Ignoring detection with label 'Countertop' not in provided classes\n",
      "  warnings.warn(msg)\n",
      "/Users/jayden/.pyenv/versions/3.10.13/envs/venv3.1/lib/python3.10/site-packages/fiftyone/utils/yolo.py:993: UserWarning: Ignoring detection with label 'Kitchen appliance' not in provided classes\n",
      "  warnings.warn(msg)\n",
      "/Users/jayden/.pyenv/versions/3.10.13/envs/venv3.1/lib/python3.10/site-packages/fiftyone/utils/yolo.py:993: UserWarning: Ignoring detection with label 'Accordion' not in provided classes\n",
      "  warnings.warn(msg)\n",
      "/Users/jayden/.pyenv/versions/3.10.13/envs/venv3.1/lib/python3.10/site-packages/fiftyone/utils/yolo.py:993: UserWarning: Ignoring detection with label 'Vegetable' not in provided classes\n",
      "  warnings.warn(msg)\n"
     ]
    },
    {
     "name": "stdout",
     "output_type": "stream",
     "text": [
      "  16% |██|------------| 1140/7000 [3.2s elapsed, 16.3s remaining, 400.5 samples/s]    "
     ]
    },
    {
     "name": "stderr",
     "output_type": "stream",
     "text": [
      "/Users/jayden/.pyenv/versions/3.10.13/envs/venv3.1/lib/python3.10/site-packages/fiftyone/utils/yolo.py:993: UserWarning: Ignoring detection with label 'Oven' not in provided classes\n",
      "  warnings.warn(msg)\n",
      "/Users/jayden/.pyenv/versions/3.10.13/envs/venv3.1/lib/python3.10/site-packages/fiftyone/utils/yolo.py:993: UserWarning: Ignoring detection with label 'Microwave oven' not in provided classes\n",
      "  warnings.warn(msg)\n",
      "/Users/jayden/.pyenv/versions/3.10.13/envs/venv3.1/lib/python3.10/site-packages/fiftyone/utils/yolo.py:993: UserWarning: Ignoring detection with label 'Shorts' not in provided classes\n",
      "  warnings.warn(msg)\n",
      "/Users/jayden/.pyenv/versions/3.10.13/envs/venv3.1/lib/python3.10/site-packages/fiftyone/utils/yolo.py:993: UserWarning: Ignoring detection with label 'Juice' not in provided classes\n",
      "  warnings.warn(msg)\n",
      "/Users/jayden/.pyenv/versions/3.10.13/envs/venv3.1/lib/python3.10/site-packages/fiftyone/utils/yolo.py:993: UserWarning: Ignoring detection with label 'Tableware' not in provided classes\n",
      "  warnings.warn(msg)\n",
      "/Users/jayden/.pyenv/versions/3.10.13/envs/venv3.1/lib/python3.10/site-packages/fiftyone/utils/yolo.py:993: UserWarning: Ignoring detection with label 'Dessert' not in provided classes\n",
      "  warnings.warn(msg)\n"
     ]
    },
    {
     "name": "stdout",
     "output_type": "stream",
     "text": [
      "  17% |██-------------| 1214/7000 [3.4s elapsed, 16.1s remaining, 396.2 samples/s]    "
     ]
    },
    {
     "name": "stderr",
     "output_type": "stream",
     "text": [
      "/Users/jayden/.pyenv/versions/3.10.13/envs/venv3.1/lib/python3.10/site-packages/fiftyone/utils/yolo.py:993: UserWarning: Ignoring detection with label 'Sombrero' not in provided classes\n",
      "  warnings.warn(msg)\n",
      "/Users/jayden/.pyenv/versions/3.10.13/envs/venv3.1/lib/python3.10/site-packages/fiftyone/utils/yolo.py:993: UserWarning: Ignoring detection with label 'Coat' not in provided classes\n",
      "  warnings.warn(msg)\n",
      "/Users/jayden/.pyenv/versions/3.10.13/envs/venv3.1/lib/python3.10/site-packages/fiftyone/utils/yolo.py:993: UserWarning: Ignoring detection with label 'Red panda' not in provided classes\n",
      "  warnings.warn(msg)\n",
      "/Users/jayden/.pyenv/versions/3.10.13/envs/venv3.1/lib/python3.10/site-packages/fiftyone/utils/yolo.py:993: UserWarning: Ignoring detection with label 'Human beard' not in provided classes\n",
      "  warnings.warn(msg)\n",
      "/Users/jayden/.pyenv/versions/3.10.13/envs/venv3.1/lib/python3.10/site-packages/fiftyone/utils/yolo.py:993: UserWarning: Ignoring detection with label 'Punching bag' not in provided classes\n",
      "  warnings.warn(msg)\n"
     ]
    },
    {
     "name": "stdout",
     "output_type": "stream",
     "text": [
      "  19% |██|------------| 1301/7000 [3.6s elapsed, 15.6s remaining, 401.9 samples/s]    "
     ]
    },
    {
     "name": "stderr",
     "output_type": "stream",
     "text": [
      "/Users/jayden/.pyenv/versions/3.10.13/envs/venv3.1/lib/python3.10/site-packages/fiftyone/utils/yolo.py:993: UserWarning: Ignoring detection with label 'Mushroom' not in provided classes\n",
      "  warnings.warn(msg)\n",
      "/Users/jayden/.pyenv/versions/3.10.13/envs/venv3.1/lib/python3.10/site-packages/fiftyone/utils/yolo.py:993: UserWarning: Ignoring detection with label 'Dairy Product' not in provided classes\n",
      "  warnings.warn(msg)\n",
      "/Users/jayden/.pyenv/versions/3.10.13/envs/venv3.1/lib/python3.10/site-packages/fiftyone/utils/yolo.py:993: UserWarning: Ignoring detection with label 'Ice cream' not in provided classes\n",
      "  warnings.warn(msg)\n",
      "/Users/jayden/.pyenv/versions/3.10.13/envs/venv3.1/lib/python3.10/site-packages/fiftyone/utils/yolo.py:993: UserWarning: Ignoring detection with label 'Cosmetics' not in provided classes\n",
      "  warnings.warn(msg)\n",
      "/Users/jayden/.pyenv/versions/3.10.13/envs/venv3.1/lib/python3.10/site-packages/fiftyone/utils/yolo.py:993: UserWarning: Ignoring detection with label 'Watch' not in provided classes\n",
      "  warnings.warn(msg)\n",
      "/Users/jayden/.pyenv/versions/3.10.13/envs/venv3.1/lib/python3.10/site-packages/fiftyone/utils/yolo.py:993: UserWarning: Ignoring detection with label 'Computer monitor' not in provided classes\n",
      "  warnings.warn(msg)\n",
      "/Users/jayden/.pyenv/versions/3.10.13/envs/venv3.1/lib/python3.10/site-packages/fiftyone/utils/yolo.py:993: UserWarning: Ignoring detection with label 'Computer keyboard' not in provided classes\n",
      "  warnings.warn(msg)\n",
      "/Users/jayden/.pyenv/versions/3.10.13/envs/venv3.1/lib/python3.10/site-packages/fiftyone/utils/yolo.py:993: UserWarning: Ignoring detection with label 'Football helmet' not in provided classes\n",
      "  warnings.warn(msg)\n",
      "/Users/jayden/.pyenv/versions/3.10.13/envs/venv3.1/lib/python3.10/site-packages/fiftyone/utils/yolo.py:993: UserWarning: Ignoring detection with label 'Whiteboard' not in provided classes\n",
      "  warnings.warn(msg)\n"
     ]
    },
    {
     "name": "stdout",
     "output_type": "stream",
     "text": [
      "  20% |███\\-----------| 1432/7000 [4.0s elapsed, 15.1s remaining, 399.9 samples/s]    "
     ]
    },
    {
     "name": "stderr",
     "output_type": "stream",
     "text": [
      "/Users/jayden/.pyenv/versions/3.10.13/envs/venv3.1/lib/python3.10/site-packages/fiftyone/utils/yolo.py:993: UserWarning: Ignoring detection with label 'Plate' not in provided classes\n",
      "  warnings.warn(msg)\n",
      "/Users/jayden/.pyenv/versions/3.10.13/envs/venv3.1/lib/python3.10/site-packages/fiftyone/utils/yolo.py:993: UserWarning: Ignoring detection with label 'Office supplies' not in provided classes\n",
      "  warnings.warn(msg)\n",
      "/Users/jayden/.pyenv/versions/3.10.13/envs/venv3.1/lib/python3.10/site-packages/fiftyone/utils/yolo.py:993: UserWarning: Ignoring detection with label 'Tripod' not in provided classes\n",
      "  warnings.warn(msg)\n",
      "/Users/jayden/.pyenv/versions/3.10.13/envs/venv3.1/lib/python3.10/site-packages/fiftyone/utils/yolo.py:993: UserWarning: Ignoring detection with label 'Binoculars' not in provided classes\n",
      "  warnings.warn(msg)\n",
      "/Users/jayden/.pyenv/versions/3.10.13/envs/venv3.1/lib/python3.10/site-packages/fiftyone/utils/yolo.py:993: UserWarning: Ignoring detection with label 'Invertebrate' not in provided classes\n",
      "  warnings.warn(msg)\n",
      "/Users/jayden/.pyenv/versions/3.10.13/envs/venv3.1/lib/python3.10/site-packages/fiftyone/utils/yolo.py:993: UserWarning: Ignoring detection with label 'Fruit' not in provided classes\n",
      "  warnings.warn(msg)\n"
     ]
    },
    {
     "name": "stdout",
     "output_type": "stream",
     "text": [
      "  22% |███/-----------| 1511/7000 [4.2s elapsed, 15.0s remaining, 389.4 samples/s]    "
     ]
    },
    {
     "name": "stderr",
     "output_type": "stream",
     "text": [
      "/Users/jayden/.pyenv/versions/3.10.13/envs/venv3.1/lib/python3.10/site-packages/fiftyone/utils/yolo.py:993: UserWarning: Ignoring detection with label 'Tent' not in provided classes\n",
      "  warnings.warn(msg)\n",
      "/Users/jayden/.pyenv/versions/3.10.13/envs/venv3.1/lib/python3.10/site-packages/fiftyone/utils/yolo.py:993: UserWarning: Ignoring detection with label 'Wheelchair' not in provided classes\n",
      "  warnings.warn(msg)\n",
      "/Users/jayden/.pyenv/versions/3.10.13/envs/venv3.1/lib/python3.10/site-packages/fiftyone/utils/yolo.py:993: UserWarning: Ignoring detection with label 'Street light' not in provided classes\n",
      "  warnings.warn(msg)\n",
      "/Users/jayden/.pyenv/versions/3.10.13/envs/venv3.1/lib/python3.10/site-packages/fiftyone/utils/yolo.py:993: UserWarning: Ignoring detection with label 'Elephant' not in provided classes\n",
      "  warnings.warn(msg)\n",
      "/Users/jayden/.pyenv/versions/3.10.13/envs/venv3.1/lib/python3.10/site-packages/fiftyone/utils/yolo.py:993: UserWarning: Ignoring detection with label 'Skirt' not in provided classes\n",
      "  warnings.warn(msg)\n",
      "/Users/jayden/.pyenv/versions/3.10.13/envs/venv3.1/lib/python3.10/site-packages/fiftyone/utils/yolo.py:993: UserWarning: Ignoring detection with label 'Platter' not in provided classes\n",
      "  warnings.warn(msg)\n"
     ]
    },
    {
     "name": "stdout",
     "output_type": "stream",
     "text": [
      "  23% |███\\-----------| 1593/7000 [4.4s elapsed, 14.6s remaining, 397.1 samples/s]    "
     ]
    },
    {
     "name": "stderr",
     "output_type": "stream",
     "text": [
      "/Users/jayden/.pyenv/versions/3.10.13/envs/venv3.1/lib/python3.10/site-packages/fiftyone/utils/yolo.py:993: UserWarning: Ignoring detection with label 'Sink' not in provided classes\n",
      "  warnings.warn(msg)\n",
      "/Users/jayden/.pyenv/versions/3.10.13/envs/venv3.1/lib/python3.10/site-packages/fiftyone/utils/yolo.py:993: UserWarning: Ignoring detection with label 'Tap' not in provided classes\n",
      "  warnings.warn(msg)\n",
      "/Users/jayden/.pyenv/versions/3.10.13/envs/venv3.1/lib/python3.10/site-packages/fiftyone/utils/yolo.py:993: UserWarning: Ignoring detection with label 'Frog' not in provided classes\n",
      "  warnings.warn(msg)\n",
      "/Users/jayden/.pyenv/versions/3.10.13/envs/venv3.1/lib/python3.10/site-packages/fiftyone/utils/yolo.py:993: UserWarning: Ignoring detection with label 'Dolphin' not in provided classes\n",
      "  warnings.warn(msg)\n"
     ]
    },
    {
     "name": "stdout",
     "output_type": "stream",
     "text": [
      "  25% |███\\-----------| 1753/7000 [4.8s elapsed, 14.1s remaining, 390.0 samples/s]    "
     ]
    },
    {
     "name": "stderr",
     "output_type": "stream",
     "text": [
      "/Users/jayden/.pyenv/versions/3.10.13/envs/venv3.1/lib/python3.10/site-packages/fiftyone/utils/yolo.py:993: UserWarning: Ignoring detection with label 'Convenience store' not in provided classes\n",
      "  warnings.warn(msg)\n",
      "/Users/jayden/.pyenv/versions/3.10.13/envs/venv3.1/lib/python3.10/site-packages/fiftyone/utils/yolo.py:993: UserWarning: Ignoring detection with label 'Truck' not in provided classes\n",
      "  warnings.warn(msg)\n",
      "/Users/jayden/.pyenv/versions/3.10.13/envs/venv3.1/lib/python3.10/site-packages/fiftyone/utils/yolo.py:993: UserWarning: Ignoring detection with label 'Fork' not in provided classes\n",
      "  warnings.warn(msg)\n"
     ]
    },
    {
     "name": "stdout",
     "output_type": "stream",
     "text": [
      "  27% |████-----------| 1874/7000 [5.1s elapsed, 13.7s remaining, 398.7 samples/s]    "
     ]
    },
    {
     "name": "stderr",
     "output_type": "stream",
     "text": [
      "/Users/jayden/.pyenv/versions/3.10.13/envs/venv3.1/lib/python3.10/site-packages/fiftyone/utils/yolo.py:993: UserWarning: Ignoring detection with label 'Toilet' not in provided classes\n",
      "  warnings.warn(msg)\n",
      "/Users/jayden/.pyenv/versions/3.10.13/envs/venv3.1/lib/python3.10/site-packages/fiftyone/utils/yolo.py:993: UserWarning: Ignoring detection with label 'Bathroom accessory' not in provided classes\n",
      "  warnings.warn(msg)\n",
      "/Users/jayden/.pyenv/versions/3.10.13/envs/venv3.1/lib/python3.10/site-packages/fiftyone/utils/yolo.py:993: UserWarning: Ignoring detection with label 'Baseball glove' not in provided classes\n",
      "  warnings.warn(msg)\n",
      "/Users/jayden/.pyenv/versions/3.10.13/envs/venv3.1/lib/python3.10/site-packages/fiftyone/utils/yolo.py:993: UserWarning: Ignoring detection with label 'Drinking straw' not in provided classes\n",
      "  warnings.warn(msg)\n"
     ]
    },
    {
     "name": "stdout",
     "output_type": "stream",
     "text": [
      "  28% |████|----------| 1943/7000 [5.3s elapsed, 13.6s remaining, 385.6 samples/s]    "
     ]
    },
    {
     "name": "stderr",
     "output_type": "stream",
     "text": [
      "/Users/jayden/.pyenv/versions/3.10.13/envs/venv3.1/lib/python3.10/site-packages/fiftyone/utils/yolo.py:993: UserWarning: Ignoring detection with label 'Trombone' not in provided classes\n",
      "  warnings.warn(msg)\n",
      "/Users/jayden/.pyenv/versions/3.10.13/envs/venv3.1/lib/python3.10/site-packages/fiftyone/utils/yolo.py:993: UserWarning: Ignoring detection with label 'Wok' not in provided classes\n",
      "  warnings.warn(msg)\n"
     ]
    },
    {
     "name": "stdout",
     "output_type": "stream",
     "text": [
      "  29% |████-----------| 2033/7000 [5.5s elapsed, 13.2s remaining, 392.0 samples/s]    "
     ]
    },
    {
     "name": "stderr",
     "output_type": "stream",
     "text": [
      "/Users/jayden/.pyenv/versions/3.10.13/envs/venv3.1/lib/python3.10/site-packages/fiftyone/utils/yolo.py:993: UserWarning: Ignoring detection with label 'Tortoise' not in provided classes\n",
      "  warnings.warn(msg)\n",
      "/Users/jayden/.pyenv/versions/3.10.13/envs/venv3.1/lib/python3.10/site-packages/fiftyone/utils/yolo.py:993: UserWarning: Ignoring detection with label 'Filing cabinet' not in provided classes\n",
      "  warnings.warn(msg)\n",
      "/Users/jayden/.pyenv/versions/3.10.13/envs/venv3.1/lib/python3.10/site-packages/fiftyone/utils/yolo.py:993: UserWarning: Ignoring detection with label 'Mule' not in provided classes\n",
      "  warnings.warn(msg)\n",
      "/Users/jayden/.pyenv/versions/3.10.13/envs/venv3.1/lib/python3.10/site-packages/fiftyone/utils/yolo.py:993: UserWarning: Ignoring detection with label 'Brassiere' not in provided classes\n",
      "  warnings.warn(msg)\n"
     ]
    },
    {
     "name": "stdout",
     "output_type": "stream",
     "text": [
      "  31% |████-----------| 2201/7000 [5.9s elapsed, 12.5s remaining, 409.6 samples/s]    "
     ]
    },
    {
     "name": "stderr",
     "output_type": "stream",
     "text": [
      "/Users/jayden/.pyenv/versions/3.10.13/envs/venv3.1/lib/python3.10/site-packages/fiftyone/utils/yolo.py:993: UserWarning: Ignoring detection with label 'Tiger' not in provided classes\n",
      "  warnings.warn(msg)\n",
      "/Users/jayden/.pyenv/versions/3.10.13/envs/venv3.1/lib/python3.10/site-packages/fiftyone/utils/yolo.py:993: UserWarning: Ignoring detection with label 'Chest of drawers' not in provided classes\n",
      "  warnings.warn(msg)\n",
      "/Users/jayden/.pyenv/versions/3.10.13/envs/venv3.1/lib/python3.10/site-packages/fiftyone/utils/yolo.py:993: UserWarning: Ignoring detection with label 'Helicopter' not in provided classes\n",
      "  warnings.warn(msg)\n",
      "/Users/jayden/.pyenv/versions/3.10.13/envs/venv3.1/lib/python3.10/site-packages/fiftyone/utils/yolo.py:993: UserWarning: Ignoring detection with label 'Monkey' not in provided classes\n",
      "  warnings.warn(msg)\n"
     ]
    },
    {
     "name": "stdout",
     "output_type": "stream",
     "text": [
      "  33% |████|----------| 2296/7000 [6.1s elapsed, 12.1s remaining, 420.4 samples/s]    "
     ]
    },
    {
     "name": "stderr",
     "output_type": "stream",
     "text": [
      "/Users/jayden/.pyenv/versions/3.10.13/envs/venv3.1/lib/python3.10/site-packages/fiftyone/utils/yolo.py:993: UserWarning: Ignoring detection with label 'Fox' not in provided classes\n",
      "  warnings.warn(msg)\n",
      "/Users/jayden/.pyenv/versions/3.10.13/envs/venv3.1/lib/python3.10/site-packages/fiftyone/utils/yolo.py:993: UserWarning: Ignoring detection with label 'Banjo' not in provided classes\n",
      "  warnings.warn(msg)\n",
      "/Users/jayden/.pyenv/versions/3.10.13/envs/venv3.1/lib/python3.10/site-packages/fiftyone/utils/yolo.py:993: UserWarning: Ignoring detection with label 'Stool' not in provided classes\n",
      "  warnings.warn(msg)\n"
     ]
    },
    {
     "name": "stdout",
     "output_type": "stream",
     "text": [
      "  34% |█████----------| 2380/7000 [6.3s elapsed, 11.8s remaining, 422.6 samples/s]    "
     ]
    },
    {
     "name": "stderr",
     "output_type": "stream",
     "text": [
      "/Users/jayden/.pyenv/versions/3.10.13/envs/venv3.1/lib/python3.10/site-packages/fiftyone/utils/yolo.py:993: UserWarning: Ignoring detection with label 'Saucer' not in provided classes\n",
      "  warnings.warn(msg)\n",
      "/Users/jayden/.pyenv/versions/3.10.13/envs/venv3.1/lib/python3.10/site-packages/fiftyone/utils/yolo.py:993: UserWarning: Ignoring detection with label 'Personal flotation device' not in provided classes\n",
      "  warnings.warn(msg)\n",
      "/Users/jayden/.pyenv/versions/3.10.13/envs/venv3.1/lib/python3.10/site-packages/fiftyone/utils/yolo.py:993: UserWarning: Ignoring detection with label 'Shotgun' not in provided classes\n",
      "  warnings.warn(msg)\n",
      "/Users/jayden/.pyenv/versions/3.10.13/envs/venv3.1/lib/python3.10/site-packages/fiftyone/utils/yolo.py:993: UserWarning: Ignoring detection with label 'Kitchen utensil' not in provided classes\n",
      "  warnings.warn(msg)\n"
     ]
    },
    {
     "name": "stdout",
     "output_type": "stream",
     "text": [
      "  36% |█████/---------| 2513/7000 [6.6s elapsed, 11.3s remaining, 440.2 samples/s]    "
     ]
    },
    {
     "name": "stderr",
     "output_type": "stream",
     "text": [
      "/Users/jayden/.pyenv/versions/3.10.13/envs/venv3.1/lib/python3.10/site-packages/fiftyone/utils/yolo.py:993: UserWarning: Ignoring detection with label 'Van' not in provided classes\n",
      "  warnings.warn(msg)\n",
      "/Users/jayden/.pyenv/versions/3.10.13/envs/venv3.1/lib/python3.10/site-packages/fiftyone/utils/yolo.py:993: UserWarning: Ignoring detection with label 'Paddle' not in provided classes\n",
      "  warnings.warn(msg)\n",
      "/Users/jayden/.pyenv/versions/3.10.13/envs/venv3.1/lib/python3.10/site-packages/fiftyone/utils/yolo.py:993: UserWarning: Ignoring detection with label 'Bird' not in provided classes\n",
      "  warnings.warn(msg)\n",
      "/Users/jayden/.pyenv/versions/3.10.13/envs/venv3.1/lib/python3.10/site-packages/fiftyone/utils/yolo.py:993: UserWarning: Ignoring detection with label 'Bathtub' not in provided classes\n",
      "  warnings.warn(msg)\n"
     ]
    },
    {
     "name": "stdout",
     "output_type": "stream",
     "text": [
      "  37% |█████\\---------| 2599/7000 [6.8s elapsed, 11.1s remaining, 432.3 samples/s]    "
     ]
    },
    {
     "name": "stderr",
     "output_type": "stream",
     "text": [
      "/Users/jayden/.pyenv/versions/3.10.13/envs/venv3.1/lib/python3.10/site-packages/fiftyone/utils/yolo.py:993: UserWarning: Ignoring detection with label 'Handgun' not in provided classes\n",
      "  warnings.warn(msg)\n"
     ]
    },
    {
     "name": "stdout",
     "output_type": "stream",
     "text": [
      "  39% |█████----------| 2722/7000 [7.2s elapsed, 10.9s remaining, 416.1 samples/s]    "
     ]
    },
    {
     "name": "stderr",
     "output_type": "stream",
     "text": [
      "/Users/jayden/.pyenv/versions/3.10.13/envs/venv3.1/lib/python3.10/site-packages/fiftyone/utils/yolo.py:993: UserWarning: Ignoring detection with label 'Camel' not in provided classes\n",
      "  warnings.warn(msg)\n",
      "/Users/jayden/.pyenv/versions/3.10.13/envs/venv3.1/lib/python3.10/site-packages/fiftyone/utils/yolo.py:993: UserWarning: Ignoring detection with label 'Common sunflower' not in provided classes\n",
      "  warnings.warn(msg)\n",
      "/Users/jayden/.pyenv/versions/3.10.13/envs/venv3.1/lib/python3.10/site-packages/fiftyone/utils/yolo.py:993: UserWarning: Ignoring detection with label 'Watercraft' not in provided classes\n",
      "  warnings.warn(msg)\n",
      "/Users/jayden/.pyenv/versions/3.10.13/envs/venv3.1/lib/python3.10/site-packages/fiftyone/utils/yolo.py:993: UserWarning: Ignoring detection with label 'Earrings' not in provided classes\n",
      "  warnings.warn(msg)\n",
      "/Users/jayden/.pyenv/versions/3.10.13/envs/venv3.1/lib/python3.10/site-packages/fiftyone/utils/yolo.py:993: UserWarning: Ignoring detection with label 'Cannon' not in provided classes\n",
      "  warnings.warn(msg)\n",
      "/Users/jayden/.pyenv/versions/3.10.13/envs/venv3.1/lib/python3.10/site-packages/fiftyone/utils/yolo.py:993: UserWarning: Ignoring detection with label 'Tank' not in provided classes\n",
      "  warnings.warn(msg)\n"
     ]
    },
    {
     "name": "stdout",
     "output_type": "stream",
     "text": [
      "  41% |██████/--------| 2858/7000 [7.5s elapsed, 10.4s remaining, 425.3 samples/s]    "
     ]
    },
    {
     "name": "stderr",
     "output_type": "stream",
     "text": [
      "/Users/jayden/.pyenv/versions/3.10.13/envs/venv3.1/lib/python3.10/site-packages/fiftyone/utils/yolo.py:993: UserWarning: Ignoring detection with label 'Lemon' not in provided classes\n",
      "  warnings.warn(msg)\n",
      "/Users/jayden/.pyenv/versions/3.10.13/envs/venv3.1/lib/python3.10/site-packages/fiftyone/utils/yolo.py:993: UserWarning: Ignoring detection with label 'Rabbit' not in provided classes\n",
      "  warnings.warn(msg)\n",
      "/Users/jayden/.pyenv/versions/3.10.13/envs/venv3.1/lib/python3.10/site-packages/fiftyone/utils/yolo.py:993: UserWarning: Ignoring detection with label 'Surfboard' not in provided classes\n",
      "  warnings.warn(msg)\n"
     ]
    },
    {
     "name": "stdout",
     "output_type": "stream",
     "text": [
      "  43% |██████|--------| 2980/7000 [7.8s elapsed, 10.2s remaining, 410.8 samples/s]    "
     ]
    },
    {
     "name": "stderr",
     "output_type": "stream",
     "text": [
      "/Users/jayden/.pyenv/versions/3.10.13/envs/venv3.1/lib/python3.10/site-packages/fiftyone/utils/yolo.py:993: UserWarning: Ignoring detection with label 'Violin' not in provided classes\n",
      "  warnings.warn(msg)\n",
      "/Users/jayden/.pyenv/versions/3.10.13/envs/venv3.1/lib/python3.10/site-packages/fiftyone/utils/yolo.py:993: UserWarning: Ignoring detection with label 'Snail' not in provided classes\n",
      "  warnings.warn(msg)\n",
      "/Users/jayden/.pyenv/versions/3.10.13/envs/venv3.1/lib/python3.10/site-packages/fiftyone/utils/yolo.py:993: UserWarning: Ignoring detection with label 'Traffic sign' not in provided classes\n",
      "  warnings.warn(msg)\n"
     ]
    },
    {
     "name": "stdout",
     "output_type": "stream",
     "text": [
      "  44% |██████\\--------| 3100/7000 [8.1s elapsed, 9.9s remaining, 408.9 samples/s]     "
     ]
    },
    {
     "name": "stderr",
     "output_type": "stream",
     "text": [
      "/Users/jayden/.pyenv/versions/3.10.13/envs/venv3.1/lib/python3.10/site-packages/fiftyone/utils/yolo.py:993: UserWarning: Ignoring detection with label 'Bench' not in provided classes\n",
      "  warnings.warn(msg)\n",
      "/Users/jayden/.pyenv/versions/3.10.13/envs/venv3.1/lib/python3.10/site-packages/fiftyone/utils/yolo.py:993: UserWarning: Ignoring detection with label 'Tablet computer' not in provided classes\n",
      "  warnings.warn(msg)\n"
     ]
    },
    {
     "name": "stdout",
     "output_type": "stream",
     "text": [
      "  47% |██████\\--------| 3261/7000 [8.5s elapsed, 9.7s remaining, 389.2 samples/s]     "
     ]
    },
    {
     "name": "stderr",
     "output_type": "stream",
     "text": [
      "/Users/jayden/.pyenv/versions/3.10.13/envs/venv3.1/lib/python3.10/site-packages/fiftyone/utils/yolo.py:993: UserWarning: Ignoring detection with label 'Bear' not in provided classes\n",
      "  warnings.warn(msg)\n",
      "/Users/jayden/.pyenv/versions/3.10.13/envs/venv3.1/lib/python3.10/site-packages/fiftyone/utils/yolo.py:993: UserWarning: Ignoring detection with label 'Deer' not in provided classes\n",
      "  warnings.warn(msg)\n"
     ]
    },
    {
     "name": "stdout",
     "output_type": "stream",
     "text": [
      "  48% |███████--------| 3367/7000 [8.8s elapsed, 9.6s remaining, 377.0 samples/s]     "
     ]
    },
    {
     "name": "stderr",
     "output_type": "stream",
     "text": [
      "/Users/jayden/.pyenv/versions/3.10.13/envs/venv3.1/lib/python3.10/site-packages/fiftyone/utils/yolo.py:993: UserWarning: Ignoring detection with label 'Belt' not in provided classes\n",
      "  warnings.warn(msg)\n",
      "/Users/jayden/.pyenv/versions/3.10.13/envs/venv3.1/lib/python3.10/site-packages/fiftyone/utils/yolo.py:993: UserWarning: Ignoring detection with label 'Saxophone' not in provided classes\n",
      "  warnings.warn(msg)\n"
     ]
    },
    {
     "name": "stdout",
     "output_type": "stream",
     "text": [
      "  50% |███████/-------| 3500/7000 [9.1s elapsed, 9.0s remaining, 395.6 samples/s]     "
     ]
    },
    {
     "name": "stderr",
     "output_type": "stream",
     "text": [
      "/Users/jayden/.pyenv/versions/3.10.13/envs/venv3.1/lib/python3.10/site-packages/fiftyone/utils/yolo.py:993: UserWarning: Ignoring detection with label 'Lantern' not in provided classes\n",
      "  warnings.warn(msg)\n",
      "/Users/jayden/.pyenv/versions/3.10.13/envs/venv3.1/lib/python3.10/site-packages/fiftyone/utils/yolo.py:993: UserWarning: Ignoring detection with label 'Sewing machine' not in provided classes\n",
      "  warnings.warn(msg)\n"
     ]
    },
    {
     "name": "stdout",
     "output_type": "stream",
     "text": [
      "  51% |███████\\-------| 3578/7000 [9.3s elapsed, 8.9s remaining, 384.3 samples/s]     "
     ]
    },
    {
     "name": "stderr",
     "output_type": "stream",
     "text": [
      "/Users/jayden/.pyenv/versions/3.10.13/envs/venv3.1/lib/python3.10/site-packages/fiftyone/utils/yolo.py:993: UserWarning: Ignoring detection with label 'Suitcase' not in provided classes\n",
      "  warnings.warn(msg)\n",
      "/Users/jayden/.pyenv/versions/3.10.13/envs/venv3.1/lib/python3.10/site-packages/fiftyone/utils/yolo.py:993: UserWarning: Ignoring detection with label 'Fireplace' not in provided classes\n",
      "  warnings.warn(msg)\n"
     ]
    },
    {
     "name": "stdout",
     "output_type": "stream",
     "text": [
      "  52% |███████/-------| 3666/7000 [9.5s elapsed, 8.4s remaining, 412.2 samples/s]     "
     ]
    },
    {
     "name": "stderr",
     "output_type": "stream",
     "text": [
      "/Users/jayden/.pyenv/versions/3.10.13/envs/venv3.1/lib/python3.10/site-packages/fiftyone/utils/yolo.py:993: UserWarning: Ignoring detection with label 'Couch' not in provided classes\n",
      "  warnings.warn(msg)\n"
     ]
    },
    {
     "name": "stdout",
     "output_type": "stream",
     "text": [
      "  54% |████████|------| 3797/7000 [9.8s elapsed, 7.9s remaining, 424.2 samples/s]     "
     ]
    },
    {
     "name": "stderr",
     "output_type": "stream",
     "text": [
      "/Users/jayden/.pyenv/versions/3.10.13/envs/venv3.1/lib/python3.10/site-packages/fiftyone/utils/yolo.py:993: UserWarning: Ignoring detection with label 'Telephone' not in provided classes\n",
      "  warnings.warn(msg)\n"
     ]
    },
    {
     "name": "stdout",
     "output_type": "stream",
     "text": [
      "  56% |████████-------| 3885/7000 [10.0s elapsed, 7.7s remaining, 422.5 samples/s]    "
     ]
    },
    {
     "name": "stderr",
     "output_type": "stream",
     "text": [
      "/Users/jayden/.pyenv/versions/3.10.13/envs/venv3.1/lib/python3.10/site-packages/fiftyone/utils/yolo.py:993: UserWarning: Ignoring detection with label 'Goat' not in provided classes\n",
      "  warnings.warn(msg)\n",
      "/Users/jayden/.pyenv/versions/3.10.13/envs/venv3.1/lib/python3.10/site-packages/fiftyone/utils/yolo.py:993: UserWarning: Ignoring detection with label 'Swan' not in provided classes\n",
      "  warnings.warn(msg)\n",
      "/Users/jayden/.pyenv/versions/3.10.13/envs/venv3.1/lib/python3.10/site-packages/fiftyone/utils/yolo.py:993: UserWarning: Ignoring detection with label 'Parachute' not in provided classes\n",
      "  warnings.warn(msg)\n",
      "/Users/jayden/.pyenv/versions/3.10.13/envs/venv3.1/lib/python3.10/site-packages/fiftyone/utils/yolo.py:993: UserWarning: Ignoring detection with label 'Turtle' not in provided classes\n",
      "  warnings.warn(msg)\n",
      "/Users/jayden/.pyenv/versions/3.10.13/envs/venv3.1/lib/python3.10/site-packages/fiftyone/utils/yolo.py:993: UserWarning: Ignoring detection with label 'Marine mammal' not in provided classes\n",
      "  warnings.warn(msg)\n",
      "/Users/jayden/.pyenv/versions/3.10.13/envs/venv3.1/lib/python3.10/site-packages/fiftyone/utils/yolo.py:993: UserWarning: Ignoring detection with label 'Chicken' not in provided classes\n",
      "  warnings.warn(msg)\n"
     ]
    },
    {
     "name": "stdout",
     "output_type": "stream",
     "text": [
      "  57% |████████|------| 3963/7000 [10.2s elapsed, 7.5s remaining, 422.0 samples/s]    "
     ]
    },
    {
     "name": "stderr",
     "output_type": "stream",
     "text": [
      "/Users/jayden/.pyenv/versions/3.10.13/envs/venv3.1/lib/python3.10/site-packages/fiftyone/utils/yolo.py:993: UserWarning: Ignoring detection with label 'Scoreboard' not in provided classes\n",
      "  warnings.warn(msg)\n",
      "/Users/jayden/.pyenv/versions/3.10.13/envs/venv3.1/lib/python3.10/site-packages/fiftyone/utils/yolo.py:993: UserWarning: Ignoring detection with label 'Train' not in provided classes\n",
      "  warnings.warn(msg)\n",
      "/Users/jayden/.pyenv/versions/3.10.13/envs/venv3.1/lib/python3.10/site-packages/fiftyone/utils/yolo.py:993: UserWarning: Ignoring detection with label 'Cookie' not in provided classes\n",
      "  warnings.warn(msg)\n",
      "/Users/jayden/.pyenv/versions/3.10.13/envs/venv3.1/lib/python3.10/site-packages/fiftyone/utils/yolo.py:993: UserWarning: Ignoring detection with label 'Diaper' not in provided classes\n",
      "  warnings.warn(msg)\n"
     ]
    },
    {
     "name": "stdout",
     "output_type": "stream",
     "text": [
      "  58% |████████-------| 4044/7000 [10.4s elapsed, 7.3s remaining, 413.5 samples/s]    "
     ]
    },
    {
     "name": "stderr",
     "output_type": "stream",
     "text": [
      "/Users/jayden/.pyenv/versions/3.10.13/envs/venv3.1/lib/python3.10/site-packages/fiftyone/utils/yolo.py:993: UserWarning: Ignoring detection with label 'Home appliance' not in provided classes\n",
      "  warnings.warn(msg)\n",
      "/Users/jayden/.pyenv/versions/3.10.13/envs/venv3.1/lib/python3.10/site-packages/fiftyone/utils/yolo.py:993: UserWarning: Ignoring detection with label 'Zebra' not in provided classes\n",
      "  warnings.warn(msg)\n",
      "/Users/jayden/.pyenv/versions/3.10.13/envs/venv3.1/lib/python3.10/site-packages/fiftyone/utils/yolo.py:993: UserWarning: Ignoring detection with label 'Butterfly' not in provided classes\n",
      "  warnings.warn(msg)\n"
     ]
    },
    {
     "name": "stdout",
     "output_type": "stream",
     "text": [
      "  61% |█████████\\-----| 4246/7000 [10.9s elapsed, 7.0s remaining, 394.3 samples/s]    "
     ]
    },
    {
     "name": "stderr",
     "output_type": "stream",
     "text": [
      "/Users/jayden/.pyenv/versions/3.10.13/envs/venv3.1/lib/python3.10/site-packages/fiftyone/utils/yolo.py:993: UserWarning: Ignoring detection with label 'Oyster' not in provided classes\n",
      "  warnings.warn(msg)\n",
      "/Users/jayden/.pyenv/versions/3.10.13/envs/venv3.1/lib/python3.10/site-packages/fiftyone/utils/yolo.py:993: UserWarning: Ignoring detection with label 'Castle' not in provided classes\n",
      "  warnings.warn(msg)\n"
     ]
    },
    {
     "name": "stdout",
     "output_type": "stream",
     "text": [
      "  63% |█████████\\-----| 4418/7000 [11.3s elapsed, 6.4s remaining, 408.9 samples/s]    "
     ]
    },
    {
     "name": "stderr",
     "output_type": "stream",
     "text": [
      "/Users/jayden/.pyenv/versions/3.10.13/envs/venv3.1/lib/python3.10/site-packages/fiftyone/utils/yolo.py:993: UserWarning: Ignoring detection with label 'Jaguar (Animal)' not in provided classes\n",
      "  warnings.warn(msg)\n",
      "/Users/jayden/.pyenv/versions/3.10.13/envs/venv3.1/lib/python3.10/site-packages/fiftyone/utils/yolo.py:993: UserWarning: Ignoring detection with label 'Lynx' not in provided classes\n",
      "  warnings.warn(msg)\n",
      "/Users/jayden/.pyenv/versions/3.10.13/envs/venv3.1/lib/python3.10/site-packages/fiftyone/utils/yolo.py:993: UserWarning: Ignoring detection with label 'Leopard' not in provided classes\n",
      "  warnings.warn(msg)\n",
      "/Users/jayden/.pyenv/versions/3.10.13/envs/venv3.1/lib/python3.10/site-packages/fiftyone/utils/yolo.py:993: UserWarning: Ignoring detection with label 'Banana' not in provided classes\n",
      "  warnings.warn(msg)\n",
      "/Users/jayden/.pyenv/versions/3.10.13/envs/venv3.1/lib/python3.10/site-packages/fiftyone/utils/yolo.py:993: UserWarning: Ignoring detection with label 'Antelope' not in provided classes\n",
      "  warnings.warn(msg)\n"
     ]
    },
    {
     "name": "stdout",
     "output_type": "stream",
     "text": [
      "  64% |█████████/-----| 4497/7000 [11.5s elapsed, 6.2s remaining, 410.9 samples/s]    "
     ]
    },
    {
     "name": "stderr",
     "output_type": "stream",
     "text": [
      "/Users/jayden/.pyenv/versions/3.10.13/envs/venv3.1/lib/python3.10/site-packages/fiftyone/utils/yolo.py:993: UserWarning: Ignoring detection with label 'Fountain' not in provided classes\n",
      "  warnings.warn(msg)\n",
      "/Users/jayden/.pyenv/versions/3.10.13/envs/venv3.1/lib/python3.10/site-packages/fiftyone/utils/yolo.py:993: UserWarning: Ignoring detection with label 'Pizza' not in provided classes\n",
      "  warnings.warn(msg)\n",
      "/Users/jayden/.pyenv/versions/3.10.13/envs/venv3.1/lib/python3.10/site-packages/fiftyone/utils/yolo.py:993: UserWarning: Ignoring detection with label 'Orange' not in provided classes\n",
      "  warnings.warn(msg)\n",
      "/Users/jayden/.pyenv/versions/3.10.13/envs/venv3.1/lib/python3.10/site-packages/fiftyone/utils/yolo.py:993: UserWarning: Ignoring detection with label 'Grapefruit' not in provided classes\n",
      "  warnings.warn(msg)\n"
     ]
    },
    {
     "name": "stdout",
     "output_type": "stream",
     "text": [
      "  65% |█████████\\-----| 4571/7000 [11.7s elapsed, 6.1s remaining, 403.9 samples/s]    "
     ]
    },
    {
     "name": "stderr",
     "output_type": "stream",
     "text": [
      "/Users/jayden/.pyenv/versions/3.10.13/envs/venv3.1/lib/python3.10/site-packages/fiftyone/utils/yolo.py:993: UserWarning: Ignoring detection with label 'Kitchen & dining room table' not in provided classes\n",
      "  warnings.warn(msg)\n",
      "/Users/jayden/.pyenv/versions/3.10.13/envs/venv3.1/lib/python3.10/site-packages/fiftyone/utils/yolo.py:993: UserWarning: Ignoring detection with label 'Coffee table' not in provided classes\n",
      "  warnings.warn(msg)\n"
     ]
    },
    {
     "name": "stdout",
     "output_type": "stream",
     "text": [
      "  68% |██████████\\----| 4729/7000 [12.1s elapsed, 5.8s remaining, 392.5 samples/s]    "
     ]
    },
    {
     "name": "stderr",
     "output_type": "stream",
     "text": [
      "/Users/jayden/.pyenv/versions/3.10.13/envs/venv3.1/lib/python3.10/site-packages/fiftyone/utils/yolo.py:993: UserWarning: Ignoring detection with label 'Parrot' not in provided classes\n",
      "  warnings.warn(msg)\n"
     ]
    },
    {
     "name": "stdout",
     "output_type": "stream",
     "text": [
      "  69% |██████████-----| 4862/7000 [12.4s elapsed, 5.4s remaining, 397.8 samples/s]    "
     ]
    },
    {
     "name": "stderr",
     "output_type": "stream",
     "text": [
      "/Users/jayden/.pyenv/versions/3.10.13/envs/venv3.1/lib/python3.10/site-packages/fiftyone/utils/yolo.py:993: UserWarning: Ignoring detection with label 'Frying pan' not in provided classes\n",
      "  warnings.warn(msg)\n",
      "/Users/jayden/.pyenv/versions/3.10.13/envs/venv3.1/lib/python3.10/site-packages/fiftyone/utils/yolo.py:993: UserWarning: Ignoring detection with label 'Mechanical fan' not in provided classes\n",
      "  warnings.warn(msg)\n",
      "/Users/jayden/.pyenv/versions/3.10.13/envs/venv3.1/lib/python3.10/site-packages/fiftyone/utils/yolo.py:993: UserWarning: Ignoring detection with label 'Owl' not in provided classes\n",
      "  warnings.warn(msg)\n"
     ]
    },
    {
     "name": "stdout",
     "output_type": "stream",
     "text": [
      "  71% |██████████|----| 4951/7000 [12.7s elapsed, 5.1s remaining, 412.1 samples/s]    "
     ]
    },
    {
     "name": "stderr",
     "output_type": "stream",
     "text": [
      "/Users/jayden/.pyenv/versions/3.10.13/envs/venv3.1/lib/python3.10/site-packages/fiftyone/utils/yolo.py:993: UserWarning: Ignoring detection with label 'Volleyball (Ball)' not in provided classes\n",
      "  warnings.warn(msg)\n"
     ]
    },
    {
     "name": "stdout",
     "output_type": "stream",
     "text": [
      "  72% |██████████\\----| 5067/7000 [13.0s elapsed, 4.8s remaining, 410.7 samples/s]    "
     ]
    },
    {
     "name": "stderr",
     "output_type": "stream",
     "text": [
      "/Users/jayden/.pyenv/versions/3.10.13/envs/venv3.1/lib/python3.10/site-packages/fiftyone/utils/yolo.py:993: UserWarning: Ignoring detection with label 'Squash (Plant)' not in provided classes\n",
      "  warnings.warn(msg)\n",
      "/Users/jayden/.pyenv/versions/3.10.13/envs/venv3.1/lib/python3.10/site-packages/fiftyone/utils/yolo.py:993: UserWarning: Ignoring detection with label 'Clock' not in provided classes\n",
      "  warnings.warn(msg)\n"
     ]
    },
    {
     "name": "stdout",
     "output_type": "stream",
     "text": [
      "                                                                                      \r"
     ]
    },
    {
     "name": "stderr",
     "output_type": "stream",
     "text": [
      "/Users/jayden/.pyenv/versions/3.10.13/envs/venv3.1/lib/python3.10/site-packages/fiftyone/utils/yolo.py:993: UserWarning: Ignoring detection with label 'Otter' not in provided classes\n",
      "  warnings.warn(msg)\n",
      "/Users/jayden/.pyenv/versions/3.10.13/envs/venv3.1/lib/python3.10/site-packages/fiftyone/utils/yolo.py:993: UserWarning: Ignoring detection with label 'Koala' not in provided classes\n",
      "  warnings.warn(msg)\n"
     ]
    },
    {
     "name": "stdout",
     "output_type": "stream",
     "text": [
      "  76% |███████████----| 5347/7000 [13.7s elapsed, 4.2s remaining, 391.7 samples/s]    "
     ]
    },
    {
     "name": "stderr",
     "output_type": "stream",
     "text": [
      "/Users/jayden/.pyenv/versions/3.10.13/envs/venv3.1/lib/python3.10/site-packages/fiftyone/utils/yolo.py:993: UserWarning: Ignoring detection with label 'Waste container' not in provided classes\n",
      "  warnings.warn(msg)\n"
     ]
    },
    {
     "name": "stdout",
     "output_type": "stream",
     "text": [
      "  78% |███████████/---| 5470/7000 [14.0s elapsed, 4.0s remaining, 385.6 samples/s]    "
     ]
    },
    {
     "name": "stderr",
     "output_type": "stream",
     "text": [
      "/Users/jayden/.pyenv/versions/3.10.13/envs/venv3.1/lib/python3.10/site-packages/fiftyone/utils/yolo.py:993: UserWarning: Ignoring detection with label 'Panda' not in provided classes\n",
      "  warnings.warn(msg)\n",
      "/Users/jayden/.pyenv/versions/3.10.13/envs/venv3.1/lib/python3.10/site-packages/fiftyone/utils/yolo.py:993: UserWarning: Ignoring detection with label 'Seat belt' not in provided classes\n",
      "  warnings.warn(msg)\n",
      "/Users/jayden/.pyenv/versions/3.10.13/envs/venv3.1/lib/python3.10/site-packages/fiftyone/utils/yolo.py:993: UserWarning: Ignoring detection with label 'Cabinetry' not in provided classes\n",
      "  warnings.warn(msg)\n"
     ]
    },
    {
     "name": "stdout",
     "output_type": "stream",
     "text": [
      "  80% |███████████|---| 5585/7000 [14.3s elapsed, 3.6s remaining, 388.9 samples/s]    "
     ]
    },
    {
     "name": "stderr",
     "output_type": "stream",
     "text": [
      "/Users/jayden/.pyenv/versions/3.10.13/envs/venv3.1/lib/python3.10/site-packages/fiftyone/utils/yolo.py:993: UserWarning: Ignoring detection with label 'Giraffe' not in provided classes\n",
      "  warnings.warn(msg)\n",
      "/Users/jayden/.pyenv/versions/3.10.13/envs/venv3.1/lib/python3.10/site-packages/fiftyone/utils/yolo.py:993: UserWarning: Ignoring detection with label 'Window blind' not in provided classes\n",
      "  warnings.warn(msg)\n"
     ]
    },
    {
     "name": "stdout",
     "output_type": "stream",
     "text": [
      "  85% |████████████/--| 5982/7000 [15.2s elapsed, 2.4s remaining, 436.8 samples/s]    "
     ]
    },
    {
     "name": "stderr",
     "output_type": "stream",
     "text": [
      "/Users/jayden/.pyenv/versions/3.10.13/envs/venv3.1/lib/python3.10/site-packages/fiftyone/utils/yolo.py:993: UserWarning: Ignoring detection with label 'Gondola' not in provided classes\n",
      "  warnings.warn(msg)\n",
      "/Users/jayden/.pyenv/versions/3.10.13/envs/venv3.1/lib/python3.10/site-packages/fiftyone/utils/yolo.py:993: UserWarning: Ignoring detection with label 'Submarine sandwich' not in provided classes\n",
      "  warnings.warn(msg)\n"
     ]
    },
    {
     "name": "stdout",
     "output_type": "stream",
     "text": [
      "  87% |█████████████|-| 6109/7000 [15.5s elapsed, 2.1s remaining, 431.1 samples/s]    "
     ]
    },
    {
     "name": "stderr",
     "output_type": "stream",
     "text": [
      "/Users/jayden/.pyenv/versions/3.10.13/envs/venv3.1/lib/python3.10/site-packages/fiftyone/utils/yolo.py:993: UserWarning: Ignoring detection with label 'Tennis ball' not in provided classes\n",
      "  warnings.warn(msg)\n"
     ]
    },
    {
     "name": "stdout",
     "output_type": "stream",
     "text": [
      "  90% |█████████████|-| 6284/7000 [15.9s elapsed, 1.7s remaining, 432.4 samples/s]    "
     ]
    },
    {
     "name": "stderr",
     "output_type": "stream",
     "text": [
      "/Users/jayden/.pyenv/versions/3.10.13/envs/venv3.1/lib/python3.10/site-packages/fiftyone/utils/yolo.py:993: UserWarning: Ignoring detection with label 'Perfume' not in provided classes\n",
      "  warnings.warn(msg)\n"
     ]
    },
    {
     "name": "stdout",
     "output_type": "stream",
     "text": [
      "  91% |█████████████--| 6336/7000 [16.1s elapsed, 1.7s remaining, 383.9 samples/s]    "
     ]
    },
    {
     "name": "stderr",
     "output_type": "stream",
     "text": [
      "/Users/jayden/.pyenv/versions/3.10.13/envs/venv3.1/lib/python3.10/site-packages/fiftyone/utils/yolo.py:993: UserWarning: Ignoring detection with label 'Vehicle registration plate' not in provided classes\n",
      "  warnings.warn(msg)\n"
     ]
    },
    {
     "name": "stdout",
     "output_type": "stream",
     "text": [
      "  94% |██████████████\\| 6549/7000 [16.6s elapsed, 1.2s remaining, 379.9 samples/s]    "
     ]
    },
    {
     "name": "stderr",
     "output_type": "stream",
     "text": [
      "/Users/jayden/.pyenv/versions/3.10.13/envs/venv3.1/lib/python3.10/site-packages/fiftyone/utils/yolo.py:993: UserWarning: Ignoring detection with label 'Training bench' not in provided classes\n",
      "  warnings.warn(msg)\n",
      "/Users/jayden/.pyenv/versions/3.10.13/envs/venv3.1/lib/python3.10/site-packages/fiftyone/utils/yolo.py:993: UserWarning: Ignoring detection with label 'Bidet' not in provided classes\n",
      "  warnings.warn(msg)\n"
     ]
    },
    {
     "name": "stdout",
     "output_type": "stream",
     "text": [
      "  97% |██████████████-| 6809/7000 [17.3s elapsed, 487.4ms remaining, 391.8 samples/s] "
     ]
    },
    {
     "name": "stderr",
     "output_type": "stream",
     "text": [
      "/Users/jayden/.pyenv/versions/3.10.13/envs/venv3.1/lib/python3.10/site-packages/fiftyone/utils/yolo.py:993: UserWarning: Ignoring detection with label 'Seafood' not in provided classes\n",
      "  warnings.warn(msg)\n",
      "/Users/jayden/.pyenv/versions/3.10.13/envs/venv3.1/lib/python3.10/site-packages/fiftyone/utils/yolo.py:993: UserWarning: Ignoring detection with label 'Canoe' not in provided classes\n",
      "  warnings.warn(msg)\n"
     ]
    },
    {
     "name": "stdout",
     "output_type": "stream",
     "text": [
      "  98% |██████████████|| 6885/7000 [17.5s elapsed, 312.9ms remaining, 367.2 samples/s] "
     ]
    },
    {
     "name": "stderr",
     "output_type": "stream",
     "text": [
      "/Users/jayden/.pyenv/versions/3.10.13/envs/venv3.1/lib/python3.10/site-packages/fiftyone/utils/yolo.py:993: UserWarning: Ignoring detection with label 'Hair dryer' not in provided classes\n",
      "  warnings.warn(msg)\n",
      "/Users/jayden/.pyenv/versions/3.10.13/envs/venv3.1/lib/python3.10/site-packages/fiftyone/utils/yolo.py:993: UserWarning: Ignoring detection with label 'Snowman' not in provided classes\n",
      "  warnings.warn(msg)\n"
     ]
    },
    {
     "name": "stdout",
     "output_type": "stream",
     "text": [
      " 100% |███████████████| 7000/7000 [18.0s elapsed, 0s remaining, 325.9 samples/s]      \n",
      "Downloading split 'validation' to './open-images-v7/validation' if necessary\n",
      "Downloading 'https://storage.googleapis.com/openimages/2018_04/validation/validation-images-with-rotation.csv' to './open-images-v7/validation/metadata/image_ids.csv'\n",
      "Downloading 'https://storage.googleapis.com/openimages/v5/class-descriptions-boxable.csv' to './open-images-v7/validation/metadata/classes.csv'\n",
      "Downloading 'https://storage.googleapis.com/openimages/2018_04/bbox_labels_600_hierarchy.json' to '/var/folders/02/cl_h566x7735tf5l3tqk_dd00000gn/T/tmpcuswvjmc/metadata/hierarchy.json'\n",
      "Downloading 'https://storage.googleapis.com/openimages/v5/validation-annotations-bbox.csv' to './open-images-v7/validation/labels/detections.csv'\n",
      "Downloading 2000 images\n",
      " 100% |█████████████████| 2000/2000 [4.0m elapsed, 0s remaining, 3.3 files/s]      \n",
      "Dataset info written to './open-images-v7/info.json'\n",
      "Deleting existing dataset 'open-images-v7-validation-2000'\n",
      "Loading 'open-images-v7' split 'validation'\n",
      " 100% |███████████████| 2000/2000 [18.5s elapsed, 0s remaining, 141.6 samples/s]      \n",
      "Dataset 'open-images-v7-validation-2000' created\n",
      "Directory './dataset' already exists; export will be merged with existing files\n",
      "   1% |/--------------|   23/2000 [127.3ms elapsed, 10.9s remaining, 180.6 samples/s] "
     ]
    },
    {
     "name": "stderr",
     "output_type": "stream",
     "text": [
      "/Users/jayden/.pyenv/versions/3.10.13/envs/venv3.1/lib/python3.10/site-packages/fiftyone/utils/yolo.py:993: UserWarning: Ignoring detection with label 'Human hair' not in provided classes\n",
      "  warnings.warn(msg)\n",
      "/Users/jayden/.pyenv/versions/3.10.13/envs/venv3.1/lib/python3.10/site-packages/fiftyone/utils/yolo.py:993: UserWarning: Ignoring detection with label 'Building' not in provided classes\n",
      "  warnings.warn(msg)\n",
      "/Users/jayden/.pyenv/versions/3.10.13/envs/venv3.1/lib/python3.10/site-packages/fiftyone/utils/yolo.py:993: UserWarning: Ignoring detection with label 'Girl' not in provided classes\n",
      "  warnings.warn(msg)\n",
      "/Users/jayden/.pyenv/versions/3.10.13/envs/venv3.1/lib/python3.10/site-packages/fiftyone/utils/yolo.py:993: UserWarning: Ignoring detection with label 'Clothing' not in provided classes\n",
      "  warnings.warn(msg)\n",
      "/Users/jayden/.pyenv/versions/3.10.13/envs/venv3.1/lib/python3.10/site-packages/fiftyone/utils/yolo.py:993: UserWarning: Ignoring detection with label 'Human body' not in provided classes\n",
      "  warnings.warn(msg)\n",
      "/Users/jayden/.pyenv/versions/3.10.13/envs/venv3.1/lib/python3.10/site-packages/fiftyone/utils/yolo.py:993: UserWarning: Ignoring detection with label 'Human head' not in provided classes\n",
      "  warnings.warn(msg)\n",
      "/Users/jayden/.pyenv/versions/3.10.13/envs/venv3.1/lib/python3.10/site-packages/fiftyone/utils/yolo.py:993: UserWarning: Ignoring detection with label 'Human hand' not in provided classes\n",
      "  warnings.warn(msg)\n",
      "/Users/jayden/.pyenv/versions/3.10.13/envs/venv3.1/lib/python3.10/site-packages/fiftyone/utils/yolo.py:993: UserWarning: Ignoring detection with label 'Human arm' not in provided classes\n",
      "  warnings.warn(msg)\n",
      "/Users/jayden/.pyenv/versions/3.10.13/envs/venv3.1/lib/python3.10/site-packages/fiftyone/utils/yolo.py:993: UserWarning: Ignoring detection with label 'Woman' not in provided classes\n",
      "  warnings.warn(msg)\n",
      "/Users/jayden/.pyenv/versions/3.10.13/envs/venv3.1/lib/python3.10/site-packages/fiftyone/utils/yolo.py:993: UserWarning: Ignoring detection with label 'Sports uniform' not in provided classes\n",
      "  warnings.warn(msg)\n",
      "/Users/jayden/.pyenv/versions/3.10.13/envs/venv3.1/lib/python3.10/site-packages/fiftyone/utils/yolo.py:993: UserWarning: Ignoring detection with label 'Human eye' not in provided classes\n",
      "  warnings.warn(msg)\n",
      "/Users/jayden/.pyenv/versions/3.10.13/envs/venv3.1/lib/python3.10/site-packages/fiftyone/utils/yolo.py:993: UserWarning: Ignoring detection with label 'Mammal' not in provided classes\n",
      "  warnings.warn(msg)\n",
      "/Users/jayden/.pyenv/versions/3.10.13/envs/venv3.1/lib/python3.10/site-packages/fiftyone/utils/yolo.py:993: UserWarning: Ignoring detection with label 'Footwear' not in provided classes\n",
      "  warnings.warn(msg)\n",
      "/Users/jayden/.pyenv/versions/3.10.13/envs/venv3.1/lib/python3.10/site-packages/fiftyone/utils/yolo.py:993: UserWarning: Ignoring detection with label 'Human mouth' not in provided classes\n",
      "  warnings.warn(msg)\n",
      "/Users/jayden/.pyenv/versions/3.10.13/envs/venv3.1/lib/python3.10/site-packages/fiftyone/utils/yolo.py:993: UserWarning: Ignoring detection with label 'Sports equipment' not in provided classes\n",
      "  warnings.warn(msg)\n",
      "/Users/jayden/.pyenv/versions/3.10.13/envs/venv3.1/lib/python3.10/site-packages/fiftyone/utils/yolo.py:993: UserWarning: Ignoring detection with label 'Man' not in provided classes\n",
      "  warnings.warn(msg)\n",
      "/Users/jayden/.pyenv/versions/3.10.13/envs/venv3.1/lib/python3.10/site-packages/fiftyone/utils/yolo.py:993: UserWarning: Ignoring detection with label 'Car' not in provided classes\n",
      "  warnings.warn(msg)\n",
      "/Users/jayden/.pyenv/versions/3.10.13/envs/venv3.1/lib/python3.10/site-packages/fiftyone/utils/yolo.py:993: UserWarning: Ignoring detection with label 'Human nose' not in provided classes\n",
      "  warnings.warn(msg)\n",
      "/Users/jayden/.pyenv/versions/3.10.13/envs/venv3.1/lib/python3.10/site-packages/fiftyone/utils/yolo.py:993: UserWarning: Ignoring detection with label 'Tire' not in provided classes\n",
      "  warnings.warn(msg)\n",
      "/Users/jayden/.pyenv/versions/3.10.13/envs/venv3.1/lib/python3.10/site-packages/fiftyone/utils/yolo.py:993: UserWarning: Ignoring detection with label 'Human ear' not in provided classes\n",
      "  warnings.warn(msg)\n",
      "/Users/jayden/.pyenv/versions/3.10.13/envs/venv3.1/lib/python3.10/site-packages/fiftyone/utils/yolo.py:993: UserWarning: Ignoring detection with label 'Wheel' not in provided classes\n",
      "  warnings.warn(msg)\n",
      "/Users/jayden/.pyenv/versions/3.10.13/envs/venv3.1/lib/python3.10/site-packages/fiftyone/utils/yolo.py:993: UserWarning: Ignoring detection with label 'Fashion accessory' not in provided classes\n",
      "  warnings.warn(msg)\n",
      "/Users/jayden/.pyenv/versions/3.10.13/envs/venv3.1/lib/python3.10/site-packages/fiftyone/utils/yolo.py:993: UserWarning: Ignoring detection with label 'Swimming pool' not in provided classes\n",
      "  warnings.warn(msg)\n",
      "/Users/jayden/.pyenv/versions/3.10.13/envs/venv3.1/lib/python3.10/site-packages/fiftyone/utils/yolo.py:993: UserWarning: Ignoring detection with label 'Vehicle' not in provided classes\n",
      "  warnings.warn(msg)\n",
      "/Users/jayden/.pyenv/versions/3.10.13/envs/venv3.1/lib/python3.10/site-packages/fiftyone/utils/yolo.py:993: UserWarning: Ignoring detection with label 'Toy' not in provided classes\n",
      "  warnings.warn(msg)\n",
      "/Users/jayden/.pyenv/versions/3.10.13/envs/venv3.1/lib/python3.10/site-packages/fiftyone/utils/yolo.py:993: UserWarning: Ignoring detection with label 'Dress' not in provided classes\n",
      "  warnings.warn(msg)\n",
      "/Users/jayden/.pyenv/versions/3.10.13/envs/venv3.1/lib/python3.10/site-packages/fiftyone/utils/yolo.py:993: UserWarning: Ignoring detection with label 'Glasses' not in provided classes\n",
      "  warnings.warn(msg)\n",
      "/Users/jayden/.pyenv/versions/3.10.13/envs/venv3.1/lib/python3.10/site-packages/fiftyone/utils/yolo.py:993: UserWarning: Ignoring detection with label 'Sunglasses' not in provided classes\n",
      "  warnings.warn(msg)\n",
      "/Users/jayden/.pyenv/versions/3.10.13/envs/venv3.1/lib/python3.10/site-packages/fiftyone/utils/yolo.py:993: UserWarning: Ignoring detection with label 'Goggles' not in provided classes\n",
      "  warnings.warn(msg)\n",
      "/Users/jayden/.pyenv/versions/3.10.13/envs/venv3.1/lib/python3.10/site-packages/fiftyone/utils/yolo.py:993: UserWarning: Ignoring detection with label 'Poster' not in provided classes\n",
      "  warnings.warn(msg)\n",
      "/Users/jayden/.pyenv/versions/3.10.13/envs/venv3.1/lib/python3.10/site-packages/fiftyone/utils/yolo.py:993: UserWarning: Ignoring detection with label 'Helmet' not in provided classes\n",
      "  warnings.warn(msg)\n",
      "/Users/jayden/.pyenv/versions/3.10.13/envs/venv3.1/lib/python3.10/site-packages/fiftyone/utils/yolo.py:993: UserWarning: Ignoring detection with label 'Hiking equipment' not in provided classes\n",
      "  warnings.warn(msg)\n",
      "/Users/jayden/.pyenv/versions/3.10.13/envs/venv3.1/lib/python3.10/site-packages/fiftyone/utils/yolo.py:993: UserWarning: Ignoring detection with label 'Tree' not in provided classes\n",
      "  warnings.warn(msg)\n",
      "/Users/jayden/.pyenv/versions/3.10.13/envs/venv3.1/lib/python3.10/site-packages/fiftyone/utils/yolo.py:993: UserWarning: Ignoring detection with label 'Land vehicle' not in provided classes\n",
      "  warnings.warn(msg)\n",
      "/Users/jayden/.pyenv/versions/3.10.13/envs/venv3.1/lib/python3.10/site-packages/fiftyone/utils/yolo.py:993: UserWarning: Ignoring detection with label 'Dog' not in provided classes\n",
      "  warnings.warn(msg)\n",
      "/Users/jayden/.pyenv/versions/3.10.13/envs/venv3.1/lib/python3.10/site-packages/fiftyone/utils/yolo.py:993: UserWarning: Ignoring detection with label 'Human leg' not in provided classes\n",
      "  warnings.warn(msg)\n",
      "/Users/jayden/.pyenv/versions/3.10.13/envs/venv3.1/lib/python3.10/site-packages/fiftyone/utils/yolo.py:993: UserWarning: Ignoring detection with label 'Trousers' not in provided classes\n",
      "  warnings.warn(msg)\n",
      "/Users/jayden/.pyenv/versions/3.10.13/envs/venv3.1/lib/python3.10/site-packages/fiftyone/utils/yolo.py:993: UserWarning: Ignoring detection with label 'Suit' not in provided classes\n",
      "  warnings.warn(msg)\n",
      "/Users/jayden/.pyenv/versions/3.10.13/envs/venv3.1/lib/python3.10/site-packages/fiftyone/utils/yolo.py:993: UserWarning: Ignoring detection with label 'Furniture' not in provided classes\n",
      "  warnings.warn(msg)\n",
      "/Users/jayden/.pyenv/versions/3.10.13/envs/venv3.1/lib/python3.10/site-packages/fiftyone/utils/yolo.py:993: UserWarning: Ignoring detection with label 'Flag' not in provided classes\n",
      "  warnings.warn(msg)\n",
      "/Users/jayden/.pyenv/versions/3.10.13/envs/venv3.1/lib/python3.10/site-packages/fiftyone/utils/yolo.py:993: UserWarning: Ignoring detection with label 'Plant' not in provided classes\n",
      "  warnings.warn(msg)\n",
      "/Users/jayden/.pyenv/versions/3.10.13/envs/venv3.1/lib/python3.10/site-packages/fiftyone/utils/yolo.py:993: UserWarning: Ignoring detection with label 'Sculpture' not in provided classes\n",
      "  warnings.warn(msg)\n",
      "/Users/jayden/.pyenv/versions/3.10.13/envs/venv3.1/lib/python3.10/site-packages/fiftyone/utils/yolo.py:993: UserWarning: Ignoring detection with label 'Drink' not in provided classes\n",
      "  warnings.warn(msg)\n",
      "/Users/jayden/.pyenv/versions/3.10.13/envs/venv3.1/lib/python3.10/site-packages/fiftyone/utils/yolo.py:993: UserWarning: Ignoring detection with label 'Tableware' not in provided classes\n",
      "  warnings.warn(msg)\n",
      "/Users/jayden/.pyenv/versions/3.10.13/envs/venv3.1/lib/python3.10/site-packages/fiftyone/utils/yolo.py:993: UserWarning: Ignoring detection with label 'Accordion' not in provided classes\n",
      "  warnings.warn(msg)\n",
      "/Users/jayden/.pyenv/versions/3.10.13/envs/venv3.1/lib/python3.10/site-packages/fiftyone/utils/yolo.py:993: UserWarning: Ignoring detection with label 'Common sunflower' not in provided classes\n",
      "  warnings.warn(msg)\n",
      "/Users/jayden/.pyenv/versions/3.10.13/envs/venv3.1/lib/python3.10/site-packages/fiftyone/utils/yolo.py:993: UserWarning: Ignoring detection with label 'Flower' not in provided classes\n",
      "  warnings.warn(msg)\n",
      "/Users/jayden/.pyenv/versions/3.10.13/envs/venv3.1/lib/python3.10/site-packages/fiftyone/utils/yolo.py:993: UserWarning: Ignoring detection with label 'Motorcycle' not in provided classes\n",
      "  warnings.warn(msg)\n",
      "/Users/jayden/.pyenv/versions/3.10.13/envs/venv3.1/lib/python3.10/site-packages/fiftyone/utils/yolo.py:993: UserWarning: Ignoring detection with label 'Football helmet' not in provided classes\n",
      "  warnings.warn(msg)\n",
      "/Users/jayden/.pyenv/versions/3.10.13/envs/venv3.1/lib/python3.10/site-packages/fiftyone/utils/yolo.py:993: UserWarning: Ignoring detection with label 'Boy' not in provided classes\n",
      "  warnings.warn(msg)\n"
     ]
    },
    {
     "name": "stdout",
     "output_type": "stream",
     "text": [
      "   3% |\\--------------|   64/2000 [338.4ms elapsed, 10.2s remaining, 189.1 samples/s] "
     ]
    },
    {
     "name": "stderr",
     "output_type": "stream",
     "text": [
      "/Users/jayden/.pyenv/versions/3.10.13/envs/venv3.1/lib/python3.10/site-packages/fiftyone/utils/yolo.py:993: UserWarning: Ignoring detection with label 'Human foot' not in provided classes\n",
      "  warnings.warn(msg)\n",
      "/Users/jayden/.pyenv/versions/3.10.13/envs/venv3.1/lib/python3.10/site-packages/fiftyone/utils/yolo.py:993: UserWarning: Ignoring detection with label 'Vehicle registration plate' not in provided classes\n",
      "  warnings.warn(msg)\n",
      "/Users/jayden/.pyenv/versions/3.10.13/envs/venv3.1/lib/python3.10/site-packages/fiftyone/utils/yolo.py:993: UserWarning: Ignoring detection with label 'Bottle' not in provided classes\n",
      "  warnings.warn(msg)\n",
      "/Users/jayden/.pyenv/versions/3.10.13/envs/venv3.1/lib/python3.10/site-packages/fiftyone/utils/yolo.py:993: UserWarning: Ignoring detection with label 'Table' not in provided classes\n",
      "  warnings.warn(msg)\n",
      "/Users/jayden/.pyenv/versions/3.10.13/envs/venv3.1/lib/python3.10/site-packages/fiftyone/utils/yolo.py:993: UserWarning: Ignoring detection with label 'Desk' not in provided classes\n",
      "  warnings.warn(msg)\n",
      "/Users/jayden/.pyenv/versions/3.10.13/envs/venv3.1/lib/python3.10/site-packages/fiftyone/utils/yolo.py:993: UserWarning: Ignoring detection with label 'Human beard' not in provided classes\n",
      "  warnings.warn(msg)\n",
      "/Users/jayden/.pyenv/versions/3.10.13/envs/venv3.1/lib/python3.10/site-packages/fiftyone/utils/yolo.py:993: UserWarning: Ignoring detection with label 'Ball' not in provided classes\n",
      "  warnings.warn(msg)\n",
      "/Users/jayden/.pyenv/versions/3.10.13/envs/venv3.1/lib/python3.10/site-packages/fiftyone/utils/yolo.py:993: UserWarning: Ignoring detection with label 'Bronze sculpture' not in provided classes\n",
      "  warnings.warn(msg)\n",
      "/Users/jayden/.pyenv/versions/3.10.13/envs/venv3.1/lib/python3.10/site-packages/fiftyone/utils/yolo.py:993: UserWarning: Ignoring detection with label 'Bust' not in provided classes\n",
      "  warnings.warn(msg)\n",
      "/Users/jayden/.pyenv/versions/3.10.13/envs/venv3.1/lib/python3.10/site-packages/fiftyone/utils/yolo.py:993: UserWarning: Ignoring detection with label 'Wheelchair' not in provided classes\n",
      "  warnings.warn(msg)\n",
      "/Users/jayden/.pyenv/versions/3.10.13/envs/venv3.1/lib/python3.10/site-packages/fiftyone/utils/yolo.py:993: UserWarning: Ignoring detection with label 'Horse' not in provided classes\n",
      "  warnings.warn(msg)\n",
      "/Users/jayden/.pyenv/versions/3.10.13/envs/venv3.1/lib/python3.10/site-packages/fiftyone/utils/yolo.py:993: UserWarning: Ignoring detection with label 'Shorts' not in provided classes\n",
      "  warnings.warn(msg)\n",
      "/Users/jayden/.pyenv/versions/3.10.13/envs/venv3.1/lib/python3.10/site-packages/fiftyone/utils/yolo.py:993: UserWarning: Ignoring detection with label 'Snack' not in provided classes\n",
      "  warnings.warn(msg)\n",
      "/Users/jayden/.pyenv/versions/3.10.13/envs/venv3.1/lib/python3.10/site-packages/fiftyone/utils/yolo.py:993: UserWarning: Ignoring detection with label 'Fast food' not in provided classes\n",
      "  warnings.warn(msg)\n"
     ]
    },
    {
     "name": "stdout",
     "output_type": "stream",
     "text": [
      "   5% |/--------------|   99/2000 [567.9ms elapsed, 10.9s remaining, 174.3 samples/s] "
     ]
    },
    {
     "name": "stderr",
     "output_type": "stream",
     "text": [
      "/Users/jayden/.pyenv/versions/3.10.13/envs/venv3.1/lib/python3.10/site-packages/fiftyone/utils/yolo.py:993: UserWarning: Ignoring detection with label 'Window' not in provided classes\n",
      "  warnings.warn(msg)\n",
      "/Users/jayden/.pyenv/versions/3.10.13/envs/venv3.1/lib/python3.10/site-packages/fiftyone/utils/yolo.py:993: UserWarning: Ignoring detection with label 'Medical equipment' not in provided classes\n",
      "  warnings.warn(msg)\n",
      "/Users/jayden/.pyenv/versions/3.10.13/envs/venv3.1/lib/python3.10/site-packages/fiftyone/utils/yolo.py:993: UserWarning: Ignoring detection with label 'Pumpkin' not in provided classes\n",
      "  warnings.warn(msg)\n",
      "/Users/jayden/.pyenv/versions/3.10.13/envs/venv3.1/lib/python3.10/site-packages/fiftyone/utils/yolo.py:993: UserWarning: Ignoring detection with label 'Tiara' not in provided classes\n",
      "  warnings.warn(msg)\n",
      "/Users/jayden/.pyenv/versions/3.10.13/envs/venv3.1/lib/python3.10/site-packages/fiftyone/utils/yolo.py:993: UserWarning: Ignoring detection with label 'Crown' not in provided classes\n",
      "  warnings.warn(msg)\n",
      "/Users/jayden/.pyenv/versions/3.10.13/envs/venv3.1/lib/python3.10/site-packages/fiftyone/utils/yolo.py:993: UserWarning: Ignoring detection with label 'Doll' not in provided classes\n",
      "  warnings.warn(msg)\n",
      "/Users/jayden/.pyenv/versions/3.10.13/envs/venv3.1/lib/python3.10/site-packages/fiftyone/utils/yolo.py:993: UserWarning: Ignoring detection with label 'Weapon' not in provided classes\n",
      "  warnings.warn(msg)\n",
      "/Users/jayden/.pyenv/versions/3.10.13/envs/venv3.1/lib/python3.10/site-packages/fiftyone/utils/yolo.py:993: UserWarning: Ignoring detection with label 'Tennis racket' not in provided classes\n",
      "  warnings.warn(msg)\n",
      "/Users/jayden/.pyenv/versions/3.10.13/envs/venv3.1/lib/python3.10/site-packages/fiftyone/utils/yolo.py:993: UserWarning: Ignoring detection with label 'Hat' not in provided classes\n",
      "  warnings.warn(msg)\n",
      "/Users/jayden/.pyenv/versions/3.10.13/envs/venv3.1/lib/python3.10/site-packages/fiftyone/utils/yolo.py:993: UserWarning: Ignoring detection with label 'Saxophone' not in provided classes\n",
      "  warnings.warn(msg)\n",
      "/Users/jayden/.pyenv/versions/3.10.13/envs/venv3.1/lib/python3.10/site-packages/fiftyone/utils/yolo.py:993: UserWarning: Ignoring detection with label 'Trumpet' not in provided classes\n",
      "  warnings.warn(msg)\n"
     ]
    },
    {
     "name": "stdout",
     "output_type": "stream",
     "text": [
      "   7% ||--------------|  133/2000 [1.0s elapsed, 14.4s remaining, 129.4 samples/s]    "
     ]
    },
    {
     "name": "stderr",
     "output_type": "stream",
     "text": [
      "/Users/jayden/.pyenv/versions/3.10.13/envs/venv3.1/lib/python3.10/site-packages/fiftyone/utils/yolo.py:993: UserWarning: Ignoring detection with label 'Headphones' not in provided classes\n",
      "  warnings.warn(msg)\n",
      "/Users/jayden/.pyenv/versions/3.10.13/envs/venv3.1/lib/python3.10/site-packages/fiftyone/utils/yolo.py:993: UserWarning: Ignoring detection with label 'Paddle' not in provided classes\n",
      "  warnings.warn(msg)\n",
      "/Users/jayden/.pyenv/versions/3.10.13/envs/venv3.1/lib/python3.10/site-packages/fiftyone/utils/yolo.py:993: UserWarning: Ignoring detection with label 'Bicycle' not in provided classes\n",
      "  warnings.warn(msg)\n",
      "/Users/jayden/.pyenv/versions/3.10.13/envs/venv3.1/lib/python3.10/site-packages/fiftyone/utils/yolo.py:993: UserWarning: Ignoring detection with label 'Bicycle wheel' not in provided classes\n",
      "  warnings.warn(msg)\n",
      "/Users/jayden/.pyenv/versions/3.10.13/envs/venv3.1/lib/python3.10/site-packages/fiftyone/utils/yolo.py:993: UserWarning: Ignoring detection with label 'Food' not in provided classes\n",
      "  warnings.warn(msg)\n",
      "/Users/jayden/.pyenv/versions/3.10.13/envs/venv3.1/lib/python3.10/site-packages/fiftyone/utils/yolo.py:993: UserWarning: Ignoring detection with label 'Seafood' not in provided classes\n",
      "  warnings.warn(msg)\n",
      "/Users/jayden/.pyenv/versions/3.10.13/envs/venv3.1/lib/python3.10/site-packages/fiftyone/utils/yolo.py:993: UserWarning: Ignoring detection with label 'Fish' not in provided classes\n",
      "  warnings.warn(msg)\n",
      "/Users/jayden/.pyenv/versions/3.10.13/envs/venv3.1/lib/python3.10/site-packages/fiftyone/utils/yolo.py:993: UserWarning: Ignoring detection with label 'Bicycle helmet' not in provided classes\n",
      "  warnings.warn(msg)\n",
      "/Users/jayden/.pyenv/versions/3.10.13/envs/venv3.1/lib/python3.10/site-packages/fiftyone/utils/yolo.py:993: UserWarning: Ignoring detection with label 'Ski' not in provided classes\n",
      "  warnings.warn(msg)\n",
      "/Users/jayden/.pyenv/versions/3.10.13/envs/venv3.1/lib/python3.10/site-packages/fiftyone/utils/yolo.py:993: UserWarning: Ignoring detection with label 'Teddy bear' not in provided classes\n",
      "  warnings.warn(msg)\n"
     ]
    },
    {
     "name": "stdout",
     "output_type": "stream",
     "text": [
      "   9% |█--------------|  175/2000 [1.2s elapsed, 13.0s remaining, 136.7 samples/s]    "
     ]
    },
    {
     "name": "stderr",
     "output_type": "stream",
     "text": [
      "/Users/jayden/.pyenv/versions/3.10.13/envs/venv3.1/lib/python3.10/site-packages/fiftyone/utils/yolo.py:993: UserWarning: Ignoring detection with label 'Jeans' not in provided classes\n",
      "  warnings.warn(msg)\n",
      "/Users/jayden/.pyenv/versions/3.10.13/envs/venv3.1/lib/python3.10/site-packages/fiftyone/utils/yolo.py:993: UserWarning: Ignoring detection with label 'Jacket' not in provided classes\n",
      "  warnings.warn(msg)\n",
      "/Users/jayden/.pyenv/versions/3.10.13/envs/venv3.1/lib/python3.10/site-packages/fiftyone/utils/yolo.py:993: UserWarning: Ignoring detection with label 'Volleyball (Ball)' not in provided classes\n",
      "  warnings.warn(msg)\n",
      "/Users/jayden/.pyenv/versions/3.10.13/envs/venv3.1/lib/python3.10/site-packages/fiftyone/utils/yolo.py:993: UserWarning: Ignoring detection with label 'Coffee cup' not in provided classes\n",
      "  warnings.warn(msg)\n",
      "/Users/jayden/.pyenv/versions/3.10.13/envs/venv3.1/lib/python3.10/site-packages/fiftyone/utils/yolo.py:993: UserWarning: Ignoring detection with label 'Pillow' not in provided classes\n",
      "  warnings.warn(msg)\n",
      "/Users/jayden/.pyenv/versions/3.10.13/envs/venv3.1/lib/python3.10/site-packages/fiftyone/utils/yolo.py:993: UserWarning: Ignoring detection with label 'Bed' not in provided classes\n",
      "  warnings.warn(msg)\n",
      "/Users/jayden/.pyenv/versions/3.10.13/envs/venv3.1/lib/python3.10/site-packages/fiftyone/utils/yolo.py:993: UserWarning: Ignoring detection with label 'Coin' not in provided classes\n",
      "  warnings.warn(msg)\n",
      "/Users/jayden/.pyenv/versions/3.10.13/envs/venv3.1/lib/python3.10/site-packages/fiftyone/utils/yolo.py:993: UserWarning: Ignoring detection with label 'Golf ball' not in provided classes\n",
      "  warnings.warn(msg)\n",
      "/Users/jayden/.pyenv/versions/3.10.13/envs/venv3.1/lib/python3.10/site-packages/fiftyone/utils/yolo.py:993: UserWarning: Ignoring detection with label 'Table tennis racket' not in provided classes\n",
      "  warnings.warn(msg)\n",
      "/Users/jayden/.pyenv/versions/3.10.13/envs/venv3.1/lib/python3.10/site-packages/fiftyone/utils/yolo.py:993: UserWarning: Ignoring detection with label 'Marine mammal' not in provided classes\n",
      "  warnings.warn(msg)\n",
      "/Users/jayden/.pyenv/versions/3.10.13/envs/venv3.1/lib/python3.10/site-packages/fiftyone/utils/yolo.py:993: UserWarning: Ignoring detection with label 'Shark' not in provided classes\n",
      "  warnings.warn(msg)\n",
      "/Users/jayden/.pyenv/versions/3.10.13/envs/venv3.1/lib/python3.10/site-packages/fiftyone/utils/yolo.py:993: UserWarning: Ignoring detection with label 'Fruit' not in provided classes\n",
      "  warnings.warn(msg)\n",
      "/Users/jayden/.pyenv/versions/3.10.13/envs/venv3.1/lib/python3.10/site-packages/fiftyone/utils/yolo.py:993: UserWarning: Ignoring detection with label 'Pizza' not in provided classes\n",
      "  warnings.warn(msg)\n",
      "/Users/jayden/.pyenv/versions/3.10.13/envs/venv3.1/lib/python3.10/site-packages/fiftyone/utils/yolo.py:993: UserWarning: Ignoring detection with label 'Boat' not in provided classes\n",
      "  warnings.warn(msg)\n",
      "/Users/jayden/.pyenv/versions/3.10.13/envs/venv3.1/lib/python3.10/site-packages/fiftyone/utils/yolo.py:993: UserWarning: Ignoring detection with label 'Personal flotation device' not in provided classes\n",
      "  warnings.warn(msg)\n",
      "/Users/jayden/.pyenv/versions/3.10.13/envs/venv3.1/lib/python3.10/site-packages/fiftyone/utils/yolo.py:993: UserWarning: Ignoring detection with label 'Canoe' not in provided classes\n",
      "  warnings.warn(msg)\n",
      "/Users/jayden/.pyenv/versions/3.10.13/envs/venv3.1/lib/python3.10/site-packages/fiftyone/utils/yolo.py:993: UserWarning: Ignoring detection with label 'Microphone' not in provided classes\n",
      "  warnings.warn(msg)\n",
      "/Users/jayden/.pyenv/versions/3.10.13/envs/venv3.1/lib/python3.10/site-packages/fiftyone/utils/yolo.py:993: UserWarning: Ignoring detection with label 'Cart' not in provided classes\n",
      "  warnings.warn(msg)\n"
     ]
    },
    {
     "name": "stdout",
     "output_type": "stream",
     "text": [
      "  11% |█|-------------|  212/2000 [1.4s elapsed, 12.3s remaining, 133.9 samples/s]    "
     ]
    },
    {
     "name": "stderr",
     "output_type": "stream",
     "text": [
      "/Users/jayden/.pyenv/versions/3.10.13/envs/venv3.1/lib/python3.10/site-packages/fiftyone/utils/yolo.py:993: UserWarning: Ignoring detection with label 'Tool' not in provided classes\n",
      "  warnings.warn(msg)\n",
      "/Users/jayden/.pyenv/versions/3.10.13/envs/venv3.1/lib/python3.10/site-packages/fiftyone/utils/yolo.py:993: UserWarning: Ignoring detection with label 'Sun hat' not in provided classes\n",
      "  warnings.warn(msg)\n",
      "/Users/jayden/.pyenv/versions/3.10.13/envs/venv3.1/lib/python3.10/site-packages/fiftyone/utils/yolo.py:993: UserWarning: Ignoring detection with label 'Fedora' not in provided classes\n",
      "  warnings.warn(msg)\n",
      "/Users/jayden/.pyenv/versions/3.10.13/envs/venv3.1/lib/python3.10/site-packages/fiftyone/utils/yolo.py:993: UserWarning: Ignoring detection with label 'Curtain' not in provided classes\n",
      "  warnings.warn(msg)\n",
      "/Users/jayden/.pyenv/versions/3.10.13/envs/venv3.1/lib/python3.10/site-packages/fiftyone/utils/yolo.py:993: UserWarning: Ignoring detection with label 'Street light' not in provided classes\n",
      "  warnings.warn(msg)\n",
      "/Users/jayden/.pyenv/versions/3.10.13/envs/venv3.1/lib/python3.10/site-packages/fiftyone/utils/yolo.py:993: UserWarning: Ignoring detection with label 'Mirror' not in provided classes\n",
      "  warnings.warn(msg)\n",
      "/Users/jayden/.pyenv/versions/3.10.13/envs/venv3.1/lib/python3.10/site-packages/fiftyone/utils/yolo.py:993: UserWarning: Ignoring detection with label 'Book' not in provided classes\n",
      "  warnings.warn(msg)\n"
     ]
    },
    {
     "name": "stdout",
     "output_type": "stream",
     "text": [
      "  13% |█--------------|  258/2000 [1.6s elapsed, 11.2s remaining, 147.4 samples/s]    "
     ]
    },
    {
     "name": "stderr",
     "output_type": "stream",
     "text": [
      "/Users/jayden/.pyenv/versions/3.10.13/envs/venv3.1/lib/python3.10/site-packages/fiftyone/utils/yolo.py:993: UserWarning: Ignoring detection with label 'Bathtub' not in provided classes\n",
      "  warnings.warn(msg)\n",
      "/Users/jayden/.pyenv/versions/3.10.13/envs/venv3.1/lib/python3.10/site-packages/fiftyone/utils/yolo.py:993: UserWarning: Ignoring detection with label 'Scarf' not in provided classes\n",
      "  warnings.warn(msg)\n",
      "/Users/jayden/.pyenv/versions/3.10.13/envs/venv3.1/lib/python3.10/site-packages/fiftyone/utils/yolo.py:993: UserWarning: Ignoring detection with label 'Roller skates' not in provided classes\n",
      "  warnings.warn(msg)\n",
      "/Users/jayden/.pyenv/versions/3.10.13/envs/venv3.1/lib/python3.10/site-packages/fiftyone/utils/yolo.py:993: UserWarning: Ignoring detection with label 'Trombone' not in provided classes\n",
      "  warnings.warn(msg)\n",
      "/Users/jayden/.pyenv/versions/3.10.13/envs/venv3.1/lib/python3.10/site-packages/fiftyone/utils/yolo.py:993: UserWarning: Ignoring detection with label 'Musical instrument' not in provided classes\n",
      "  warnings.warn(msg)\n",
      "/Users/jayden/.pyenv/versions/3.10.13/envs/venv3.1/lib/python3.10/site-packages/fiftyone/utils/yolo.py:993: UserWarning: Ignoring detection with label 'Rifle' not in provided classes\n",
      "  warnings.warn(msg)\n",
      "/Users/jayden/.pyenv/versions/3.10.13/envs/venv3.1/lib/python3.10/site-packages/fiftyone/utils/yolo.py:993: UserWarning: Ignoring detection with label 'Shotgun' not in provided classes\n",
      "  warnings.warn(msg)\n",
      "/Users/jayden/.pyenv/versions/3.10.13/envs/venv3.1/lib/python3.10/site-packages/fiftyone/utils/yolo.py:993: UserWarning: Ignoring detection with label 'Cowboy hat' not in provided classes\n",
      "  warnings.warn(msg)\n",
      "/Users/jayden/.pyenv/versions/3.10.13/envs/venv3.1/lib/python3.10/site-packages/fiftyone/utils/yolo.py:993: UserWarning: Ignoring detection with label 'Cake' not in provided classes\n",
      "  warnings.warn(msg)\n",
      "/Users/jayden/.pyenv/versions/3.10.13/envs/venv3.1/lib/python3.10/site-packages/fiftyone/utils/yolo.py:993: UserWarning: Ignoring detection with label 'Baked goods' not in provided classes\n",
      "  warnings.warn(msg)\n",
      "/Users/jayden/.pyenv/versions/3.10.13/envs/venv3.1/lib/python3.10/site-packages/fiftyone/utils/yolo.py:993: UserWarning: Ignoring detection with label 'Glove' not in provided classes\n",
      "  warnings.warn(msg)\n",
      "/Users/jayden/.pyenv/versions/3.10.13/envs/venv3.1/lib/python3.10/site-packages/fiftyone/utils/yolo.py:993: UserWarning: Ignoring detection with label 'Office building' not in provided classes\n",
      "  warnings.warn(msg)\n",
      "/Users/jayden/.pyenv/versions/3.10.13/envs/venv3.1/lib/python3.10/site-packages/fiftyone/utils/yolo.py:993: UserWarning: Ignoring detection with label 'Snowman' not in provided classes\n",
      "  warnings.warn(msg)\n",
      "/Users/jayden/.pyenv/versions/3.10.13/envs/venv3.1/lib/python3.10/site-packages/fiftyone/utils/yolo.py:993: UserWarning: Ignoring detection with label 'Guitar' not in provided classes\n",
      "  warnings.warn(msg)\n",
      "/Users/jayden/.pyenv/versions/3.10.13/envs/venv3.1/lib/python3.10/site-packages/fiftyone/utils/yolo.py:993: UserWarning: Ignoring detection with label 'Chair' not in provided classes\n",
      "  warnings.warn(msg)\n",
      "/Users/jayden/.pyenv/versions/3.10.13/envs/venv3.1/lib/python3.10/site-packages/fiftyone/utils/yolo.py:993: UserWarning: Ignoring detection with label 'Cello' not in provided classes\n",
      "  warnings.warn(msg)\n",
      "/Users/jayden/.pyenv/versions/3.10.13/envs/venv3.1/lib/python3.10/site-packages/fiftyone/utils/yolo.py:993: UserWarning: Ignoring detection with label 'Violin' not in provided classes\n",
      "  warnings.warn(msg)\n"
     ]
    },
    {
     "name": "stdout",
     "output_type": "stream",
     "text": [
      "                                                                                      \r"
     ]
    },
    {
     "name": "stderr",
     "output_type": "stream",
     "text": [
      "/Users/jayden/.pyenv/versions/3.10.13/envs/venv3.1/lib/python3.10/site-packages/fiftyone/utils/yolo.py:993: UserWarning: Ignoring detection with label 'Racket' not in provided classes\n",
      "  warnings.warn(msg)\n",
      "/Users/jayden/.pyenv/versions/3.10.13/envs/venv3.1/lib/python3.10/site-packages/fiftyone/utils/yolo.py:993: UserWarning: Ignoring detection with label 'Baseball glove' not in provided classes\n",
      "  warnings.warn(msg)\n",
      "/Users/jayden/.pyenv/versions/3.10.13/envs/venv3.1/lib/python3.10/site-packages/fiftyone/utils/yolo.py:993: UserWarning: Ignoring detection with label 'Computer monitor' not in provided classes\n",
      "  warnings.warn(msg)\n",
      "/Users/jayden/.pyenv/versions/3.10.13/envs/venv3.1/lib/python3.10/site-packages/fiftyone/utils/yolo.py:993: UserWarning: Ignoring detection with label 'Computer keyboard' not in provided classes\n",
      "  warnings.warn(msg)\n",
      "/Users/jayden/.pyenv/versions/3.10.13/envs/venv3.1/lib/python3.10/site-packages/fiftyone/utils/yolo.py:993: UserWarning: Ignoring detection with label 'Laptop' not in provided classes\n",
      "  warnings.warn(msg)\n",
      "/Users/jayden/.pyenv/versions/3.10.13/envs/venv3.1/lib/python3.10/site-packages/fiftyone/utils/yolo.py:993: UserWarning: Ignoring detection with label 'Organ (Musical Instrument)' not in provided classes\n",
      "  warnings.warn(msg)\n",
      "/Users/jayden/.pyenv/versions/3.10.13/envs/venv3.1/lib/python3.10/site-packages/fiftyone/utils/yolo.py:993: UserWarning: Ignoring detection with label 'Billboard' not in provided classes\n",
      "  warnings.warn(msg)\n",
      "/Users/jayden/.pyenv/versions/3.10.13/envs/venv3.1/lib/python3.10/site-packages/fiftyone/utils/yolo.py:993: UserWarning: Ignoring detection with label 'Van' not in provided classes\n",
      "  warnings.warn(msg)\n",
      "/Users/jayden/.pyenv/versions/3.10.13/envs/venv3.1/lib/python3.10/site-packages/fiftyone/utils/yolo.py:993: UserWarning: Ignoring detection with label 'Dairy Product' not in provided classes\n",
      "  warnings.warn(msg)\n",
      "/Users/jayden/.pyenv/versions/3.10.13/envs/venv3.1/lib/python3.10/site-packages/fiftyone/utils/yolo.py:993: UserWarning: Ignoring detection with label 'Ice cream' not in provided classes\n",
      "  warnings.warn(msg)\n",
      "/Users/jayden/.pyenv/versions/3.10.13/envs/venv3.1/lib/python3.10/site-packages/fiftyone/utils/yolo.py:993: UserWarning: Ignoring detection with label 'Skateboard' not in provided classes\n",
      "  warnings.warn(msg)\n",
      "/Users/jayden/.pyenv/versions/3.10.13/envs/venv3.1/lib/python3.10/site-packages/fiftyone/utils/yolo.py:993: UserWarning: Ignoring detection with label 'Beer' not in provided classes\n",
      "  warnings.warn(msg)\n",
      "/Users/jayden/.pyenv/versions/3.10.13/envs/venv3.1/lib/python3.10/site-packages/fiftyone/utils/yolo.py:993: UserWarning: Ignoring detection with label 'Wine' not in provided classes\n",
      "  warnings.warn(msg)\n"
     ]
    },
    {
     "name": "stdout",
     "output_type": "stream",
     "text": [
      "  18% |██\\------------|  364/2000 [2.2s elapsed, 9.5s remaining, 201.9 samples/s]     "
     ]
    },
    {
     "name": "stderr",
     "output_type": "stream",
     "text": [
      "/Users/jayden/.pyenv/versions/3.10.13/envs/venv3.1/lib/python3.10/site-packages/fiftyone/utils/yolo.py:993: UserWarning: Ignoring detection with label 'Watercraft' not in provided classes\n",
      "  warnings.warn(msg)\n",
      "/Users/jayden/.pyenv/versions/3.10.13/envs/venv3.1/lib/python3.10/site-packages/fiftyone/utils/yolo.py:993: UserWarning: Ignoring detection with label 'Swimwear' not in provided classes\n",
      "  warnings.warn(msg)\n",
      "/Users/jayden/.pyenv/versions/3.10.13/envs/venv3.1/lib/python3.10/site-packages/fiftyone/utils/yolo.py:993: UserWarning: Ignoring detection with label 'Deer' not in provided classes\n",
      "  warnings.warn(msg)\n",
      "/Users/jayden/.pyenv/versions/3.10.13/envs/venv3.1/lib/python3.10/site-packages/fiftyone/utils/yolo.py:993: UserWarning: Ignoring detection with label 'French horn' not in provided classes\n",
      "  warnings.warn(msg)\n",
      "/Users/jayden/.pyenv/versions/3.10.13/envs/venv3.1/lib/python3.10/site-packages/fiftyone/utils/yolo.py:993: UserWarning: Ignoring detection with label 'Football' not in provided classes\n",
      "  warnings.warn(msg)\n",
      "/Users/jayden/.pyenv/versions/3.10.13/envs/venv3.1/lib/python3.10/site-packages/fiftyone/utils/yolo.py:993: UserWarning: Ignoring detection with label 'Chainsaw' not in provided classes\n",
      "  warnings.warn(msg)\n",
      "/Users/jayden/.pyenv/versions/3.10.13/envs/venv3.1/lib/python3.10/site-packages/fiftyone/utils/yolo.py:993: UserWarning: Ignoring detection with label 'Harpsichord' not in provided classes\n",
      "  warnings.warn(msg)\n",
      "/Users/jayden/.pyenv/versions/3.10.13/envs/venv3.1/lib/python3.10/site-packages/fiftyone/utils/yolo.py:993: UserWarning: Ignoring detection with label 'Piano' not in provided classes\n",
      "  warnings.warn(msg)\n",
      "/Users/jayden/.pyenv/versions/3.10.13/envs/venv3.1/lib/python3.10/site-packages/fiftyone/utils/yolo.py:993: UserWarning: Ignoring detection with label 'Snowboard' not in provided classes\n",
      "  warnings.warn(msg)\n"
     ]
    },
    {
     "name": "stdout",
     "output_type": "stream",
     "text": [
      "  20% |███/-----------|  410/2000 [2.4s elapsed, 8.9s remaining, 212.1 samples/s]     "
     ]
    },
    {
     "name": "stderr",
     "output_type": "stream",
     "text": [
      "/Users/jayden/.pyenv/versions/3.10.13/envs/venv3.1/lib/python3.10/site-packages/fiftyone/utils/yolo.py:993: UserWarning: Ignoring detection with label 'Picture frame' not in provided classes\n",
      "  warnings.warn(msg)\n",
      "/Users/jayden/.pyenv/versions/3.10.13/envs/venv3.1/lib/python3.10/site-packages/fiftyone/utils/yolo.py:993: UserWarning: Ignoring detection with label 'Carnivore' not in provided classes\n",
      "  warnings.warn(msg)\n",
      "/Users/jayden/.pyenv/versions/3.10.13/envs/venv3.1/lib/python3.10/site-packages/fiftyone/utils/yolo.py:993: UserWarning: Ignoring detection with label 'Cat' not in provided classes\n",
      "  warnings.warn(msg)\n",
      "/Users/jayden/.pyenv/versions/3.10.13/envs/venv3.1/lib/python3.10/site-packages/fiftyone/utils/yolo.py:993: UserWarning: Ignoring detection with label 'House' not in provided classes\n",
      "  warnings.warn(msg)\n",
      "/Users/jayden/.pyenv/versions/3.10.13/envs/venv3.1/lib/python3.10/site-packages/fiftyone/utils/yolo.py:993: UserWarning: Ignoring detection with label 'Animal' not in provided classes\n",
      "  warnings.warn(msg)\n",
      "/Users/jayden/.pyenv/versions/3.10.13/envs/venv3.1/lib/python3.10/site-packages/fiftyone/utils/yolo.py:993: UserWarning: Ignoring detection with label 'Door' not in provided classes\n",
      "  warnings.warn(msg)\n",
      "/Users/jayden/.pyenv/versions/3.10.13/envs/venv3.1/lib/python3.10/site-packages/fiftyone/utils/yolo.py:993: UserWarning: Ignoring detection with label 'Truck' not in provided classes\n",
      "  warnings.warn(msg)\n",
      "/Users/jayden/.pyenv/versions/3.10.13/envs/venv3.1/lib/python3.10/site-packages/fiftyone/utils/yolo.py:993: UserWarning: Ignoring detection with label 'Sink' not in provided classes\n",
      "  warnings.warn(msg)\n",
      "/Users/jayden/.pyenv/versions/3.10.13/envs/venv3.1/lib/python3.10/site-packages/fiftyone/utils/yolo.py:993: UserWarning: Ignoring detection with label 'Candy' not in provided classes\n",
      "  warnings.warn(msg)\n",
      "/Users/jayden/.pyenv/versions/3.10.13/envs/venv3.1/lib/python3.10/site-packages/fiftyone/utils/yolo.py:993: UserWarning: Ignoring detection with label 'Panda' not in provided classes\n",
      "  warnings.warn(msg)\n",
      "/Users/jayden/.pyenv/versions/3.10.13/envs/venv3.1/lib/python3.10/site-packages/fiftyone/utils/yolo.py:993: UserWarning: Ignoring detection with label 'Ipod' not in provided classes\n",
      "  warnings.warn(msg)\n",
      "/Users/jayden/.pyenv/versions/3.10.13/envs/venv3.1/lib/python3.10/site-packages/fiftyone/utils/yolo.py:993: UserWarning: Ignoring detection with label 'Mobile phone' not in provided classes\n",
      "  warnings.warn(msg)\n",
      "/Users/jayden/.pyenv/versions/3.10.13/envs/venv3.1/lib/python3.10/site-packages/fiftyone/utils/yolo.py:993: UserWarning: Ignoring detection with label 'Skirt' not in provided classes\n",
      "  warnings.warn(msg)\n"
     ]
    },
    {
     "name": "stdout",
     "output_type": "stream",
     "text": [
      "  23% |███\\-----------|  458/2000 [2.6s elapsed, 8.4s remaining, 212.3 samples/s]     "
     ]
    },
    {
     "name": "stderr",
     "output_type": "stream",
     "text": [
      "/Users/jayden/.pyenv/versions/3.10.13/envs/venv3.1/lib/python3.10/site-packages/fiftyone/utils/yolo.py:993: UserWarning: Ignoring detection with label 'Candle' not in provided classes\n",
      "  warnings.warn(msg)\n",
      "/Users/jayden/.pyenv/versions/3.10.13/envs/venv3.1/lib/python3.10/site-packages/fiftyone/utils/yolo.py:993: UserWarning: Ignoring detection with label 'Dessert' not in provided classes\n",
      "  warnings.warn(msg)\n",
      "/Users/jayden/.pyenv/versions/3.10.13/envs/venv3.1/lib/python3.10/site-packages/fiftyone/utils/yolo.py:993: UserWarning: Ignoring detection with label 'Earrings' not in provided classes\n",
      "  warnings.warn(msg)\n",
      "/Users/jayden/.pyenv/versions/3.10.13/envs/venv3.1/lib/python3.10/site-packages/fiftyone/utils/yolo.py:993: UserWarning: Ignoring detection with label 'Palm tree' not in provided classes\n",
      "  warnings.warn(msg)\n",
      "/Users/jayden/.pyenv/versions/3.10.13/envs/venv3.1/lib/python3.10/site-packages/fiftyone/utils/yolo.py:993: UserWarning: Ignoring detection with label 'Camel' not in provided classes\n",
      "  warnings.warn(msg)\n",
      "/Users/jayden/.pyenv/versions/3.10.13/envs/venv3.1/lib/python3.10/site-packages/fiftyone/utils/yolo.py:993: UserWarning: Ignoring detection with label 'Vase' not in provided classes\n",
      "  warnings.warn(msg)\n",
      "/Users/jayden/.pyenv/versions/3.10.13/envs/venv3.1/lib/python3.10/site-packages/fiftyone/utils/yolo.py:993: UserWarning: Ignoring detection with label 'Swim cap' not in provided classes\n",
      "  warnings.warn(msg)\n",
      "/Users/jayden/.pyenv/versions/3.10.13/envs/venv3.1/lib/python3.10/site-packages/fiftyone/utils/yolo.py:993: UserWarning: Ignoring detection with label 'Brassiere' not in provided classes\n",
      "  warnings.warn(msg)\n",
      "/Users/jayden/.pyenv/versions/3.10.13/envs/venv3.1/lib/python3.10/site-packages/fiftyone/utils/yolo.py:993: UserWarning: Ignoring detection with label 'Bookcase' not in provided classes\n",
      "  warnings.warn(msg)\n",
      "/Users/jayden/.pyenv/versions/3.10.13/envs/venv3.1/lib/python3.10/site-packages/fiftyone/utils/yolo.py:993: UserWarning: Ignoring detection with label 'Shelf' not in provided classes\n",
      "  warnings.warn(msg)\n"
     ]
    },
    {
     "name": "stdout",
     "output_type": "stream",
     "text": [
      "  26% |███------------|  528/2000 [2.9s elapsed, 7.7s remaining, 225.8 samples/s]     "
     ]
    },
    {
     "name": "stderr",
     "output_type": "stream",
     "text": [
      "/Users/jayden/.pyenv/versions/3.10.13/envs/venv3.1/lib/python3.10/site-packages/fiftyone/utils/yolo.py:993: UserWarning: Ignoring detection with label 'Train' not in provided classes\n",
      "  warnings.warn(msg)\n",
      "/Users/jayden/.pyenv/versions/3.10.13/envs/venv3.1/lib/python3.10/site-packages/fiftyone/utils/yolo.py:993: UserWarning: Ignoring detection with label 'Airplane' not in provided classes\n",
      "  warnings.warn(msg)\n",
      "/Users/jayden/.pyenv/versions/3.10.13/envs/venv3.1/lib/python3.10/site-packages/fiftyone/utils/yolo.py:993: UserWarning: Ignoring detection with label 'Wok' not in provided classes\n",
      "  warnings.warn(msg)\n",
      "/Users/jayden/.pyenv/versions/3.10.13/envs/venv3.1/lib/python3.10/site-packages/fiftyone/utils/yolo.py:993: UserWarning: Ignoring detection with label 'Cattle' not in provided classes\n",
      "  warnings.warn(msg)\n",
      "/Users/jayden/.pyenv/versions/3.10.13/envs/venv3.1/lib/python3.10/site-packages/fiftyone/utils/yolo.py:993: UserWarning: Ignoring detection with label 'Bull' not in provided classes\n",
      "  warnings.warn(msg)\n",
      "/Users/jayden/.pyenv/versions/3.10.13/envs/venv3.1/lib/python3.10/site-packages/fiftyone/utils/yolo.py:993: UserWarning: Ignoring detection with label 'Shirt' not in provided classes\n",
      "  warnings.warn(msg)\n"
     ]
    },
    {
     "name": "stdout",
     "output_type": "stream",
     "text": [
      "  28% |████|----------|  569/2000 [3.1s elapsed, 7.4s remaining, 221.7 samples/s]     "
     ]
    },
    {
     "name": "stderr",
     "output_type": "stream",
     "text": [
      "/Users/jayden/.pyenv/versions/3.10.13/envs/venv3.1/lib/python3.10/site-packages/fiftyone/utils/yolo.py:993: UserWarning: Ignoring detection with label 'Lipstick' not in provided classes\n",
      "  warnings.warn(msg)\n",
      "/Users/jayden/.pyenv/versions/3.10.13/envs/venv3.1/lib/python3.10/site-packages/fiftyone/utils/yolo.py:993: UserWarning: Ignoring detection with label 'Door handle' not in provided classes\n",
      "  warnings.warn(msg)\n",
      "/Users/jayden/.pyenv/versions/3.10.13/envs/venv3.1/lib/python3.10/site-packages/fiftyone/utils/yolo.py:993: UserWarning: Ignoring detection with label 'Camera' not in provided classes\n",
      "  warnings.warn(msg)\n",
      "/Users/jayden/.pyenv/versions/3.10.13/envs/venv3.1/lib/python3.10/site-packages/fiftyone/utils/yolo.py:993: UserWarning: Ignoring detection with label 'Infant bed' not in provided classes\n",
      "  warnings.warn(msg)\n"
     ]
    },
    {
     "name": "stdout",
     "output_type": "stream",
     "text": [
      "  33% |████|----------|  656/2000 [3.5s elapsed, 6.9s remaining, 212.3 samples/s]     "
     ]
    },
    {
     "name": "stderr",
     "output_type": "stream",
     "text": [
      "/Users/jayden/.pyenv/versions/3.10.13/envs/venv3.1/lib/python3.10/site-packages/fiftyone/utils/yolo.py:993: UserWarning: Ignoring detection with label 'Sushi' not in provided classes\n",
      "  warnings.warn(msg)\n",
      "/Users/jayden/.pyenv/versions/3.10.13/envs/venv3.1/lib/python3.10/site-packages/fiftyone/utils/yolo.py:993: UserWarning: Ignoring detection with label 'High heels' not in provided classes\n",
      "  warnings.warn(msg)\n",
      "/Users/jayden/.pyenv/versions/3.10.13/envs/venv3.1/lib/python3.10/site-packages/fiftyone/utils/yolo.py:993: UserWarning: Ignoring detection with label 'Sandal' not in provided classes\n",
      "  warnings.warn(msg)\n",
      "/Users/jayden/.pyenv/versions/3.10.13/envs/venv3.1/lib/python3.10/site-packages/fiftyone/utils/yolo.py:993: UserWarning: Ignoring detection with label 'Office supplies' not in provided classes\n",
      "  warnings.warn(msg)\n",
      "/Users/jayden/.pyenv/versions/3.10.13/envs/venv3.1/lib/python3.10/site-packages/fiftyone/utils/yolo.py:993: UserWarning: Ignoring detection with label 'Bee' not in provided classes\n",
      "  warnings.warn(msg)\n"
     ]
    },
    {
     "name": "stdout",
     "output_type": "stream",
     "text": [
      "  35% |█████----------|  697/2000 [3.7s elapsed, 6.7s remaining, 207.4 samples/s]     "
     ]
    },
    {
     "name": "stderr",
     "output_type": "stream",
     "text": [
      "/Users/jayden/.pyenv/versions/3.10.13/envs/venv3.1/lib/python3.10/site-packages/fiftyone/utils/yolo.py:993: UserWarning: Ignoring detection with label 'Rabbit' not in provided classes\n",
      "  warnings.warn(msg)\n",
      "/Users/jayden/.pyenv/versions/3.10.13/envs/venv3.1/lib/python3.10/site-packages/fiftyone/utils/yolo.py:993: UserWarning: Ignoring detection with label 'Auto part' not in provided classes\n",
      "  warnings.warn(msg)\n",
      "/Users/jayden/.pyenv/versions/3.10.13/envs/venv3.1/lib/python3.10/site-packages/fiftyone/utils/yolo.py:993: UserWarning: Ignoring detection with label 'Pig' not in provided classes\n",
      "  warnings.warn(msg)\n",
      "/Users/jayden/.pyenv/versions/3.10.13/envs/venv3.1/lib/python3.10/site-packages/fiftyone/utils/yolo.py:993: UserWarning: Ignoring detection with label 'Baseball bat' not in provided classes\n",
      "  warnings.warn(msg)\n",
      "/Users/jayden/.pyenv/versions/3.10.13/envs/venv3.1/lib/python3.10/site-packages/fiftyone/utils/yolo.py:993: UserWarning: Ignoring detection with label 'Coat' not in provided classes\n",
      "  warnings.warn(msg)\n",
      "/Users/jayden/.pyenv/versions/3.10.13/envs/venv3.1/lib/python3.10/site-packages/fiftyone/utils/yolo.py:993: UserWarning: Ignoring detection with label 'Ladder' not in provided classes\n",
      "  warnings.warn(msg)\n",
      "/Users/jayden/.pyenv/versions/3.10.13/envs/venv3.1/lib/python3.10/site-packages/fiftyone/utils/yolo.py:993: UserWarning: Ignoring detection with label 'Television' not in provided classes\n",
      "  warnings.warn(msg)\n"
     ]
    },
    {
     "name": "stdout",
     "output_type": "stream",
     "text": [
      "  37% |█████|---------|  735/2000 [3.9s elapsed, 6.6s remaining, 197.3 samples/s]     "
     ]
    },
    {
     "name": "stderr",
     "output_type": "stream",
     "text": [
      "/Users/jayden/.pyenv/versions/3.10.13/envs/venv3.1/lib/python3.10/site-packages/fiftyone/utils/yolo.py:993: UserWarning: Ignoring detection with label 'Umbrella' not in provided classes\n",
      "  warnings.warn(msg)\n",
      "/Users/jayden/.pyenv/versions/3.10.13/envs/venv3.1/lib/python3.10/site-packages/fiftyone/utils/yolo.py:993: UserWarning: Ignoring detection with label 'Moths and butterflies' not in provided classes\n",
      "  warnings.warn(msg)\n",
      "/Users/jayden/.pyenv/versions/3.10.13/envs/venv3.1/lib/python3.10/site-packages/fiftyone/utils/yolo.py:993: UserWarning: Ignoring detection with label 'Sword' not in provided classes\n",
      "  warnings.warn(msg)\n",
      "/Users/jayden/.pyenv/versions/3.10.13/envs/venv3.1/lib/python3.10/site-packages/fiftyone/utils/yolo.py:993: UserWarning: Ignoring detection with label 'Jacuzzi' not in provided classes\n",
      "  warnings.warn(msg)\n",
      "/Users/jayden/.pyenv/versions/3.10.13/envs/venv3.1/lib/python3.10/site-packages/fiftyone/utils/yolo.py:993: UserWarning: Ignoring detection with label 'Kitchen appliance' not in provided classes\n",
      "  warnings.warn(msg)\n",
      "/Users/jayden/.pyenv/versions/3.10.13/envs/venv3.1/lib/python3.10/site-packages/fiftyone/utils/yolo.py:993: UserWarning: Ignoring detection with label 'Home appliance' not in provided classes\n",
      "  warnings.warn(msg)\n"
     ]
    },
    {
     "name": "stdout",
     "output_type": "stream",
     "text": [
      "                                                                                      \r"
     ]
    },
    {
     "name": "stderr",
     "output_type": "stream",
     "text": [
      "/Users/jayden/.pyenv/versions/3.10.13/envs/venv3.1/lib/python3.10/site-packages/fiftyone/utils/yolo.py:993: UserWarning: Ignoring detection with label 'Cocktail' not in provided classes\n",
      "  warnings.warn(msg)\n",
      "/Users/jayden/.pyenv/versions/3.10.13/envs/venv3.1/lib/python3.10/site-packages/fiftyone/utils/yolo.py:993: UserWarning: Ignoring detection with label 'Kitchen & dining room table' not in provided classes\n",
      "  warnings.warn(msg)\n",
      "/Users/jayden/.pyenv/versions/3.10.13/envs/venv3.1/lib/python3.10/site-packages/fiftyone/utils/yolo.py:993: UserWarning: Ignoring detection with label 'Sofa bed' not in provided classes\n",
      "  warnings.warn(msg)\n",
      "/Users/jayden/.pyenv/versions/3.10.13/envs/venv3.1/lib/python3.10/site-packages/fiftyone/utils/yolo.py:993: UserWarning: Ignoring detection with label 'Drum' not in provided classes\n",
      "  warnings.warn(msg)\n"
     ]
    },
    {
     "name": "stdout",
     "output_type": "stream",
     "text": [
      "  41% |██████|--------|  824/2000 [4.4s elapsed, 6.0s remaining, 207.9 samples/s]     "
     ]
    },
    {
     "name": "stderr",
     "output_type": "stream",
     "text": [
      "/Users/jayden/.pyenv/versions/3.10.13/envs/venv3.1/lib/python3.10/site-packages/fiftyone/utils/yolo.py:993: UserWarning: Ignoring detection with label 'Tripod' not in provided classes\n",
      "  warnings.warn(msg)\n",
      "/Users/jayden/.pyenv/versions/3.10.13/envs/venv3.1/lib/python3.10/site-packages/fiftyone/utils/yolo.py:993: UserWarning: Ignoring detection with label 'Vegetable' not in provided classes\n",
      "  warnings.warn(msg)\n"
     ]
    },
    {
     "name": "stdout",
     "output_type": "stream",
     "text": [
      "  44% |██████\\--------|  878/2000 [4.7s elapsed, 5.9s remaining, 192.0 samples/s]     "
     ]
    },
    {
     "name": "stderr",
     "output_type": "stream",
     "text": [
      "/Users/jayden/.pyenv/versions/3.10.13/envs/venv3.1/lib/python3.10/site-packages/fiftyone/utils/yolo.py:993: UserWarning: Ignoring detection with label 'Seat belt' not in provided classes\n",
      "  warnings.warn(msg)\n",
      "/Users/jayden/.pyenv/versions/3.10.13/envs/venv3.1/lib/python3.10/site-packages/fiftyone/utils/yolo.py:993: UserWarning: Ignoring detection with label 'Tie' not in provided classes\n",
      "  warnings.warn(msg)\n",
      "/Users/jayden/.pyenv/versions/3.10.13/envs/venv3.1/lib/python3.10/site-packages/fiftyone/utils/yolo.py:993: UserWarning: Ignoring detection with label 'Houseplant' not in provided classes\n",
      "  warnings.warn(msg)\n",
      "/Users/jayden/.pyenv/versions/3.10.13/envs/venv3.1/lib/python3.10/site-packages/fiftyone/utils/yolo.py:993: UserWarning: Ignoring detection with label 'Flowerpot' not in provided classes\n",
      "  warnings.warn(msg)\n"
     ]
    },
    {
     "name": "stdout",
     "output_type": "stream",
     "text": [
      "  46% |██████/--------|  920/2000 [4.9s elapsed, 5.6s remaining, 198.4 samples/s]     "
     ]
    },
    {
     "name": "stderr",
     "output_type": "stream",
     "text": [
      "/Users/jayden/.pyenv/versions/3.10.13/envs/venv3.1/lib/python3.10/site-packages/fiftyone/utils/yolo.py:993: UserWarning: Ignoring detection with label 'Treadmill' not in provided classes\n",
      "  warnings.warn(msg)\n",
      "/Users/jayden/.pyenv/versions/3.10.13/envs/venv3.1/lib/python3.10/site-packages/fiftyone/utils/yolo.py:993: UserWarning: Ignoring detection with label 'Musical keyboard' not in provided classes\n",
      "  warnings.warn(msg)\n",
      "/Users/jayden/.pyenv/versions/3.10.13/envs/venv3.1/lib/python3.10/site-packages/fiftyone/utils/yolo.py:993: UserWarning: Ignoring detection with label 'Couch' not in provided classes\n",
      "  warnings.warn(msg)\n"
     ]
    },
    {
     "name": "stdout",
     "output_type": "stream",
     "text": [
      "  49% |███████|-------|  989/2000 [5.2s elapsed, 5.1s remaining, 202.6 samples/s]     "
     ]
    },
    {
     "name": "stderr",
     "output_type": "stream",
     "text": [
      "/Users/jayden/.pyenv/versions/3.10.13/envs/venv3.1/lib/python3.10/site-packages/fiftyone/utils/yolo.py:993: UserWarning: Ignoring detection with label 'Necklace' not in provided classes\n",
      "  warnings.warn(msg)\n",
      "/Users/jayden/.pyenv/versions/3.10.13/envs/venv3.1/lib/python3.10/site-packages/fiftyone/utils/yolo.py:993: UserWarning: Ignoring detection with label 'Dolphin' not in provided classes\n",
      "  warnings.warn(msg)\n"
     ]
    },
    {
     "name": "stdout",
     "output_type": "stream",
     "text": [
      "  52% |███████--------| 1040/2000 [5.4s elapsed, 4.7s remaining, 213.2 samples/s]     "
     ]
    },
    {
     "name": "stderr",
     "output_type": "stream",
     "text": [
      "/Users/jayden/.pyenv/versions/3.10.13/envs/venv3.1/lib/python3.10/site-packages/fiftyone/utils/yolo.py:993: UserWarning: Ignoring detection with label 'Surfboard' not in provided classes\n",
      "  warnings.warn(msg)\n",
      "/Users/jayden/.pyenv/versions/3.10.13/envs/venv3.1/lib/python3.10/site-packages/fiftyone/utils/yolo.py:993: UserWarning: Ignoring detection with label 'Oven' not in provided classes\n",
      "  warnings.warn(msg)\n",
      "/Users/jayden/.pyenv/versions/3.10.13/envs/venv3.1/lib/python3.10/site-packages/fiftyone/utils/yolo.py:993: UserWarning: Ignoring detection with label 'Microwave oven' not in provided classes\n",
      "  warnings.warn(msg)\n",
      "/Users/jayden/.pyenv/versions/3.10.13/envs/venv3.1/lib/python3.10/site-packages/fiftyone/utils/yolo.py:993: UserWarning: Ignoring detection with label 'Flying disc' not in provided classes\n",
      "  warnings.warn(msg)\n"
     ]
    },
    {
     "name": "stdout",
     "output_type": "stream",
     "text": [
      "  54% |████████|------| 1082/2000 [5.6s elapsed, 4.4s remaining, 220.0 samples/s]     "
     ]
    },
    {
     "name": "stderr",
     "output_type": "stream",
     "text": [
      "/Users/jayden/.pyenv/versions/3.10.13/envs/venv3.1/lib/python3.10/site-packages/fiftyone/utils/yolo.py:993: UserWarning: Ignoring detection with label 'Helicopter' not in provided classes\n",
      "  warnings.warn(msg)\n",
      "/Users/jayden/.pyenv/versions/3.10.13/envs/venv3.1/lib/python3.10/site-packages/fiftyone/utils/yolo.py:993: UserWarning: Ignoring detection with label 'Bow and arrow' not in provided classes\n",
      "  warnings.warn(msg)\n"
     ]
    },
    {
     "name": "stdout",
     "output_type": "stream",
     "text": [
      "  57% |████████-------| 1137/2000 [5.8s elapsed, 4.0s remaining, 233.1 samples/s]     "
     ]
    },
    {
     "name": "stderr",
     "output_type": "stream",
     "text": [
      "/Users/jayden/.pyenv/versions/3.10.13/envs/venv3.1/lib/python3.10/site-packages/fiftyone/utils/yolo.py:993: UserWarning: Ignoring detection with label 'Taxi' not in provided classes\n",
      "  warnings.warn(msg)\n",
      "/Users/jayden/.pyenv/versions/3.10.13/envs/venv3.1/lib/python3.10/site-packages/fiftyone/utils/yolo.py:993: UserWarning: Ignoring detection with label 'Mug' not in provided classes\n",
      "  warnings.warn(msg)\n",
      "/Users/jayden/.pyenv/versions/3.10.13/envs/venv3.1/lib/python3.10/site-packages/fiftyone/utils/yolo.py:993: UserWarning: Ignoring detection with label 'Gondola' not in provided classes\n",
      "  warnings.warn(msg)\n",
      "/Users/jayden/.pyenv/versions/3.10.13/envs/venv3.1/lib/python3.10/site-packages/fiftyone/utils/yolo.py:993: UserWarning: Ignoring detection with label 'Snowplow' not in provided classes\n",
      "  warnings.warn(msg)\n",
      "/Users/jayden/.pyenv/versions/3.10.13/envs/venv3.1/lib/python3.10/site-packages/fiftyone/utils/yolo.py:993: UserWarning: Ignoring detection with label 'Aircraft' not in provided classes\n",
      "  warnings.warn(msg)\n"
     ]
    },
    {
     "name": "stdout",
     "output_type": "stream",
     "text": [
      "  60% |█████████|-----| 1200/2000 [6.0s elapsed, 3.5s remaining, 255.6 samples/s]     "
     ]
    },
    {
     "name": "stderr",
     "output_type": "stream",
     "text": [
      "/Users/jayden/.pyenv/versions/3.10.13/envs/venv3.1/lib/python3.10/site-packages/fiftyone/utils/yolo.py:993: UserWarning: Ignoring detection with label 'Bus' not in provided classes\n",
      "  warnings.warn(msg)\n",
      "/Users/jayden/.pyenv/versions/3.10.13/envs/venv3.1/lib/python3.10/site-packages/fiftyone/utils/yolo.py:993: UserWarning: Ignoring detection with label 'Whiteboard' not in provided classes\n",
      "  warnings.warn(msg)\n",
      "/Users/jayden/.pyenv/versions/3.10.13/envs/venv3.1/lib/python3.10/site-packages/fiftyone/utils/yolo.py:993: UserWarning: Ignoring detection with label 'Convenience store' not in provided classes\n",
      "  warnings.warn(msg)\n",
      "/Users/jayden/.pyenv/versions/3.10.13/envs/venv3.1/lib/python3.10/site-packages/fiftyone/utils/yolo.py:993: UserWarning: Ignoring detection with label 'Tent' not in provided classes\n",
      "  warnings.warn(msg)\n",
      "/Users/jayden/.pyenv/versions/3.10.13/envs/venv3.1/lib/python3.10/site-packages/fiftyone/utils/yolo.py:993: UserWarning: Ignoring detection with label 'Traffic sign' not in provided classes\n",
      "  warnings.warn(msg)\n",
      "/Users/jayden/.pyenv/versions/3.10.13/envs/venv3.1/lib/python3.10/site-packages/fiftyone/utils/yolo.py:993: UserWarning: Ignoring detection with label 'Traffic light' not in provided classes\n",
      "  warnings.warn(msg)\n"
     ]
    },
    {
     "name": "stdout",
     "output_type": "stream",
     "text": [
      "  65% |█████████\\-----| 1294/2000 [6.3s elapsed, 2.9s remaining, 273.2 samples/s]     "
     ]
    },
    {
     "name": "stderr",
     "output_type": "stream",
     "text": [
      "/Users/jayden/.pyenv/versions/3.10.13/envs/venv3.1/lib/python3.10/site-packages/fiftyone/utils/yolo.py:993: UserWarning: Ignoring detection with label 'Rocket' not in provided classes\n",
      "  warnings.warn(msg)\n",
      "/Users/jayden/.pyenv/versions/3.10.13/envs/venv3.1/lib/python3.10/site-packages/fiftyone/utils/yolo.py:993: UserWarning: Ignoring detection with label 'Sombrero' not in provided classes\n",
      "  warnings.warn(msg)\n",
      "/Users/jayden/.pyenv/versions/3.10.13/envs/venv3.1/lib/python3.10/site-packages/fiftyone/utils/yolo.py:993: UserWarning: Ignoring detection with label 'Balance beam' not in provided classes\n",
      "  warnings.warn(msg)\n",
      "/Users/jayden/.pyenv/versions/3.10.13/envs/venv3.1/lib/python3.10/site-packages/fiftyone/utils/yolo.py:993: UserWarning: Ignoring detection with label 'Waste container' not in provided classes\n",
      "  warnings.warn(msg)\n",
      "/Users/jayden/.pyenv/versions/3.10.13/envs/venv3.1/lib/python3.10/site-packages/fiftyone/utils/yolo.py:993: UserWarning: Ignoring detection with label 'Mule' not in provided classes\n",
      "  warnings.warn(msg)\n",
      "/Users/jayden/.pyenv/versions/3.10.13/envs/venv3.1/lib/python3.10/site-packages/fiftyone/utils/yolo.py:993: UserWarning: Ignoring detection with label 'Kite' not in provided classes\n",
      "  warnings.warn(msg)\n",
      "/Users/jayden/.pyenv/versions/3.10.13/envs/venv3.1/lib/python3.10/site-packages/fiftyone/utils/yolo.py:993: UserWarning: Ignoring detection with label 'Marine invertebrates' not in provided classes\n",
      "  warnings.warn(msg)\n",
      "/Users/jayden/.pyenv/versions/3.10.13/envs/venv3.1/lib/python3.10/site-packages/fiftyone/utils/yolo.py:993: UserWarning: Ignoring detection with label 'Rugby ball' not in provided classes\n",
      "  warnings.warn(msg)\n"
     ]
    },
    {
     "name": "stdout",
     "output_type": "stream",
     "text": [
      "  68% |██████████/----| 1352/2000 [6.5s elapsed, 2.5s remaining, 292.9 samples/s]     "
     ]
    },
    {
     "name": "stderr",
     "output_type": "stream",
     "text": [
      "/Users/jayden/.pyenv/versions/3.10.13/envs/venv3.1/lib/python3.10/site-packages/fiftyone/utils/yolo.py:993: UserWarning: Ignoring detection with label 'Belt' not in provided classes\n",
      "  warnings.warn(msg)\n"
     ]
    },
    {
     "name": "stdout",
     "output_type": "stream",
     "text": [
      "  71% |██████████\\----| 1415/2000 [6.7s elapsed, 2.2s remaining, 301.4 samples/s]     "
     ]
    },
    {
     "name": "stderr",
     "output_type": "stream",
     "text": [
      "/Users/jayden/.pyenv/versions/3.10.13/envs/venv3.1/lib/python3.10/site-packages/fiftyone/utils/yolo.py:993: UserWarning: Ignoring detection with label 'Cabinetry' not in provided classes\n",
      "  warnings.warn(msg)\n",
      "/Users/jayden/.pyenv/versions/3.10.13/envs/venv3.1/lib/python3.10/site-packages/fiftyone/utils/yolo.py:993: UserWarning: Ignoring detection with label 'Stairs' not in provided classes\n",
      "  warnings.warn(msg)\n",
      "/Users/jayden/.pyenv/versions/3.10.13/envs/venv3.1/lib/python3.10/site-packages/fiftyone/utils/yolo.py:993: UserWarning: Ignoring detection with label 'Tennis ball' not in provided classes\n",
      "  warnings.warn(msg)\n",
      "/Users/jayden/.pyenv/versions/3.10.13/envs/venv3.1/lib/python3.10/site-packages/fiftyone/utils/yolo.py:993: UserWarning: Ignoring detection with label 'Stool' not in provided classes\n",
      "  warnings.warn(msg)\n",
      "/Users/jayden/.pyenv/versions/3.10.13/envs/venv3.1/lib/python3.10/site-packages/fiftyone/utils/yolo.py:993: UserWarning: Ignoring detection with label 'Plastic bag' not in provided classes\n",
      "  warnings.warn(msg)\n",
      "/Users/jayden/.pyenv/versions/3.10.13/envs/venv3.1/lib/python3.10/site-packages/fiftyone/utils/yolo.py:993: UserWarning: Ignoring detection with label 'Parachute' not in provided classes\n",
      "  warnings.warn(msg)\n"
     ]
    },
    {
     "name": "stdout",
     "output_type": "stream",
     "text": [
      "  73% |██████████/----| 1466/2000 [6.9s elapsed, 2.0s remaining, 286.7 samples/s]     "
     ]
    },
    {
     "name": "stderr",
     "output_type": "stream",
     "text": [
      "/Users/jayden/.pyenv/versions/3.10.13/envs/venv3.1/lib/python3.10/site-packages/fiftyone/utils/yolo.py:993: UserWarning: Ignoring detection with label 'Rose' not in provided classes\n",
      "  warnings.warn(msg)\n",
      "/Users/jayden/.pyenv/versions/3.10.13/envs/venv3.1/lib/python3.10/site-packages/fiftyone/utils/yolo.py:993: UserWarning: Ignoring detection with label 'Stretcher' not in provided classes\n",
      "  warnings.warn(msg)\n",
      "/Users/jayden/.pyenv/versions/3.10.13/envs/venv3.1/lib/python3.10/site-packages/fiftyone/utils/yolo.py:993: UserWarning: Ignoring detection with label 'Bowling equipment' not in provided classes\n",
      "  warnings.warn(msg)\n",
      "/Users/jayden/.pyenv/versions/3.10.13/envs/venv3.1/lib/python3.10/site-packages/fiftyone/utils/yolo.py:993: UserWarning: Ignoring detection with label 'Balloon' not in provided classes\n",
      "  warnings.warn(msg)\n"
     ]
    },
    {
     "name": "stdout",
     "output_type": "stream",
     "text": [
      "  76% |███████████\\---| 1521/2000 [7.1s elapsed, 1.9s remaining, 268.8 samples/s]     "
     ]
    },
    {
     "name": "stderr",
     "output_type": "stream",
     "text": [
      "/Users/jayden/.pyenv/versions/3.10.13/envs/venv3.1/lib/python3.10/site-packages/fiftyone/utils/yolo.py:993: UserWarning: Ignoring detection with label 'Box' not in provided classes\n",
      "  warnings.warn(msg)\n",
      "/Users/jayden/.pyenv/versions/3.10.13/envs/venv3.1/lib/python3.10/site-packages/fiftyone/utils/yolo.py:993: UserWarning: Ignoring detection with label 'Christmas tree' not in provided classes\n",
      "  warnings.warn(msg)\n",
      "/Users/jayden/.pyenv/versions/3.10.13/envs/venv3.1/lib/python3.10/site-packages/fiftyone/utils/yolo.py:993: UserWarning: Ignoring detection with label 'Tank' not in provided classes\n",
      "  warnings.warn(msg)\n",
      "/Users/jayden/.pyenv/versions/3.10.13/envs/venv3.1/lib/python3.10/site-packages/fiftyone/utils/yolo.py:993: UserWarning: Ignoring detection with label 'Salad' not in provided classes\n",
      "  warnings.warn(msg)\n",
      "/Users/jayden/.pyenv/versions/3.10.13/envs/venv3.1/lib/python3.10/site-packages/fiftyone/utils/yolo.py:993: UserWarning: Ignoring detection with label 'Pasta' not in provided classes\n",
      "  warnings.warn(msg)\n"
     ]
    },
    {
     "name": "stdout",
     "output_type": "stream",
     "text": [
      "  80% |████████████---| 1606/2000 [7.4s elapsed, 1.5s remaining, 273.4 samples/s]     "
     ]
    },
    {
     "name": "stderr",
     "output_type": "stream",
     "text": [
      "/Users/jayden/.pyenv/versions/3.10.13/envs/venv3.1/lib/python3.10/site-packages/fiftyone/utils/yolo.py:993: UserWarning: Ignoring detection with label 'Telephone' not in provided classes\n",
      "  warnings.warn(msg)\n",
      "/Users/jayden/.pyenv/versions/3.10.13/envs/venv3.1/lib/python3.10/site-packages/fiftyone/utils/yolo.py:993: UserWarning: Ignoring detection with label 'Limousine' not in provided classes\n",
      "  warnings.warn(msg)\n"
     ]
    },
    {
     "name": "stdout",
     "output_type": "stream",
     "text": [
      "  83% |████████████|--| 1662/2000 [7.7s elapsed, 1.3s remaining, 266.1 samples/s]     "
     ]
    },
    {
     "name": "stderr",
     "output_type": "stream",
     "text": [
      "/Users/jayden/.pyenv/versions/3.10.13/envs/venv3.1/lib/python3.10/site-packages/fiftyone/utils/yolo.py:993: UserWarning: Ignoring detection with label 'Pastry' not in provided classes\n",
      "  warnings.warn(msg)\n",
      "/Users/jayden/.pyenv/versions/3.10.13/envs/venv3.1/lib/python3.10/site-packages/fiftyone/utils/yolo.py:993: UserWarning: Ignoring detection with label 'Goat' not in provided classes\n",
      "  warnings.warn(msg)\n",
      "/Users/jayden/.pyenv/versions/3.10.13/envs/venv3.1/lib/python3.10/site-packages/fiftyone/utils/yolo.py:993: UserWarning: Ignoring detection with label 'Wine glass' not in provided classes\n",
      "  warnings.warn(msg)\n",
      "/Users/jayden/.pyenv/versions/3.10.13/envs/venv3.1/lib/python3.10/site-packages/fiftyone/utils/yolo.py:993: UserWarning: Ignoring detection with label 'Barrel' not in provided classes\n",
      "  warnings.warn(msg)\n",
      "/Users/jayden/.pyenv/versions/3.10.13/envs/venv3.1/lib/python3.10/site-packages/fiftyone/utils/yolo.py:993: UserWarning: Ignoring detection with label 'Ambulance' not in provided classes\n",
      "  warnings.warn(msg)\n"
     ]
    },
    {
     "name": "stdout",
     "output_type": "stream",
     "text": [
      "  85% |████████████---| 1709/2000 [7.9s elapsed, 1.1s remaining, 263.4 samples/s]     "
     ]
    },
    {
     "name": "stderr",
     "output_type": "stream",
     "text": [
      "/Users/jayden/.pyenv/versions/3.10.13/envs/venv3.1/lib/python3.10/site-packages/fiftyone/utils/yolo.py:993: UserWarning: Ignoring detection with label 'Cupboard' not in provided classes\n",
      "  warnings.warn(msg)\n",
      "/Users/jayden/.pyenv/versions/3.10.13/envs/venv3.1/lib/python3.10/site-packages/fiftyone/utils/yolo.py:993: UserWarning: Ignoring detection with label 'Billiard table' not in provided classes\n",
      "  warnings.warn(msg)\n",
      "/Users/jayden/.pyenv/versions/3.10.13/envs/venv3.1/lib/python3.10/site-packages/fiftyone/utils/yolo.py:993: UserWarning: Ignoring detection with label 'Reptile' not in provided classes\n",
      "  warnings.warn(msg)\n"
     ]
    },
    {
     "name": "stdout",
     "output_type": "stream",
     "text": [
      "  88% |█████████████|-| 1762/2000 [8.1s elapsed, 933.2ms remaining, 260.9 samples/s]  "
     ]
    },
    {
     "name": "stderr",
     "output_type": "stream",
     "text": [
      "/Users/jayden/.pyenv/versions/3.10.13/envs/venv3.1/lib/python3.10/site-packages/fiftyone/utils/yolo.py:993: UserWarning: Ignoring detection with label 'Jet ski' not in provided classes\n",
      "  warnings.warn(msg)\n",
      "/Users/jayden/.pyenv/versions/3.10.13/envs/venv3.1/lib/python3.10/site-packages/fiftyone/utils/yolo.py:993: UserWarning: Ignoring detection with label 'Tin can' not in provided classes\n",
      "  warnings.warn(msg)\n"
     ]
    },
    {
     "name": "stdout",
     "output_type": "stream",
     "text": [
      "  91% |█████████████--| 1818/2000 [8.3s elapsed, 708.6ms remaining, 261.3 samples/s]  "
     ]
    },
    {
     "name": "stderr",
     "output_type": "stream",
     "text": [
      "/Users/jayden/.pyenv/versions/3.10.13/envs/venv3.1/lib/python3.10/site-packages/fiftyone/utils/yolo.py:993: UserWarning: Ignoring detection with label 'Miniskirt' not in provided classes\n",
      "  warnings.warn(msg)\n"
     ]
    },
    {
     "name": "stdout",
     "output_type": "stream",
     "text": [
      "  94% |██████████████|| 1880/2000 [8.5s elapsed, 465.3ms remaining, 260.6 samples/s]  "
     ]
    },
    {
     "name": "stderr",
     "output_type": "stream",
     "text": [
      "/Users/jayden/.pyenv/versions/3.10.13/envs/venv3.1/lib/python3.10/site-packages/fiftyone/utils/yolo.py:993: UserWarning: Ignoring detection with label 'Coffee table' not in provided classes\n",
      "  warnings.warn(msg)\n",
      "/Users/jayden/.pyenv/versions/3.10.13/envs/venv3.1/lib/python3.10/site-packages/fiftyone/utils/yolo.py:993: UserWarning: Ignoring detection with label 'Tablet computer' not in provided classes\n",
      "  warnings.warn(msg)\n"
     ]
    },
    {
     "name": "stdout",
     "output_type": "stream",
     "text": [
      "  97% |██████████████-| 1940/2000 [8.7s elapsed, 223.0ms remaining, 270.8 samples/s]  "
     ]
    },
    {
     "name": "stderr",
     "output_type": "stream",
     "text": [
      "/Users/jayden/.pyenv/versions/3.10.13/envs/venv3.1/lib/python3.10/site-packages/fiftyone/utils/yolo.py:993: UserWarning: Ignoring detection with label 'Elephant' not in provided classes\n",
      "  warnings.warn(msg)\n",
      "/Users/jayden/.pyenv/versions/3.10.13/envs/venv3.1/lib/python3.10/site-packages/fiftyone/utils/yolo.py:993: UserWarning: Ignoring detection with label 'Tree house' not in provided classes\n",
      "  warnings.warn(msg)\n",
      "/Users/jayden/.pyenv/versions/3.10.13/envs/venv3.1/lib/python3.10/site-packages/fiftyone/utils/yolo.py:993: UserWarning: Ignoring detection with label 'Croissant' not in provided classes\n",
      "  warnings.warn(msg)\n"
     ]
    },
    {
     "name": "stdout",
     "output_type": "stream",
     "text": [
      " 100% |███████████████| 2000/2000 [8.9s elapsed, 0s remaining, 283.0 samples/s]       \n",
      "Downloading split 'test' to './open-images-v7/test' if necessary\n",
      "Downloading 'https://storage.googleapis.com/openimages/2018_04/test/test-images-with-rotation.csv' to './open-images-v7/test/metadata/image_ids.csv'\n"
     ]
    },
    {
     "name": "stderr",
     "output_type": "stream",
     "text": [
      "/Users/jayden/.pyenv/versions/3.10.13/envs/venv3.1/lib/python3.10/site-packages/fiftyone/utils/yolo.py:993: UserWarning: Ignoring detection with label 'Boot' not in provided classes\n",
      "  warnings.warn(msg)\n",
      "/Users/jayden/.pyenv/versions/3.10.13/envs/venv3.1/lib/python3.10/site-packages/fiftyone/utils/yolo.py:993: UserWarning: Ignoring detection with label 'Fire hydrant' not in provided classes\n",
      "  warnings.warn(msg)\n"
     ]
    },
    {
     "name": "stdout",
     "output_type": "stream",
     "text": [
      "Downloading 'https://storage.googleapis.com/openimages/v5/class-descriptions-boxable.csv' to './open-images-v7/test/metadata/classes.csv'\n",
      "Downloading 'https://storage.googleapis.com/openimages/2018_04/bbox_labels_600_hierarchy.json' to '/var/folders/02/cl_h566x7735tf5l3tqk_dd00000gn/T/tmpffs6d57f/metadata/hierarchy.json'\n",
      "Downloading 'https://storage.googleapis.com/openimages/v5/test-annotations-bbox.csv' to './open-images-v7/test/labels/detections.csv'\n",
      "Downloading 1000 images\n",
      " 100% |█████████████████| 1000/1000 [1.8m elapsed, 0s remaining, 6.8 files/s]       \n",
      "Dataset info written to './open-images-v7/info.json'\n",
      "Deleting existing dataset 'open-images-v7-test-1000'\n",
      "Loading 'open-images-v7' split 'test'\n",
      " 100% |███████████████| 1000/1000 [10.8s elapsed, 0s remaining, 89.5 samples/s]      \n",
      "Dataset 'open-images-v7-test-1000' created\n",
      "Directory './dataset' already exists; export will be merged with existing files\n",
      "   2% |/--------------|   20/1000 [119.5ms elapsed, 5.9s remaining, 167.3 samples/s] "
     ]
    },
    {
     "name": "stderr",
     "output_type": "stream",
     "text": [
      "/Users/jayden/.pyenv/versions/3.10.13/envs/venv3.1/lib/python3.10/site-packages/fiftyone/utils/yolo.py:993: UserWarning: Ignoring detection with label 'Human hair' not in provided classes\n",
      "  warnings.warn(msg)\n",
      "/Users/jayden/.pyenv/versions/3.10.13/envs/venv3.1/lib/python3.10/site-packages/fiftyone/utils/yolo.py:993: UserWarning: Ignoring detection with label 'Furniture' not in provided classes\n",
      "  warnings.warn(msg)\n",
      "/Users/jayden/.pyenv/versions/3.10.13/envs/venv3.1/lib/python3.10/site-packages/fiftyone/utils/yolo.py:993: UserWarning: Ignoring detection with label 'Building' not in provided classes\n",
      "  warnings.warn(msg)\n",
      "/Users/jayden/.pyenv/versions/3.10.13/envs/venv3.1/lib/python3.10/site-packages/fiftyone/utils/yolo.py:993: UserWarning: Ignoring detection with label 'Human nose' not in provided classes\n",
      "  warnings.warn(msg)\n",
      "/Users/jayden/.pyenv/versions/3.10.13/envs/venv3.1/lib/python3.10/site-packages/fiftyone/utils/yolo.py:993: UserWarning: Ignoring detection with label 'Human body' not in provided classes\n",
      "  warnings.warn(msg)\n",
      "/Users/jayden/.pyenv/versions/3.10.13/envs/venv3.1/lib/python3.10/site-packages/fiftyone/utils/yolo.py:993: UserWarning: Ignoring detection with label 'Human head' not in provided classes\n",
      "  warnings.warn(msg)\n",
      "/Users/jayden/.pyenv/versions/3.10.13/envs/venv3.1/lib/python3.10/site-packages/fiftyone/utils/yolo.py:993: UserWarning: Ignoring detection with label 'Table' not in provided classes\n",
      "  warnings.warn(msg)\n",
      "/Users/jayden/.pyenv/versions/3.10.13/envs/venv3.1/lib/python3.10/site-packages/fiftyone/utils/yolo.py:993: UserWarning: Ignoring detection with label 'Human mouth' not in provided classes\n",
      "  warnings.warn(msg)\n",
      "/Users/jayden/.pyenv/versions/3.10.13/envs/venv3.1/lib/python3.10/site-packages/fiftyone/utils/yolo.py:993: UserWarning: Ignoring detection with label 'Desk' not in provided classes\n",
      "  warnings.warn(msg)\n",
      "/Users/jayden/.pyenv/versions/3.10.13/envs/venv3.1/lib/python3.10/site-packages/fiftyone/utils/yolo.py:993: UserWarning: Ignoring detection with label 'Man' not in provided classes\n",
      "  warnings.warn(msg)\n",
      "/Users/jayden/.pyenv/versions/3.10.13/envs/venv3.1/lib/python3.10/site-packages/fiftyone/utils/yolo.py:993: UserWarning: Ignoring detection with label 'Trousers' not in provided classes\n",
      "  warnings.warn(msg)\n",
      "/Users/jayden/.pyenv/versions/3.10.13/envs/venv3.1/lib/python3.10/site-packages/fiftyone/utils/yolo.py:993: UserWarning: Ignoring detection with label 'Human leg' not in provided classes\n",
      "  warnings.warn(msg)\n",
      "/Users/jayden/.pyenv/versions/3.10.13/envs/venv3.1/lib/python3.10/site-packages/fiftyone/utils/yolo.py:993: UserWarning: Ignoring detection with label 'Girl' not in provided classes\n",
      "  warnings.warn(msg)\n",
      "/Users/jayden/.pyenv/versions/3.10.13/envs/venv3.1/lib/python3.10/site-packages/fiftyone/utils/yolo.py:993: UserWarning: Ignoring detection with label 'Clothing' not in provided classes\n",
      "  warnings.warn(msg)\n",
      "/Users/jayden/.pyenv/versions/3.10.13/envs/venv3.1/lib/python3.10/site-packages/fiftyone/utils/yolo.py:993: UserWarning: Ignoring detection with label 'Roller skates' not in provided classes\n",
      "  warnings.warn(msg)\n",
      "/Users/jayden/.pyenv/versions/3.10.13/envs/venv3.1/lib/python3.10/site-packages/fiftyone/utils/yolo.py:993: UserWarning: Ignoring detection with label 'Human eye' not in provided classes\n",
      "  warnings.warn(msg)\n",
      "/Users/jayden/.pyenv/versions/3.10.13/envs/venv3.1/lib/python3.10/site-packages/fiftyone/utils/yolo.py:993: UserWarning: Ignoring detection with label 'Footwear' not in provided classes\n",
      "  warnings.warn(msg)\n",
      "/Users/jayden/.pyenv/versions/3.10.13/envs/venv3.1/lib/python3.10/site-packages/fiftyone/utils/yolo.py:993: UserWarning: Ignoring detection with label 'Human ear' not in provided classes\n",
      "  warnings.warn(msg)\n",
      "/Users/jayden/.pyenv/versions/3.10.13/envs/venv3.1/lib/python3.10/site-packages/fiftyone/utils/yolo.py:993: UserWarning: Ignoring detection with label 'Sports equipment' not in provided classes\n",
      "  warnings.warn(msg)\n",
      "/Users/jayden/.pyenv/versions/3.10.13/envs/venv3.1/lib/python3.10/site-packages/fiftyone/utils/yolo.py:993: UserWarning: Ignoring detection with label 'Human arm' not in provided classes\n",
      "  warnings.warn(msg)\n",
      "/Users/jayden/.pyenv/versions/3.10.13/envs/venv3.1/lib/python3.10/site-packages/fiftyone/utils/yolo.py:993: UserWarning: Ignoring detection with label 'Woman' not in provided classes\n",
      "  warnings.warn(msg)\n",
      "/Users/jayden/.pyenv/versions/3.10.13/envs/venv3.1/lib/python3.10/site-packages/fiftyone/utils/yolo.py:993: UserWarning: Ignoring detection with label 'Plant' not in provided classes\n",
      "  warnings.warn(msg)\n",
      "/Users/jayden/.pyenv/versions/3.10.13/envs/venv3.1/lib/python3.10/site-packages/fiftyone/utils/yolo.py:993: UserWarning: Ignoring detection with label 'Human hand' not in provided classes\n",
      "  warnings.warn(msg)\n",
      "/Users/jayden/.pyenv/versions/3.10.13/envs/venv3.1/lib/python3.10/site-packages/fiftyone/utils/yolo.py:993: UserWarning: Ignoring detection with label 'Flower' not in provided classes\n",
      "  warnings.warn(msg)\n",
      "/Users/jayden/.pyenv/versions/3.10.13/envs/venv3.1/lib/python3.10/site-packages/fiftyone/utils/yolo.py:993: UserWarning: Ignoring detection with label 'Mammal' not in provided classes\n",
      "  warnings.warn(msg)\n",
      "/Users/jayden/.pyenv/versions/3.10.13/envs/venv3.1/lib/python3.10/site-packages/fiftyone/utils/yolo.py:993: UserWarning: Ignoring detection with label 'Food' not in provided classes\n",
      "  warnings.warn(msg)\n",
      "/Users/jayden/.pyenv/versions/3.10.13/envs/venv3.1/lib/python3.10/site-packages/fiftyone/utils/yolo.py:993: UserWarning: Ignoring detection with label 'Sports uniform' not in provided classes\n",
      "  warnings.warn(msg)\n",
      "/Users/jayden/.pyenv/versions/3.10.13/envs/venv3.1/lib/python3.10/site-packages/fiftyone/utils/yolo.py:993: UserWarning: Ignoring detection with label 'Poster' not in provided classes\n",
      "  warnings.warn(msg)\n",
      "/Users/jayden/.pyenv/versions/3.10.13/envs/venv3.1/lib/python3.10/site-packages/fiftyone/utils/yolo.py:993: UserWarning: Ignoring detection with label 'Boy' not in provided classes\n",
      "  warnings.warn(msg)\n",
      "/Users/jayden/.pyenv/versions/3.10.13/envs/venv3.1/lib/python3.10/site-packages/fiftyone/utils/yolo.py:993: UserWarning: Ignoring detection with label 'Helmet' not in provided classes\n",
      "  warnings.warn(msg)\n",
      "/Users/jayden/.pyenv/versions/3.10.13/envs/venv3.1/lib/python3.10/site-packages/fiftyone/utils/yolo.py:993: UserWarning: Ignoring detection with label 'Infant bed' not in provided classes\n",
      "  warnings.warn(msg)\n",
      "/Users/jayden/.pyenv/versions/3.10.13/envs/venv3.1/lib/python3.10/site-packages/fiftyone/utils/yolo.py:993: UserWarning: Ignoring detection with label 'Dress' not in provided classes\n",
      "  warnings.warn(msg)\n",
      "/Users/jayden/.pyenv/versions/3.10.13/envs/venv3.1/lib/python3.10/site-packages/fiftyone/utils/yolo.py:993: UserWarning: Ignoring detection with label 'Fashion accessory' not in provided classes\n",
      "  warnings.warn(msg)\n",
      "/Users/jayden/.pyenv/versions/3.10.13/envs/venv3.1/lib/python3.10/site-packages/fiftyone/utils/yolo.py:993: UserWarning: Ignoring detection with label 'Drink' not in provided classes\n",
      "  warnings.warn(msg)\n",
      "/Users/jayden/.pyenv/versions/3.10.13/envs/venv3.1/lib/python3.10/site-packages/fiftyone/utils/yolo.py:993: UserWarning: Ignoring detection with label 'Ball' not in provided classes\n",
      "  warnings.warn(msg)\n",
      "/Users/jayden/.pyenv/versions/3.10.13/envs/venv3.1/lib/python3.10/site-packages/fiftyone/utils/yolo.py:993: UserWarning: Ignoring detection with label 'Cake' not in provided classes\n",
      "  warnings.warn(msg)\n",
      "/Users/jayden/.pyenv/versions/3.10.13/envs/venv3.1/lib/python3.10/site-packages/fiftyone/utils/yolo.py:993: UserWarning: Ignoring detection with label 'Glasses' not in provided classes\n",
      "  warnings.warn(msg)\n",
      "/Users/jayden/.pyenv/versions/3.10.13/envs/venv3.1/lib/python3.10/site-packages/fiftyone/utils/yolo.py:993: UserWarning: Ignoring detection with label 'Horse' not in provided classes\n",
      "  warnings.warn(msg)\n",
      "/Users/jayden/.pyenv/versions/3.10.13/envs/venv3.1/lib/python3.10/site-packages/fiftyone/utils/yolo.py:993: UserWarning: Ignoring detection with label 'Bicycle helmet' not in provided classes\n",
      "  warnings.warn(msg)\n",
      "/Users/jayden/.pyenv/versions/3.10.13/envs/venv3.1/lib/python3.10/site-packages/fiftyone/utils/yolo.py:993: UserWarning: Ignoring detection with label 'Bicycle' not in provided classes\n",
      "  warnings.warn(msg)\n",
      "/Users/jayden/.pyenv/versions/3.10.13/envs/venv3.1/lib/python3.10/site-packages/fiftyone/utils/yolo.py:993: UserWarning: Ignoring detection with label 'Bicycle wheel' not in provided classes\n",
      "  warnings.warn(msg)\n",
      "/Users/jayden/.pyenv/versions/3.10.13/envs/venv3.1/lib/python3.10/site-packages/fiftyone/utils/yolo.py:993: UserWarning: Ignoring detection with label 'Football' not in provided classes\n",
      "  warnings.warn(msg)\n",
      "/Users/jayden/.pyenv/versions/3.10.13/envs/venv3.1/lib/python3.10/site-packages/fiftyone/utils/yolo.py:993: UserWarning: Ignoring detection with label 'Tree' not in provided classes\n",
      "  warnings.warn(msg)\n",
      "/Users/jayden/.pyenv/versions/3.10.13/envs/venv3.1/lib/python3.10/site-packages/fiftyone/utils/yolo.py:993: UserWarning: Ignoring detection with label 'Sunglasses' not in provided classes\n",
      "  warnings.warn(msg)\n",
      "/Users/jayden/.pyenv/versions/3.10.13/envs/venv3.1/lib/python3.10/site-packages/fiftyone/utils/yolo.py:993: UserWarning: Ignoring detection with label 'Goggles' not in provided classes\n",
      "  warnings.warn(msg)\n",
      "/Users/jayden/.pyenv/versions/3.10.13/envs/venv3.1/lib/python3.10/site-packages/fiftyone/utils/yolo.py:993: UserWarning: Ignoring detection with label 'Saxophone' not in provided classes\n",
      "  warnings.warn(msg)\n",
      "/Users/jayden/.pyenv/versions/3.10.13/envs/venv3.1/lib/python3.10/site-packages/fiftyone/utils/yolo.py:993: UserWarning: Ignoring detection with label 'Car' not in provided classes\n",
      "  warnings.warn(msg)\n",
      "/Users/jayden/.pyenv/versions/3.10.13/envs/venv3.1/lib/python3.10/site-packages/fiftyone/utils/yolo.py:993: UserWarning: Ignoring detection with label 'Wheel' not in provided classes\n",
      "  warnings.warn(msg)\n",
      "/Users/jayden/.pyenv/versions/3.10.13/envs/venv3.1/lib/python3.10/site-packages/fiftyone/utils/yolo.py:993: UserWarning: Ignoring detection with label 'Hat' not in provided classes\n",
      "  warnings.warn(msg)\n",
      "/Users/jayden/.pyenv/versions/3.10.13/envs/venv3.1/lib/python3.10/site-packages/fiftyone/utils/yolo.py:993: UserWarning: Ignoring detection with label 'Shark' not in provided classes\n",
      "  warnings.warn(msg)\n",
      "/Users/jayden/.pyenv/versions/3.10.13/envs/venv3.1/lib/python3.10/site-packages/fiftyone/utils/yolo.py:993: UserWarning: Ignoring detection with label 'Sculpture' not in provided classes\n",
      "  warnings.warn(msg)\n",
      "/Users/jayden/.pyenv/versions/3.10.13/envs/venv3.1/lib/python3.10/site-packages/fiftyone/utils/yolo.py:993: UserWarning: Ignoring detection with label 'Medical equipment' not in provided classes\n",
      "  warnings.warn(msg)\n",
      "/Users/jayden/.pyenv/versions/3.10.13/envs/venv3.1/lib/python3.10/site-packages/fiftyone/utils/yolo.py:993: UserWarning: Ignoring detection with label 'Office building' not in provided classes\n",
      "  warnings.warn(msg)\n"
     ]
    },
    {
     "name": "stdout",
     "output_type": "stream",
     "text": [
      "                                                                                     \r"
     ]
    },
    {
     "name": "stderr",
     "output_type": "stream",
     "text": [
      "/Users/jayden/.pyenv/versions/3.10.13/envs/venv3.1/lib/python3.10/site-packages/fiftyone/utils/yolo.py:993: UserWarning: Ignoring detection with label 'Human beard' not in provided classes\n",
      "  warnings.warn(msg)\n",
      "/Users/jayden/.pyenv/versions/3.10.13/envs/venv3.1/lib/python3.10/site-packages/fiftyone/utils/yolo.py:993: UserWarning: Ignoring detection with label 'Table tennis racket' not in provided classes\n",
      "  warnings.warn(msg)\n",
      "/Users/jayden/.pyenv/versions/3.10.13/envs/venv3.1/lib/python3.10/site-packages/fiftyone/utils/yolo.py:993: UserWarning: Ignoring detection with label 'Tiara' not in provided classes\n",
      "  warnings.warn(msg)\n",
      "/Users/jayden/.pyenv/versions/3.10.13/envs/venv3.1/lib/python3.10/site-packages/fiftyone/utils/yolo.py:993: UserWarning: Ignoring detection with label 'Shirt' not in provided classes\n",
      "  warnings.warn(msg)\n",
      "/Users/jayden/.pyenv/versions/3.10.13/envs/venv3.1/lib/python3.10/site-packages/fiftyone/utils/yolo.py:993: UserWarning: Ignoring detection with label 'Swimwear' not in provided classes\n",
      "  warnings.warn(msg)\n",
      "/Users/jayden/.pyenv/versions/3.10.13/envs/venv3.1/lib/python3.10/site-packages/fiftyone/utils/yolo.py:993: UserWarning: Ignoring detection with label 'Cantaloupe' not in provided classes\n",
      "  warnings.warn(msg)\n",
      "/Users/jayden/.pyenv/versions/3.10.13/envs/venv3.1/lib/python3.10/site-packages/fiftyone/utils/yolo.py:993: UserWarning: Ignoring detection with label 'Suit' not in provided classes\n",
      "  warnings.warn(msg)\n",
      "/Users/jayden/.pyenv/versions/3.10.13/envs/venv3.1/lib/python3.10/site-packages/fiftyone/utils/yolo.py:993: UserWarning: Ignoring detection with label 'Mobile phone' not in provided classes\n",
      "  warnings.warn(msg)\n",
      "/Users/jayden/.pyenv/versions/3.10.13/envs/venv3.1/lib/python3.10/site-packages/fiftyone/utils/yolo.py:993: UserWarning: Ignoring detection with label 'Weapon' not in provided classes\n",
      "  warnings.warn(msg)\n",
      "/Users/jayden/.pyenv/versions/3.10.13/envs/venv3.1/lib/python3.10/site-packages/fiftyone/utils/yolo.py:993: UserWarning: Ignoring detection with label 'Coat' not in provided classes\n",
      "  warnings.warn(msg)\n",
      "/Users/jayden/.pyenv/versions/3.10.13/envs/venv3.1/lib/python3.10/site-packages/fiftyone/utils/yolo.py:993: UserWarning: Ignoring detection with label 'Jacket' not in provided classes\n",
      "  warnings.warn(msg)\n",
      "/Users/jayden/.pyenv/versions/3.10.13/envs/venv3.1/lib/python3.10/site-packages/fiftyone/utils/yolo.py:993: UserWarning: Ignoring detection with label 'Vehicle' not in provided classes\n",
      "  warnings.warn(msg)\n",
      "/Users/jayden/.pyenv/versions/3.10.13/envs/venv3.1/lib/python3.10/site-packages/fiftyone/utils/yolo.py:993: UserWarning: Ignoring detection with label 'Auto part' not in provided classes\n",
      "  warnings.warn(msg)\n",
      "/Users/jayden/.pyenv/versions/3.10.13/envs/venv3.1/lib/python3.10/site-packages/fiftyone/utils/yolo.py:993: UserWarning: Ignoring detection with label 'Mirror' not in provided classes\n",
      "  warnings.warn(msg)\n",
      "/Users/jayden/.pyenv/versions/3.10.13/envs/venv3.1/lib/python3.10/site-packages/fiftyone/utils/yolo.py:993: UserWarning: Ignoring detection with label 'Box' not in provided classes\n",
      "  warnings.warn(msg)\n",
      "/Users/jayden/.pyenv/versions/3.10.13/envs/venv3.1/lib/python3.10/site-packages/fiftyone/utils/yolo.py:993: UserWarning: Ignoring detection with label 'Swim cap' not in provided classes\n",
      "  warnings.warn(msg)\n",
      "/Users/jayden/.pyenv/versions/3.10.13/envs/venv3.1/lib/python3.10/site-packages/fiftyone/utils/yolo.py:993: UserWarning: Ignoring detection with label 'Chair' not in provided classes\n",
      "  warnings.warn(msg)\n",
      "/Users/jayden/.pyenv/versions/3.10.13/envs/venv3.1/lib/python3.10/site-packages/fiftyone/utils/yolo.py:993: UserWarning: Ignoring detection with label 'Toy' not in provided classes\n",
      "  warnings.warn(msg)\n"
     ]
    },
    {
     "name": "stdout",
     "output_type": "stream",
     "text": [
      "  10% |█/-------------|  101/1000 [618.0ms elapsed, 5.5s remaining, 163.4 samples/s] "
     ]
    },
    {
     "name": "stderr",
     "output_type": "stream",
     "text": [
      "/Users/jayden/.pyenv/versions/3.10.13/envs/venv3.1/lib/python3.10/site-packages/fiftyone/utils/yolo.py:993: UserWarning: Ignoring detection with label 'Window' not in provided classes\n",
      "  warnings.warn(msg)\n",
      "/Users/jayden/.pyenv/versions/3.10.13/envs/venv3.1/lib/python3.10/site-packages/fiftyone/utils/yolo.py:993: UserWarning: Ignoring detection with label 'Jeans' not in provided classes\n",
      "  warnings.warn(msg)\n",
      "/Users/jayden/.pyenv/versions/3.10.13/envs/venv3.1/lib/python3.10/site-packages/fiftyone/utils/yolo.py:993: UserWarning: Ignoring detection with label 'Computer monitor' not in provided classes\n",
      "  warnings.warn(msg)\n",
      "/Users/jayden/.pyenv/versions/3.10.13/envs/venv3.1/lib/python3.10/site-packages/fiftyone/utils/yolo.py:993: UserWarning: Ignoring detection with label 'Cat' not in provided classes\n",
      "  warnings.warn(msg)\n",
      "/Users/jayden/.pyenv/versions/3.10.13/envs/venv3.1/lib/python3.10/site-packages/fiftyone/utils/yolo.py:993: UserWarning: Ignoring detection with label 'Hair dryer' not in provided classes\n",
      "  warnings.warn(msg)\n",
      "/Users/jayden/.pyenv/versions/3.10.13/envs/venv3.1/lib/python3.10/site-packages/fiftyone/utils/yolo.py:993: UserWarning: Ignoring detection with label 'Luggage and bags' not in provided classes\n",
      "  warnings.warn(msg)\n",
      "/Users/jayden/.pyenv/versions/3.10.13/envs/venv3.1/lib/python3.10/site-packages/fiftyone/utils/yolo.py:993: UserWarning: Ignoring detection with label 'Hiking equipment' not in provided classes\n",
      "  warnings.warn(msg)\n",
      "/Users/jayden/.pyenv/versions/3.10.13/envs/venv3.1/lib/python3.10/site-packages/fiftyone/utils/yolo.py:993: UserWarning: Ignoring detection with label 'Bronze sculpture' not in provided classes\n",
      "  warnings.warn(msg)\n"
     ]
    },
    {
     "name": "stdout",
     "output_type": "stream",
     "text": [
      "  12% |█--------------|  125/1000 [724.0ms elapsed, 5.1s remaining, 172.7 samples/s] "
     ]
    },
    {
     "name": "stderr",
     "output_type": "stream",
     "text": [
      "/Users/jayden/.pyenv/versions/3.10.13/envs/venv3.1/lib/python3.10/site-packages/fiftyone/utils/yolo.py:993: UserWarning: Ignoring detection with label 'Castle' not in provided classes\n",
      "  warnings.warn(msg)\n",
      "/Users/jayden/.pyenv/versions/3.10.13/envs/venv3.1/lib/python3.10/site-packages/fiftyone/utils/yolo.py:993: UserWarning: Ignoring detection with label 'Coin' not in provided classes\n",
      "  warnings.warn(msg)\n",
      "/Users/jayden/.pyenv/versions/3.10.13/envs/venv3.1/lib/python3.10/site-packages/fiftyone/utils/yolo.py:993: UserWarning: Ignoring detection with label 'Tire' not in provided classes\n",
      "  warnings.warn(msg)\n",
      "/Users/jayden/.pyenv/versions/3.10.13/envs/venv3.1/lib/python3.10/site-packages/fiftyone/utils/yolo.py:993: UserWarning: Ignoring detection with label 'Sun hat' not in provided classes\n",
      "  warnings.warn(msg)\n",
      "/Users/jayden/.pyenv/versions/3.10.13/envs/venv3.1/lib/python3.10/site-packages/fiftyone/utils/yolo.py:993: UserWarning: Ignoring detection with label 'Fedora' not in provided classes\n",
      "  warnings.warn(msg)\n",
      "/Users/jayden/.pyenv/versions/3.10.13/envs/venv3.1/lib/python3.10/site-packages/fiftyone/utils/yolo.py:993: UserWarning: Ignoring detection with label 'Seafood' not in provided classes\n",
      "  warnings.warn(msg)\n",
      "/Users/jayden/.pyenv/versions/3.10.13/envs/venv3.1/lib/python3.10/site-packages/fiftyone/utils/yolo.py:993: UserWarning: Ignoring detection with label 'Vegetable' not in provided classes\n",
      "  warnings.warn(msg)\n",
      "/Users/jayden/.pyenv/versions/3.10.13/envs/venv3.1/lib/python3.10/site-packages/fiftyone/utils/yolo.py:993: UserWarning: Ignoring detection with label 'Baked goods' not in provided classes\n",
      "  warnings.warn(msg)\n",
      "/Users/jayden/.pyenv/versions/3.10.13/envs/venv3.1/lib/python3.10/site-packages/fiftyone/utils/yolo.py:993: UserWarning: Ignoring detection with label 'Bowling equipment' not in provided classes\n",
      "  warnings.warn(msg)\n"
     ]
    },
    {
     "name": "stdout",
     "output_type": "stream",
     "text": [
      "  15% |██|------------|  149/1000 [946.1ms elapsed, 5.4s remaining, 157.5 samples/s] "
     ]
    },
    {
     "name": "stderr",
     "output_type": "stream",
     "text": [
      "/Users/jayden/.pyenv/versions/3.10.13/envs/venv3.1/lib/python3.10/site-packages/fiftyone/utils/yolo.py:993: UserWarning: Ignoring detection with label 'Fast food' not in provided classes\n",
      "  warnings.warn(msg)\n",
      "/Users/jayden/.pyenv/versions/3.10.13/envs/venv3.1/lib/python3.10/site-packages/fiftyone/utils/yolo.py:993: UserWarning: Ignoring detection with label 'Harp' not in provided classes\n",
      "  warnings.warn(msg)\n",
      "/Users/jayden/.pyenv/versions/3.10.13/envs/venv3.1/lib/python3.10/site-packages/fiftyone/utils/yolo.py:993: UserWarning: Ignoring detection with label 'Drum' not in provided classes\n",
      "  warnings.warn(msg)\n",
      "/Users/jayden/.pyenv/versions/3.10.13/envs/venv3.1/lib/python3.10/site-packages/fiftyone/utils/yolo.py:993: UserWarning: Ignoring detection with label 'Musical instrument' not in provided classes\n",
      "  warnings.warn(msg)\n",
      "/Users/jayden/.pyenv/versions/3.10.13/envs/venv3.1/lib/python3.10/site-packages/fiftyone/utils/yolo.py:993: UserWarning: Ignoring detection with label 'Boat' not in provided classes\n",
      "  warnings.warn(msg)\n",
      "/Users/jayden/.pyenv/versions/3.10.13/envs/venv3.1/lib/python3.10/site-packages/fiftyone/utils/yolo.py:993: UserWarning: Ignoring detection with label 'Microphone' not in provided classes\n",
      "  warnings.warn(msg)\n",
      "/Users/jayden/.pyenv/versions/3.10.13/envs/venv3.1/lib/python3.10/site-packages/fiftyone/utils/yolo.py:993: UserWarning: Ignoring detection with label 'Elephant' not in provided classes\n",
      "  warnings.warn(msg)\n",
      "/Users/jayden/.pyenv/versions/3.10.13/envs/venv3.1/lib/python3.10/site-packages/fiftyone/utils/yolo.py:993: UserWarning: Ignoring detection with label 'Fish' not in provided classes\n",
      "  warnings.warn(msg)\n",
      "/Users/jayden/.pyenv/versions/3.10.13/envs/venv3.1/lib/python3.10/site-packages/fiftyone/utils/yolo.py:993: UserWarning: Ignoring detection with label 'Diaper' not in provided classes\n",
      "  warnings.warn(msg)\n",
      "/Users/jayden/.pyenv/versions/3.10.13/envs/venv3.1/lib/python3.10/site-packages/fiftyone/utils/yolo.py:993: UserWarning: Ignoring detection with label 'Tower' not in provided classes\n",
      "  warnings.warn(msg)\n",
      "/Users/jayden/.pyenv/versions/3.10.13/envs/venv3.1/lib/python3.10/site-packages/fiftyone/utils/yolo.py:993: UserWarning: Ignoring detection with label 'Football helmet' not in provided classes\n",
      "  warnings.warn(msg)\n",
      "/Users/jayden/.pyenv/versions/3.10.13/envs/venv3.1/lib/python3.10/site-packages/fiftyone/utils/yolo.py:993: UserWarning: Ignoring detection with label 'Swimming pool' not in provided classes\n",
      "  warnings.warn(msg)\n",
      "/Users/jayden/.pyenv/versions/3.10.13/envs/venv3.1/lib/python3.10/site-packages/fiftyone/utils/yolo.py:993: UserWarning: Ignoring detection with label 'Accordion' not in provided classes\n",
      "  warnings.warn(msg)\n"
     ]
    },
    {
     "name": "stdout",
     "output_type": "stream",
     "text": [
      "  22% |███\\-----------|  222/1000 [1.3s elapsed, 4.4s remaining, 176.5 samples/s]    "
     ]
    },
    {
     "name": "stderr",
     "output_type": "stream",
     "text": [
      "/Users/jayden/.pyenv/versions/3.10.13/envs/venv3.1/lib/python3.10/site-packages/fiftyone/utils/yolo.py:993: UserWarning: Ignoring detection with label 'Beer' not in provided classes\n",
      "  warnings.warn(msg)\n",
      "/Users/jayden/.pyenv/versions/3.10.13/envs/venv3.1/lib/python3.10/site-packages/fiftyone/utils/yolo.py:993: UserWarning: Ignoring detection with label 'Motorcycle' not in provided classes\n",
      "  warnings.warn(msg)\n",
      "/Users/jayden/.pyenv/versions/3.10.13/envs/venv3.1/lib/python3.10/site-packages/fiftyone/utils/yolo.py:993: UserWarning: Ignoring detection with label 'Parachute' not in provided classes\n",
      "  warnings.warn(msg)\n",
      "/Users/jayden/.pyenv/versions/3.10.13/envs/venv3.1/lib/python3.10/site-packages/fiftyone/utils/yolo.py:993: UserWarning: Ignoring detection with label 'Convenience store' not in provided classes\n",
      "  warnings.warn(msg)\n",
      "/Users/jayden/.pyenv/versions/3.10.13/envs/venv3.1/lib/python3.10/site-packages/fiftyone/utils/yolo.py:993: UserWarning: Ignoring detection with label 'Animal' not in provided classes\n",
      "  warnings.warn(msg)\n",
      "/Users/jayden/.pyenv/versions/3.10.13/envs/venv3.1/lib/python3.10/site-packages/fiftyone/utils/yolo.py:993: UserWarning: Ignoring detection with label 'Horizontal bar' not in provided classes\n",
      "  warnings.warn(msg)\n",
      "/Users/jayden/.pyenv/versions/3.10.13/envs/venv3.1/lib/python3.10/site-packages/fiftyone/utils/yolo.py:993: UserWarning: Ignoring detection with label 'Paddle' not in provided classes\n",
      "  warnings.warn(msg)\n",
      "/Users/jayden/.pyenv/versions/3.10.13/envs/venv3.1/lib/python3.10/site-packages/fiftyone/utils/yolo.py:993: UserWarning: Ignoring detection with label 'Houseplant' not in provided classes\n",
      "  warnings.warn(msg)\n",
      "/Users/jayden/.pyenv/versions/3.10.13/envs/venv3.1/lib/python3.10/site-packages/fiftyone/utils/yolo.py:993: UserWarning: Ignoring detection with label 'House' not in provided classes\n",
      "  warnings.warn(msg)\n",
      "/Users/jayden/.pyenv/versions/3.10.13/envs/venv3.1/lib/python3.10/site-packages/fiftyone/utils/yolo.py:993: UserWarning: Ignoring detection with label 'Dog' not in provided classes\n",
      "  warnings.warn(msg)\n",
      "/Users/jayden/.pyenv/versions/3.10.13/envs/venv3.1/lib/python3.10/site-packages/fiftyone/utils/yolo.py:993: UserWarning: Ignoring detection with label 'Bathtub' not in provided classes\n",
      "  warnings.warn(msg)\n",
      "/Users/jayden/.pyenv/versions/3.10.13/envs/venv3.1/lib/python3.10/site-packages/fiftyone/utils/yolo.py:993: UserWarning: Ignoring detection with label 'Shorts' not in provided classes\n",
      "  warnings.warn(msg)\n",
      "/Users/jayden/.pyenv/versions/3.10.13/envs/venv3.1/lib/python3.10/site-packages/fiftyone/utils/yolo.py:993: UserWarning: Ignoring detection with label 'Volleyball (Ball)' not in provided classes\n",
      "  warnings.warn(msg)\n",
      "/Users/jayden/.pyenv/versions/3.10.13/envs/venv3.1/lib/python3.10/site-packages/fiftyone/utils/yolo.py:993: UserWarning: Ignoring detection with label 'Rabbit' not in provided classes\n",
      "  warnings.warn(msg)\n"
     ]
    },
    {
     "name": "stdout",
     "output_type": "stream",
     "text": [
      "  26% |███/-----------|  263/1000 [1.5s elapsed, 4.1s remaining, 173.0 samples/s]    "
     ]
    },
    {
     "name": "stderr",
     "output_type": "stream",
     "text": [
      "/Users/jayden/.pyenv/versions/3.10.13/envs/venv3.1/lib/python3.10/site-packages/fiftyone/utils/yolo.py:993: UserWarning: Ignoring detection with label 'Flag' not in provided classes\n",
      "  warnings.warn(msg)\n",
      "/Users/jayden/.pyenv/versions/3.10.13/envs/venv3.1/lib/python3.10/site-packages/fiftyone/utils/yolo.py:993: UserWarning: Ignoring detection with label 'Bookcase' not in provided classes\n",
      "  warnings.warn(msg)\n",
      "/Users/jayden/.pyenv/versions/3.10.13/envs/venv3.1/lib/python3.10/site-packages/fiftyone/utils/yolo.py:993: UserWarning: Ignoring detection with label 'Shelf' not in provided classes\n",
      "  warnings.warn(msg)\n",
      "/Users/jayden/.pyenv/versions/3.10.13/envs/venv3.1/lib/python3.10/site-packages/fiftyone/utils/yolo.py:993: UserWarning: Ignoring detection with label 'Book' not in provided classes\n",
      "  warnings.warn(msg)\n",
      "/Users/jayden/.pyenv/versions/3.10.13/envs/venv3.1/lib/python3.10/site-packages/fiftyone/utils/yolo.py:993: UserWarning: Ignoring detection with label 'Bed' not in provided classes\n",
      "  warnings.warn(msg)\n",
      "/Users/jayden/.pyenv/versions/3.10.13/envs/venv3.1/lib/python3.10/site-packages/fiftyone/utils/yolo.py:993: UserWarning: Ignoring detection with label 'Piano' not in provided classes\n",
      "  warnings.warn(msg)\n",
      "/Users/jayden/.pyenv/versions/3.10.13/envs/venv3.1/lib/python3.10/site-packages/fiftyone/utils/yolo.py:993: UserWarning: Ignoring detection with label 'Rifle' not in provided classes\n",
      "  warnings.warn(msg)\n",
      "/Users/jayden/.pyenv/versions/3.10.13/envs/venv3.1/lib/python3.10/site-packages/fiftyone/utils/yolo.py:993: UserWarning: Ignoring detection with label 'Pumpkin' not in provided classes\n",
      "  warnings.warn(msg)\n",
      "/Users/jayden/.pyenv/versions/3.10.13/envs/venv3.1/lib/python3.10/site-packages/fiftyone/utils/yolo.py:993: UserWarning: Ignoring detection with label 'Fruit' not in provided classes\n",
      "  warnings.warn(msg)\n",
      "/Users/jayden/.pyenv/versions/3.10.13/envs/venv3.1/lib/python3.10/site-packages/fiftyone/utils/yolo.py:993: UserWarning: Ignoring detection with label 'Tennis racket' not in provided classes\n",
      "  warnings.warn(msg)\n",
      "/Users/jayden/.pyenv/versions/3.10.13/envs/venv3.1/lib/python3.10/site-packages/fiftyone/utils/yolo.py:993: UserWarning: Ignoring detection with label 'Scoreboard' not in provided classes\n",
      "  warnings.warn(msg)\n",
      "/Users/jayden/.pyenv/versions/3.10.13/envs/venv3.1/lib/python3.10/site-packages/fiftyone/utils/yolo.py:993: UserWarning: Ignoring detection with label 'Couch' not in provided classes\n",
      "  warnings.warn(msg)\n"
     ]
    },
    {
     "name": "stdout",
     "output_type": "stream",
     "text": [
      "  30% |████\\----------|  301/1000 [1.7s elapsed, 3.8s remaining, 185.6 samples/s]    "
     ]
    },
    {
     "name": "stderr",
     "output_type": "stream",
     "text": [
      "/Users/jayden/.pyenv/versions/3.10.13/envs/venv3.1/lib/python3.10/site-packages/fiftyone/utils/yolo.py:993: UserWarning: Ignoring detection with label 'Camera' not in provided classes\n",
      "  warnings.warn(msg)\n",
      "/Users/jayden/.pyenv/versions/3.10.13/envs/venv3.1/lib/python3.10/site-packages/fiftyone/utils/yolo.py:993: UserWarning: Ignoring detection with label 'Bottle' not in provided classes\n",
      "  warnings.warn(msg)\n",
      "/Users/jayden/.pyenv/versions/3.10.13/envs/venv3.1/lib/python3.10/site-packages/fiftyone/utils/yolo.py:993: UserWarning: Ignoring detection with label 'Wine glass' not in provided classes\n",
      "  warnings.warn(msg)\n",
      "/Users/jayden/.pyenv/versions/3.10.13/envs/venv3.1/lib/python3.10/site-packages/fiftyone/utils/yolo.py:993: UserWarning: Ignoring detection with label 'Tableware' not in provided classes\n",
      "  warnings.warn(msg)\n",
      "/Users/jayden/.pyenv/versions/3.10.13/envs/venv3.1/lib/python3.10/site-packages/fiftyone/utils/yolo.py:993: UserWarning: Ignoring detection with label 'Wine' not in provided classes\n",
      "  warnings.warn(msg)\n",
      "/Users/jayden/.pyenv/versions/3.10.13/envs/venv3.1/lib/python3.10/site-packages/fiftyone/utils/yolo.py:993: UserWarning: Ignoring detection with label 'Land vehicle' not in provided classes\n",
      "  warnings.warn(msg)\n",
      "/Users/jayden/.pyenv/versions/3.10.13/envs/venv3.1/lib/python3.10/site-packages/fiftyone/utils/yolo.py:993: UserWarning: Ignoring detection with label 'Computer keyboard' not in provided classes\n",
      "  warnings.warn(msg)\n",
      "/Users/jayden/.pyenv/versions/3.10.13/envs/venv3.1/lib/python3.10/site-packages/fiftyone/utils/yolo.py:993: UserWarning: Ignoring detection with label 'Laptop' not in provided classes\n",
      "  warnings.warn(msg)\n"
     ]
    },
    {
     "name": "stdout",
     "output_type": "stream",
     "text": [
      "  34% |█████/---------|  338/1000 [1.9s elapsed, 3.5s remaining, 203.0 samples/s]    "
     ]
    },
    {
     "name": "stderr",
     "output_type": "stream",
     "text": [
      "/Users/jayden/.pyenv/versions/3.10.13/envs/venv3.1/lib/python3.10/site-packages/fiftyone/utils/yolo.py:993: UserWarning: Ignoring detection with label 'Airplane' not in provided classes\n",
      "  warnings.warn(msg)\n",
      "/Users/jayden/.pyenv/versions/3.10.13/envs/venv3.1/lib/python3.10/site-packages/fiftyone/utils/yolo.py:993: UserWarning: Ignoring detection with label 'Jacuzzi' not in provided classes\n",
      "  warnings.warn(msg)\n",
      "/Users/jayden/.pyenv/versions/3.10.13/envs/venv3.1/lib/python3.10/site-packages/fiftyone/utils/yolo.py:993: UserWarning: Ignoring detection with label 'Cowboy hat' not in provided classes\n",
      "  warnings.warn(msg)\n",
      "/Users/jayden/.pyenv/versions/3.10.13/envs/venv3.1/lib/python3.10/site-packages/fiftyone/utils/yolo.py:993: UserWarning: Ignoring detection with label 'Sombrero' not in provided classes\n",
      "  warnings.warn(msg)\n",
      "/Users/jayden/.pyenv/versions/3.10.13/envs/venv3.1/lib/python3.10/site-packages/fiftyone/utils/yolo.py:993: UserWarning: Ignoring detection with label 'Balance beam' not in provided classes\n",
      "  warnings.warn(msg)\n",
      "/Users/jayden/.pyenv/versions/3.10.13/envs/venv3.1/lib/python3.10/site-packages/fiftyone/utils/yolo.py:993: UserWarning: Ignoring detection with label 'Dessert' not in provided classes\n",
      "  warnings.warn(msg)\n",
      "/Users/jayden/.pyenv/versions/3.10.13/envs/venv3.1/lib/python3.10/site-packages/fiftyone/utils/yolo.py:993: UserWarning: Ignoring detection with label 'Palm tree' not in provided classes\n",
      "  warnings.warn(msg)\n",
      "/Users/jayden/.pyenv/versions/3.10.13/envs/venv3.1/lib/python3.10/site-packages/fiftyone/utils/yolo.py:993: UserWarning: Ignoring detection with label 'Human foot' not in provided classes\n",
      "  warnings.warn(msg)\n",
      "/Users/jayden/.pyenv/versions/3.10.13/envs/venv3.1/lib/python3.10/site-packages/fiftyone/utils/yolo.py:993: UserWarning: Ignoring detection with label 'Tie' not in provided classes\n",
      "  warnings.warn(msg)\n",
      "/Users/jayden/.pyenv/versions/3.10.13/envs/venv3.1/lib/python3.10/site-packages/fiftyone/utils/yolo.py:993: UserWarning: Ignoring detection with label 'Carnivore' not in provided classes\n",
      "  warnings.warn(msg)\n",
      "/Users/jayden/.pyenv/versions/3.10.13/envs/venv3.1/lib/python3.10/site-packages/fiftyone/utils/yolo.py:993: UserWarning: Ignoring detection with label 'High heels' not in provided classes\n",
      "  warnings.warn(msg)\n",
      "/Users/jayden/.pyenv/versions/3.10.13/envs/venv3.1/lib/python3.10/site-packages/fiftyone/utils/yolo.py:993: UserWarning: Ignoring detection with label 'Sandal' not in provided classes\n",
      "  warnings.warn(msg)\n"
     ]
    },
    {
     "name": "stdout",
     "output_type": "stream",
     "text": [
      "  37% |█████\\---------|  374/1000 [2.1s elapsed, 3.4s remaining, 192.0 samples/s]    "
     ]
    },
    {
     "name": "stderr",
     "output_type": "stream",
     "text": [
      "/Users/jayden/.pyenv/versions/3.10.13/envs/venv3.1/lib/python3.10/site-packages/fiftyone/utils/yolo.py:993: UserWarning: Ignoring detection with label 'Countertop' not in provided classes\n",
      "  warnings.warn(msg)\n",
      "/Users/jayden/.pyenv/versions/3.10.13/envs/venv3.1/lib/python3.10/site-packages/fiftyone/utils/yolo.py:993: UserWarning: Ignoring detection with label 'Tank' not in provided classes\n",
      "  warnings.warn(msg)\n",
      "/Users/jayden/.pyenv/versions/3.10.13/envs/venv3.1/lib/python3.10/site-packages/fiftyone/utils/yolo.py:993: UserWarning: Ignoring detection with label 'Wheelchair' not in provided classes\n",
      "  warnings.warn(msg)\n",
      "/Users/jayden/.pyenv/versions/3.10.13/envs/venv3.1/lib/python3.10/site-packages/fiftyone/utils/yolo.py:993: UserWarning: Ignoring detection with label 'Pillow' not in provided classes\n",
      "  warnings.warn(msg)\n"
     ]
    },
    {
     "name": "stdout",
     "output_type": "stream",
     "text": [
      "  45% |██████---------|  450/1000 [2.4s elapsed, 2.8s remaining, 200.6 samples/s]    "
     ]
    },
    {
     "name": "stderr",
     "output_type": "stream",
     "text": [
      "/Users/jayden/.pyenv/versions/3.10.13/envs/venv3.1/lib/python3.10/site-packages/fiftyone/utils/yolo.py:993: UserWarning: Ignoring detection with label 'Bird' not in provided classes\n",
      "  warnings.warn(msg)\n",
      "/Users/jayden/.pyenv/versions/3.10.13/envs/venv3.1/lib/python3.10/site-packages/fiftyone/utils/yolo.py:993: UserWarning: Ignoring detection with label 'Parrot' not in provided classes\n",
      "  warnings.warn(msg)\n",
      "/Users/jayden/.pyenv/versions/3.10.13/envs/venv3.1/lib/python3.10/site-packages/fiftyone/utils/yolo.py:993: UserWarning: Ignoring detection with label 'Doll' not in provided classes\n",
      "  warnings.warn(msg)\n",
      "/Users/jayden/.pyenv/versions/3.10.13/envs/venv3.1/lib/python3.10/site-packages/fiftyone/utils/yolo.py:993: UserWarning: Ignoring detection with label 'Tool' not in provided classes\n",
      "  warnings.warn(msg)\n",
      "/Users/jayden/.pyenv/versions/3.10.13/envs/venv3.1/lib/python3.10/site-packages/fiftyone/utils/yolo.py:993: UserWarning: Ignoring detection with label 'Butterfly' not in provided classes\n",
      "  warnings.warn(msg)\n",
      "/Users/jayden/.pyenv/versions/3.10.13/envs/venv3.1/lib/python3.10/site-packages/fiftyone/utils/yolo.py:993: UserWarning: Ignoring detection with label 'Squash (Plant)' not in provided classes\n",
      "  warnings.warn(msg)\n",
      "/Users/jayden/.pyenv/versions/3.10.13/envs/venv3.1/lib/python3.10/site-packages/fiftyone/utils/yolo.py:993: UserWarning: Ignoring detection with label 'Flowerpot' not in provided classes\n",
      "  warnings.warn(msg)\n"
     ]
    },
    {
     "name": "stdout",
     "output_type": "stream",
     "text": [
      "  49% |███████|-------|  493/1000 [2.6s elapsed, 2.6s remaining, 207.0 samples/s]    "
     ]
    },
    {
     "name": "stderr",
     "output_type": "stream",
     "text": [
      "/Users/jayden/.pyenv/versions/3.10.13/envs/venv3.1/lib/python3.10/site-packages/fiftyone/utils/yolo.py:993: UserWarning: Ignoring detection with label 'Bus' not in provided classes\n",
      "  warnings.warn(msg)\n",
      "/Users/jayden/.pyenv/versions/3.10.13/envs/venv3.1/lib/python3.10/site-packages/fiftyone/utils/yolo.py:993: UserWarning: Ignoring detection with label 'Cosmetics' not in provided classes\n",
      "  warnings.warn(msg)\n",
      "/Users/jayden/.pyenv/versions/3.10.13/envs/venv3.1/lib/python3.10/site-packages/fiftyone/utils/yolo.py:993: UserWarning: Ignoring detection with label 'Truck' not in provided classes\n",
      "  warnings.warn(msg)\n",
      "/Users/jayden/.pyenv/versions/3.10.13/envs/venv3.1/lib/python3.10/site-packages/fiftyone/utils/yolo.py:993: UserWarning: Ignoring detection with label 'Bust' not in provided classes\n",
      "  warnings.warn(msg)\n",
      "/Users/jayden/.pyenv/versions/3.10.13/envs/venv3.1/lib/python3.10/site-packages/fiftyone/utils/yolo.py:993: UserWarning: Ignoring detection with label 'Skirt' not in provided classes\n",
      "  warnings.warn(msg)\n",
      "/Users/jayden/.pyenv/versions/3.10.13/envs/venv3.1/lib/python3.10/site-packages/fiftyone/utils/yolo.py:993: UserWarning: Ignoring detection with label 'Baseball glove' not in provided classes\n",
      "  warnings.warn(msg)\n",
      "/Users/jayden/.pyenv/versions/3.10.13/envs/venv3.1/lib/python3.10/site-packages/fiftyone/utils/yolo.py:993: UserWarning: Ignoring detection with label 'Tripod' not in provided classes\n",
      "  warnings.warn(msg)\n",
      "/Users/jayden/.pyenv/versions/3.10.13/envs/venv3.1/lib/python3.10/site-packages/fiftyone/utils/yolo.py:993: UserWarning: Ignoring detection with label 'Glove' not in provided classes\n",
      "  warnings.warn(msg)\n",
      "/Users/jayden/.pyenv/versions/3.10.13/envs/venv3.1/lib/python3.10/site-packages/fiftyone/utils/yolo.py:993: UserWarning: Ignoring detection with label 'Earrings' not in provided classes\n",
      "  warnings.warn(msg)\n"
     ]
    },
    {
     "name": "stdout",
     "output_type": "stream",
     "text": [
      "  58% |████████|------|  576/1000 [3.0s elapsed, 2.0s remaining, 220.1 samples/s]    "
     ]
    },
    {
     "name": "stderr",
     "output_type": "stream",
     "text": [
      "/Users/jayden/.pyenv/versions/3.10.13/envs/venv3.1/lib/python3.10/site-packages/fiftyone/utils/yolo.py:993: UserWarning: Ignoring detection with label 'Billiard table' not in provided classes\n",
      "  warnings.warn(msg)\n",
      "/Users/jayden/.pyenv/versions/3.10.13/envs/venv3.1/lib/python3.10/site-packages/fiftyone/utils/yolo.py:993: UserWarning: Ignoring detection with label 'Lipstick' not in provided classes\n",
      "  warnings.warn(msg)\n",
      "/Users/jayden/.pyenv/versions/3.10.13/envs/venv3.1/lib/python3.10/site-packages/fiftyone/utils/yolo.py:993: UserWarning: Ignoring detection with label 'Necklace' not in provided classes\n",
      "  warnings.warn(msg)\n",
      "/Users/jayden/.pyenv/versions/3.10.13/envs/venv3.1/lib/python3.10/site-packages/fiftyone/utils/yolo.py:993: UserWarning: Ignoring detection with label 'Snack' not in provided classes\n",
      "  warnings.warn(msg)\n",
      "/Users/jayden/.pyenv/versions/3.10.13/envs/venv3.1/lib/python3.10/site-packages/fiftyone/utils/yolo.py:993: UserWarning: Ignoring detection with label 'Crown' not in provided classes\n",
      "  warnings.warn(msg)\n"
     ]
    },
    {
     "name": "stdout",
     "output_type": "stream",
     "text": [
      "  61% |█████████------|  614/1000 [3.2s elapsed, 1.9s remaining, 205.4 samples/s]    "
     ]
    },
    {
     "name": "stderr",
     "output_type": "stream",
     "text": [
      "/Users/jayden/.pyenv/versions/3.10.13/envs/venv3.1/lib/python3.10/site-packages/fiftyone/utils/yolo.py:993: UserWarning: Ignoring detection with label 'Guitar' not in provided classes\n",
      "  warnings.warn(msg)\n",
      "/Users/jayden/.pyenv/versions/3.10.13/envs/venv3.1/lib/python3.10/site-packages/fiftyone/utils/yolo.py:993: UserWarning: Ignoring detection with label 'Canoe' not in provided classes\n",
      "  warnings.warn(msg)\n",
      "/Users/jayden/.pyenv/versions/3.10.13/envs/venv3.1/lib/python3.10/site-packages/fiftyone/utils/yolo.py:993: UserWarning: Ignoring detection with label 'French horn' not in provided classes\n",
      "  warnings.warn(msg)\n",
      "/Users/jayden/.pyenv/versions/3.10.13/envs/venv3.1/lib/python3.10/site-packages/fiftyone/utils/yolo.py:993: UserWarning: Ignoring detection with label 'Trombone' not in provided classes\n",
      "  warnings.warn(msg)\n",
      "/Users/jayden/.pyenv/versions/3.10.13/envs/venv3.1/lib/python3.10/site-packages/fiftyone/utils/yolo.py:993: UserWarning: Ignoring detection with label 'Trumpet' not in provided classes\n",
      "  warnings.warn(msg)\n",
      "/Users/jayden/.pyenv/versions/3.10.13/envs/venv3.1/lib/python3.10/site-packages/fiftyone/utils/yolo.py:993: UserWarning: Ignoring detection with label 'Handbag' not in provided classes\n",
      "  warnings.warn(msg)\n"
     ]
    },
    {
     "name": "stdout",
     "output_type": "stream",
     "text": [
      "  68% |██████████/----|  679/1000 [3.6s elapsed, 1.7s remaining, 194.9 samples/s]    "
     ]
    },
    {
     "name": "stderr",
     "output_type": "stream",
     "text": [
      "/Users/jayden/.pyenv/versions/3.10.13/envs/venv3.1/lib/python3.10/site-packages/fiftyone/utils/yolo.py:993: UserWarning: Ignoring detection with label 'Vehicle registration plate' not in provided classes\n",
      "  warnings.warn(msg)\n",
      "/Users/jayden/.pyenv/versions/3.10.13/envs/venv3.1/lib/python3.10/site-packages/fiftyone/utils/yolo.py:993: UserWarning: Ignoring detection with label 'Cart' not in provided classes\n",
      "  warnings.warn(msg)\n",
      "/Users/jayden/.pyenv/versions/3.10.13/envs/venv3.1/lib/python3.10/site-packages/fiftyone/utils/yolo.py:993: UserWarning: Ignoring detection with label 'Whiteboard' not in provided classes\n",
      "  warnings.warn(msg)\n",
      "/Users/jayden/.pyenv/versions/3.10.13/envs/venv3.1/lib/python3.10/site-packages/fiftyone/utils/yolo.py:993: UserWarning: Ignoring detection with label 'Penguin' not in provided classes\n",
      "  warnings.warn(msg)\n"
     ]
    },
    {
     "name": "stdout",
     "output_type": "stream",
     "text": [
      "  72% |██████████\\----|  717/1000 [3.8s elapsed, 1.5s remaining, 194.0 samples/s]    "
     ]
    },
    {
     "name": "stderr",
     "output_type": "stream",
     "text": [
      "/Users/jayden/.pyenv/versions/3.10.13/envs/venv3.1/lib/python3.10/site-packages/fiftyone/utils/yolo.py:993: UserWarning: Ignoring detection with label 'Personal flotation device' not in provided classes\n",
      "  warnings.warn(msg)\n",
      "/Users/jayden/.pyenv/versions/3.10.13/envs/venv3.1/lib/python3.10/site-packages/fiftyone/utils/yolo.py:993: UserWarning: Ignoring detection with label 'Scarf' not in provided classes\n",
      "  warnings.warn(msg)\n",
      "/Users/jayden/.pyenv/versions/3.10.13/envs/venv3.1/lib/python3.10/site-packages/fiftyone/utils/yolo.py:993: UserWarning: Ignoring detection with label 'Television' not in provided classes\n",
      "  warnings.warn(msg)\n",
      "/Users/jayden/.pyenv/versions/3.10.13/envs/venv3.1/lib/python3.10/site-packages/fiftyone/utils/yolo.py:993: UserWarning: Ignoring detection with label 'Surfboard' not in provided classes\n",
      "  warnings.warn(msg)\n",
      "/Users/jayden/.pyenv/versions/3.10.13/envs/venv3.1/lib/python3.10/site-packages/fiftyone/utils/yolo.py:993: UserWarning: Ignoring detection with label 'Door' not in provided classes\n",
      "  warnings.warn(msg)\n",
      "/Users/jayden/.pyenv/versions/3.10.13/envs/venv3.1/lib/python3.10/site-packages/fiftyone/utils/yolo.py:993: UserWarning: Ignoring detection with label 'Ambulance' not in provided classes\n",
      "  warnings.warn(msg)\n",
      "/Users/jayden/.pyenv/versions/3.10.13/envs/venv3.1/lib/python3.10/site-packages/fiftyone/utils/yolo.py:993: UserWarning: Ignoring detection with label 'Van' not in provided classes\n",
      "  warnings.warn(msg)\n"
     ]
    },
    {
     "name": "stdout",
     "output_type": "stream",
     "text": [
      "  77% |███████████----|  772/1000 [4.1s elapsed, 1.2s remaining, 183.9 samples/s]    "
     ]
    },
    {
     "name": "stderr",
     "output_type": "stream",
     "text": [
      "/Users/jayden/.pyenv/versions/3.10.13/envs/venv3.1/lib/python3.10/site-packages/fiftyone/utils/yolo.py:993: UserWarning: Ignoring detection with label 'Picture frame' not in provided classes\n",
      "  warnings.warn(msg)\n",
      "/Users/jayden/.pyenv/versions/3.10.13/envs/venv3.1/lib/python3.10/site-packages/fiftyone/utils/yolo.py:993: UserWarning: Ignoring detection with label 'Balloon' not in provided classes\n",
      "  warnings.warn(msg)\n",
      "/Users/jayden/.pyenv/versions/3.10.13/envs/venv3.1/lib/python3.10/site-packages/fiftyone/utils/yolo.py:993: UserWarning: Ignoring detection with label 'Watercraft' not in provided classes\n",
      "  warnings.warn(msg)\n",
      "/Users/jayden/.pyenv/versions/3.10.13/envs/venv3.1/lib/python3.10/site-packages/fiftyone/utils/yolo.py:993: UserWarning: Ignoring detection with label 'Ski' not in provided classes\n",
      "  warnings.warn(msg)\n"
     ]
    },
    {
     "name": "stdout",
     "output_type": "stream",
     "text": [
      "  81% |████████████|--|  814/1000 [4.3s elapsed, 991.7ms remaining, 186.8 samples/s] "
     ]
    },
    {
     "name": "stderr",
     "output_type": "stream",
     "text": [
      "/Users/jayden/.pyenv/versions/3.10.13/envs/venv3.1/lib/python3.10/site-packages/fiftyone/utils/yolo.py:993: UserWarning: Ignoring detection with label 'Teddy bear' not in provided classes\n",
      "  warnings.warn(msg)\n",
      "/Users/jayden/.pyenv/versions/3.10.13/envs/venv3.1/lib/python3.10/site-packages/fiftyone/utils/yolo.py:993: UserWarning: Ignoring detection with label 'Snowman' not in provided classes\n",
      "  warnings.warn(msg)\n",
      "/Users/jayden/.pyenv/versions/3.10.13/envs/venv3.1/lib/python3.10/site-packages/fiftyone/utils/yolo.py:993: UserWarning: Ignoring detection with label 'Printer' not in provided classes\n",
      "  warnings.warn(msg)\n",
      "/Users/jayden/.pyenv/versions/3.10.13/envs/venv3.1/lib/python3.10/site-packages/fiftyone/utils/yolo.py:993: UserWarning: Ignoring detection with label 'Fax' not in provided classes\n",
      "  warnings.warn(msg)\n",
      "/Users/jayden/.pyenv/versions/3.10.13/envs/venv3.1/lib/python3.10/site-packages/fiftyone/utils/yolo.py:993: UserWarning: Ignoring detection with label 'Flute' not in provided classes\n",
      "  warnings.warn(msg)\n",
      "/Users/jayden/.pyenv/versions/3.10.13/envs/venv3.1/lib/python3.10/site-packages/fiftyone/utils/yolo.py:993: UserWarning: Ignoring detection with label 'Rose' not in provided classes\n",
      "  warnings.warn(msg)\n"
     ]
    },
    {
     "name": "stdout",
     "output_type": "stream",
     "text": [
      "  90% |█████████████|-|  899/1000 [4.7s elapsed, 516.0ms remaining, 196.2 samples/s] "
     ]
    },
    {
     "name": "stderr",
     "output_type": "stream",
     "text": [
      "/Users/jayden/.pyenv/versions/3.10.13/envs/venv3.1/lib/python3.10/site-packages/fiftyone/utils/yolo.py:993: UserWarning: Ignoring detection with label 'Office supplies' not in provided classes\n",
      "  warnings.warn(msg)\n",
      "/Users/jayden/.pyenv/versions/3.10.13/envs/venv3.1/lib/python3.10/site-packages/fiftyone/utils/yolo.py:993: UserWarning: Ignoring detection with label 'Stethoscope' not in provided classes\n",
      "  warnings.warn(msg)\n",
      "/Users/jayden/.pyenv/versions/3.10.13/envs/venv3.1/lib/python3.10/site-packages/fiftyone/utils/yolo.py:993: UserWarning: Ignoring detection with label 'Headphones' not in provided classes\n",
      "  warnings.warn(msg)\n"
     ]
    },
    {
     "name": "stdout",
     "output_type": "stream",
     "text": [
      "  94% |██████████████\\|  939/1000 [5.0s elapsed, 340.6ms remaining, 178.5 samples/s] "
     ]
    },
    {
     "name": "stderr",
     "output_type": "stream",
     "text": [
      "/Users/jayden/.pyenv/versions/3.10.13/envs/venv3.1/lib/python3.10/site-packages/fiftyone/utils/yolo.py:993: UserWarning: Ignoring detection with label 'Cattle' not in provided classes\n",
      "  warnings.warn(msg)\n",
      "/Users/jayden/.pyenv/versions/3.10.13/envs/venv3.1/lib/python3.10/site-packages/fiftyone/utils/yolo.py:993: UserWarning: Ignoring detection with label 'Bull' not in provided classes\n",
      "  warnings.warn(msg)\n",
      "/Users/jayden/.pyenv/versions/3.10.13/envs/venv3.1/lib/python3.10/site-packages/fiftyone/utils/yolo.py:993: UserWarning: Ignoring detection with label 'Sheep' not in provided classes\n",
      "  warnings.warn(msg)\n",
      "/Users/jayden/.pyenv/versions/3.10.13/envs/venv3.1/lib/python3.10/site-packages/fiftyone/utils/yolo.py:993: UserWarning: Ignoring detection with label 'Aircraft' not in provided classes\n",
      "  warnings.warn(msg)\n"
     ]
    },
    {
     "name": "stdout",
     "output_type": "stream",
     "text": [
      " 100% |███████████████| 1000/1000 [5.4s elapsed, 0s remaining, 157.5 samples/s]      \n"
     ]
    }
   ],
   "source": [
    "for split, num in [(\"train\", 7000), (\"validation\", 2000), (\"test\", 1000)]:\n",
    "    dataset = foz.load_zoo_dataset(\n",
    "        name=\"open-images-v7\",\n",
    "        split=split,\n",
    "        label_types=[\"detections\"],\n",
    "        classes=classes,\n",
    "        dataset_dir=dataset_origin,\n",
    "        max_samples=num,\n",
    "        shuffle=True,\n",
    "        drop_existing_dataset=True,\n",
    "    )\n",
    "\n",
    "    dataset.export(\n",
    "        export_dir=dataset_new,\n",
    "        dataset_type=fo.types.YOLOv5Dataset,\n",
    "        label_field=\"ground_truth\",\n",
    "        split=\"val\" if split == \"validation\" else split,\n",
    "        classes=classes,\n",
    "        overwrite=False,\n",
    "    )"
   ]
  }
 ],
 "metadata": {
  "kernelspec": {
   "display_name": "venv3.1",
   "language": "python",
   "name": "python3"
  },
  "language_info": {
   "codemirror_mode": {
    "name": "ipython",
    "version": 3
   },
   "file_extension": ".py",
   "mimetype": "text/x-python",
   "name": "python",
   "nbconvert_exporter": "python",
   "pygments_lexer": "ipython3",
   "version": "3.10.13"
  }
 },
 "nbformat": 4,
 "nbformat_minor": 2
}
