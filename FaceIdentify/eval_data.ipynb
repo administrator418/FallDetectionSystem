{
 "cells": [
  {
   "cell_type": "code",
   "execution_count": 1,
   "metadata": {},
   "outputs": [],
   "source": [
    "CASIA_WebFace_path = \"/Users/jayden/Library/CloudStorage/OneDrive-jaydentang/Datasets/CASIA-WebFace\"\n",
    "lfw_path = \"/Users/jayden/Library/CloudStorage/OneDrive-jaydentang/Datasets/lfw\""
   ]
  },
  {
   "cell_type": "code",
   "execution_count": 2,
   "metadata": {},
   "outputs": [],
   "source": [
    "from pathlib import Path\n",
    "import matplotlib.pyplot as plt"
   ]
  },
  {
   "cell_type": "code",
   "execution_count": 4,
   "metadata": {},
   "outputs": [
    {
     "name": "stdout",
     "output_type": "stream",
     "text": [
      "数据集总数：{'categories': 16324, 'images': 455345}个\n"
     ]
    }
   ],
   "source": [
    "# 数据集统计\n",
    "dataset_num = {\"categories\": 0, \"images\": 0}\n",
    "\n",
    "# 遍历数据集文件夹\n",
    "path = {\"CASIA_WebFace_path\": Path(CASIA_WebFace_path), \"lfw_path\": Path(lfw_path)}\n",
    "\n",
    "# 遍历统计\n",
    "for key, path in path.items():\n",
    "    for file in path.rglob(\"*\") :\n",
    "        if file.is_dir():\n",
    "            dataset_num[\"categories\"] += 1\n",
    "        elif file.is_file():\n",
    "            dataset_num[\"images\"] += 1\n",
    "\n",
    "# 打印统计结果\n",
    "print(f\"数据集总数：{dataset_num}个\")"
   ]
  }
 ],
 "metadata": {
  "kernelspec": {
   "display_name": "venv3.1",
   "language": "python",
   "name": "python3"
  },
  "language_info": {
   "codemirror_mode": {
    "name": "ipython",
    "version": 3
   },
   "file_extension": ".py",
   "mimetype": "text/x-python",
   "name": "python",
   "nbconvert_exporter": "python",
   "pygments_lexer": "ipython3",
   "version": "3.10.13"
  }
 },
 "nbformat": 4,
 "nbformat_minor": 2
}
