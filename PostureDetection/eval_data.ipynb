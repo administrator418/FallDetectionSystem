{
 "cells": [
  {
   "cell_type": "code",
   "execution_count": 1,
   "metadata": {},
   "outputs": [],
   "source": [
    "dataset_path = \"/Users/jayden/Library/CloudStorage/OneDrive-jaydentang/Datasets/FallDetection/dataset-yolo\""
   ]
  },
  {
   "cell_type": "code",
   "execution_count": 2,
   "metadata": {},
   "outputs": [],
   "source": [
    "from pathlib import Path\n",
    "import matplotlib.pyplot as plt\n",
    "from matplotlib.font_manager import FontProperties"
   ]
  },
  {
   "cell_type": "code",
   "execution_count": 3,
   "metadata": {},
   "outputs": [],
   "source": [
    "# 设置新安装的字体，替换 'Your Font Name' 为你安装的字体名称\n",
    "plt.rcParams['font.sans-serif'] = ['STHeiti']\n",
    "plt.rcParams['axes.unicode_minus'] = False  # 保证可以显示负号"
   ]
  },
  {
   "cell_type": "code",
   "execution_count": 4,
   "metadata": {},
   "outputs": [
    {
     "name": "stdout",
     "output_type": "stream",
     "text": [
      "{'全部标签': 5649, '站立姿态': 2690, '过渡姿态': 1610, '跌倒姿态': 1349}\n"
     ]
    }
   ],
   "source": [
    "# 统计数据集中各类别的数量\n",
    "dataset_num = {\"全部标签\": 0, \"站立姿态\": 0, \"过渡姿态\": 0, \"跌倒姿态\": 0}\n",
    "\n",
    "# 遍历数据集文件夹\n",
    "path = Path(dataset_path)\n",
    "for file in path.rglob(\"*\"):\n",
    "    file = str(file)\n",
    "    if file.endswith(\".txt\"):\n",
    "        # 读取txt文件\n",
    "        with open(file, \"r\") as f:\n",
    "            lines = f.readlines()\n",
    "            for line in lines:\n",
    "                dataset_num[\"全部标签\"] += 1\n",
    "                if line[0] == \"0\":\n",
    "                    dataset_num[\"站立姿态\"] += 1\n",
    "                elif line[0] == \"1\":\n",
    "                    dataset_num[\"过渡姿态\"] += 1\n",
    "                elif line[0] == \"2\":\n",
    "                    dataset_num[\"跌倒姿态\"] += 1\n",
    "\n",
    "# 打印统计结果\n",
    "print(dataset_num)"
   ]
  },
  {
   "cell_type": "code",
   "execution_count": 5,
   "metadata": {},
   "outputs": [
    {
     "name": "stderr",
     "output_type": "stream",
     "text": [
      "findfont: Generic family 'sans-serif' not found because none of the following families were found: STHeiti\n",
      "findfont: Generic family 'sans-serif' not found because none of the following families were found: STHeiti\n",
      "findfont: Generic family 'sans-serif' not found because none of the following families were found: STHeiti\n",
      "findfont: Generic family 'sans-serif' not found because none of the following families were found: STHeiti\n",
      "findfont: Generic family 'sans-serif' not found because none of the following families were found: STHeiti\n",
      "findfont: Generic family 'sans-serif' not found because none of the following families were found: STHeiti\n",
      "findfont: Generic family 'sans-serif' not found because none of the following families were found: STHeiti\n",
      "findfont: Generic family 'sans-serif' not found because none of the following families were found: STHeiti\n",
      "findfont: Generic family 'sans-serif' not found because none of the following families were found: STHeiti\n",
      "/Users/jayden/.pyenv/versions/3.10.14/envs/venv3.1/lib/python3.10/site-packages/IPython/core/pylabtools.py:152: UserWarning: Glyph 23039 (\\N{CJK UNIFIED IDEOGRAPH-59FF}) missing from current font.\n",
      "  fig.canvas.print_figure(bytes_io, **kw)\n",
      "/Users/jayden/.pyenv/versions/3.10.14/envs/venv3.1/lib/python3.10/site-packages/IPython/core/pylabtools.py:152: UserWarning: Glyph 24577 (\\N{CJK UNIFIED IDEOGRAPH-6001}) missing from current font.\n",
      "  fig.canvas.print_figure(bytes_io, **kw)\n",
      "/Users/jayden/.pyenv/versions/3.10.14/envs/venv3.1/lib/python3.10/site-packages/IPython/core/pylabtools.py:152: UserWarning: Glyph 26816 (\\N{CJK UNIFIED IDEOGRAPH-68C0}) missing from current font.\n",
      "  fig.canvas.print_figure(bytes_io, **kw)\n",
      "/Users/jayden/.pyenv/versions/3.10.14/envs/venv3.1/lib/python3.10/site-packages/IPython/core/pylabtools.py:152: UserWarning: Glyph 27979 (\\N{CJK UNIFIED IDEOGRAPH-6D4B}) missing from current font.\n",
      "  fig.canvas.print_figure(bytes_io, **kw)\n",
      "/Users/jayden/.pyenv/versions/3.10.14/envs/venv3.1/lib/python3.10/site-packages/IPython/core/pylabtools.py:152: UserWarning: Glyph 25968 (\\N{CJK UNIFIED IDEOGRAPH-6570}) missing from current font.\n",
      "  fig.canvas.print_figure(bytes_io, **kw)\n",
      "/Users/jayden/.pyenv/versions/3.10.14/envs/venv3.1/lib/python3.10/site-packages/IPython/core/pylabtools.py:152: UserWarning: Glyph 25454 (\\N{CJK UNIFIED IDEOGRAPH-636E}) missing from current font.\n",
      "  fig.canvas.print_figure(bytes_io, **kw)\n",
      "/Users/jayden/.pyenv/versions/3.10.14/envs/venv3.1/lib/python3.10/site-packages/IPython/core/pylabtools.py:152: UserWarning: Glyph 38598 (\\N{CJK UNIFIED IDEOGRAPH-96C6}) missing from current font.\n",
      "  fig.canvas.print_figure(bytes_io, **kw)\n",
      "/Users/jayden/.pyenv/versions/3.10.14/envs/venv3.1/lib/python3.10/site-packages/IPython/core/pylabtools.py:152: UserWarning: Glyph 26631 (\\N{CJK UNIFIED IDEOGRAPH-6807}) missing from current font.\n",
      "  fig.canvas.print_figure(bytes_io, **kw)\n",
      "/Users/jayden/.pyenv/versions/3.10.14/envs/venv3.1/lib/python3.10/site-packages/IPython/core/pylabtools.py:152: UserWarning: Glyph 31614 (\\N{CJK UNIFIED IDEOGRAPH-7B7E}) missing from current font.\n",
      "  fig.canvas.print_figure(bytes_io, **kw)\n",
      "/Users/jayden/.pyenv/versions/3.10.14/envs/venv3.1/lib/python3.10/site-packages/IPython/core/pylabtools.py:152: UserWarning: Glyph 32479 (\\N{CJK UNIFIED IDEOGRAPH-7EDF}) missing from current font.\n",
      "  fig.canvas.print_figure(bytes_io, **kw)\n",
      "/Users/jayden/.pyenv/versions/3.10.14/envs/venv3.1/lib/python3.10/site-packages/IPython/core/pylabtools.py:152: UserWarning: Glyph 35745 (\\N{CJK UNIFIED IDEOGRAPH-8BA1}) missing from current font.\n",
      "  fig.canvas.print_figure(bytes_io, **kw)\n",
      "findfont: Generic family 'sans-serif' not found because none of the following families were found: STHeiti\n",
      "/Users/jayden/.pyenv/versions/3.10.14/envs/venv3.1/lib/python3.10/site-packages/IPython/core/pylabtools.py:152: UserWarning: Glyph 20840 (\\N{CJK UNIFIED IDEOGRAPH-5168}) missing from current font.\n",
      "  fig.canvas.print_figure(bytes_io, **kw)\n",
      "/Users/jayden/.pyenv/versions/3.10.14/envs/venv3.1/lib/python3.10/site-packages/IPython/core/pylabtools.py:152: UserWarning: Glyph 37096 (\\N{CJK UNIFIED IDEOGRAPH-90E8}) missing from current font.\n",
      "  fig.canvas.print_figure(bytes_io, **kw)\n",
      "findfont: Generic family 'sans-serif' not found because none of the following families were found: STHeiti\n",
      "/Users/jayden/.pyenv/versions/3.10.14/envs/venv3.1/lib/python3.10/site-packages/IPython/core/pylabtools.py:152: UserWarning: Glyph 31449 (\\N{CJK UNIFIED IDEOGRAPH-7AD9}) missing from current font.\n",
      "  fig.canvas.print_figure(bytes_io, **kw)\n",
      "/Users/jayden/.pyenv/versions/3.10.14/envs/venv3.1/lib/python3.10/site-packages/IPython/core/pylabtools.py:152: UserWarning: Glyph 31435 (\\N{CJK UNIFIED IDEOGRAPH-7ACB}) missing from current font.\n",
      "  fig.canvas.print_figure(bytes_io, **kw)\n",
      "findfont: Generic family 'sans-serif' not found because none of the following families were found: STHeiti\n",
      "/Users/jayden/.pyenv/versions/3.10.14/envs/venv3.1/lib/python3.10/site-packages/IPython/core/pylabtools.py:152: UserWarning: Glyph 36807 (\\N{CJK UNIFIED IDEOGRAPH-8FC7}) missing from current font.\n",
      "  fig.canvas.print_figure(bytes_io, **kw)\n",
      "/Users/jayden/.pyenv/versions/3.10.14/envs/venv3.1/lib/python3.10/site-packages/IPython/core/pylabtools.py:152: UserWarning: Glyph 28193 (\\N{CJK UNIFIED IDEOGRAPH-6E21}) missing from current font.\n",
      "  fig.canvas.print_figure(bytes_io, **kw)\n",
      "findfont: Generic family 'sans-serif' not found because none of the following families were found: STHeiti\n",
      "/Users/jayden/.pyenv/versions/3.10.14/envs/venv3.1/lib/python3.10/site-packages/IPython/core/pylabtools.py:152: UserWarning: Glyph 36300 (\\N{CJK UNIFIED IDEOGRAPH-8DCC}) missing from current font.\n",
      "  fig.canvas.print_figure(bytes_io, **kw)\n",
      "/Users/jayden/.pyenv/versions/3.10.14/envs/venv3.1/lib/python3.10/site-packages/IPython/core/pylabtools.py:152: UserWarning: Glyph 20498 (\\N{CJK UNIFIED IDEOGRAPH-5012}) missing from current font.\n",
      "  fig.canvas.print_figure(bytes_io, **kw)\n",
      "findfont: Generic family 'sans-serif' not found because none of the following families were found: STHeiti\n",
      "findfont: Generic family 'sans-serif' not found because none of the following families were found: STHeiti\n",
      "findfont: Generic family 'sans-serif' not found because none of the following families were found: STHeiti\n",
      "findfont: Generic family 'sans-serif' not found because none of the following families were found: STHeiti\n",
      "findfont: Generic family 'sans-serif' not found because none of the following families were found: STHeiti\n",
      "findfont: Generic family 'sans-serif' not found because none of the following families were found: STHeiti\n",
      "findfont: Generic family 'sans-serif' not found because none of the following families were found: STHeiti\n",
      "findfont: Generic family 'sans-serif' not found because none of the following families were found: STHeiti\n",
      "findfont: Generic family 'sans-serif' not found because none of the following families were found: STHeiti\n",
      "findfont: Generic family 'sans-serif' not found because none of the following families were found: STHeiti\n",
      "findfont: Generic family 'sans-serif' not found because none of the following families were found: STHeiti\n",
      "findfont: Generic family 'sans-serif' not found because none of the following families were found: STHeiti\n",
      "findfont: Generic family 'sans-serif' not found because none of the following families were found: STHeiti\n",
      "findfont: Generic family 'sans-serif' not found because none of the following families were found: STHeiti\n",
      "findfont: Generic family 'sans-serif' not found because none of the following families were found: STHeiti\n",
      "findfont: Generic family 'sans-serif' not found because none of the following families were found: STHeiti\n",
      "findfont: Generic family 'sans-serif' not found because none of the following families were found: STHeiti\n",
      "findfont: Generic family 'sans-serif' not found because none of the following families were found: STHeiti\n",
      "findfont: Generic family 'sans-serif' not found because none of the following families were found: STHeiti\n",
      "findfont: Generic family 'sans-serif' not found because none of the following families were found: STHeiti\n",
      "findfont: Generic family 'sans-serif' not found because none of the following families were found: STHeiti\n",
      "findfont: Generic family 'sans-serif' not found because none of the following families were found: STHeiti\n",
      "findfont: Generic family 'sans-serif' not found because none of the following families were found: STHeiti\n",
      "findfont: Generic family 'sans-serif' not found because none of the following families were found: STHeiti\n",
      "findfont: Generic family 'sans-serif' not found because none of the following families were found: STHeiti\n",
      "findfont: Generic family 'sans-serif' not found because none of the following families were found: STHeiti\n",
      "findfont: Generic family 'sans-serif' not found because none of the following families were found: STHeiti\n",
      "findfont: Generic family 'sans-serif' not found because none of the following families were found: STHeiti\n",
      "findfont: Generic family 'sans-serif' not found because none of the following families were found: STHeiti\n",
      "findfont: Generic family 'sans-serif' not found because none of the following families were found: STHeiti\n",
      "findfont: Generic family 'sans-serif' not found because none of the following families were found: STHeiti\n",
      "findfont: Generic family 'sans-serif' not found because none of the following families were found: STHeiti\n",
      "findfont: Generic family 'sans-serif' not found because none of the following families were found: STHeiti\n",
      "findfont: Generic family 'sans-serif' not found because none of the following families were found: STHeiti\n",
      "findfont: Generic family 'sans-serif' not found because none of the following families were found: STHeiti\n",
      "findfont: Generic family 'sans-serif' not found because none of the following families were found: STHeiti\n"
     ]
    },
    {
     "data": {
      "image/png": "[encoded data removed]",
      "text/plain": [
       "<Figure size 640x480 with 1 Axes>"
      ]
     },
     "metadata": {},
     "output_type": "display_data"
    }
   ],
   "source": [
    "# 画出柱状图\n",
    "bars = plt.bar(dataset_num.keys(), dataset_num.values())\n",
    "\n",
    "# 在柱状图上显示具体数值\n",
    "for bar in bars:\n",
    "    yval = bar.get_height()\n",
    "    plt.text(bar.get_x() + bar.get_width() / 2, yval, int(yval), va=\"bottom\", ha=\"center\")\n",
    "\n",
    "# 添加标题\n",
    "plt.title(\"姿态检测数据集标签统计\")\n",
    "\n",
    "# 显示柱状图\n",
    "plt.show()"
   ]
  }
 ],
 "metadata": {
  "kernelspec": {
   "display_name": "venv3.1",
   "language": "python",
   "name": "python3"
  },
  "language_info": {
   "codemirror_mode": {
    "name": "ipython",
    "version": 3
   },
   "file_extension": ".py",
   "mimetype": "text/x-python",
   "name": "python",
   "nbconvert_exporter": "python",
   "pygments_lexer": "ipython3",
   "version": "3.10.14"
  }
 },
 "nbformat": 4,
 "nbformat_minor": 2
}
