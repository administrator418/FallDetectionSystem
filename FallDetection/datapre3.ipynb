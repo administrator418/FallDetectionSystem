{
 "cells": [
  {
   "cell_type": "code",
   "execution_count": 1,
   "metadata": {},
   "outputs": [],
   "source": [
    "import os\n",
    "import csv\n",
    "import shutil\n",
    "import pathlib\n",
    "from ultralytics import YOLO\n",
    "from PIL import Image"
   ]
  },
  {
   "cell_type": "code",
   "execution_count": 4,
   "metadata": {},
   "outputs": [
    {
     "name": "stdout",
     "output_type": "stream",
     "text": [
      "val\n"
     ]
    },
    {
     "ename": "FileNotFoundError",
     "evalue": "[Errno 2] No such file or directory: '/Users/jayden/Library/CloudStorage/OneDrive-jaydentang/Datasets/FallDetectionDataset-2017IAPR/val'",
     "output_type": "error",
     "traceback": [
      "\u001b[0;31m---------------------------------------------------------------------------\u001b[0m",
      "\u001b[0;31mFileNotFoundError\u001b[0m                         Traceback (most recent call last)",
      "Cell \u001b[0;32mIn[4], line 17\u001b[0m\n\u001b[1;32m     15\u001b[0m \u001b[38;5;28;01mif\u001b[39;00m f1 \u001b[38;5;241m==\u001b[39m \u001b[38;5;124m\"\u001b[39m\u001b[38;5;124mtrain\u001b[39m\u001b[38;5;124m\"\u001b[39m \u001b[38;5;129;01mor\u001b[39;00m f1 \u001b[38;5;241m==\u001b[39m \u001b[38;5;124m\"\u001b[39m\u001b[38;5;124mval\u001b[39m\u001b[38;5;124m\"\u001b[39m:\n\u001b[1;32m     16\u001b[0m     \u001b[38;5;28mprint\u001b[39m(f1)\n\u001b[0;32m---> 17\u001b[0m     \u001b[38;5;28;01mfor\u001b[39;00m f2 \u001b[38;5;129;01min\u001b[39;00m \u001b[43mos\u001b[49m\u001b[38;5;241;43m.\u001b[39;49m\u001b[43mlistdir\u001b[49m\u001b[43m(\u001b[49m\u001b[38;5;124;43mf\u001b[39;49m\u001b[38;5;124;43m\"\u001b[39;49m\u001b[38;5;132;43;01m{\u001b[39;49;00m\u001b[43mdataset_dir\u001b[49m\u001b[38;5;132;43;01m}\u001b[39;49;00m\u001b[38;5;124;43m/\u001b[39;49m\u001b[38;5;132;43;01m{\u001b[39;49;00m\u001b[43mf1\u001b[49m\u001b[38;5;132;43;01m}\u001b[39;49;00m\u001b[38;5;124;43m\"\u001b[39;49m\u001b[43m)\u001b[49m:\n\u001b[1;32m     18\u001b[0m         \u001b[38;5;28;01mif\u001b[39;00m os\u001b[38;5;241m.\u001b[39mpath\u001b[38;5;241m.\u001b[39misdir(\u001b[38;5;124mf\u001b[39m\u001b[38;5;124m\"\u001b[39m\u001b[38;5;132;01m{\u001b[39;00mdataset_dir\u001b[38;5;132;01m}\u001b[39;00m\u001b[38;5;124m/\u001b[39m\u001b[38;5;132;01m{\u001b[39;00mf1\u001b[38;5;132;01m}\u001b[39;00m\u001b[38;5;124m/\u001b[39m\u001b[38;5;132;01m{\u001b[39;00mf2\u001b[38;5;132;01m}\u001b[39;00m\u001b[38;5;124m\"\u001b[39m):\n\u001b[1;32m     19\u001b[0m             \u001b[38;5;28;01mwith\u001b[39;00m \u001b[38;5;28mopen\u001b[39m(\u001b[38;5;124mf\u001b[39m\u001b[38;5;124m\"\u001b[39m\u001b[38;5;132;01m{\u001b[39;00mdataset_dir\u001b[38;5;132;01m}\u001b[39;00m\u001b[38;5;124m/\u001b[39m\u001b[38;5;132;01m{\u001b[39;00mf1\u001b[38;5;132;01m}\u001b[39;00m\u001b[38;5;124m/\u001b[39m\u001b[38;5;132;01m{\u001b[39;00mf2\u001b[38;5;132;01m}\u001b[39;00m\u001b[38;5;124m/labels.csv\u001b[39m\u001b[38;5;124m\"\u001b[39m) \u001b[38;5;28;01mas\u001b[39;00m f:\n",
      "\u001b[0;31mFileNotFoundError\u001b[0m: [Errno 2] No such file or directory: '/Users/jayden/Library/CloudStorage/OneDrive-jaydentang/Datasets/FallDetectionDataset-2017IAPR/val'"
     ]
    }
   ],
   "source": [
    "dataset_dir = \"/Users/jayden/Library/CloudStorage/OneDrive-jaydentang/Datasets/FallDetectionDataset-2017IAPR\"\n",
    "dataset_yolo_dir = \"/Users/jayden/Library/CloudStorage/OneDrive-jaydentang/Datasets/FallDetectionDataset-2017IAPR-yolo\"\n",
    "model = YOLO(\"./yolov8n_person.pt\")\n",
    "\n",
    "dirs1 = [\"images\", \"labels\"]\n",
    "dirs2 = [\"train\", \"val\", \"test\"]\n",
    "\n",
    "for dir1 in dirs1:\n",
    "    for dir2 in dirs2:\n",
    "        pathlib.Path(os.path.join(dataset_yolo_dir, dir1, dir2)).mkdir(parents=True, exist_ok=True)\n",
    "\n",
    "error = [[0, 0]]\n",
    "\n",
    "for f1 in os.listdir(dataset_dir):\n",
    "    if f1 == \"train\" or f1 == \"val\":\n",
    "        print(f1)\n",
    "        for f2 in os.listdir(f\"{dataset_dir}/{f1}\"):\n",
    "            if os.path.isdir(f\"{dataset_dir}/{f1}/{f2}\"):\n",
    "                with open(f\"{dataset_dir}/{f1}/{f2}/labels.csv\") as f:\n",
    "                    labels = list(csv.reader(f))\n",
    "                for f3 in os.listdir(f\"{dataset_dir}/{f1}/{f2}/rgb\"):\n",
    "                    if f3.endswith(\"png\"):\n",
    "                        results = model(f\"{dataset_dir}/{f1}/{f2}/rgb/{f3}\")\n",
    "                        boxes = results[0].boxes.xyxy.cpu()\n",
    "                        clss = results[0].boxes.cls.cpu().tolist()\n",
    "                        box0 = []\n",
    "                        \n",
    "                        error[0][0] += 1\n",
    "                        if 0.0 not in clss or len(clss) != len(set(clss)):\n",
    "                            error[0][1] += 1\n",
    "                            error.append([f\"{f2}_{f3}\", clss])\n",
    "                            for r in results:\n",
    "                                im_array = r.plot()\n",
    "                                im = Image.fromarray(im_array[..., ::-1])\n",
    "                                im.show()\n",
    "                            while True:\n",
    "                                if input() == \"q\":\n",
    "                                    break\n",
    "\n",
    "                        for box, cls in zip(boxes, clss):\n",
    "                            if cls == 0:\n",
    "                                box_list = box.tolist()\n",
    "                                box_list.insert(0, labels[int(f3[4:-4])][1])\n",
    "                                box0.append(box_list)\n",
    "                        shutil.copyfile(f\"{dataset_dir}/{f1}/{f2}/rgb/{f3}\", f\"{dataset_yolo_dir}/images/{f1}/{f2}_{f3}\")\n",
    "                        with open(f\"{dataset_yolo_dir}/labels/{f1}/{f2}_{f3[:-4]}.txt\", \"w\") as f:\n",
    "                            for e1 in box0:\n",
    "                               f.write(\" \".join(map(str, e1)) + \"\\n\")\n",
    "                print(error)\n",
    "                print(\"1\")\n",
    "\n"
   ]
  }
 ],
 "metadata": {
  "kernelspec": {
   "display_name": "venv3.1",
   "language": "python",
   "name": "python3"
  },
  "language_info": {
   "codemirror_mode": {
    "name": "ipython",
    "version": 3
   },
   "file_extension": ".py",
   "mimetype": "text/x-python",
   "name": "python",
   "nbconvert_exporter": "python",
   "pygments_lexer": "ipython3",
   "version": "3.10.13"
  }
 },
 "nbformat": 4,
 "nbformat_minor": 2
}
