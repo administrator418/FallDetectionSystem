{
 "cells": [
  {
   "cell_type": "code",
   "execution_count": 1,
   "metadata": {},
   "outputs": [],
   "source": [
    "import xml.etree.ElementTree as ET\n",
    "import os\n",
    "import shutil\n",
    "from PIL import Image"
   ]
  },
  {
   "cell_type": "code",
   "execution_count": 2,
   "metadata": {},
   "outputs": [],
   "source": [
    "def convert(inpath, outpath, set, image_id):\n",
    "    shutil.copyfile(\n",
    "        inpath + f\"/{image_id}.jpeg\", outpath + f\"/images/{set}/{image_id}.jpeg\"\n",
    "    )\n",
    "\n",
    "    def convert_box(size, box):\n",
    "        dw, dh = 1.0 / size[0], 1.0 / size[1]\n",
    "        x, y, w, h = (\n",
    "            (box[0] + box[1]) / 2.0 - 1,\n",
    "            (box[2] + box[3]) / 2.0 - 1,\n",
    "            box[1] - box[0],\n",
    "            box[3] - box[2],\n",
    "        )\n",
    "        return x * dw, y * dh, w * dw, h * dh\n",
    "\n",
    "    in_file = open(inpath + f\"/{image_id}.xml\")\n",
    "    out_file = open(outpath + f\"/labels/{set}//{image_id}.txt\", \"w\")\n",
    "    tree = ET.parse(in_file)\n",
    "    root = tree.getroot()\n",
    "    size = root.find(\"size\")\n",
    "    w = int(size.find(\"width\").text)\n",
    "    h = int(size.find(\"height\").text)\n",
    "\n",
    "    classes = [\"up\", \"bending\", \"down\"]\n",
    "    for obj in root.iter(\"object\"):\n",
    "        cls = obj.find(\"name\").text\n",
    "        if cls in classes and int(obj.find(\"difficult\").text) != 1:\n",
    "            xmlbox = obj.find(\"bndbox\")\n",
    "            bb = convert_box(\n",
    "                (w, h),\n",
    "                [float(xmlbox.find(x).text) for x in (\"xmin\", \"xmax\", \"ymin\", \"ymax\")],\n",
    "            )\n",
    "            cls_id = classes.index(cls)\n",
    "            out_file.write(\" \".join(str(a) for a in (cls_id, *bb)) + \"\\n\")\n",
    "\n",
    "    in_file.close()\n",
    "    out_file.close()\n"
   ]
  },
  {
   "cell_type": "code",
   "execution_count": 3,
   "metadata": {},
   "outputs": [],
   "source": [
    "def partition():\n",
    "    inpath = \"/Users/jayden/Library/CloudStorage/OneDrive-jaydentang/Datasets/FallDetection/dataset2-origin\"\n",
    "    inpathDir = os.listdir(inpath)\n",
    "\n",
    "    sets = [\"train\", \"val\", \"test\"]\n",
    "    directories = [\"/Users/jayden/Library/CloudStorage/OneDrive-jaydentang/Datasets/FallDetection/dataset2-yolo/images\",\n",
    "                   \"/Users/jayden/Library/CloudStorage/OneDrive-jaydentang/Datasets/FallDetection/dataset2-yolo/labels\"]\n",
    "    for category in sets:\n",
    "        for directory in directories:\n",
    "            os.makedirs(os.path.join(directory, category), exist_ok=True)\n",
    "    outpath = \"/Users/jayden/Library/CloudStorage/OneDrive-jaydentang/Datasets/FallDetection/dataset2-yolo\"\n",
    "    \n",
    "    for i in inpathDir:\n",
    "        if i.endswith(\".xml\"):\n",
    "            tree = ET.parse(inpath + \"/\" + i)\n",
    "            root = tree.getroot()\n",
    "            size = root.find(\"size\")\n",
    "            w = int(size.find(\"width\").text)\n",
    "            h = int(size.find(\"height\").text)\n",
    "            if w == 0 or h == 0:\n",
    "                img = Image.open(inpath + \"/\" + i[:-5] + \".jpeg\")\n",
    "                w = img.width\n",
    "                h = img.height\n",
    "                size.find(\"width\").text = str(w)\n",
    "                size.find(\"height\").text = str(h)\n",
    "                tree.write(inpath + \"/\" + i)\n",
    "\n",
    "    num = len(inpathDir) / 2\n",
    "    train_num, val_num, test_num = (\n",
    "        int(num * 0.7),\n",
    "        int(num * 0.2),\n",
    "        int(num * 0.1),\n",
    "    )\n",
    "\n",
    "    print(\"train_num =\", train_num, \"\\nval_num =\", val_num, \"\\ntest_num =\", test_num)\n",
    "\n",
    "    for i in inpathDir:\n",
    "        if i.endswith(\".jpeg\"):\n",
    "            if train_num != 0:\n",
    "                convert(inpath, outpath, sets[0], i[:-5])\n",
    "                train_num -= 1\n",
    "            elif val_num != 0:\n",
    "                convert(inpath, outpath, sets[1], i[:-5])\n",
    "                val_num -= 1\n",
    "            elif test_num != 0:\n",
    "                convert(inpath, outpath, sets[2], i[:-5])\n",
    "                test_num -= 1\n"
   ]
  },
  {
   "cell_type": "code",
   "execution_count": 4,
   "metadata": {},
   "outputs": [
    {
     "name": "stdout",
     "output_type": "stream",
     "text": [
      "train_num = 2811 \n",
      "val_num = 803 \n",
      "test_num = 401\n"
     ]
    }
   ],
   "source": [
    "partition()"
   ]
  }
 ],
 "metadata": {
  "kernelspec": {
   "display_name": "venv3.1",
   "language": "python",
   "name": "python3"
  },
  "language_info": {
   "codemirror_mode": {
    "name": "ipython",
    "version": 3
   },
   "file_extension": ".py",
   "mimetype": "text/x-python",
   "name": "python",
   "nbconvert_exporter": "python",
   "pygments_lexer": "ipython3",
   "version": "3.10.13"
  }
 },
 "nbformat": 4,
 "nbformat_minor": 2
}
