{
 "cells": [
  {
   "cell_type": "code",
   "execution_count": 1,
   "metadata": {},
   "outputs": [],
   "source": [
    "import fiftyone as fo\n",
    "import fiftyone.zoo as foz"
   ]
  },
  {
   "cell_type": "code",
   "execution_count": 2,
   "metadata": {},
   "outputs": [],
   "source": [
    "dataset_origin = \"/Users/jayden/Desktop/open-images-v7-person\"\n",
    "dataset_new = \"/Users/jayden/Desktop/open-images-v7-person-yolo\"\n",
    "\n",
    "classes = [\"Person\"]"
   ]
  },
  {
   "cell_type": "code",
   "execution_count": 3,
   "metadata": {},
   "outputs": [
    {
     "name": "stdout",
     "output_type": "stream",
     "text": [
      "Downloading split 'train' to '/Users/jayden/Desktop/open-images-v7-person/train' if necessary\n",
      "Downloading 'https://storage.googleapis.com/openimages/2018_04/train/train-images-boxable-with-rotation.csv' to '/Users/jayden/Desktop/open-images-v7-person/train/metadata/image_ids.csv'\n",
      " 100% |██████|    4.8Gb/4.8Gb [26.3s elapsed, 0s remaining, 170.1Mb/s]      \n",
      "Downloading 'https://storage.googleapis.com/openimages/v5/class-descriptions-boxable.csv' to '/Users/jayden/Desktop/open-images-v7-person/train/metadata/classes.csv'\n",
      "Downloading 'https://storage.googleapis.com/openimages/2018_04/bbox_labels_600_hierarchy.json' to '/var/folders/xh/5bmll_z13gvgvfxrbrr5gn_00000gn/T/tmpzfo0_f0n/metadata/hierarchy.json'\n",
      "Downloading 'https://storage.googleapis.com/openimages/v6/oidv6-train-annotations-bbox.csv' to '/Users/jayden/Desktop/open-images-v7-person/train/labels/detections.csv'\n",
      "Downloading 7000 images\n",
      " 100% |█████████████████| 7000/7000 [15.5m elapsed, 0s remaining, 2.2 files/s]      \n",
      "Dataset info written to '/Users/jayden/Desktop/open-images-v7-person/info.json'\n",
      "Loading 'open-images-v7' split 'train'\n",
      " 100% |███████████████| 7000/7000 [31.0s elapsed, 0s remaining, 232.6 samples/s]      \n",
      "Dataset 'open-images-v7-train-7000' created\n",
      "   1% |---------------|   82/7000 [210.9ms elapsed, 17.8s remaining, 388.7 samples/s] "
     ]
    },
    {
     "name": "stderr",
     "output_type": "stream",
     "text": [
      "/Users/jayden/.pyenv/versions/3.10.13/envs/venv3.1/lib/python3.10/site-packages/fiftyone/utils/yolo.py:1029: UserWarning: Ignoring object with label 'Musical instrument' not in provided classes\n",
      "  warnings.warn(msg)\n",
      "/Users/jayden/.pyenv/versions/3.10.13/envs/venv3.1/lib/python3.10/site-packages/fiftyone/utils/yolo.py:1029: UserWarning: Ignoring object with label 'Clothing' not in provided classes\n",
      "  warnings.warn(msg)\n",
      "/Users/jayden/.pyenv/versions/3.10.13/envs/venv3.1/lib/python3.10/site-packages/fiftyone/utils/yolo.py:1029: UserWarning: Ignoring object with label 'Building' not in provided classes\n",
      "  warnings.warn(msg)\n",
      "/Users/jayden/.pyenv/versions/3.10.13/envs/venv3.1/lib/python3.10/site-packages/fiftyone/utils/yolo.py:1029: UserWarning: Ignoring object with label 'Window' not in provided classes\n",
      "  warnings.warn(msg)\n",
      "/Users/jayden/.pyenv/versions/3.10.13/envs/venv3.1/lib/python3.10/site-packages/fiftyone/utils/yolo.py:1029: UserWarning: Ignoring object with label 'Table' not in provided classes\n",
      "  warnings.warn(msg)\n",
      "/Users/jayden/.pyenv/versions/3.10.13/envs/venv3.1/lib/python3.10/site-packages/fiftyone/utils/yolo.py:1029: UserWarning: Ignoring object with label 'Wheel' not in provided classes\n",
      "  warnings.warn(msg)\n",
      "/Users/jayden/.pyenv/versions/3.10.13/envs/venv3.1/lib/python3.10/site-packages/fiftyone/utils/yolo.py:1029: UserWarning: Ignoring object with label 'Tire' not in provided classes\n",
      "  warnings.warn(msg)\n",
      "/Users/jayden/.pyenv/versions/3.10.13/envs/venv3.1/lib/python3.10/site-packages/fiftyone/utils/yolo.py:1029: UserWarning: Ignoring object with label 'Car' not in provided classes\n",
      "  warnings.warn(msg)\n",
      "/Users/jayden/.pyenv/versions/3.10.13/envs/venv3.1/lib/python3.10/site-packages/fiftyone/utils/yolo.py:1029: UserWarning: Ignoring object with label 'Footwear' not in provided classes\n",
      "  warnings.warn(msg)\n",
      "/Users/jayden/.pyenv/versions/3.10.13/envs/venv3.1/lib/python3.10/site-packages/fiftyone/utils/yolo.py:1029: UserWarning: Ignoring object with label 'Land vehicle' not in provided classes\n",
      "  warnings.warn(msg)\n",
      "/Users/jayden/.pyenv/versions/3.10.13/envs/venv3.1/lib/python3.10/site-packages/fiftyone/utils/yolo.py:1029: UserWarning: Ignoring object with label 'Drum' not in provided classes\n",
      "  warnings.warn(msg)\n",
      "/Users/jayden/.pyenv/versions/3.10.13/envs/venv3.1/lib/python3.10/site-packages/fiftyone/utils/yolo.py:1029: UserWarning: Ignoring object with label 'Fashion accessory' not in provided classes\n",
      "  warnings.warn(msg)\n",
      "/Users/jayden/.pyenv/versions/3.10.13/envs/venv3.1/lib/python3.10/site-packages/fiftyone/utils/yolo.py:1029: UserWarning: Ignoring object with label 'Human face' not in provided classes\n",
      "  warnings.warn(msg)\n",
      "/Users/jayden/.pyenv/versions/3.10.13/envs/venv3.1/lib/python3.10/site-packages/fiftyone/utils/yolo.py:1029: UserWarning: Ignoring object with label 'Snowman' not in provided classes\n",
      "  warnings.warn(msg)\n",
      "/Users/jayden/.pyenv/versions/3.10.13/envs/venv3.1/lib/python3.10/site-packages/fiftyone/utils/yolo.py:1029: UserWarning: Ignoring object with label 'Tree' not in provided classes\n",
      "  warnings.warn(msg)\n",
      "/Users/jayden/.pyenv/versions/3.10.13/envs/venv3.1/lib/python3.10/site-packages/fiftyone/utils/yolo.py:1029: UserWarning: Ignoring object with label 'Human hair' not in provided classes\n",
      "  warnings.warn(msg)\n",
      "/Users/jayden/.pyenv/versions/3.10.13/envs/venv3.1/lib/python3.10/site-packages/fiftyone/utils/yolo.py:1029: UserWarning: Ignoring object with label 'Human head' not in provided classes\n",
      "  warnings.warn(msg)\n",
      "/Users/jayden/.pyenv/versions/3.10.13/envs/venv3.1/lib/python3.10/site-packages/fiftyone/utils/yolo.py:1029: UserWarning: Ignoring object with label 'Human body' not in provided classes\n",
      "  warnings.warn(msg)\n",
      "/Users/jayden/.pyenv/versions/3.10.13/envs/venv3.1/lib/python3.10/site-packages/fiftyone/utils/yolo.py:1029: UserWarning: Ignoring object with label 'Furniture' not in provided classes\n",
      "  warnings.warn(msg)\n",
      "/Users/jayden/.pyenv/versions/3.10.13/envs/venv3.1/lib/python3.10/site-packages/fiftyone/utils/yolo.py:1029: UserWarning: Ignoring object with label 'Human arm' not in provided classes\n",
      "  warnings.warn(msg)\n",
      "/Users/jayden/.pyenv/versions/3.10.13/envs/venv3.1/lib/python3.10/site-packages/fiftyone/utils/yolo.py:1029: UserWarning: Ignoring object with label 'Chair' not in provided classes\n",
      "  warnings.warn(msg)\n",
      "/Users/jayden/.pyenv/versions/3.10.13/envs/venv3.1/lib/python3.10/site-packages/fiftyone/utils/yolo.py:1029: UserWarning: Ignoring object with label 'Plastic bag' not in provided classes\n",
      "  warnings.warn(msg)\n",
      "/Users/jayden/.pyenv/versions/3.10.13/envs/venv3.1/lib/python3.10/site-packages/fiftyone/utils/yolo.py:1029: UserWarning: Ignoring object with label 'Sculpture' not in provided classes\n",
      "  warnings.warn(msg)\n",
      "/Users/jayden/.pyenv/versions/3.10.13/envs/venv3.1/lib/python3.10/site-packages/fiftyone/utils/yolo.py:1029: UserWarning: Ignoring object with label 'Mammal' not in provided classes\n",
      "  warnings.warn(msg)\n",
      "/Users/jayden/.pyenv/versions/3.10.13/envs/venv3.1/lib/python3.10/site-packages/fiftyone/utils/yolo.py:1029: UserWarning: Ignoring object with label 'Sports equipment' not in provided classes\n",
      "  warnings.warn(msg)\n",
      "/Users/jayden/.pyenv/versions/3.10.13/envs/venv3.1/lib/python3.10/site-packages/fiftyone/utils/yolo.py:1029: UserWarning: Ignoring object with label 'Helicopter' not in provided classes\n",
      "  warnings.warn(msg)\n",
      "/Users/jayden/.pyenv/versions/3.10.13/envs/venv3.1/lib/python3.10/site-packages/fiftyone/utils/yolo.py:1029: UserWarning: Ignoring object with label 'Dog' not in provided classes\n",
      "  warnings.warn(msg)\n",
      "/Users/jayden/.pyenv/versions/3.10.13/envs/venv3.1/lib/python3.10/site-packages/fiftyone/utils/yolo.py:1029: UserWarning: Ignoring object with label 'Bronze sculpture' not in provided classes\n",
      "  warnings.warn(msg)\n",
      "/Users/jayden/.pyenv/versions/3.10.13/envs/venv3.1/lib/python3.10/site-packages/fiftyone/utils/yolo.py:1029: UserWarning: Ignoring object with label 'Snack' not in provided classes\n",
      "  warnings.warn(msg)\n",
      "/Users/jayden/.pyenv/versions/3.10.13/envs/venv3.1/lib/python3.10/site-packages/fiftyone/utils/yolo.py:1029: UserWarning: Ignoring object with label 'Horse' not in provided classes\n",
      "  warnings.warn(msg)\n",
      "/Users/jayden/.pyenv/versions/3.10.13/envs/venv3.1/lib/python3.10/site-packages/fiftyone/utils/yolo.py:1029: UserWarning: Ignoring object with label 'Guitar' not in provided classes\n",
      "  warnings.warn(msg)\n",
      "/Users/jayden/.pyenv/versions/3.10.13/envs/venv3.1/lib/python3.10/site-packages/fiftyone/utils/yolo.py:1029: UserWarning: Ignoring object with label 'Fruit' not in provided classes\n",
      "  warnings.warn(msg)\n",
      "/Users/jayden/.pyenv/versions/3.10.13/envs/venv3.1/lib/python3.10/site-packages/fiftyone/utils/yolo.py:1029: UserWarning: Ignoring object with label 'Plant' not in provided classes\n",
      "  warnings.warn(msg)\n",
      "/Users/jayden/.pyenv/versions/3.10.13/envs/venv3.1/lib/python3.10/site-packages/fiftyone/utils/yolo.py:1029: UserWarning: Ignoring object with label 'Pumpkin' not in provided classes\n",
      "  warnings.warn(msg)\n",
      "/Users/jayden/.pyenv/versions/3.10.13/envs/venv3.1/lib/python3.10/site-packages/fiftyone/utils/yolo.py:1029: UserWarning: Ignoring object with label 'Microphone' not in provided classes\n",
      "  warnings.warn(msg)\n",
      "/Users/jayden/.pyenv/versions/3.10.13/envs/venv3.1/lib/python3.10/site-packages/fiftyone/utils/yolo.py:1029: UserWarning: Ignoring object with label 'Hat' not in provided classes\n",
      "  warnings.warn(msg)\n",
      "/Users/jayden/.pyenv/versions/3.10.13/envs/venv3.1/lib/python3.10/site-packages/fiftyone/utils/yolo.py:1029: UserWarning: Ignoring object with label 'Cowboy hat' not in provided classes\n",
      "  warnings.warn(msg)\n",
      "/Users/jayden/.pyenv/versions/3.10.13/envs/venv3.1/lib/python3.10/site-packages/fiftyone/utils/yolo.py:1029: UserWarning: Ignoring object with label 'Fedora' not in provided classes\n",
      "  warnings.warn(msg)\n",
      "/Users/jayden/.pyenv/versions/3.10.13/envs/venv3.1/lib/python3.10/site-packages/fiftyone/utils/yolo.py:1029: UserWarning: Ignoring object with label 'Canoe' not in provided classes\n",
      "  warnings.warn(msg)\n",
      "/Users/jayden/.pyenv/versions/3.10.13/envs/venv3.1/lib/python3.10/site-packages/fiftyone/utils/yolo.py:1029: UserWarning: Ignoring object with label 'Paddle' not in provided classes\n",
      "  warnings.warn(msg)\n",
      "/Users/jayden/.pyenv/versions/3.10.13/envs/venv3.1/lib/python3.10/site-packages/fiftyone/utils/yolo.py:1029: UserWarning: Ignoring object with label 'Personal flotation device' not in provided classes\n",
      "  warnings.warn(msg)\n",
      "/Users/jayden/.pyenv/versions/3.10.13/envs/venv3.1/lib/python3.10/site-packages/fiftyone/utils/yolo.py:1029: UserWarning: Ignoring object with label 'Hiking equipment' not in provided classes\n",
      "  warnings.warn(msg)\n",
      "/Users/jayden/.pyenv/versions/3.10.13/envs/venv3.1/lib/python3.10/site-packages/fiftyone/utils/yolo.py:1029: UserWarning: Ignoring object with label 'Office building' not in provided classes\n",
      "  warnings.warn(msg)\n",
      "/Users/jayden/.pyenv/versions/3.10.13/envs/venv3.1/lib/python3.10/site-packages/fiftyone/utils/yolo.py:1029: UserWarning: Ignoring object with label 'Helmet' not in provided classes\n",
      "  warnings.warn(msg)\n",
      "/Users/jayden/.pyenv/versions/3.10.13/envs/venv3.1/lib/python3.10/site-packages/fiftyone/utils/yolo.py:1029: UserWarning: Ignoring object with label 'Jeans' not in provided classes\n",
      "  warnings.warn(msg)\n",
      "/Users/jayden/.pyenv/versions/3.10.13/envs/venv3.1/lib/python3.10/site-packages/fiftyone/utils/yolo.py:1029: UserWarning: Ignoring object with label 'Book' not in provided classes\n",
      "  warnings.warn(msg)\n",
      "/Users/jayden/.pyenv/versions/3.10.13/envs/venv3.1/lib/python3.10/site-packages/fiftyone/utils/yolo.py:1029: UserWarning: Ignoring object with label 'Human mouth' not in provided classes\n",
      "  warnings.warn(msg)\n",
      "/Users/jayden/.pyenv/versions/3.10.13/envs/venv3.1/lib/python3.10/site-packages/fiftyone/utils/yolo.py:1029: UserWarning: Ignoring object with label 'Human nose' not in provided classes\n",
      "  warnings.warn(msg)\n",
      "/Users/jayden/.pyenv/versions/3.10.13/envs/venv3.1/lib/python3.10/site-packages/fiftyone/utils/yolo.py:1029: UserWarning: Ignoring object with label 'Human hand' not in provided classes\n",
      "  warnings.warn(msg)\n",
      "/Users/jayden/.pyenv/versions/3.10.13/envs/venv3.1/lib/python3.10/site-packages/fiftyone/utils/yolo.py:1029: UserWarning: Ignoring object with label 'Dress' not in provided classes\n",
      "  warnings.warn(msg)\n",
      "/Users/jayden/.pyenv/versions/3.10.13/envs/venv3.1/lib/python3.10/site-packages/fiftyone/utils/yolo.py:1029: UserWarning: Ignoring object with label 'Tower' not in provided classes\n",
      "  warnings.warn(msg)\n",
      "/Users/jayden/.pyenv/versions/3.10.13/envs/venv3.1/lib/python3.10/site-packages/fiftyone/utils/yolo.py:1029: UserWarning: Ignoring object with label 'Skateboard' not in provided classes\n",
      "  warnings.warn(msg)\n",
      "/Users/jayden/.pyenv/versions/3.10.13/envs/venv3.1/lib/python3.10/site-packages/fiftyone/utils/yolo.py:1029: UserWarning: Ignoring object with label 'Desk' not in provided classes\n",
      "  warnings.warn(msg)\n",
      "/Users/jayden/.pyenv/versions/3.10.13/envs/venv3.1/lib/python3.10/site-packages/fiftyone/utils/yolo.py:1029: UserWarning: Ignoring object with label 'Vehicle' not in provided classes\n",
      "  warnings.warn(msg)\n",
      "/Users/jayden/.pyenv/versions/3.10.13/envs/venv3.1/lib/python3.10/site-packages/fiftyone/utils/yolo.py:1029: UserWarning: Ignoring object with label 'Drink' not in provided classes\n",
      "  warnings.warn(msg)\n",
      "/Users/jayden/.pyenv/versions/3.10.13/envs/venv3.1/lib/python3.10/site-packages/fiftyone/utils/yolo.py:1029: UserWarning: Ignoring object with label 'Poster' not in provided classes\n",
      "  warnings.warn(msg)\n",
      "/Users/jayden/.pyenv/versions/3.10.13/envs/venv3.1/lib/python3.10/site-packages/fiftyone/utils/yolo.py:1029: UserWarning: Ignoring object with label 'Toy' not in provided classes\n",
      "  warnings.warn(msg)\n",
      "/Users/jayden/.pyenv/versions/3.10.13/envs/venv3.1/lib/python3.10/site-packages/fiftyone/utils/yolo.py:1029: UserWarning: Ignoring object with label 'Airplane' not in provided classes\n",
      "  warnings.warn(msg)\n",
      "/Users/jayden/.pyenv/versions/3.10.13/envs/venv3.1/lib/python3.10/site-packages/fiftyone/utils/yolo.py:1029: UserWarning: Ignoring object with label 'Rifle' not in provided classes\n",
      "  warnings.warn(msg)\n",
      "/Users/jayden/.pyenv/versions/3.10.13/envs/venv3.1/lib/python3.10/site-packages/fiftyone/utils/yolo.py:1029: UserWarning: Ignoring object with label 'Animal' not in provided classes\n",
      "  warnings.warn(msg)\n",
      "/Users/jayden/.pyenv/versions/3.10.13/envs/venv3.1/lib/python3.10/site-packages/fiftyone/utils/yolo.py:1029: UserWarning: Ignoring object with label 'Flower' not in provided classes\n",
      "  warnings.warn(msg)\n",
      "/Users/jayden/.pyenv/versions/3.10.13/envs/venv3.1/lib/python3.10/site-packages/fiftyone/utils/yolo.py:1029: UserWarning: Ignoring object with label 'Glasses' not in provided classes\n",
      "  warnings.warn(msg)\n"
     ]
    },
    {
     "name": "stdout",
     "output_type": "stream",
     "text": [
      "                                                                                      \r"
     ]
    },
    {
     "name": "stderr",
     "output_type": "stream",
     "text": [
      "/Users/jayden/.pyenv/versions/3.10.13/envs/venv3.1/lib/python3.10/site-packages/fiftyone/utils/yolo.py:1029: UserWarning: Ignoring object with label 'Porch' not in provided classes\n",
      "  warnings.warn(msg)\n",
      "/Users/jayden/.pyenv/versions/3.10.13/envs/venv3.1/lib/python3.10/site-packages/fiftyone/utils/yolo.py:1029: UserWarning: Ignoring object with label 'Picture frame' not in provided classes\n",
      "  warnings.warn(msg)\n",
      "/Users/jayden/.pyenv/versions/3.10.13/envs/venv3.1/lib/python3.10/site-packages/fiftyone/utils/yolo.py:1029: UserWarning: Ignoring object with label 'House' not in provided classes\n",
      "  warnings.warn(msg)\n",
      "/Users/jayden/.pyenv/versions/3.10.13/envs/venv3.1/lib/python3.10/site-packages/fiftyone/utils/yolo.py:1029: UserWarning: Ignoring object with label 'Roller skates' not in provided classes\n",
      "  warnings.warn(msg)\n",
      "/Users/jayden/.pyenv/versions/3.10.13/envs/venv3.1/lib/python3.10/site-packages/fiftyone/utils/yolo.py:1029: UserWarning: Ignoring object with label 'Fast food' not in provided classes\n",
      "  warnings.warn(msg)\n",
      "/Users/jayden/.pyenv/versions/3.10.13/envs/venv3.1/lib/python3.10/site-packages/fiftyone/utils/yolo.py:1029: UserWarning: Ignoring object with label 'Auto part' not in provided classes\n",
      "  warnings.warn(msg)\n",
      "/Users/jayden/.pyenv/versions/3.10.13/envs/venv3.1/lib/python3.10/site-packages/fiftyone/utils/yolo.py:1029: UserWarning: Ignoring object with label 'Sombrero' not in provided classes\n",
      "  warnings.warn(msg)\n",
      "/Users/jayden/.pyenv/versions/3.10.13/envs/venv3.1/lib/python3.10/site-packages/fiftyone/utils/yolo.py:1029: UserWarning: Ignoring object with label 'Sun hat' not in provided classes\n",
      "  warnings.warn(msg)\n",
      "/Users/jayden/.pyenv/versions/3.10.13/envs/venv3.1/lib/python3.10/site-packages/fiftyone/utils/yolo.py:1029: UserWarning: Ignoring object with label 'Duck' not in provided classes\n",
      "  warnings.warn(msg)\n",
      "/Users/jayden/.pyenv/versions/3.10.13/envs/venv3.1/lib/python3.10/site-packages/fiftyone/utils/yolo.py:1029: UserWarning: Ignoring object with label 'Goose' not in provided classes\n",
      "  warnings.warn(msg)\n",
      "/Users/jayden/.pyenv/versions/3.10.13/envs/venv3.1/lib/python3.10/site-packages/fiftyone/utils/yolo.py:1029: UserWarning: Ignoring object with label 'Flag' not in provided classes\n",
      "  warnings.warn(msg)\n",
      "/Users/jayden/.pyenv/versions/3.10.13/envs/venv3.1/lib/python3.10/site-packages/fiftyone/utils/yolo.py:1029: UserWarning: Ignoring object with label 'Train' not in provided classes\n",
      "  warnings.warn(msg)\n",
      "/Users/jayden/.pyenv/versions/3.10.13/envs/venv3.1/lib/python3.10/site-packages/fiftyone/utils/yolo.py:1029: UserWarning: Ignoring object with label 'Watercraft' not in provided classes\n",
      "  warnings.warn(msg)\n",
      "/Users/jayden/.pyenv/versions/3.10.13/envs/venv3.1/lib/python3.10/site-packages/fiftyone/utils/yolo.py:1029: UserWarning: Ignoring object with label 'Weapon' not in provided classes\n",
      "  warnings.warn(msg)\n",
      "/Users/jayden/.pyenv/versions/3.10.13/envs/venv3.1/lib/python3.10/site-packages/fiftyone/utils/yolo.py:1029: UserWarning: Ignoring object with label 'Lavender (Plant)' not in provided classes\n",
      "  warnings.warn(msg)\n",
      "/Users/jayden/.pyenv/versions/3.10.13/envs/venv3.1/lib/python3.10/site-packages/fiftyone/utils/yolo.py:1029: UserWarning: Ignoring object with label 'Sunglasses' not in provided classes\n",
      "  warnings.warn(msg)\n",
      "/Users/jayden/.pyenv/versions/3.10.13/envs/venv3.1/lib/python3.10/site-packages/fiftyone/utils/yolo.py:1029: UserWarning: Ignoring object with label 'Suit' not in provided classes\n",
      "  warnings.warn(msg)\n",
      "/Users/jayden/.pyenv/versions/3.10.13/envs/venv3.1/lib/python3.10/site-packages/fiftyone/utils/yolo.py:1029: UserWarning: Ignoring object with label 'Beer' not in provided classes\n",
      "  warnings.warn(msg)\n",
      "/Users/jayden/.pyenv/versions/3.10.13/envs/venv3.1/lib/python3.10/site-packages/fiftyone/utils/yolo.py:1029: UserWarning: Ignoring object with label 'Mobile phone' not in provided classes\n",
      "  warnings.warn(msg)\n",
      "/Users/jayden/.pyenv/versions/3.10.13/envs/venv3.1/lib/python3.10/site-packages/fiftyone/utils/yolo.py:1029: UserWarning: Ignoring object with label 'Human eye' not in provided classes\n",
      "  warnings.warn(msg)\n",
      "/Users/jayden/.pyenv/versions/3.10.13/envs/venv3.1/lib/python3.10/site-packages/fiftyone/utils/yolo.py:1029: UserWarning: Ignoring object with label 'Box' not in provided classes\n",
      "  warnings.warn(msg)\n",
      "/Users/jayden/.pyenv/versions/3.10.13/envs/venv3.1/lib/python3.10/site-packages/fiftyone/utils/yolo.py:1029: UserWarning: Ignoring object with label 'Motorcycle' not in provided classes\n",
      "  warnings.warn(msg)\n",
      "/Users/jayden/.pyenv/versions/3.10.13/envs/venv3.1/lib/python3.10/site-packages/fiftyone/utils/yolo.py:1029: UserWarning: Ignoring object with label 'Boat' not in provided classes\n",
      "  warnings.warn(msg)\n",
      "/Users/jayden/.pyenv/versions/3.10.13/envs/venv3.1/lib/python3.10/site-packages/fiftyone/utils/yolo.py:1029: UserWarning: Ignoring object with label 'Fish' not in provided classes\n",
      "  warnings.warn(msg)\n",
      "/Users/jayden/.pyenv/versions/3.10.13/envs/venv3.1/lib/python3.10/site-packages/fiftyone/utils/yolo.py:1029: UserWarning: Ignoring object with label 'Glove' not in provided classes\n",
      "  warnings.warn(msg)\n",
      "/Users/jayden/.pyenv/versions/3.10.13/envs/venv3.1/lib/python3.10/site-packages/fiftyone/utils/yolo.py:1029: UserWarning: Ignoring object with label 'Jet ski' not in provided classes\n",
      "  warnings.warn(msg)\n"
     ]
    },
    {
     "name": "stdout",
     "output_type": "stream",
     "text": [
      "                                                                                      \r"
     ]
    },
    {
     "name": "stderr",
     "output_type": "stream",
     "text": [
      "/Users/jayden/.pyenv/versions/3.10.13/envs/venv3.1/lib/python3.10/site-packages/fiftyone/utils/yolo.py:1029: UserWarning: Ignoring object with label 'Coat' not in provided classes\n",
      "  warnings.warn(msg)\n",
      "/Users/jayden/.pyenv/versions/3.10.13/envs/venv3.1/lib/python3.10/site-packages/fiftyone/utils/yolo.py:1029: UserWarning: Ignoring object with label 'Fountain' not in provided classes\n",
      "  warnings.warn(msg)\n",
      "/Users/jayden/.pyenv/versions/3.10.13/envs/venv3.1/lib/python3.10/site-packages/fiftyone/utils/yolo.py:1029: UserWarning: Ignoring object with label 'Football' not in provided classes\n",
      "  warnings.warn(msg)\n",
      "/Users/jayden/.pyenv/versions/3.10.13/envs/venv3.1/lib/python3.10/site-packages/fiftyone/utils/yolo.py:1029: UserWarning: Ignoring object with label 'Stairs' not in provided classes\n",
      "  warnings.warn(msg)\n",
      "/Users/jayden/.pyenv/versions/3.10.13/envs/venv3.1/lib/python3.10/site-packages/fiftyone/utils/yolo.py:1029: UserWarning: Ignoring object with label 'Headphones' not in provided classes\n",
      "  warnings.warn(msg)\n",
      "/Users/jayden/.pyenv/versions/3.10.13/envs/venv3.1/lib/python3.10/site-packages/fiftyone/utils/yolo.py:1029: UserWarning: Ignoring object with label 'Vehicle registration plate' not in provided classes\n",
      "  warnings.warn(msg)\n",
      "/Users/jayden/.pyenv/versions/3.10.13/envs/venv3.1/lib/python3.10/site-packages/fiftyone/utils/yolo.py:1029: UserWarning: Ignoring object with label 'Football helmet' not in provided classes\n",
      "  warnings.warn(msg)\n",
      "/Users/jayden/.pyenv/versions/3.10.13/envs/venv3.1/lib/python3.10/site-packages/fiftyone/utils/yolo.py:1029: UserWarning: Ignoring object with label 'Swimming pool' not in provided classes\n",
      "  warnings.warn(msg)\n",
      "/Users/jayden/.pyenv/versions/3.10.13/envs/venv3.1/lib/python3.10/site-packages/fiftyone/utils/yolo.py:1029: UserWarning: Ignoring object with label 'Palm tree' not in provided classes\n",
      "  warnings.warn(msg)\n",
      "/Users/jayden/.pyenv/versions/3.10.13/envs/venv3.1/lib/python3.10/site-packages/fiftyone/utils/yolo.py:1029: UserWarning: Ignoring object with label 'Baseball glove' not in provided classes\n",
      "  warnings.warn(msg)\n",
      "/Users/jayden/.pyenv/versions/3.10.13/envs/venv3.1/lib/python3.10/site-packages/fiftyone/utils/yolo.py:1029: UserWarning: Ignoring object with label 'Tennis ball' not in provided classes\n",
      "  warnings.warn(msg)\n",
      "/Users/jayden/.pyenv/versions/3.10.13/envs/venv3.1/lib/python3.10/site-packages/fiftyone/utils/yolo.py:1029: UserWarning: Ignoring object with label 'Truck' not in provided classes\n",
      "  warnings.warn(msg)\n",
      "/Users/jayden/.pyenv/versions/3.10.13/envs/venv3.1/lib/python3.10/site-packages/fiftyone/utils/yolo.py:1029: UserWarning: Ignoring object with label 'Bust' not in provided classes\n",
      "  warnings.warn(msg)\n",
      "/Users/jayden/.pyenv/versions/3.10.13/envs/venv3.1/lib/python3.10/site-packages/fiftyone/utils/yolo.py:1029: UserWarning: Ignoring object with label 'Surfboard' not in provided classes\n",
      "  warnings.warn(msg)\n",
      "/Users/jayden/.pyenv/versions/3.10.13/envs/venv3.1/lib/python3.10/site-packages/fiftyone/utils/yolo.py:1029: UserWarning: Ignoring object with label 'Human leg' not in provided classes\n",
      "  warnings.warn(msg)\n",
      "/Users/jayden/.pyenv/versions/3.10.13/envs/venv3.1/lib/python3.10/site-packages/fiftyone/utils/yolo.py:1029: UserWarning: Ignoring object with label 'Human ear' not in provided classes\n",
      "  warnings.warn(msg)\n",
      "/Users/jayden/.pyenv/versions/3.10.13/envs/venv3.1/lib/python3.10/site-packages/fiftyone/utils/yolo.py:1029: UserWarning: Ignoring object with label 'Shotgun' not in provided classes\n",
      "  warnings.warn(msg)\n"
     ]
    },
    {
     "name": "stdout",
     "output_type": "stream",
     "text": [
      "   5% |/--------------|  332/7000 [1.2s elapsed, 25.1s remaining, 266.0 samples/s]    "
     ]
    },
    {
     "name": "stderr",
     "output_type": "stream",
     "text": [
      "/Users/jayden/.pyenv/versions/3.10.13/envs/venv3.1/lib/python3.10/site-packages/fiftyone/utils/yolo.py:1029: UserWarning: Ignoring object with label 'Camera' not in provided classes\n",
      "  warnings.warn(msg)\n",
      "/Users/jayden/.pyenv/versions/3.10.13/envs/venv3.1/lib/python3.10/site-packages/fiftyone/utils/yolo.py:1029: UserWarning: Ignoring object with label 'Sports uniform' not in provided classes\n",
      "  warnings.warn(msg)\n",
      "/Users/jayden/.pyenv/versions/3.10.13/envs/venv3.1/lib/python3.10/site-packages/fiftyone/utils/yolo.py:1029: UserWarning: Ignoring object with label 'Bicycle wheel' not in provided classes\n",
      "  warnings.warn(msg)\n",
      "/Users/jayden/.pyenv/versions/3.10.13/envs/venv3.1/lib/python3.10/site-packages/fiftyone/utils/yolo.py:1029: UserWarning: Ignoring object with label 'Bicycle helmet' not in provided classes\n",
      "  warnings.warn(msg)\n",
      "/Users/jayden/.pyenv/versions/3.10.13/envs/venv3.1/lib/python3.10/site-packages/fiftyone/utils/yolo.py:1029: UserWarning: Ignoring object with label 'Door' not in provided classes\n",
      "  warnings.warn(msg)\n",
      "/Users/jayden/.pyenv/versions/3.10.13/envs/venv3.1/lib/python3.10/site-packages/fiftyone/utils/yolo.py:1029: UserWarning: Ignoring object with label 'Bench' not in provided classes\n",
      "  warnings.warn(msg)\n",
      "/Users/jayden/.pyenv/versions/3.10.13/envs/venv3.1/lib/python3.10/site-packages/fiftyone/utils/yolo.py:1029: UserWarning: Ignoring object with label 'Bicycle' not in provided classes\n",
      "  warnings.warn(msg)\n",
      "/Users/jayden/.pyenv/versions/3.10.13/envs/venv3.1/lib/python3.10/site-packages/fiftyone/utils/yolo.py:1029: UserWarning: Ignoring object with label 'Tie' not in provided classes\n",
      "  warnings.warn(msg)\n",
      "/Users/jayden/.pyenv/versions/3.10.13/envs/venv3.1/lib/python3.10/site-packages/fiftyone/utils/yolo.py:1029: UserWarning: Ignoring object with label 'Trousers' not in provided classes\n",
      "  warnings.warn(msg)\n",
      "/Users/jayden/.pyenv/versions/3.10.13/envs/venv3.1/lib/python3.10/site-packages/fiftyone/utils/yolo.py:1029: UserWarning: Ignoring object with label 'Convenience store' not in provided classes\n",
      "  warnings.warn(msg)\n",
      "/Users/jayden/.pyenv/versions/3.10.13/envs/venv3.1/lib/python3.10/site-packages/fiftyone/utils/yolo.py:1029: UserWarning: Ignoring object with label 'Musical keyboard' not in provided classes\n",
      "  warnings.warn(msg)\n",
      "/Users/jayden/.pyenv/versions/3.10.13/envs/venv3.1/lib/python3.10/site-packages/fiftyone/utils/yolo.py:1029: UserWarning: Ignoring object with label 'Table tennis racket' not in provided classes\n",
      "  warnings.warn(msg)\n",
      "/Users/jayden/.pyenv/versions/3.10.13/envs/venv3.1/lib/python3.10/site-packages/fiftyone/utils/yolo.py:1029: UserWarning: Ignoring object with label 'Goggles' not in provided classes\n",
      "  warnings.warn(msg)\n",
      "/Users/jayden/.pyenv/versions/3.10.13/envs/venv3.1/lib/python3.10/site-packages/fiftyone/utils/yolo.py:1029: UserWarning: Ignoring object with label 'Cattle' not in provided classes\n",
      "  warnings.warn(msg)\n",
      "/Users/jayden/.pyenv/versions/3.10.13/envs/venv3.1/lib/python3.10/site-packages/fiftyone/utils/yolo.py:1029: UserWarning: Ignoring object with label 'Goat' not in provided classes\n",
      "  warnings.warn(msg)\n"
     ]
    },
    {
     "name": "stdout",
     "output_type": "stream",
     "text": [
      "   6% |\\--------------|  411/7000 [1.4s elapsed, 23.3s remaining, 265.7 samples/s]    "
     ]
    },
    {
     "name": "stderr",
     "output_type": "stream",
     "text": [
      "/Users/jayden/.pyenv/versions/3.10.13/envs/venv3.1/lib/python3.10/site-packages/fiftyone/utils/yolo.py:1029: UserWarning: Ignoring object with label 'Cannon' not in provided classes\n",
      "  warnings.warn(msg)\n",
      "/Users/jayden/.pyenv/versions/3.10.13/envs/venv3.1/lib/python3.10/site-packages/fiftyone/utils/yolo.py:1029: UserWarning: Ignoring object with label 'Computer keyboard' not in provided classes\n",
      "  warnings.warn(msg)\n",
      "/Users/jayden/.pyenv/versions/3.10.13/envs/venv3.1/lib/python3.10/site-packages/fiftyone/utils/yolo.py:1029: UserWarning: Ignoring object with label 'Van' not in provided classes\n",
      "  warnings.warn(msg)\n",
      "/Users/jayden/.pyenv/versions/3.10.13/envs/venv3.1/lib/python3.10/site-packages/fiftyone/utils/yolo.py:1029: UserWarning: Ignoring object with label 'Flowerpot' not in provided classes\n",
      "  warnings.warn(msg)\n",
      "/Users/jayden/.pyenv/versions/3.10.13/envs/venv3.1/lib/python3.10/site-packages/fiftyone/utils/yolo.py:1029: UserWarning: Ignoring object with label 'Houseplant' not in provided classes\n",
      "  warnings.warn(msg)\n",
      "/Users/jayden/.pyenv/versions/3.10.13/envs/venv3.1/lib/python3.10/site-packages/fiftyone/utils/yolo.py:1029: UserWarning: Ignoring object with label 'Wheelchair' not in provided classes\n",
      "  warnings.warn(msg)\n",
      "/Users/jayden/.pyenv/versions/3.10.13/envs/venv3.1/lib/python3.10/site-packages/fiftyone/utils/yolo.py:1029: UserWarning: Ignoring object with label 'Umbrella' not in provided classes\n",
      "  warnings.warn(msg)\n",
      "/Users/jayden/.pyenv/versions/3.10.13/envs/venv3.1/lib/python3.10/site-packages/fiftyone/utils/yolo.py:1029: UserWarning: Ignoring object with label 'Tripod' not in provided classes\n",
      "  warnings.warn(msg)\n",
      "/Users/jayden/.pyenv/versions/3.10.13/envs/venv3.1/lib/python3.10/site-packages/fiftyone/utils/yolo.py:1029: UserWarning: Ignoring object with label 'Baseball bat' not in provided classes\n",
      "  warnings.warn(msg)\n",
      "/Users/jayden/.pyenv/versions/3.10.13/envs/venv3.1/lib/python3.10/site-packages/fiftyone/utils/yolo.py:1029: UserWarning: Ignoring object with label 'Skyscraper' not in provided classes\n",
      "  warnings.warn(msg)\n",
      "/Users/jayden/.pyenv/versions/3.10.13/envs/venv3.1/lib/python3.10/site-packages/fiftyone/utils/yolo.py:1029: UserWarning: Ignoring object with label 'Monkey' not in provided classes\n",
      "  warnings.warn(msg)\n",
      "/Users/jayden/.pyenv/versions/3.10.13/envs/venv3.1/lib/python3.10/site-packages/fiftyone/utils/yolo.py:1029: UserWarning: Ignoring object with label 'Office supplies' not in provided classes\n",
      "  warnings.warn(msg)\n"
     ]
    },
    {
     "name": "stdout",
     "output_type": "stream",
     "text": [
      "   7% |█/-------------|  492/7000 [1.7s elapsed, 21.5s remaining, 391.5 samples/s]    "
     ]
    },
    {
     "name": "stderr",
     "output_type": "stream",
     "text": [
      "/Users/jayden/.pyenv/versions/3.10.13/envs/venv3.1/lib/python3.10/site-packages/fiftyone/utils/yolo.py:1029: UserWarning: Ignoring object with label 'Food' not in provided classes\n",
      "  warnings.warn(msg)\n",
      "/Users/jayden/.pyenv/versions/3.10.13/envs/venv3.1/lib/python3.10/site-packages/fiftyone/utils/yolo.py:1029: UserWarning: Ignoring object with label 'Street light' not in provided classes\n",
      "  warnings.warn(msg)\n",
      "/Users/jayden/.pyenv/versions/3.10.13/envs/venv3.1/lib/python3.10/site-packages/fiftyone/utils/yolo.py:1029: UserWarning: Ignoring object with label 'Laptop' not in provided classes\n",
      "  warnings.warn(msg)\n",
      "/Users/jayden/.pyenv/versions/3.10.13/envs/venv3.1/lib/python3.10/site-packages/fiftyone/utils/yolo.py:1029: UserWarning: Ignoring object with label 'Computer monitor' not in provided classes\n",
      "  warnings.warn(msg)\n",
      "/Users/jayden/.pyenv/versions/3.10.13/envs/venv3.1/lib/python3.10/site-packages/fiftyone/utils/yolo.py:1029: UserWarning: Ignoring object with label 'Parachute' not in provided classes\n",
      "  warnings.warn(msg)\n",
      "/Users/jayden/.pyenv/versions/3.10.13/envs/venv3.1/lib/python3.10/site-packages/fiftyone/utils/yolo.py:1029: UserWarning: Ignoring object with label 'Bus' not in provided classes\n",
      "  warnings.warn(msg)\n",
      "/Users/jayden/.pyenv/versions/3.10.13/envs/venv3.1/lib/python3.10/site-packages/fiftyone/utils/yolo.py:1029: UserWarning: Ignoring object with label 'Cart' not in provided classes\n",
      "  warnings.warn(msg)\n",
      "/Users/jayden/.pyenv/versions/3.10.13/envs/venv3.1/lib/python3.10/site-packages/fiftyone/utils/yolo.py:1029: UserWarning: Ignoring object with label 'Refrigerator' not in provided classes\n",
      "  warnings.warn(msg)\n",
      "/Users/jayden/.pyenv/versions/3.10.13/envs/venv3.1/lib/python3.10/site-packages/fiftyone/utils/yolo.py:1029: UserWarning: Ignoring object with label 'Bottle' not in provided classes\n",
      "  warnings.warn(msg)\n",
      "/Users/jayden/.pyenv/versions/3.10.13/envs/venv3.1/lib/python3.10/site-packages/fiftyone/utils/yolo.py:1029: UserWarning: Ignoring object with label 'Television' not in provided classes\n",
      "  warnings.warn(msg)\n",
      "/Users/jayden/.pyenv/versions/3.10.13/envs/venv3.1/lib/python3.10/site-packages/fiftyone/utils/yolo.py:1029: UserWarning: Ignoring object with label 'Wine' not in provided classes\n",
      "  warnings.warn(msg)\n",
      "/Users/jayden/.pyenv/versions/3.10.13/envs/venv3.1/lib/python3.10/site-packages/fiftyone/utils/yolo.py:1029: UserWarning: Ignoring object with label 'Piano' not in provided classes\n",
      "  warnings.warn(msg)\n",
      "/Users/jayden/.pyenv/versions/3.10.13/envs/venv3.1/lib/python3.10/site-packages/fiftyone/utils/yolo.py:1029: UserWarning: Ignoring object with label 'Doll' not in provided classes\n",
      "  warnings.warn(msg)\n"
     ]
    },
    {
     "name": "stdout",
     "output_type": "stream",
     "text": [
      "   8% |█\\-------------|  557/7000 [1.9s elapsed, 21.1s remaining, 374.2 samples/s]    "
     ]
    },
    {
     "name": "stderr",
     "output_type": "stream",
     "text": [
      "/Users/jayden/.pyenv/versions/3.10.13/envs/venv3.1/lib/python3.10/site-packages/fiftyone/utils/yolo.py:1029: UserWarning: Ignoring object with label 'Balloon' not in provided classes\n",
      "  warnings.warn(msg)\n",
      "/Users/jayden/.pyenv/versions/3.10.13/envs/venv3.1/lib/python3.10/site-packages/fiftyone/utils/yolo.py:1029: UserWarning: Ignoring object with label 'Tableware' not in provided classes\n",
      "  warnings.warn(msg)\n",
      "/Users/jayden/.pyenv/versions/3.10.13/envs/venv3.1/lib/python3.10/site-packages/fiftyone/utils/yolo.py:1029: UserWarning: Ignoring object with label 'Seafood' not in provided classes\n",
      "  warnings.warn(msg)\n",
      "/Users/jayden/.pyenv/versions/3.10.13/envs/venv3.1/lib/python3.10/site-packages/fiftyone/utils/yolo.py:1029: UserWarning: Ignoring object with label 'Lobster' not in provided classes\n",
      "  warnings.warn(msg)\n",
      "/Users/jayden/.pyenv/versions/3.10.13/envs/venv3.1/lib/python3.10/site-packages/fiftyone/utils/yolo.py:1029: UserWarning: Ignoring object with label 'Crab' not in provided classes\n",
      "  warnings.warn(msg)\n",
      "/Users/jayden/.pyenv/versions/3.10.13/envs/venv3.1/lib/python3.10/site-packages/fiftyone/utils/yolo.py:1029: UserWarning: Ignoring object with label 'Vegetable' not in provided classes\n",
      "  warnings.warn(msg)\n",
      "/Users/jayden/.pyenv/versions/3.10.13/envs/venv3.1/lib/python3.10/site-packages/fiftyone/utils/yolo.py:1029: UserWarning: Ignoring object with label 'Rose' not in provided classes\n",
      "  warnings.warn(msg)\n"
     ]
    },
    {
     "name": "stdout",
     "output_type": "stream",
     "text": [
      "  10% |█--------------|  677/7000 [2.2s elapsed, 19.9s remaining, 376.3 samples/s]    "
     ]
    },
    {
     "name": "stderr",
     "output_type": "stream",
     "text": [
      "/Users/jayden/.pyenv/versions/3.10.13/envs/venv3.1/lib/python3.10/site-packages/fiftyone/utils/yolo.py:1029: UserWarning: Ignoring object with label 'Picnic basket' not in provided classes\n",
      "  warnings.warn(msg)\n",
      "/Users/jayden/.pyenv/versions/3.10.13/envs/venv3.1/lib/python3.10/site-packages/fiftyone/utils/yolo.py:1029: UserWarning: Ignoring object with label 'Ski' not in provided classes\n",
      "  warnings.warn(msg)\n",
      "/Users/jayden/.pyenv/versions/3.10.13/envs/venv3.1/lib/python3.10/site-packages/fiftyone/utils/yolo.py:1029: UserWarning: Ignoring object with label 'Couch' not in provided classes\n",
      "  warnings.warn(msg)\n",
      "/Users/jayden/.pyenv/versions/3.10.13/envs/venv3.1/lib/python3.10/site-packages/fiftyone/utils/yolo.py:1029: UserWarning: Ignoring object with label 'Mushroom' not in provided classes\n",
      "  warnings.warn(msg)\n"
     ]
    },
    {
     "name": "stdout",
     "output_type": "stream",
     "text": [
      "  11% |█|-------------|  758/7000 [2.4s elapsed, 19.2s remaining, 377.3 samples/s]    "
     ]
    },
    {
     "name": "stderr",
     "output_type": "stream",
     "text": [
      "/Users/jayden/.pyenv/versions/3.10.13/envs/venv3.1/lib/python3.10/site-packages/fiftyone/utils/yolo.py:1029: UserWarning: Ignoring object with label 'Bookcase' not in provided classes\n",
      "  warnings.warn(msg)\n",
      "/Users/jayden/.pyenv/versions/3.10.13/envs/venv3.1/lib/python3.10/site-packages/fiftyone/utils/yolo.py:1029: UserWarning: Ignoring object with label 'Barrel' not in provided classes\n",
      "  warnings.warn(msg)\n",
      "/Users/jayden/.pyenv/versions/3.10.13/envs/venv3.1/lib/python3.10/site-packages/fiftyone/utils/yolo.py:1029: UserWarning: Ignoring object with label 'Swan' not in provided classes\n",
      "  warnings.warn(msg)\n",
      "/Users/jayden/.pyenv/versions/3.10.13/envs/venv3.1/lib/python3.10/site-packages/fiftyone/utils/yolo.py:1029: UserWarning: Ignoring object with label 'Stethoscope' not in provided classes\n",
      "  warnings.warn(msg)\n",
      "/Users/jayden/.pyenv/versions/3.10.13/envs/venv3.1/lib/python3.10/site-packages/fiftyone/utils/yolo.py:1029: UserWarning: Ignoring object with label 'Ball' not in provided classes\n",
      "  warnings.warn(msg)\n",
      "/Users/jayden/.pyenv/versions/3.10.13/envs/venv3.1/lib/python3.10/site-packages/fiftyone/utils/yolo.py:1029: UserWarning: Ignoring object with label 'Billboard' not in provided classes\n",
      "  warnings.warn(msg)\n"
     ]
    },
    {
     "name": "stdout",
     "output_type": "stream",
     "text": [
      "  12% |█--------------|  834/7000 [2.6s elapsed, 18.7s remaining, 371.6 samples/s]    "
     ]
    },
    {
     "name": "stderr",
     "output_type": "stream",
     "text": [
      "/Users/jayden/.pyenv/versions/3.10.13/envs/venv3.1/lib/python3.10/site-packages/fiftyone/utils/yolo.py:1029: UserWarning: Ignoring object with label 'Backpack' not in provided classes\n",
      "  warnings.warn(msg)\n",
      "/Users/jayden/.pyenv/versions/3.10.13/envs/venv3.1/lib/python3.10/site-packages/fiftyone/utils/yolo.py:1029: UserWarning: Ignoring object with label 'Sandal' not in provided classes\n",
      "  warnings.warn(msg)\n",
      "/Users/jayden/.pyenv/versions/3.10.13/envs/venv3.1/lib/python3.10/site-packages/fiftyone/utils/yolo.py:1029: UserWarning: Ignoring object with label 'High heels' not in provided classes\n",
      "  warnings.warn(msg)\n",
      "/Users/jayden/.pyenv/versions/3.10.13/envs/venv3.1/lib/python3.10/site-packages/fiftyone/utils/yolo.py:1029: UserWarning: Ignoring object with label 'Shirt' not in provided classes\n",
      "  warnings.warn(msg)\n",
      "/Users/jayden/.pyenv/versions/3.10.13/envs/venv3.1/lib/python3.10/site-packages/fiftyone/utils/yolo.py:1029: UserWarning: Ignoring object with label 'Bird' not in provided classes\n",
      "  warnings.warn(msg)\n",
      "/Users/jayden/.pyenv/versions/3.10.13/envs/venv3.1/lib/python3.10/site-packages/fiftyone/utils/yolo.py:1029: UserWarning: Ignoring object with label 'Saxophone' not in provided classes\n",
      "  warnings.warn(msg)\n",
      "/Users/jayden/.pyenv/versions/3.10.13/envs/venv3.1/lib/python3.10/site-packages/fiftyone/utils/yolo.py:1029: UserWarning: Ignoring object with label 'Cello' not in provided classes\n",
      "  warnings.warn(msg)\n",
      "/Users/jayden/.pyenv/versions/3.10.13/envs/venv3.1/lib/python3.10/site-packages/fiftyone/utils/yolo.py:1029: UserWarning: Ignoring object with label 'Accordion' not in provided classes\n",
      "  warnings.warn(msg)\n",
      "/Users/jayden/.pyenv/versions/3.10.13/envs/venv3.1/lib/python3.10/site-packages/fiftyone/utils/yolo.py:1029: UserWarning: Ignoring object with label 'Snowboard' not in provided classes\n",
      "  warnings.warn(msg)\n",
      "/Users/jayden/.pyenv/versions/3.10.13/envs/venv3.1/lib/python3.10/site-packages/fiftyone/utils/yolo.py:1029: UserWarning: Ignoring object with label 'Miniskirt' not in provided classes\n",
      "  warnings.warn(msg)\n",
      "/Users/jayden/.pyenv/versions/3.10.13/envs/venv3.1/lib/python3.10/site-packages/fiftyone/utils/yolo.py:1029: UserWarning: Ignoring object with label 'Wine glass' not in provided classes\n",
      "  warnings.warn(msg)\n",
      "/Users/jayden/.pyenv/versions/3.10.13/envs/venv3.1/lib/python3.10/site-packages/fiftyone/utils/yolo.py:1029: UserWarning: Ignoring object with label 'Bed' not in provided classes\n",
      "  warnings.warn(msg)\n",
      "/Users/jayden/.pyenv/versions/3.10.13/envs/venv3.1/lib/python3.10/site-packages/fiftyone/utils/yolo.py:1029: UserWarning: Ignoring object with label 'Pillow' not in provided classes\n",
      "  warnings.warn(msg)\n"
     ]
    },
    {
     "name": "stdout",
     "output_type": "stream",
     "text": [
      "  14% |██/------------|  953/7000 [2.9s elapsed, 17.9s remaining, 390.5 samples/s]    "
     ]
    },
    {
     "name": "stderr",
     "output_type": "stream",
     "text": [
      "/Users/jayden/.pyenv/versions/3.10.13/envs/venv3.1/lib/python3.10/site-packages/fiftyone/utils/yolo.py:1029: UserWarning: Ignoring object with label 'Human foot' not in provided classes\n",
      "  warnings.warn(msg)\n",
      "/Users/jayden/.pyenv/versions/3.10.13/envs/venv3.1/lib/python3.10/site-packages/fiftyone/utils/yolo.py:1029: UserWarning: Ignoring object with label 'Cabinetry' not in provided classes\n",
      "  warnings.warn(msg)\n",
      "/Users/jayden/.pyenv/versions/3.10.13/envs/venv3.1/lib/python3.10/site-packages/fiftyone/utils/yolo.py:1029: UserWarning: Ignoring object with label 'Shelf' not in provided classes\n",
      "  warnings.warn(msg)\n",
      "/Users/jayden/.pyenv/versions/3.10.13/envs/venv3.1/lib/python3.10/site-packages/fiftyone/utils/yolo.py:1029: UserWarning: Ignoring object with label 'Snowmobile' not in provided classes\n",
      "  warnings.warn(msg)\n",
      "/Users/jayden/.pyenv/versions/3.10.13/envs/venv3.1/lib/python3.10/site-packages/fiftyone/utils/yolo.py:1029: UserWarning: Ignoring object with label 'Home appliance' not in provided classes\n",
      "  warnings.warn(msg)\n",
      "/Users/jayden/.pyenv/versions/3.10.13/envs/venv3.1/lib/python3.10/site-packages/fiftyone/utils/yolo.py:1029: UserWarning: Ignoring object with label 'Tortoise' not in provided classes\n",
      "  warnings.warn(msg)\n",
      "/Users/jayden/.pyenv/versions/3.10.13/envs/venv3.1/lib/python3.10/site-packages/fiftyone/utils/yolo.py:1029: UserWarning: Ignoring object with label 'Sea turtle' not in provided classes\n",
      "  warnings.warn(msg)\n",
      "/Users/jayden/.pyenv/versions/3.10.13/envs/venv3.1/lib/python3.10/site-packages/fiftyone/utils/yolo.py:1029: UserWarning: Ignoring object with label 'Coffee table' not in provided classes\n",
      "  warnings.warn(msg)\n",
      "/Users/jayden/.pyenv/versions/3.10.13/envs/venv3.1/lib/python3.10/site-packages/fiftyone/utils/yolo.py:1029: UserWarning: Ignoring object with label 'Elephant' not in provided classes\n",
      "  warnings.warn(msg)\n",
      "/Users/jayden/.pyenv/versions/3.10.13/envs/venv3.1/lib/python3.10/site-packages/fiftyone/utils/yolo.py:1029: UserWarning: Ignoring object with label 'Taxi' not in provided classes\n",
      "  warnings.warn(msg)\n"
     ]
    },
    {
     "name": "stdout",
     "output_type": "stream",
     "text": [
      "  15% |██|------------| 1080/7000 [3.2s elapsed, 17.0s remaining, 398.1 samples/s]    "
     ]
    },
    {
     "name": "stderr",
     "output_type": "stream",
     "text": [
      "/Users/jayden/.pyenv/versions/3.10.13/envs/venv3.1/lib/python3.10/site-packages/fiftyone/utils/yolo.py:1029: UserWarning: Ignoring object with label 'Traffic light' not in provided classes\n",
      "  warnings.warn(msg)\n",
      "/Users/jayden/.pyenv/versions/3.10.13/envs/venv3.1/lib/python3.10/site-packages/fiftyone/utils/yolo.py:1029: UserWarning: Ignoring object with label 'Alpaca' not in provided classes\n",
      "  warnings.warn(msg)\n",
      "/Users/jayden/.pyenv/versions/3.10.13/envs/venv3.1/lib/python3.10/site-packages/fiftyone/utils/yolo.py:1029: UserWarning: Ignoring object with label 'Racket' not in provided classes\n",
      "  warnings.warn(msg)\n",
      "/Users/jayden/.pyenv/versions/3.10.13/envs/venv3.1/lib/python3.10/site-packages/fiftyone/utils/yolo.py:1029: UserWarning: Ignoring object with label 'Lion' not in provided classes\n",
      "  warnings.warn(msg)\n",
      "/Users/jayden/.pyenv/versions/3.10.13/envs/venv3.1/lib/python3.10/site-packages/fiftyone/utils/yolo.py:1029: UserWarning: Ignoring object with label 'Whiteboard' not in provided classes\n",
      "  warnings.warn(msg)\n",
      "/Users/jayden/.pyenv/versions/3.10.13/envs/venv3.1/lib/python3.10/site-packages/fiftyone/utils/yolo.py:1029: UserWarning: Ignoring object with label 'Juice' not in provided classes\n",
      "  warnings.warn(msg)\n",
      "/Users/jayden/.pyenv/versions/3.10.13/envs/venv3.1/lib/python3.10/site-packages/fiftyone/utils/yolo.py:1029: UserWarning: Ignoring object with label 'Ice cream' not in provided classes\n",
      "  warnings.warn(msg)\n",
      "/Users/jayden/.pyenv/versions/3.10.13/envs/venv3.1/lib/python3.10/site-packages/fiftyone/utils/yolo.py:1029: UserWarning: Ignoring object with label 'Filing cabinet' not in provided classes\n",
      "  warnings.warn(msg)\n",
      "/Users/jayden/.pyenv/versions/3.10.13/envs/venv3.1/lib/python3.10/site-packages/fiftyone/utils/yolo.py:1029: UserWarning: Ignoring object with label 'Chest of drawers' not in provided classes\n",
      "  warnings.warn(msg)\n",
      "/Users/jayden/.pyenv/versions/3.10.13/envs/venv3.1/lib/python3.10/site-packages/fiftyone/utils/yolo.py:1029: UserWarning: Ignoring object with label 'Drawer' not in provided classes\n",
      "  warnings.warn(msg)\n",
      "/Users/jayden/.pyenv/versions/3.10.13/envs/venv3.1/lib/python3.10/site-packages/fiftyone/utils/yolo.py:1029: UserWarning: Ignoring object with label 'Tent' not in provided classes\n",
      "  warnings.warn(msg)\n",
      "/Users/jayden/.pyenv/versions/3.10.13/envs/venv3.1/lib/python3.10/site-packages/fiftyone/utils/yolo.py:1029: UserWarning: Ignoring object with label 'Oven' not in provided classes\n",
      "  warnings.warn(msg)\n"
     ]
    },
    {
     "name": "stdout",
     "output_type": "stream",
     "text": [
      "  17% |██\\------------| 1194/7000 [3.5s elapsed, 16.5s remaining, 396.1 samples/s]    "
     ]
    },
    {
     "name": "stderr",
     "output_type": "stream",
     "text": [
      "/Users/jayden/.pyenv/versions/3.10.13/envs/venv3.1/lib/python3.10/site-packages/fiftyone/utils/yolo.py:1029: UserWarning: Ignoring object with label 'Swimwear' not in provided classes\n",
      "  warnings.warn(msg)\n",
      "/Users/jayden/.pyenv/versions/3.10.13/envs/venv3.1/lib/python3.10/site-packages/fiftyone/utils/yolo.py:1029: UserWarning: Ignoring object with label 'Medical equipment' not in provided classes\n",
      "  warnings.warn(msg)\n",
      "/Users/jayden/.pyenv/versions/3.10.13/envs/venv3.1/lib/python3.10/site-packages/fiftyone/utils/yolo.py:1029: UserWarning: Ignoring object with label 'Dessert' not in provided classes\n",
      "  warnings.warn(msg)\n",
      "/Users/jayden/.pyenv/versions/3.10.13/envs/venv3.1/lib/python3.10/site-packages/fiftyone/utils/yolo.py:1029: UserWarning: Ignoring object with label 'Baked goods' not in provided classes\n",
      "  warnings.warn(msg)\n",
      "/Users/jayden/.pyenv/versions/3.10.13/envs/venv3.1/lib/python3.10/site-packages/fiftyone/utils/yolo.py:1029: UserWarning: Ignoring object with label 'Crown' not in provided classes\n",
      "  warnings.warn(msg)\n",
      "/Users/jayden/.pyenv/versions/3.10.13/envs/venv3.1/lib/python3.10/site-packages/fiftyone/utils/yolo.py:1029: UserWarning: Ignoring object with label 'Chicken' not in provided classes\n",
      "  warnings.warn(msg)\n",
      "/Users/jayden/.pyenv/versions/3.10.13/envs/venv3.1/lib/python3.10/site-packages/fiftyone/utils/yolo.py:1029: UserWarning: Ignoring object with label 'Lantern' not in provided classes\n",
      "  warnings.warn(msg)\n",
      "/Users/jayden/.pyenv/versions/3.10.13/envs/venv3.1/lib/python3.10/site-packages/fiftyone/utils/yolo.py:1029: UserWarning: Ignoring object with label 'Cocktail' not in provided classes\n",
      "  warnings.warn(msg)\n"
     ]
    },
    {
     "name": "stdout",
     "output_type": "stream",
     "text": [
      "  18% |██/------------| 1264/7000 [3.7s elapsed, 16.4s remaining, 379.2 samples/s]    "
     ]
    },
    {
     "name": "stderr",
     "output_type": "stream",
     "text": [
      "/Users/jayden/.pyenv/versions/3.10.13/envs/venv3.1/lib/python3.10/site-packages/fiftyone/utils/yolo.py:1029: UserWarning: Ignoring object with label 'Cat' not in provided classes\n",
      "  warnings.warn(msg)\n",
      "/Users/jayden/.pyenv/versions/3.10.13/envs/venv3.1/lib/python3.10/site-packages/fiftyone/utils/yolo.py:1029: UserWarning: Ignoring object with label 'Stretcher' not in provided classes\n",
      "  warnings.warn(msg)\n",
      "/Users/jayden/.pyenv/versions/3.10.13/envs/venv3.1/lib/python3.10/site-packages/fiftyone/utils/yolo.py:1029: UserWarning: Ignoring object with label 'Jacket' not in provided classes\n",
      "  warnings.warn(msg)\n",
      "/Users/jayden/.pyenv/versions/3.10.13/envs/venv3.1/lib/python3.10/site-packages/fiftyone/utils/yolo.py:1029: UserWarning: Ignoring object with label 'Traffic sign' not in provided classes\n",
      "  warnings.warn(msg)\n",
      "/Users/jayden/.pyenv/versions/3.10.13/envs/venv3.1/lib/python3.10/site-packages/fiftyone/utils/yolo.py:1029: UserWarning: Ignoring object with label 'Tank' not in provided classes\n",
      "  warnings.warn(msg)\n",
      "/Users/jayden/.pyenv/versions/3.10.13/envs/venv3.1/lib/python3.10/site-packages/fiftyone/utils/yolo.py:1029: UserWarning: Ignoring object with label 'Kitchen & dining room table' not in provided classes\n",
      "  warnings.warn(msg)\n",
      "/Users/jayden/.pyenv/versions/3.10.13/envs/venv3.1/lib/python3.10/site-packages/fiftyone/utils/yolo.py:1029: UserWarning: Ignoring object with label 'Pizza' not in provided classes\n",
      "  warnings.warn(msg)\n",
      "/Users/jayden/.pyenv/versions/3.10.13/envs/venv3.1/lib/python3.10/site-packages/fiftyone/utils/yolo.py:1029: UserWarning: Ignoring object with label 'Ladder' not in provided classes\n",
      "  warnings.warn(msg)\n"
     ]
    },
    {
     "name": "stdout",
     "output_type": "stream",
     "text": [
      "  20% |██|------------| 1395/7000 [4.0s elapsed, 15.7s remaining, 394.6 samples/s]    "
     ]
    },
    {
     "name": "stderr",
     "output_type": "stream",
     "text": [
      "/Users/jayden/.pyenv/versions/3.10.13/envs/venv3.1/lib/python3.10/site-packages/fiftyone/utils/yolo.py:1029: UserWarning: Ignoring object with label 'Banjo' not in provided classes\n",
      "  warnings.warn(msg)\n",
      "/Users/jayden/.pyenv/versions/3.10.13/envs/venv3.1/lib/python3.10/site-packages/fiftyone/utils/yolo.py:1029: UserWarning: Ignoring object with label 'Curtain' not in provided classes\n",
      "  warnings.warn(msg)\n"
     ]
    },
    {
     "name": "stdout",
     "output_type": "stream",
     "text": [
      "  21% |███------------| 1472/7000 [4.2s elapsed, 15.4s remaining, 394.1 samples/s]    "
     ]
    },
    {
     "name": "stderr",
     "output_type": "stream",
     "text": [
      "/Users/jayden/.pyenv/versions/3.10.13/envs/venv3.1/lib/python3.10/site-packages/fiftyone/utils/yolo.py:1029: UserWarning: Ignoring object with label 'Boot' not in provided classes\n",
      "  warnings.warn(msg)\n",
      "/Users/jayden/.pyenv/versions/3.10.13/envs/venv3.1/lib/python3.10/site-packages/fiftyone/utils/yolo.py:1029: UserWarning: Ignoring object with label 'Tin can' not in provided classes\n",
      "  warnings.warn(msg)\n",
      "/Users/jayden/.pyenv/versions/3.10.13/envs/venv3.1/lib/python3.10/site-packages/fiftyone/utils/yolo.py:1029: UserWarning: Ignoring object with label 'Marine mammal' not in provided classes\n",
      "  warnings.warn(msg)\n",
      "/Users/jayden/.pyenv/versions/3.10.13/envs/venv3.1/lib/python3.10/site-packages/fiftyone/utils/yolo.py:1029: UserWarning: Ignoring object with label 'Snowplow' not in provided classes\n",
      "  warnings.warn(msg)\n",
      "/Users/jayden/.pyenv/versions/3.10.13/envs/venv3.1/lib/python3.10/site-packages/fiftyone/utils/yolo.py:1029: UserWarning: Ignoring object with label 'Rhinoceros' not in provided classes\n",
      "  warnings.warn(msg)\n"
     ]
    },
    {
     "name": "stdout",
     "output_type": "stream",
     "text": [
      "  25% |███|-----------| 1730/7000 [4.8s elapsed, 14.2s remaining, 409.5 samples/s]    "
     ]
    },
    {
     "name": "stderr",
     "output_type": "stream",
     "text": [
      "/Users/jayden/.pyenv/versions/3.10.13/envs/venv3.1/lib/python3.10/site-packages/fiftyone/utils/yolo.py:1029: UserWarning: Ignoring object with label 'Handbag' not in provided classes\n",
      "  warnings.warn(msg)\n",
      "/Users/jayden/.pyenv/versions/3.10.13/envs/venv3.1/lib/python3.10/site-packages/fiftyone/utils/yolo.py:1029: UserWarning: Ignoring object with label 'Kettle' not in provided classes\n",
      "  warnings.warn(msg)\n",
      "/Users/jayden/.pyenv/versions/3.10.13/envs/venv3.1/lib/python3.10/site-packages/fiftyone/utils/yolo.py:1029: UserWarning: Ignoring object with label 'Punching bag' not in provided classes\n",
      "  warnings.warn(msg)\n",
      "/Users/jayden/.pyenv/versions/3.10.13/envs/venv3.1/lib/python3.10/site-packages/fiftyone/utils/yolo.py:1029: UserWarning: Ignoring object with label 'French horn' not in provided classes\n",
      "  warnings.warn(msg)\n"
     ]
    },
    {
     "name": "stdout",
     "output_type": "stream",
     "text": [
      "  26% |███------------| 1809/7000 [5.0s elapsed, 14.1s remaining, 396.9 samples/s]    "
     ]
    },
    {
     "name": "stderr",
     "output_type": "stream",
     "text": [
      "/Users/jayden/.pyenv/versions/3.10.13/envs/venv3.1/lib/python3.10/site-packages/fiftyone/utils/yolo.py:1029: UserWarning: Ignoring object with label 'Trombone' not in provided classes\n",
      "  warnings.warn(msg)\n",
      "/Users/jayden/.pyenv/versions/3.10.13/envs/venv3.1/lib/python3.10/site-packages/fiftyone/utils/yolo.py:1029: UserWarning: Ignoring object with label 'Trumpet' not in provided classes\n",
      "  warnings.warn(msg)\n"
     ]
    },
    {
     "name": "stdout",
     "output_type": "stream",
     "text": [
      "  27% |████|----------| 1893/7000 [5.2s elapsed, 13.7s remaining, 409.2 samples/s]    "
     ]
    },
    {
     "name": "stderr",
     "output_type": "stream",
     "text": [
      "/Users/jayden/.pyenv/versions/3.10.13/envs/venv3.1/lib/python3.10/site-packages/fiftyone/utils/yolo.py:1029: UserWarning: Ignoring object with label 'Human beard' not in provided classes\n",
      "  warnings.warn(msg)\n",
      "/Users/jayden/.pyenv/versions/3.10.13/envs/venv3.1/lib/python3.10/site-packages/fiftyone/utils/yolo.py:1029: UserWarning: Ignoring object with label 'Pen' not in provided classes\n",
      "  warnings.warn(msg)\n",
      "/Users/jayden/.pyenv/versions/3.10.13/envs/venv3.1/lib/python3.10/site-packages/fiftyone/utils/yolo.py:1029: UserWarning: Ignoring object with label 'Violin' not in provided classes\n",
      "  warnings.warn(msg)\n",
      "/Users/jayden/.pyenv/versions/3.10.13/envs/venv3.1/lib/python3.10/site-packages/fiftyone/utils/yolo.py:1029: UserWarning: Ignoring object with label 'Lamp' not in provided classes\n",
      "  warnings.warn(msg)\n",
      "/Users/jayden/.pyenv/versions/3.10.13/envs/venv3.1/lib/python3.10/site-packages/fiftyone/utils/yolo.py:1029: UserWarning: Ignoring object with label 'Mule' not in provided classes\n",
      "  warnings.warn(msg)\n",
      "/Users/jayden/.pyenv/versions/3.10.13/envs/venv3.1/lib/python3.10/site-packages/fiftyone/utils/yolo.py:1029: UserWarning: Ignoring object with label 'Mirror' not in provided classes\n",
      "  warnings.warn(msg)\n"
     ]
    },
    {
     "name": "stdout",
     "output_type": "stream",
     "text": [
      "  29% |████|----------| 2055/7000 [5.6s elapsed, 13.3s remaining, 393.7 samples/s]    "
     ]
    },
    {
     "name": "stderr",
     "output_type": "stream",
     "text": [
      "/Users/jayden/.pyenv/versions/3.10.13/envs/venv3.1/lib/python3.10/site-packages/fiftyone/utils/yolo.py:1029: UserWarning: Ignoring object with label 'Luggage and bags' not in provided classes\n",
      "  warnings.warn(msg)\n",
      "/Users/jayden/.pyenv/versions/3.10.13/envs/venv3.1/lib/python3.10/site-packages/fiftyone/utils/yolo.py:1029: UserWarning: Ignoring object with label 'Infant bed' not in provided classes\n",
      "  warnings.warn(msg)\n",
      "/Users/jayden/.pyenv/versions/3.10.13/envs/venv3.1/lib/python3.10/site-packages/fiftyone/utils/yolo.py:1029: UserWarning: Ignoring object with label 'Flashlight' not in provided classes\n",
      "  warnings.warn(msg)\n",
      "/Users/jayden/.pyenv/versions/3.10.13/envs/venv3.1/lib/python3.10/site-packages/fiftyone/utils/yolo.py:1029: UserWarning: Ignoring object with label 'Dairy Product' not in provided classes\n",
      "  warnings.warn(msg)\n",
      "/Users/jayden/.pyenv/versions/3.10.13/envs/venv3.1/lib/python3.10/site-packages/fiftyone/utils/yolo.py:1029: UserWarning: Ignoring object with label 'Lipstick' not in provided classes\n",
      "  warnings.warn(msg)\n",
      "/Users/jayden/.pyenv/versions/3.10.13/envs/venv3.1/lib/python3.10/site-packages/fiftyone/utils/yolo.py:1029: UserWarning: Ignoring object with label 'Candle' not in provided classes\n",
      "  warnings.warn(msg)\n"
     ]
    },
    {
     "name": "stdout",
     "output_type": "stream",
     "text": [
      "  30% |████-----------| 2132/7000 [5.8s elapsed, 13.1s remaining, 387.0 samples/s]    "
     ]
    },
    {
     "name": "stderr",
     "output_type": "stream",
     "text": [
      "/Users/jayden/.pyenv/versions/3.10.13/envs/venv3.1/lib/python3.10/site-packages/fiftyone/utils/yolo.py:1029: UserWarning: Ignoring object with label 'Balance beam' not in provided classes\n",
      "  warnings.warn(msg)\n",
      "/Users/jayden/.pyenv/versions/3.10.13/envs/venv3.1/lib/python3.10/site-packages/fiftyone/utils/yolo.py:1029: UserWarning: Ignoring object with label 'Sea lion' not in provided classes\n",
      "  warnings.warn(msg)\n",
      "/Users/jayden/.pyenv/versions/3.10.13/envs/venv3.1/lib/python3.10/site-packages/fiftyone/utils/yolo.py:1029: UserWarning: Ignoring object with label 'Harbor seal' not in provided classes\n",
      "  warnings.warn(msg)\n",
      "/Users/jayden/.pyenv/versions/3.10.13/envs/venv3.1/lib/python3.10/site-packages/fiftyone/utils/yolo.py:1029: UserWarning: Ignoring object with label 'Shorts' not in provided classes\n",
      "  warnings.warn(msg)\n",
      "/Users/jayden/.pyenv/versions/3.10.13/envs/venv3.1/lib/python3.10/site-packages/fiftyone/utils/yolo.py:1029: UserWarning: Ignoring object with label 'Kitchen appliance' not in provided classes\n",
      "  warnings.warn(msg)\n",
      "/Users/jayden/.pyenv/versions/3.10.13/envs/venv3.1/lib/python3.10/site-packages/fiftyone/utils/yolo.py:1029: UserWarning: Ignoring object with label 'Sink' not in provided classes\n",
      "  warnings.warn(msg)\n",
      "/Users/jayden/.pyenv/versions/3.10.13/envs/venv3.1/lib/python3.10/site-packages/fiftyone/utils/yolo.py:1029: UserWarning: Ignoring object with label 'Gas stove' not in provided classes\n",
      "  warnings.warn(msg)\n",
      "/Users/jayden/.pyenv/versions/3.10.13/envs/venv3.1/lib/python3.10/site-packages/fiftyone/utils/yolo.py:1029: UserWarning: Ignoring object with label 'Countertop' not in provided classes\n",
      "  warnings.warn(msg)\n"
     ]
    },
    {
     "name": "stdout",
     "output_type": "stream",
     "text": [
      "  32% |████/----------| 2233/7000 [6.3s elapsed, 13.9s remaining, 318.1 samples/s]    "
     ]
    },
    {
     "name": "stderr",
     "output_type": "stream",
     "text": [
      "/Users/jayden/.pyenv/versions/3.10.13/envs/venv3.1/lib/python3.10/site-packages/fiftyone/utils/yolo.py:1029: UserWarning: Ignoring object with label 'Aircraft' not in provided classes\n",
      "  warnings.warn(msg)\n",
      "/Users/jayden/.pyenv/versions/3.10.13/envs/venv3.1/lib/python3.10/site-packages/fiftyone/utils/yolo.py:1029: UserWarning: Ignoring object with label 'Treadmill' not in provided classes\n",
      "  warnings.warn(msg)\n",
      "/Users/jayden/.pyenv/versions/3.10.13/envs/venv3.1/lib/python3.10/site-packages/fiftyone/utils/yolo.py:1029: UserWarning: Ignoring object with label 'Brassiere' not in provided classes\n",
      "  warnings.warn(msg)\n",
      "/Users/jayden/.pyenv/versions/3.10.13/envs/venv3.1/lib/python3.10/site-packages/fiftyone/utils/yolo.py:1029: UserWarning: Ignoring object with label 'Waste container' not in provided classes\n",
      "  warnings.warn(msg)\n"
     ]
    },
    {
     "name": "stdout",
     "output_type": "stream",
     "text": [
      "  33% |████\\----------| 2313/7000 [6.5s elapsed, 13.6s remaining, 321.9 samples/s]    "
     ]
    },
    {
     "name": "stderr",
     "output_type": "stream",
     "text": [
      "/Users/jayden/.pyenv/versions/3.10.13/envs/venv3.1/lib/python3.10/site-packages/fiftyone/utils/yolo.py:1029: UserWarning: Ignoring object with label 'Skirt' not in provided classes\n",
      "  warnings.warn(msg)\n",
      "/Users/jayden/.pyenv/versions/3.10.13/envs/venv3.1/lib/python3.10/site-packages/fiftyone/utils/yolo.py:1029: UserWarning: Ignoring object with label 'Sheep' not in provided classes\n",
      "  warnings.warn(msg)\n",
      "/Users/jayden/.pyenv/versions/3.10.13/envs/venv3.1/lib/python3.10/site-packages/fiftyone/utils/yolo.py:1029: UserWarning: Ignoring object with label 'Mixing bowl' not in provided classes\n",
      "  warnings.warn(msg)\n",
      "/Users/jayden/.pyenv/versions/3.10.13/envs/venv3.1/lib/python3.10/site-packages/fiftyone/utils/yolo.py:1029: UserWarning: Ignoring object with label 'Kitchen utensil' not in provided classes\n",
      "  warnings.warn(msg)\n",
      "/Users/jayden/.pyenv/versions/3.10.13/envs/venv3.1/lib/python3.10/site-packages/fiftyone/utils/yolo.py:1029: UserWarning: Ignoring object with label 'Cake' not in provided classes\n",
      "  warnings.warn(msg)\n"
     ]
    },
    {
     "name": "stdout",
     "output_type": "stream",
     "text": [
      "  35% |█████----------| 2443/7000 [6.8s elapsed, 13.1s remaining, 330.7 samples/s]    "
     ]
    },
    {
     "name": "stderr",
     "output_type": "stream",
     "text": [
      "/Users/jayden/.pyenv/versions/3.10.13/envs/venv3.1/lib/python3.10/site-packages/fiftyone/utils/yolo.py:1029: UserWarning: Ignoring object with label 'Tennis racket' not in provided classes\n",
      "  warnings.warn(msg)\n",
      "/Users/jayden/.pyenv/versions/3.10.13/envs/venv3.1/lib/python3.10/site-packages/fiftyone/utils/yolo.py:1029: UserWarning: Ignoring object with label 'Bathtub' not in provided classes\n",
      "  warnings.warn(msg)\n",
      "/Users/jayden/.pyenv/versions/3.10.13/envs/venv3.1/lib/python3.10/site-packages/fiftyone/utils/yolo.py:1029: UserWarning: Ignoring object with label 'Christmas tree' not in provided classes\n",
      "  warnings.warn(msg)\n"
     ]
    },
    {
     "name": "stdout",
     "output_type": "stream",
     "text": [
      "  36% |█████/---------| 2538/7000 [7.1s elapsed, 12.2s remaining, 380.2 samples/s]    "
     ]
    },
    {
     "name": "stderr",
     "output_type": "stream",
     "text": [
      "/Users/jayden/.pyenv/versions/3.10.13/envs/venv3.1/lib/python3.10/site-packages/fiftyone/utils/yolo.py:1029: UserWarning: Ignoring object with label 'Coin' not in provided classes\n",
      "  warnings.warn(msg)\n",
      "/Users/jayden/.pyenv/versions/3.10.13/envs/venv3.1/lib/python3.10/site-packages/fiftyone/utils/yolo.py:1029: UserWarning: Ignoring object with label 'Necklace' not in provided classes\n",
      "  warnings.warn(msg)\n"
     ]
    },
    {
     "name": "stdout",
     "output_type": "stream",
     "text": [
      "  38% |█████|---------| 2664/7000 [7.4s elapsed, 11.8s remaining, 383.4 samples/s]    "
     ]
    },
    {
     "name": "stderr",
     "output_type": "stream",
     "text": [
      "/Users/jayden/.pyenv/versions/3.10.13/envs/venv3.1/lib/python3.10/site-packages/fiftyone/utils/yolo.py:1029: UserWarning: Ignoring object with label 'Adhesive tape' not in provided classes\n",
      "  warnings.warn(msg)\n",
      "/Users/jayden/.pyenv/versions/3.10.13/envs/venv3.1/lib/python3.10/site-packages/fiftyone/utils/yolo.py:1029: UserWarning: Ignoring object with label 'Dinosaur' not in provided classes\n",
      "  warnings.warn(msg)\n",
      "/Users/jayden/.pyenv/versions/3.10.13/envs/venv3.1/lib/python3.10/site-packages/fiftyone/utils/yolo.py:1029: UserWarning: Ignoring object with label 'Kite' not in provided classes\n",
      "  warnings.warn(msg)\n"
     ]
    },
    {
     "name": "stdout",
     "output_type": "stream",
     "text": [
      "  39% |█████----------| 2731/7000 [7.6s elapsed, 11.8s remaining, 365.8 samples/s]    "
     ]
    },
    {
     "name": "stderr",
     "output_type": "stream",
     "text": [
      "/Users/jayden/.pyenv/versions/3.10.13/envs/venv3.1/lib/python3.10/site-packages/fiftyone/utils/yolo.py:1029: UserWarning: Ignoring object with label 'Organ (Musical Instrument)' not in provided classes\n",
      "  warnings.warn(msg)\n",
      "/Users/jayden/.pyenv/versions/3.10.13/envs/venv3.1/lib/python3.10/site-packages/fiftyone/utils/yolo.py:1029: UserWarning: Ignoring object with label 'Harpsichord' not in provided classes\n",
      "  warnings.warn(msg)\n",
      "/Users/jayden/.pyenv/versions/3.10.13/envs/venv3.1/lib/python3.10/site-packages/fiftyone/utils/yolo.py:1029: UserWarning: Ignoring object with label 'Apple' not in provided classes\n",
      "  warnings.warn(msg)\n"
     ]
    },
    {
     "name": "stdout",
     "output_type": "stream",
     "text": [
      "  41% |██████/--------| 2852/7000 [7.9s elapsed, 11.3s remaining, 376.8 samples/s]    "
     ]
    },
    {
     "name": "stderr",
     "output_type": "stream",
     "text": [
      "/Users/jayden/.pyenv/versions/3.10.13/envs/venv3.1/lib/python3.10/site-packages/fiftyone/utils/yolo.py:1029: UserWarning: Ignoring object with label 'Sword' not in provided classes\n",
      "  warnings.warn(msg)\n",
      "/Users/jayden/.pyenv/versions/3.10.13/envs/venv3.1/lib/python3.10/site-packages/fiftyone/utils/yolo.py:1029: UserWarning: Ignoring object with label 'Strawberry' not in provided classes\n",
      "  warnings.warn(msg)\n"
     ]
    },
    {
     "name": "stdout",
     "output_type": "stream",
     "text": [
      "  42% |██████|--------| 2974/7000 [8.2s elapsed, 10.9s remaining, 381.4 samples/s]    "
     ]
    },
    {
     "name": "stderr",
     "output_type": "stream",
     "text": [
      "/Users/jayden/.pyenv/versions/3.10.13/envs/venv3.1/lib/python3.10/site-packages/fiftyone/utils/yolo.py:1029: UserWarning: Ignoring object with label 'Rabbit' not in provided classes\n",
      "  warnings.warn(msg)\n",
      "/Users/jayden/.pyenv/versions/3.10.13/envs/venv3.1/lib/python3.10/site-packages/fiftyone/utils/yolo.py:1029: UserWarning: Ignoring object with label 'Dolphin' not in provided classes\n",
      "  warnings.warn(msg)\n",
      "/Users/jayden/.pyenv/versions/3.10.13/envs/venv3.1/lib/python3.10/site-packages/fiftyone/utils/yolo.py:1029: UserWarning: Ignoring object with label 'Scissors' not in provided classes\n",
      "  warnings.warn(msg)\n",
      "/Users/jayden/.pyenv/versions/3.10.13/envs/venv3.1/lib/python3.10/site-packages/fiftyone/utils/yolo.py:1029: UserWarning: Ignoring object with label 'Tablet computer' not in provided classes\n",
      "  warnings.warn(msg)\n"
     ]
    },
    {
     "name": "stdout",
     "output_type": "stream",
     "text": [
      "  45% |██████|--------| 3141/7000 [8.6s elapsed, 10.1s remaining, 405.9 samples/s]    "
     ]
    },
    {
     "name": "stderr",
     "output_type": "stream",
     "text": [
      "/Users/jayden/.pyenv/versions/3.10.13/envs/venv3.1/lib/python3.10/site-packages/fiftyone/utils/yolo.py:1029: UserWarning: Ignoring object with label 'Pastry' not in provided classes\n",
      "  warnings.warn(msg)\n"
     ]
    },
    {
     "name": "stdout",
     "output_type": "stream",
     "text": [
      "  46% |██████---------| 3230/7000 [8.8s elapsed, 9.8s remaining, 413.2 samples/s]     "
     ]
    },
    {
     "name": "stderr",
     "output_type": "stream",
     "text": [
      "/Users/jayden/.pyenv/versions/3.10.13/envs/venv3.1/lib/python3.10/site-packages/fiftyone/utils/yolo.py:1029: UserWarning: Ignoring object with label 'Swim cap' not in provided classes\n",
      "  warnings.warn(msg)\n",
      "/Users/jayden/.pyenv/versions/3.10.13/envs/venv3.1/lib/python3.10/site-packages/fiftyone/utils/yolo.py:1029: UserWarning: Ignoring object with label 'Nightstand' not in provided classes\n",
      "  warnings.warn(msg)\n",
      "/Users/jayden/.pyenv/versions/3.10.13/envs/venv3.1/lib/python3.10/site-packages/fiftyone/utils/yolo.py:1029: UserWarning: Ignoring object with label 'Sewing machine' not in provided classes\n",
      "  warnings.warn(msg)\n"
     ]
    },
    {
     "name": "stdout",
     "output_type": "stream",
     "text": [
      "  48% |███████/-------| 3337/7000 [9.2s elapsed, 9.7s remaining, 396.7 samples/s]     "
     ]
    },
    {
     "name": "stderr",
     "output_type": "stream",
     "text": [
      "/Users/jayden/.pyenv/versions/3.10.13/envs/venv3.1/lib/python3.10/site-packages/fiftyone/utils/yolo.py:1029: UserWarning: Ignoring object with label 'Parrot' not in provided classes\n",
      "  warnings.warn(msg)\n",
      "/Users/jayden/.pyenv/versions/3.10.13/envs/venv3.1/lib/python3.10/site-packages/fiftyone/utils/yolo.py:1029: UserWarning: Ignoring object with label 'Scoreboard' not in provided classes\n",
      "  warnings.warn(msg)\n"
     ]
    },
    {
     "name": "stdout",
     "output_type": "stream",
     "text": [
      "  50% |███████|-------| 3468/7000 [9.5s elapsed, 9.1s remaining, 413.6 samples/s]     "
     ]
    },
    {
     "name": "stderr",
     "output_type": "stream",
     "text": [
      "/Users/jayden/.pyenv/versions/3.10.13/envs/venv3.1/lib/python3.10/site-packages/fiftyone/utils/yolo.py:1029: UserWarning: Ignoring object with label 'Jellyfish' not in provided classes\n",
      "  warnings.warn(msg)\n",
      "/Users/jayden/.pyenv/versions/3.10.13/envs/venv3.1/lib/python3.10/site-packages/fiftyone/utils/yolo.py:1029: UserWarning: Ignoring object with label 'Polar bear' not in provided classes\n",
      "  warnings.warn(msg)\n",
      "/Users/jayden/.pyenv/versions/3.10.13/envs/venv3.1/lib/python3.10/site-packages/fiftyone/utils/yolo.py:1029: UserWarning: Ignoring object with label 'Clock' not in provided classes\n",
      "  warnings.warn(msg)\n"
     ]
    },
    {
     "name": "stdout",
     "output_type": "stream",
     "text": [
      "  51% |███████--------| 3547/7000 [9.7s elapsed, 9.0s remaining, 398.3 samples/s]     "
     ]
    },
    {
     "name": "stderr",
     "output_type": "stream",
     "text": [
      "/Users/jayden/.pyenv/versions/3.10.13/envs/venv3.1/lib/python3.10/site-packages/fiftyone/utils/yolo.py:1029: UserWarning: Ignoring object with label 'Mug' not in provided classes\n",
      "  warnings.warn(msg)\n",
      "/Users/jayden/.pyenv/versions/3.10.13/envs/venv3.1/lib/python3.10/site-packages/fiftyone/utils/yolo.py:1029: UserWarning: Ignoring object with label 'Coffee cup' not in provided classes\n",
      "  warnings.warn(msg)\n",
      "/Users/jayden/.pyenv/versions/3.10.13/envs/venv3.1/lib/python3.10/site-packages/fiftyone/utils/yolo.py:1029: UserWarning: Ignoring object with label 'Owl' not in provided classes\n",
      "  warnings.warn(msg)\n"
     ]
    },
    {
     "name": "stdout",
     "output_type": "stream",
     "text": [
      "  52% |███████|-------| 3633/7000 [9.9s elapsed, 8.9s remaining, 390.4 samples/s]     "
     ]
    },
    {
     "name": "stderr",
     "output_type": "stream",
     "text": [
      "/Users/jayden/.pyenv/versions/3.10.13/envs/venv3.1/lib/python3.10/site-packages/fiftyone/utils/yolo.py:1029: UserWarning: Ignoring object with label 'Volleyball (Ball)' not in provided classes\n",
      "  warnings.warn(msg)\n",
      "/Users/jayden/.pyenv/versions/3.10.13/envs/venv3.1/lib/python3.10/site-packages/fiftyone/utils/yolo.py:1029: UserWarning: Ignoring object with label 'Scarf' not in provided classes\n",
      "  warnings.warn(msg)\n"
     ]
    },
    {
     "name": "stdout",
     "output_type": "stream",
     "text": [
      "  53% |████████\\------| 3738/7000 [10.2s elapsed, 8.5s remaining, 395.7 samples/s]    "
     ]
    },
    {
     "name": "stderr",
     "output_type": "stream",
     "text": [
      "/Users/jayden/.pyenv/versions/3.10.13/envs/venv3.1/lib/python3.10/site-packages/fiftyone/utils/yolo.py:1029: UserWarning: Ignoring object with label 'Pretzel' not in provided classes\n",
      "  warnings.warn(msg)\n",
      "/Users/jayden/.pyenv/versions/3.10.13/envs/venv3.1/lib/python3.10/site-packages/fiftyone/utils/yolo.py:1029: UserWarning: Ignoring object with label 'Skull' not in provided classes\n",
      "  warnings.warn(msg)\n",
      "/Users/jayden/.pyenv/versions/3.10.13/envs/venv3.1/lib/python3.10/site-packages/fiftyone/utils/yolo.py:1029: UserWarning: Ignoring object with label 'Camel' not in provided classes\n",
      "  warnings.warn(msg)\n"
     ]
    },
    {
     "name": "stdout",
     "output_type": "stream",
     "text": [
      "  56% |████████\\------| 3893/7000 [10.6s elapsed, 8.3s remaining, 376.9 samples/s]    "
     ]
    },
    {
     "name": "stderr",
     "output_type": "stream",
     "text": [
      "/Users/jayden/.pyenv/versions/3.10.13/envs/venv3.1/lib/python3.10/site-packages/fiftyone/utils/yolo.py:1029: UserWarning: Ignoring object with label 'Flying disc' not in provided classes\n",
      "  warnings.warn(msg)\n",
      "/Users/jayden/.pyenv/versions/3.10.13/envs/venv3.1/lib/python3.10/site-packages/fiftyone/utils/yolo.py:1029: UserWarning: Ignoring object with label 'Tool' not in provided classes\n",
      "  warnings.warn(msg)\n",
      "/Users/jayden/.pyenv/versions/3.10.13/envs/venv3.1/lib/python3.10/site-packages/fiftyone/utils/yolo.py:1029: UserWarning: Ignoring object with label 'Pig' not in provided classes\n",
      "  warnings.warn(msg)\n"
     ]
    },
    {
     "name": "stdout",
     "output_type": "stream",
     "text": [
      "  58% |████████\\------| 4034/7000 [11.0s elapsed, 8.2s remaining, 356.9 samples/s]    "
     ]
    },
    {
     "name": "stderr",
     "output_type": "stream",
     "text": [
      "/Users/jayden/.pyenv/versions/3.10.13/envs/venv3.1/lib/python3.10/site-packages/fiftyone/utils/yolo.py:1029: UserWarning: Ignoring object with label 'Chopsticks' not in provided classes\n",
      "  warnings.warn(msg)\n"
     ]
    },
    {
     "name": "stdout",
     "output_type": "stream",
     "text": [
      "  59% |████████/------| 4112/7000 [11.2s elapsed, 7.9s remaining, 362.1 samples/s]    "
     ]
    },
    {
     "name": "stderr",
     "output_type": "stream",
     "text": [
      "/Users/jayden/.pyenv/versions/3.10.13/envs/venv3.1/lib/python3.10/site-packages/fiftyone/utils/yolo.py:1029: UserWarning: Ignoring object with label 'Insect' not in provided classes\n",
      "  warnings.warn(msg)\n"
     ]
    },
    {
     "name": "stdout",
     "output_type": "stream",
     "text": [
      "  60% |█████████|-----| 4223/7000 [11.5s elapsed, 7.6s remaining, 363.8 samples/s]    "
     ]
    },
    {
     "name": "stderr",
     "output_type": "stream",
     "text": [
      "/Users/jayden/.pyenv/versions/3.10.13/envs/venv3.1/lib/python3.10/site-packages/fiftyone/utils/yolo.py:1029: UserWarning: Ignoring object with label 'Oboe' not in provided classes\n",
      "  warnings.warn(msg)\n",
      "/Users/jayden/.pyenv/versions/3.10.13/envs/venv3.1/lib/python3.10/site-packages/fiftyone/utils/yolo.py:1029: UserWarning: Ignoring object with label 'Corded phone' not in provided classes\n",
      "  warnings.warn(msg)\n",
      "/Users/jayden/.pyenv/versions/3.10.13/envs/venv3.1/lib/python3.10/site-packages/fiftyone/utils/yolo.py:1029: UserWarning: Ignoring object with label 'Earrings' not in provided classes\n",
      "  warnings.warn(msg)\n"
     ]
    },
    {
     "name": "stdout",
     "output_type": "stream",
     "text": [
      "  62% |█████████\\-----| 4343/7000 [11.8s elapsed, 7.2s remaining, 372.3 samples/s]    "
     ]
    },
    {
     "name": "stderr",
     "output_type": "stream",
     "text": [
      "/Users/jayden/.pyenv/versions/3.10.13/envs/venv3.1/lib/python3.10/site-packages/fiftyone/utils/yolo.py:1029: UserWarning: Ignoring object with label 'Sock' not in provided classes\n",
      "  warnings.warn(msg)\n",
      "/Users/jayden/.pyenv/versions/3.10.13/envs/venv3.1/lib/python3.10/site-packages/fiftyone/utils/yolo.py:1029: UserWarning: Ignoring object with label 'Marine invertebrates' not in provided classes\n",
      "  warnings.warn(msg)\n",
      "/Users/jayden/.pyenv/versions/3.10.13/envs/venv3.1/lib/python3.10/site-packages/fiftyone/utils/yolo.py:1029: UserWarning: Ignoring object with label 'Gondola' not in provided classes\n",
      "  warnings.warn(msg)\n"
     ]
    },
    {
     "name": "stdout",
     "output_type": "stream",
     "text": [
      "  63% |█████████/-----| 4415/7000 [12.0s elapsed, 6.9s remaining, 376.0 samples/s]    "
     ]
    },
    {
     "name": "stderr",
     "output_type": "stream",
     "text": [
      "/Users/jayden/.pyenv/versions/3.10.13/envs/venv3.1/lib/python3.10/site-packages/fiftyone/utils/yolo.py:1029: UserWarning: Ignoring object with label 'Watch' not in provided classes\n",
      "  warnings.warn(msg)\n",
      "/Users/jayden/.pyenv/versions/3.10.13/envs/venv3.1/lib/python3.10/site-packages/fiftyone/utils/yolo.py:1029: UserWarning: Ignoring object with label 'Falcon' not in provided classes\n",
      "  warnings.warn(msg)\n",
      "/Users/jayden/.pyenv/versions/3.10.13/envs/venv3.1/lib/python3.10/site-packages/fiftyone/utils/yolo.py:1029: UserWarning: Ignoring object with label 'Limousine' not in provided classes\n",
      "  warnings.warn(msg)\n"
     ]
    },
    {
     "name": "stdout",
     "output_type": "stream",
     "text": [
      "  67% |██████████|----| 4714/7000 [12.7s elapsed, 5.8s remaining, 404.5 samples/s]    "
     ]
    },
    {
     "name": "stderr",
     "output_type": "stream",
     "text": [
      "/Users/jayden/.pyenv/versions/3.10.13/envs/venv3.1/lib/python3.10/site-packages/fiftyone/utils/yolo.py:1029: UserWarning: Ignoring object with label 'Wok' not in provided classes\n",
      "  warnings.warn(msg)\n"
     ]
    },
    {
     "name": "stdout",
     "output_type": "stream",
     "text": [
      "  71% |██████████\\----| 4961/7000 [13.4s elapsed, 5.7s remaining, 351.9 samples/s]    "
     ]
    },
    {
     "name": "stderr",
     "output_type": "stream",
     "text": [
      "/Users/jayden/.pyenv/versions/3.10.13/envs/venv3.1/lib/python3.10/site-packages/fiftyone/utils/yolo.py:1029: UserWarning: Ignoring object with label 'Bowl' not in provided classes\n",
      "  warnings.warn(msg)\n",
      "/Users/jayden/.pyenv/versions/3.10.13/envs/venv3.1/lib/python3.10/site-packages/fiftyone/utils/yolo.py:1029: UserWarning: Ignoring object with label 'Segway' not in provided classes\n",
      "  warnings.warn(msg)\n"
     ]
    },
    {
     "name": "stdout",
     "output_type": "stream",
     "text": [
      "  73% |██████████\\----| 5122/7000 [13.8s elapsed, 5.1s remaining, 364.8 samples/s]    "
     ]
    },
    {
     "name": "stderr",
     "output_type": "stream",
     "text": [
      "/Users/jayden/.pyenv/versions/3.10.13/envs/venv3.1/lib/python3.10/site-packages/fiftyone/utils/yolo.py:1029: UserWarning: Ignoring object with label 'Cheese' not in provided classes\n",
      "  warnings.warn(msg)\n"
     ]
    },
    {
     "name": "stdout",
     "output_type": "stream",
     "text": [
      "  75% |███████████\\---| 5282/7000 [14.2s elapsed, 4.5s remaining, 387.7 samples/s]    "
     ]
    },
    {
     "name": "stderr",
     "output_type": "stream",
     "text": [
      "/Users/jayden/.pyenv/versions/3.10.13/envs/venv3.1/lib/python3.10/site-packages/fiftyone/utils/yolo.py:1029: UserWarning: Ignoring object with label 'Pineapple' not in provided classes\n",
      "  warnings.warn(msg)\n"
     ]
    },
    {
     "name": "stdout",
     "output_type": "stream",
     "text": [
      "  77% |███████████----| 5381/7000 [14.5s elapsed, 4.4s remaining, 372.5 samples/s]    "
     ]
    },
    {
     "name": "stderr",
     "output_type": "stream",
     "text": [
      "/Users/jayden/.pyenv/versions/3.10.13/envs/venv3.1/lib/python3.10/site-packages/fiftyone/utils/yolo.py:1029: UserWarning: Ignoring object with label 'Penguin' not in provided classes\n",
      "  warnings.warn(msg)\n",
      "/Users/jayden/.pyenv/versions/3.10.13/envs/venv3.1/lib/python3.10/site-packages/fiftyone/utils/yolo.py:1029: UserWarning: Ignoring object with label 'Stool' not in provided classes\n",
      "  warnings.warn(msg)\n"
     ]
    },
    {
     "name": "stdout",
     "output_type": "stream",
     "text": [
      "  79% |███████████/---| 5506/7000 [14.9s elapsed, 4.0s remaining, 374.4 samples/s]    "
     ]
    },
    {
     "name": "stderr",
     "output_type": "stream",
     "text": [
      "/Users/jayden/.pyenv/versions/3.10.13/envs/venv3.1/lib/python3.10/site-packages/fiftyone/utils/yolo.py:1029: UserWarning: Ignoring object with label 'Invertebrate' not in provided classes\n",
      "  warnings.warn(msg)\n",
      "/Users/jayden/.pyenv/versions/3.10.13/envs/venv3.1/lib/python3.10/site-packages/fiftyone/utils/yolo.py:1029: UserWarning: Ignoring object with label 'Eagle' not in provided classes\n",
      "  warnings.warn(msg)\n"
     ]
    },
    {
     "name": "stdout",
     "output_type": "stream",
     "text": [
      "  81% |████████████|--| 5638/7000 [15.2s elapsed, 3.6s remaining, 382.6 samples/s]    "
     ]
    },
    {
     "name": "stderr",
     "output_type": "stream",
     "text": [
      "/Users/jayden/.pyenv/versions/3.10.13/envs/venv3.1/lib/python3.10/site-packages/fiftyone/utils/yolo.py:1029: UserWarning: Ignoring object with label 'Slow cooker' not in provided classes\n",
      "  warnings.warn(msg)\n",
      "/Users/jayden/.pyenv/versions/3.10.13/envs/venv3.1/lib/python3.10/site-packages/fiftyone/utils/yolo.py:1029: UserWarning: Ignoring object with label 'Moths and butterflies' not in provided classes\n",
      "  warnings.warn(msg)\n",
      "/Users/jayden/.pyenv/versions/3.10.13/envs/venv3.1/lib/python3.10/site-packages/fiftyone/utils/yolo.py:1029: UserWarning: Ignoring object with label 'Bow and arrow' not in provided classes\n",
      "  warnings.warn(msg)\n",
      "/Users/jayden/.pyenv/versions/3.10.13/envs/venv3.1/lib/python3.10/site-packages/fiftyone/utils/yolo.py:1029: UserWarning: Ignoring object with label 'Bull' not in provided classes\n",
      "  warnings.warn(msg)\n",
      "/Users/jayden/.pyenv/versions/3.10.13/envs/venv3.1/lib/python3.10/site-packages/fiftyone/utils/yolo.py:1029: UserWarning: Ignoring object with label 'Carnivore' not in provided classes\n",
      "  warnings.warn(msg)\n"
     ]
    },
    {
     "name": "stdout",
     "output_type": "stream",
     "text": [
      "  83% |████████████|--| 5808/7000 [15.6s elapsed, 3.0s remaining, 408.0 samples/s]    "
     ]
    },
    {
     "name": "stderr",
     "output_type": "stream",
     "text": [
      "/Users/jayden/.pyenv/versions/3.10.13/envs/venv3.1/lib/python3.10/site-packages/fiftyone/utils/yolo.py:1029: UserWarning: Ignoring object with label 'Mechanical fan' not in provided classes\n",
      "  warnings.warn(msg)\n",
      "/Users/jayden/.pyenv/versions/3.10.13/envs/venv3.1/lib/python3.10/site-packages/fiftyone/utils/yolo.py:1029: UserWarning: Ignoring object with label 'Ceiling fan' not in provided classes\n",
      "  warnings.warn(msg)\n",
      "/Users/jayden/.pyenv/versions/3.10.13/envs/venv3.1/lib/python3.10/site-packages/fiftyone/utils/yolo.py:1029: UserWarning: Ignoring object with label 'Submarine' not in provided classes\n",
      "  warnings.warn(msg)\n"
     ]
    },
    {
     "name": "stdout",
     "output_type": "stream",
     "text": [
      "  85% |████████████\\--| 5929/7000 [15.9s elapsed, 2.6s remaining, 425.2 samples/s]    "
     ]
    },
    {
     "name": "stderr",
     "output_type": "stream",
     "text": [
      "/Users/jayden/.pyenv/versions/3.10.13/envs/venv3.1/lib/python3.10/site-packages/fiftyone/utils/yolo.py:1029: UserWarning: Ignoring object with label 'Saucer' not in provided classes\n",
      "  warnings.warn(msg)\n",
      "/Users/jayden/.pyenv/versions/3.10.13/envs/venv3.1/lib/python3.10/site-packages/fiftyone/utils/yolo.py:1029: UserWarning: Ignoring object with label 'Vase' not in provided classes\n",
      "  warnings.warn(msg)\n",
      "/Users/jayden/.pyenv/versions/3.10.13/envs/venv3.1/lib/python3.10/site-packages/fiftyone/utils/yolo.py:1029: UserWarning: Ignoring object with label 'Koala' not in provided classes\n",
      "  warnings.warn(msg)\n",
      "/Users/jayden/.pyenv/versions/3.10.13/envs/venv3.1/lib/python3.10/site-packages/fiftyone/utils/yolo.py:1029: UserWarning: Ignoring object with label 'Bowling equipment' not in provided classes\n",
      "  warnings.warn(msg)\n"
     ]
    },
    {
     "name": "stdout",
     "output_type": "stream",
     "text": [
      "  86% |████████████---| 6050/7000 [16.2s elapsed, 2.3s remaining, 411.1 samples/s]    "
     ]
    },
    {
     "name": "stderr",
     "output_type": "stream",
     "text": [
      "/Users/jayden/.pyenv/versions/3.10.13/envs/venv3.1/lib/python3.10/site-packages/fiftyone/utils/yolo.py:1029: UserWarning: Ignoring object with label 'Harp' not in provided classes\n",
      "  warnings.warn(msg)\n",
      "/Users/jayden/.pyenv/versions/3.10.13/envs/venv3.1/lib/python3.10/site-packages/fiftyone/utils/yolo.py:1029: UserWarning: Ignoring object with label 'Hamburger' not in provided classes\n",
      "  warnings.warn(msg)\n",
      "/Users/jayden/.pyenv/versions/3.10.13/envs/venv3.1/lib/python3.10/site-packages/fiftyone/utils/yolo.py:1029: UserWarning: Ignoring object with label 'Teddy bear' not in provided classes\n",
      "  warnings.warn(msg)\n"
     ]
    },
    {
     "name": "stdout",
     "output_type": "stream",
     "text": [
      "  89% |█████████████\\-| 6227/7000 [16.7s elapsed, 2.1s remaining, 372.4 samples/s]    "
     ]
    },
    {
     "name": "stderr",
     "output_type": "stream",
     "text": [
      "/Users/jayden/.pyenv/versions/3.10.13/envs/venv3.1/lib/python3.10/site-packages/fiftyone/utils/yolo.py:1029: UserWarning: Ignoring object with label 'Cookie' not in provided classes\n",
      "  warnings.warn(msg)\n"
     ]
    },
    {
     "name": "stdout",
     "output_type": "stream",
     "text": [
      "  90% |█████████████/-| 6306/7000 [16.9s elapsed, 1.9s remaining, 370.5 samples/s]    "
     ]
    },
    {
     "name": "stderr",
     "output_type": "stream",
     "text": [
      "/Users/jayden/.pyenv/versions/3.10.13/envs/venv3.1/lib/python3.10/site-packages/fiftyone/utils/yolo.py:1029: UserWarning: Ignoring object with label 'Microwave oven' not in provided classes\n",
      "  warnings.warn(msg)\n"
     ]
    },
    {
     "name": "stdout",
     "output_type": "stream",
     "text": [
      "  95% |██████████████-| 6629/7000 [17.8s elapsed, 1.1s remaining, 348.8 samples/s]    "
     ]
    },
    {
     "name": "stderr",
     "output_type": "stream",
     "text": [
      "/Users/jayden/.pyenv/versions/3.10.13/envs/venv3.1/lib/python3.10/site-packages/fiftyone/utils/yolo.py:1029: UserWarning: Ignoring object with label 'Common sunflower' not in provided classes\n",
      "  warnings.warn(msg)\n",
      "/Users/jayden/.pyenv/versions/3.10.13/envs/venv3.1/lib/python3.10/site-packages/fiftyone/utils/yolo.py:1029: UserWarning: Ignoring object with label 'Loveseat' not in provided classes\n",
      "  warnings.warn(msg)\n",
      "/Users/jayden/.pyenv/versions/3.10.13/envs/venv3.1/lib/python3.10/site-packages/fiftyone/utils/yolo.py:1029: UserWarning: Ignoring object with label 'Studio couch' not in provided classes\n",
      "  warnings.warn(msg)\n",
      "/Users/jayden/.pyenv/versions/3.10.13/envs/venv3.1/lib/python3.10/site-packages/fiftyone/utils/yolo.py:1029: UserWarning: Ignoring object with label 'Sofa bed' not in provided classes\n",
      "  warnings.warn(msg)\n"
     ]
    },
    {
     "name": "stdout",
     "output_type": "stream",
     "text": [
      "  96% |██████████████/| 6737/7000 [18.1s elapsed, 737.5ms remaining, 356.0 samples/s] "
     ]
    },
    {
     "name": "stderr",
     "output_type": "stream",
     "text": [
      "/Users/jayden/.pyenv/versions/3.10.13/envs/venv3.1/lib/python3.10/site-packages/fiftyone/utils/yolo.py:1029: UserWarning: Ignoring object with label 'Panda' not in provided classes\n",
      "  warnings.warn(msg)\n",
      "/Users/jayden/.pyenv/versions/3.10.13/envs/venv3.1/lib/python3.10/site-packages/fiftyone/utils/yolo.py:1029: UserWarning: Ignoring object with label 'Goldfish' not in provided classes\n",
      "  warnings.warn(msg)\n"
     ]
    },
    {
     "name": "stdout",
     "output_type": "stream",
     "text": [
      " 100% |██████████████\\| 6965/7000 [18.7s elapsed, 95.3ms remaining, 367.3 samples/s]  "
     ]
    },
    {
     "name": "stderr",
     "output_type": "stream",
     "text": [
      "/Users/jayden/.pyenv/versions/3.10.13/envs/venv3.1/lib/python3.10/site-packages/fiftyone/utils/yolo.py:1029: UserWarning: Ignoring object with label 'Butterfly' not in provided classes\n",
      "  warnings.warn(msg)\n",
      "/Users/jayden/.pyenv/versions/3.10.13/envs/venv3.1/lib/python3.10/site-packages/fiftyone/utils/yolo.py:1029: UserWarning: Ignoring object with label 'Ambulance' not in provided classes\n",
      "  warnings.warn(msg)\n"
     ]
    },
    {
     "name": "stdout",
     "output_type": "stream",
     "text": [
      " 100% |███████████████| 7000/7000 [18.8s elapsed, 0s remaining, 375.0 samples/s]      \n",
      "Downloading split 'validation' to '/Users/jayden/Desktop/open-images-v7-person/validation' if necessary\n",
      "Downloading 'https://storage.googleapis.com/openimages/2018_04/validation/validation-images-with-rotation.csv' to '/Users/jayden/Desktop/open-images-v7-person/validation/metadata/image_ids.csv'\n"
     ]
    },
    {
     "name": "stderr",
     "output_type": "stream",
     "text": [
      "/Users/jayden/.pyenv/versions/3.10.13/envs/venv3.1/lib/python3.10/site-packages/fiftyone/utils/yolo.py:1029: UserWarning: Ignoring object with label 'Seat belt' not in provided classes\n",
      "  warnings.warn(msg)\n"
     ]
    },
    {
     "name": "stdout",
     "output_type": "stream",
     "text": [
      "Downloading 'https://storage.googleapis.com/openimages/v5/class-descriptions-boxable.csv' to '/Users/jayden/Desktop/open-images-v7-person/validation/metadata/classes.csv'\n",
      "Downloading 'https://storage.googleapis.com/openimages/2018_04/bbox_labels_600_hierarchy.json' to '/var/folders/xh/5bmll_z13gvgvfxrbrr5gn_00000gn/T/tmpyxpa4mjl/metadata/hierarchy.json'\n",
      "Downloading 'https://storage.googleapis.com/openimages/v5/validation-annotations-bbox.csv' to '/Users/jayden/Desktop/open-images-v7-person/validation/labels/detections.csv'\n",
      "Downloading 2000 images\n",
      " 100% |█████████████████| 2000/2000 [4.5m elapsed, 0s remaining, 5.1 files/s]      \n",
      "Dataset info written to '/Users/jayden/Desktop/open-images-v7-person/info.json'\n",
      "Loading 'open-images-v7' split 'validation'\n",
      " 100% |███████████████| 2000/2000 [14.9s elapsed, 0s remaining, 150.6 samples/s]      \n",
      "Dataset 'open-images-v7-validation-2000' created\n",
      "Directory '/Users/jayden/Desktop/open-images-v7-person-yolo' already exists; export will be merged with existing files\n",
      "   3% |---------------|   61/2000 [213.3ms elapsed, 6.8s remaining, 285.9 samples/s] "
     ]
    },
    {
     "name": "stderr",
     "output_type": "stream",
     "text": [
      "/Users/jayden/.pyenv/versions/3.10.13/envs/venv3.1/lib/python3.10/site-packages/fiftyone/utils/yolo.py:1029: UserWarning: Ignoring object with label 'Volleyball (Ball)' not in provided classes\n",
      "  warnings.warn(msg)\n",
      "/Users/jayden/.pyenv/versions/3.10.13/envs/venv3.1/lib/python3.10/site-packages/fiftyone/utils/yolo.py:1029: UserWarning: Ignoring object with label 'Human leg' not in provided classes\n",
      "  warnings.warn(msg)\n",
      "/Users/jayden/.pyenv/versions/3.10.13/envs/venv3.1/lib/python3.10/site-packages/fiftyone/utils/yolo.py:1029: UserWarning: Ignoring object with label 'Girl' not in provided classes\n",
      "  warnings.warn(msg)\n",
      "/Users/jayden/.pyenv/versions/3.10.13/envs/venv3.1/lib/python3.10/site-packages/fiftyone/utils/yolo.py:1029: UserWarning: Ignoring object with label 'Clothing' not in provided classes\n",
      "  warnings.warn(msg)\n",
      "/Users/jayden/.pyenv/versions/3.10.13/envs/venv3.1/lib/python3.10/site-packages/fiftyone/utils/yolo.py:1029: UserWarning: Ignoring object with label 'Human body' not in provided classes\n",
      "  warnings.warn(msg)\n",
      "/Users/jayden/.pyenv/versions/3.10.13/envs/venv3.1/lib/python3.10/site-packages/fiftyone/utils/yolo.py:1029: UserWarning: Ignoring object with label 'Mammal' not in provided classes\n",
      "  warnings.warn(msg)\n",
      "/Users/jayden/.pyenv/versions/3.10.13/envs/venv3.1/lib/python3.10/site-packages/fiftyone/utils/yolo.py:1029: UserWarning: Ignoring object with label 'Sports equipment' not in provided classes\n",
      "  warnings.warn(msg)\n",
      "/Users/jayden/.pyenv/versions/3.10.13/envs/venv3.1/lib/python3.10/site-packages/fiftyone/utils/yolo.py:1029: UserWarning: Ignoring object with label 'Swimwear' not in provided classes\n",
      "  warnings.warn(msg)\n",
      "/Users/jayden/.pyenv/versions/3.10.13/envs/venv3.1/lib/python3.10/site-packages/fiftyone/utils/yolo.py:1029: UserWarning: Ignoring object with label 'Woman' not in provided classes\n",
      "  warnings.warn(msg)\n",
      "/Users/jayden/.pyenv/versions/3.10.13/envs/venv3.1/lib/python3.10/site-packages/fiftyone/utils/yolo.py:1029: UserWarning: Ignoring object with label 'Man' not in provided classes\n",
      "  warnings.warn(msg)\n",
      "/Users/jayden/.pyenv/versions/3.10.13/envs/venv3.1/lib/python3.10/site-packages/fiftyone/utils/yolo.py:1029: UserWarning: Ignoring object with label 'Cake' not in provided classes\n",
      "  warnings.warn(msg)\n",
      "/Users/jayden/.pyenv/versions/3.10.13/envs/venv3.1/lib/python3.10/site-packages/fiftyone/utils/yolo.py:1029: UserWarning: Ignoring object with label 'Snack' not in provided classes\n",
      "  warnings.warn(msg)\n",
      "/Users/jayden/.pyenv/versions/3.10.13/envs/venv3.1/lib/python3.10/site-packages/fiftyone/utils/yolo.py:1029: UserWarning: Ignoring object with label 'Muffin' not in provided classes\n",
      "  warnings.warn(msg)\n",
      "/Users/jayden/.pyenv/versions/3.10.13/envs/venv3.1/lib/python3.10/site-packages/fiftyone/utils/yolo.py:1029: UserWarning: Ignoring object with label 'Human head' not in provided classes\n",
      "  warnings.warn(msg)\n",
      "/Users/jayden/.pyenv/versions/3.10.13/envs/venv3.1/lib/python3.10/site-packages/fiftyone/utils/yolo.py:1029: UserWarning: Ignoring object with label 'Human hair' not in provided classes\n",
      "  warnings.warn(msg)\n",
      "/Users/jayden/.pyenv/versions/3.10.13/envs/venv3.1/lib/python3.10/site-packages/fiftyone/utils/yolo.py:1029: UserWarning: Ignoring object with label 'Ball' not in provided classes\n",
      "  warnings.warn(msg)\n",
      "/Users/jayden/.pyenv/versions/3.10.13/envs/venv3.1/lib/python3.10/site-packages/fiftyone/utils/yolo.py:1029: UserWarning: Ignoring object with label 'Bowling equipment' not in provided classes\n",
      "  warnings.warn(msg)\n",
      "/Users/jayden/.pyenv/versions/3.10.13/envs/venv3.1/lib/python3.10/site-packages/fiftyone/utils/yolo.py:1029: UserWarning: Ignoring object with label 'Airplane' not in provided classes\n",
      "  warnings.warn(msg)\n",
      "/Users/jayden/.pyenv/versions/3.10.13/envs/venv3.1/lib/python3.10/site-packages/fiftyone/utils/yolo.py:1029: UserWarning: Ignoring object with label 'Vehicle' not in provided classes\n",
      "  warnings.warn(msg)\n",
      "/Users/jayden/.pyenv/versions/3.10.13/envs/venv3.1/lib/python3.10/site-packages/fiftyone/utils/yolo.py:1029: UserWarning: Ignoring object with label 'Picture frame' not in provided classes\n",
      "  warnings.warn(msg)\n",
      "/Users/jayden/.pyenv/versions/3.10.13/envs/venv3.1/lib/python3.10/site-packages/fiftyone/utils/yolo.py:1029: UserWarning: Ignoring object with label 'Human face' not in provided classes\n",
      "  warnings.warn(msg)\n",
      "/Users/jayden/.pyenv/versions/3.10.13/envs/venv3.1/lib/python3.10/site-packages/fiftyone/utils/yolo.py:1029: UserWarning: Ignoring object with label 'Fashion accessory' not in provided classes\n",
      "  warnings.warn(msg)\n",
      "/Users/jayden/.pyenv/versions/3.10.13/envs/venv3.1/lib/python3.10/site-packages/fiftyone/utils/yolo.py:1029: UserWarning: Ignoring object with label 'Human hand' not in provided classes\n",
      "  warnings.warn(msg)\n",
      "/Users/jayden/.pyenv/versions/3.10.13/envs/venv3.1/lib/python3.10/site-packages/fiftyone/utils/yolo.py:1029: UserWarning: Ignoring object with label 'Footwear' not in provided classes\n",
      "  warnings.warn(msg)\n",
      "/Users/jayden/.pyenv/versions/3.10.13/envs/venv3.1/lib/python3.10/site-packages/fiftyone/utils/yolo.py:1029: UserWarning: Ignoring object with label 'Human nose' not in provided classes\n",
      "  warnings.warn(msg)\n",
      "/Users/jayden/.pyenv/versions/3.10.13/envs/venv3.1/lib/python3.10/site-packages/fiftyone/utils/yolo.py:1029: UserWarning: Ignoring object with label 'Land vehicle' not in provided classes\n",
      "  warnings.warn(msg)\n",
      "/Users/jayden/.pyenv/versions/3.10.13/envs/venv3.1/lib/python3.10/site-packages/fiftyone/utils/yolo.py:1029: UserWarning: Ignoring object with label 'Human eye' not in provided classes\n",
      "  warnings.warn(msg)\n",
      "/Users/jayden/.pyenv/versions/3.10.13/envs/venv3.1/lib/python3.10/site-packages/fiftyone/utils/yolo.py:1029: UserWarning: Ignoring object with label 'Window' not in provided classes\n",
      "  warnings.warn(msg)\n",
      "/Users/jayden/.pyenv/versions/3.10.13/envs/venv3.1/lib/python3.10/site-packages/fiftyone/utils/yolo.py:1029: UserWarning: Ignoring object with label 'Human mouth' not in provided classes\n",
      "  warnings.warn(msg)\n",
      "/Users/jayden/.pyenv/versions/3.10.13/envs/venv3.1/lib/python3.10/site-packages/fiftyone/utils/yolo.py:1029: UserWarning: Ignoring object with label 'Human arm' not in provided classes\n",
      "  warnings.warn(msg)\n",
      "/Users/jayden/.pyenv/versions/3.10.13/envs/venv3.1/lib/python3.10/site-packages/fiftyone/utils/yolo.py:1029: UserWarning: Ignoring object with label 'Furniture' not in provided classes\n",
      "  warnings.warn(msg)\n",
      "/Users/jayden/.pyenv/versions/3.10.13/envs/venv3.1/lib/python3.10/site-packages/fiftyone/utils/yolo.py:1029: UserWarning: Ignoring object with label 'Table tennis racket' not in provided classes\n",
      "  warnings.warn(msg)\n",
      "/Users/jayden/.pyenv/versions/3.10.13/envs/venv3.1/lib/python3.10/site-packages/fiftyone/utils/yolo.py:1029: UserWarning: Ignoring object with label 'Table' not in provided classes\n",
      "  warnings.warn(msg)\n",
      "/Users/jayden/.pyenv/versions/3.10.13/envs/venv3.1/lib/python3.10/site-packages/fiftyone/utils/yolo.py:1029: UserWarning: Ignoring object with label 'Suit' not in provided classes\n",
      "  warnings.warn(msg)\n",
      "/Users/jayden/.pyenv/versions/3.10.13/envs/venv3.1/lib/python3.10/site-packages/fiftyone/utils/yolo.py:1029: UserWarning: Ignoring object with label 'Wheel' not in provided classes\n",
      "  warnings.warn(msg)\n",
      "/Users/jayden/.pyenv/versions/3.10.13/envs/venv3.1/lib/python3.10/site-packages/fiftyone/utils/yolo.py:1029: UserWarning: Ignoring object with label 'Dress' not in provided classes\n",
      "  warnings.warn(msg)\n",
      "/Users/jayden/.pyenv/versions/3.10.13/envs/venv3.1/lib/python3.10/site-packages/fiftyone/utils/yolo.py:1029: UserWarning: Ignoring object with label 'Bicycle helmet' not in provided classes\n",
      "  warnings.warn(msg)\n",
      "/Users/jayden/.pyenv/versions/3.10.13/envs/venv3.1/lib/python3.10/site-packages/fiftyone/utils/yolo.py:1029: UserWarning: Ignoring object with label 'Building' not in provided classes\n",
      "  warnings.warn(msg)\n",
      "/Users/jayden/.pyenv/versions/3.10.13/envs/venv3.1/lib/python3.10/site-packages/fiftyone/utils/yolo.py:1029: UserWarning: Ignoring object with label 'House' not in provided classes\n",
      "  warnings.warn(msg)\n",
      "/Users/jayden/.pyenv/versions/3.10.13/envs/venv3.1/lib/python3.10/site-packages/fiftyone/utils/yolo.py:1029: UserWarning: Ignoring object with label 'Medical equipment' not in provided classes\n",
      "  warnings.warn(msg)\n",
      "/Users/jayden/.pyenv/versions/3.10.13/envs/venv3.1/lib/python3.10/site-packages/fiftyone/utils/yolo.py:1029: UserWarning: Ignoring object with label 'Plant' not in provided classes\n",
      "  warnings.warn(msg)\n",
      "/Users/jayden/.pyenv/versions/3.10.13/envs/venv3.1/lib/python3.10/site-packages/fiftyone/utils/yolo.py:1029: UserWarning: Ignoring object with label 'Tree' not in provided classes\n",
      "  warnings.warn(msg)\n",
      "/Users/jayden/.pyenv/versions/3.10.13/envs/venv3.1/lib/python3.10/site-packages/fiftyone/utils/yolo.py:1029: UserWarning: Ignoring object with label 'Human beard' not in provided classes\n",
      "  warnings.warn(msg)\n",
      "/Users/jayden/.pyenv/versions/3.10.13/envs/venv3.1/lib/python3.10/site-packages/fiftyone/utils/yolo.py:1029: UserWarning: Ignoring object with label 'Chair' not in provided classes\n",
      "  warnings.warn(msg)\n",
      "/Users/jayden/.pyenv/versions/3.10.13/envs/venv3.1/lib/python3.10/site-packages/fiftyone/utils/yolo.py:1029: UserWarning: Ignoring object with label 'Roller skates' not in provided classes\n",
      "  warnings.warn(msg)\n",
      "/Users/jayden/.pyenv/versions/3.10.13/envs/venv3.1/lib/python3.10/site-packages/fiftyone/utils/yolo.py:1029: UserWarning: Ignoring object with label 'Car' not in provided classes\n",
      "  warnings.warn(msg)\n",
      "/Users/jayden/.pyenv/versions/3.10.13/envs/venv3.1/lib/python3.10/site-packages/fiftyone/utils/yolo.py:1029: UserWarning: Ignoring object with label 'Horse' not in provided classes\n",
      "  warnings.warn(msg)\n",
      "/Users/jayden/.pyenv/versions/3.10.13/envs/venv3.1/lib/python3.10/site-packages/fiftyone/utils/yolo.py:1029: UserWarning: Ignoring object with label 'Musical instrument' not in provided classes\n",
      "  warnings.warn(msg)\n",
      "/Users/jayden/.pyenv/versions/3.10.13/envs/venv3.1/lib/python3.10/site-packages/fiftyone/utils/yolo.py:1029: UserWarning: Ignoring object with label 'Trousers' not in provided classes\n",
      "  warnings.warn(msg)\n",
      "/Users/jayden/.pyenv/versions/3.10.13/envs/venv3.1/lib/python3.10/site-packages/fiftyone/utils/yolo.py:1029: UserWarning: Ignoring object with label 'Saxophone' not in provided classes\n",
      "  warnings.warn(msg)\n",
      "/Users/jayden/.pyenv/versions/3.10.13/envs/venv3.1/lib/python3.10/site-packages/fiftyone/utils/yolo.py:1029: UserWarning: Ignoring object with label 'French horn' not in provided classes\n",
      "  warnings.warn(msg)\n",
      "/Users/jayden/.pyenv/versions/3.10.13/envs/venv3.1/lib/python3.10/site-packages/fiftyone/utils/yolo.py:1029: UserWarning: Ignoring object with label 'Skateboard' not in provided classes\n",
      "  warnings.warn(msg)\n",
      "/Users/jayden/.pyenv/versions/3.10.13/envs/venv3.1/lib/python3.10/site-packages/fiftyone/utils/yolo.py:1029: UserWarning: Ignoring object with label 'Dog' not in provided classes\n",
      "  warnings.warn(msg)\n",
      "/Users/jayden/.pyenv/versions/3.10.13/envs/venv3.1/lib/python3.10/site-packages/fiftyone/utils/yolo.py:1029: UserWarning: Ignoring object with label 'Jacket' not in provided classes\n",
      "  warnings.warn(msg)\n",
      "/Users/jayden/.pyenv/versions/3.10.13/envs/venv3.1/lib/python3.10/site-packages/fiftyone/utils/yolo.py:1029: UserWarning: Ignoring object with label 'Boy' not in provided classes\n",
      "  warnings.warn(msg)\n",
      "/Users/jayden/.pyenv/versions/3.10.13/envs/venv3.1/lib/python3.10/site-packages/fiftyone/utils/yolo.py:1029: UserWarning: Ignoring object with label 'Surfboard' not in provided classes\n",
      "  warnings.warn(msg)\n",
      "/Users/jayden/.pyenv/versions/3.10.13/envs/venv3.1/lib/python3.10/site-packages/fiftyone/utils/yolo.py:1029: UserWarning: Ignoring object with label 'Convenience store' not in provided classes\n",
      "  warnings.warn(msg)\n",
      "/Users/jayden/.pyenv/versions/3.10.13/envs/venv3.1/lib/python3.10/site-packages/fiftyone/utils/yolo.py:1029: UserWarning: Ignoring object with label 'Sports uniform' not in provided classes\n",
      "  warnings.warn(msg)\n",
      "/Users/jayden/.pyenv/versions/3.10.13/envs/venv3.1/lib/python3.10/site-packages/fiftyone/utils/yolo.py:1029: UserWarning: Ignoring object with label 'Wine glass' not in provided classes\n",
      "  warnings.warn(msg)\n",
      "/Users/jayden/.pyenv/versions/3.10.13/envs/venv3.1/lib/python3.10/site-packages/fiftyone/utils/yolo.py:1029: UserWarning: Ignoring object with label 'Wine' not in provided classes\n",
      "  warnings.warn(msg)\n",
      "/Users/jayden/.pyenv/versions/3.10.13/envs/venv3.1/lib/python3.10/site-packages/fiftyone/utils/yolo.py:1029: UserWarning: Ignoring object with label 'Paddle' not in provided classes\n",
      "  warnings.warn(msg)\n",
      "/Users/jayden/.pyenv/versions/3.10.13/envs/venv3.1/lib/python3.10/site-packages/fiftyone/utils/yolo.py:1029: UserWarning: Ignoring object with label 'Personal flotation device' not in provided classes\n",
      "  warnings.warn(msg)\n",
      "/Users/jayden/.pyenv/versions/3.10.13/envs/venv3.1/lib/python3.10/site-packages/fiftyone/utils/yolo.py:1029: UserWarning: Ignoring object with label 'Canoe' not in provided classes\n",
      "  warnings.warn(msg)\n",
      "/Users/jayden/.pyenv/versions/3.10.13/envs/venv3.1/lib/python3.10/site-packages/fiftyone/utils/yolo.py:1029: UserWarning: Ignoring object with label 'Glasses' not in provided classes\n",
      "  warnings.warn(msg)\n",
      "/Users/jayden/.pyenv/versions/3.10.13/envs/venv3.1/lib/python3.10/site-packages/fiftyone/utils/yolo.py:1029: UserWarning: Ignoring object with label 'Trombone' not in provided classes\n",
      "  warnings.warn(msg)\n",
      "/Users/jayden/.pyenv/versions/3.10.13/envs/venv3.1/lib/python3.10/site-packages/fiftyone/utils/yolo.py:1029: UserWarning: Ignoring object with label 'Human ear' not in provided classes\n",
      "  warnings.warn(msg)\n",
      "/Users/jayden/.pyenv/versions/3.10.13/envs/venv3.1/lib/python3.10/site-packages/fiftyone/utils/yolo.py:1029: UserWarning: Ignoring object with label 'Jeans' not in provided classes\n",
      "  warnings.warn(msg)\n",
      "/Users/jayden/.pyenv/versions/3.10.13/envs/venv3.1/lib/python3.10/site-packages/fiftyone/utils/yolo.py:1029: UserWarning: Ignoring object with label 'Coat' not in provided classes\n",
      "  warnings.warn(msg)\n",
      "/Users/jayden/.pyenv/versions/3.10.13/envs/venv3.1/lib/python3.10/site-packages/fiftyone/utils/yolo.py:1029: UserWarning: Ignoring object with label 'Cello' not in provided classes\n",
      "  warnings.warn(msg)\n",
      "/Users/jayden/.pyenv/versions/3.10.13/envs/venv3.1/lib/python3.10/site-packages/fiftyone/utils/yolo.py:1029: UserWarning: Ignoring object with label 'Violin' not in provided classes\n",
      "  warnings.warn(msg)\n",
      "/Users/jayden/.pyenv/versions/3.10.13/envs/venv3.1/lib/python3.10/site-packages/fiftyone/utils/yolo.py:1029: UserWarning: Ignoring object with label 'Helicopter' not in provided classes\n",
      "  warnings.warn(msg)\n",
      "/Users/jayden/.pyenv/versions/3.10.13/envs/venv3.1/lib/python3.10/site-packages/fiftyone/utils/yolo.py:1029: UserWarning: Ignoring object with label 'Aircraft' not in provided classes\n",
      "  warnings.warn(msg)\n",
      "/Users/jayden/.pyenv/versions/3.10.13/envs/venv3.1/lib/python3.10/site-packages/fiftyone/utils/yolo.py:1029: UserWarning: Ignoring object with label 'Tire' not in provided classes\n",
      "  warnings.warn(msg)\n",
      "/Users/jayden/.pyenv/versions/3.10.13/envs/venv3.1/lib/python3.10/site-packages/fiftyone/utils/yolo.py:1029: UserWarning: Ignoring object with label 'Weapon' not in provided classes\n",
      "  warnings.warn(msg)\n",
      "/Users/jayden/.pyenv/versions/3.10.13/envs/venv3.1/lib/python3.10/site-packages/fiftyone/utils/yolo.py:1029: UserWarning: Ignoring object with label 'Baked goods' not in provided classes\n",
      "  warnings.warn(msg)\n"
     ]
    },
    {
     "name": "stdout",
     "output_type": "stream",
     "text": [
      "   4% |\\--------------|   73/2000 [316.5ms elapsed, 8.4s remaining, 230.7 samples/s] "
     ]
    },
    {
     "name": "stderr",
     "output_type": "stream",
     "text": [
      "/Users/jayden/.pyenv/versions/3.10.13/envs/venv3.1/lib/python3.10/site-packages/fiftyone/utils/yolo.py:1029: UserWarning: Ignoring object with label 'Cart' not in provided classes\n",
      "  warnings.warn(msg)\n",
      "/Users/jayden/.pyenv/versions/3.10.13/envs/venv3.1/lib/python3.10/site-packages/fiftyone/utils/yolo.py:1029: UserWarning: Ignoring object with label 'Fast food' not in provided classes\n",
      "  warnings.warn(msg)\n",
      "/Users/jayden/.pyenv/versions/3.10.13/envs/venv3.1/lib/python3.10/site-packages/fiftyone/utils/yolo.py:1029: UserWarning: Ignoring object with label 'Flag' not in provided classes\n",
      "  warnings.warn(msg)\n",
      "/Users/jayden/.pyenv/versions/3.10.13/envs/venv3.1/lib/python3.10/site-packages/fiftyone/utils/yolo.py:1029: UserWarning: Ignoring object with label 'Animal' not in provided classes\n",
      "  warnings.warn(msg)\n",
      "/Users/jayden/.pyenv/versions/3.10.13/envs/venv3.1/lib/python3.10/site-packages/fiftyone/utils/yolo.py:1029: UserWarning: Ignoring object with label 'Kitchen & dining room table' not in provided classes\n",
      "  warnings.warn(msg)\n",
      "/Users/jayden/.pyenv/versions/3.10.13/envs/venv3.1/lib/python3.10/site-packages/fiftyone/utils/yolo.py:1029: UserWarning: Ignoring object with label 'Coffee table' not in provided classes\n",
      "  warnings.warn(msg)\n",
      "/Users/jayden/.pyenv/versions/3.10.13/envs/venv3.1/lib/python3.10/site-packages/fiftyone/utils/yolo.py:1029: UserWarning: Ignoring object with label 'Rifle' not in provided classes\n",
      "  warnings.warn(msg)\n",
      "/Users/jayden/.pyenv/versions/3.10.13/envs/venv3.1/lib/python3.10/site-packages/fiftyone/utils/yolo.py:1029: UserWarning: Ignoring object with label 'Shotgun' not in provided classes\n",
      "  warnings.warn(msg)\n",
      "/Users/jayden/.pyenv/versions/3.10.13/envs/venv3.1/lib/python3.10/site-packages/fiftyone/utils/yolo.py:1029: UserWarning: Ignoring object with label 'Mule' not in provided classes\n",
      "  warnings.warn(msg)\n",
      "/Users/jayden/.pyenv/versions/3.10.13/envs/venv3.1/lib/python3.10/site-packages/fiftyone/utils/yolo.py:1029: UserWarning: Ignoring object with label 'Lipstick' not in provided classes\n",
      "  warnings.warn(msg)\n",
      "/Users/jayden/.pyenv/versions/3.10.13/envs/venv3.1/lib/python3.10/site-packages/fiftyone/utils/yolo.py:1029: UserWarning: Ignoring object with label 'Helmet' not in provided classes\n",
      "  warnings.warn(msg)\n",
      "/Users/jayden/.pyenv/versions/3.10.13/envs/venv3.1/lib/python3.10/site-packages/fiftyone/utils/yolo.py:1029: UserWarning: Ignoring object with label 'Toy' not in provided classes\n",
      "  warnings.warn(msg)\n",
      "/Users/jayden/.pyenv/versions/3.10.13/envs/venv3.1/lib/python3.10/site-packages/fiftyone/utils/yolo.py:1029: UserWarning: Ignoring object with label 'Bust' not in provided classes\n",
      "  warnings.warn(msg)\n",
      "/Users/jayden/.pyenv/versions/3.10.13/envs/venv3.1/lib/python3.10/site-packages/fiftyone/utils/yolo.py:1029: UserWarning: Ignoring object with label 'Moths and butterflies' not in provided classes\n",
      "  warnings.warn(msg)\n",
      "/Users/jayden/.pyenv/versions/3.10.13/envs/venv3.1/lib/python3.10/site-packages/fiftyone/utils/yolo.py:1029: UserWarning: Ignoring object with label 'Computer keyboard' not in provided classes\n",
      "  warnings.warn(msg)\n",
      "/Users/jayden/.pyenv/versions/3.10.13/envs/venv3.1/lib/python3.10/site-packages/fiftyone/utils/yolo.py:1029: UserWarning: Ignoring object with label 'Laptop' not in provided classes\n",
      "  warnings.warn(msg)\n",
      "/Users/jayden/.pyenv/versions/3.10.13/envs/venv3.1/lib/python3.10/site-packages/fiftyone/utils/yolo.py:1029: UserWarning: Ignoring object with label 'Carnivore' not in provided classes\n",
      "  warnings.warn(msg)\n",
      "/Users/jayden/.pyenv/versions/3.10.13/envs/venv3.1/lib/python3.10/site-packages/fiftyone/utils/yolo.py:1029: UserWarning: Ignoring object with label 'Stool' not in provided classes\n",
      "  warnings.warn(msg)\n",
      "/Users/jayden/.pyenv/versions/3.10.13/envs/venv3.1/lib/python3.10/site-packages/fiftyone/utils/yolo.py:1029: UserWarning: Ignoring object with label 'Kitchen appliance' not in provided classes\n",
      "  warnings.warn(msg)\n",
      "/Users/jayden/.pyenv/versions/3.10.13/envs/venv3.1/lib/python3.10/site-packages/fiftyone/utils/yolo.py:1029: UserWarning: Ignoring object with label 'Plastic bag' not in provided classes\n",
      "  warnings.warn(msg)\n"
     ]
    },
    {
     "name": "stdout",
     "output_type": "stream",
     "text": [
      "   7% |█--------------|  145/2000 [748.6ms elapsed, 9.6s remaining, 193.7 samples/s]  "
     ]
    },
    {
     "name": "stderr",
     "output_type": "stream",
     "text": [
      "/Users/jayden/.pyenv/versions/3.10.13/envs/venv3.1/lib/python3.10/site-packages/fiftyone/utils/yolo.py:1029: UserWarning: Ignoring object with label 'Palm tree' not in provided classes\n",
      "  warnings.warn(msg)\n",
      "/Users/jayden/.pyenv/versions/3.10.13/envs/venv3.1/lib/python3.10/site-packages/fiftyone/utils/yolo.py:1029: UserWarning: Ignoring object with label 'Human foot' not in provided classes\n",
      "  warnings.warn(msg)\n",
      "/Users/jayden/.pyenv/versions/3.10.13/envs/venv3.1/lib/python3.10/site-packages/fiftyone/utils/yolo.py:1029: UserWarning: Ignoring object with label 'Swimming pool' not in provided classes\n",
      "  warnings.warn(msg)\n",
      "/Users/jayden/.pyenv/versions/3.10.13/envs/venv3.1/lib/python3.10/site-packages/fiftyone/utils/yolo.py:1029: UserWarning: Ignoring object with label 'Food' not in provided classes\n",
      "  warnings.warn(msg)\n",
      "/Users/jayden/.pyenv/versions/3.10.13/envs/venv3.1/lib/python3.10/site-packages/fiftyone/utils/yolo.py:1029: UserWarning: Ignoring object with label 'Bronze sculpture' not in provided classes\n",
      "  warnings.warn(msg)\n",
      "/Users/jayden/.pyenv/versions/3.10.13/envs/venv3.1/lib/python3.10/site-packages/fiftyone/utils/yolo.py:1029: UserWarning: Ignoring object with label 'Flower' not in provided classes\n",
      "  warnings.warn(msg)\n",
      "/Users/jayden/.pyenv/versions/3.10.13/envs/venv3.1/lib/python3.10/site-packages/fiftyone/utils/yolo.py:1029: UserWarning: Ignoring object with label 'Fountain' not in provided classes\n",
      "  warnings.warn(msg)\n",
      "/Users/jayden/.pyenv/versions/3.10.13/envs/venv3.1/lib/python3.10/site-packages/fiftyone/utils/yolo.py:1029: UserWarning: Ignoring object with label 'Boat' not in provided classes\n",
      "  warnings.warn(msg)\n",
      "/Users/jayden/.pyenv/versions/3.10.13/envs/venv3.1/lib/python3.10/site-packages/fiftyone/utils/yolo.py:1029: UserWarning: Ignoring object with label 'Fish' not in provided classes\n",
      "  warnings.warn(msg)\n",
      "/Users/jayden/.pyenv/versions/3.10.13/envs/venv3.1/lib/python3.10/site-packages/fiftyone/utils/yolo.py:1029: UserWarning: Ignoring object with label 'Bicycle' not in provided classes\n",
      "  warnings.warn(msg)\n",
      "/Users/jayden/.pyenv/versions/3.10.13/envs/venv3.1/lib/python3.10/site-packages/fiftyone/utils/yolo.py:1029: UserWarning: Ignoring object with label 'Bicycle wheel' not in provided classes\n",
      "  warnings.warn(msg)\n",
      "/Users/jayden/.pyenv/versions/3.10.13/envs/venv3.1/lib/python3.10/site-packages/fiftyone/utils/yolo.py:1029: UserWarning: Ignoring object with label 'Computer mouse' not in provided classes\n",
      "  warnings.warn(msg)\n",
      "/Users/jayden/.pyenv/versions/3.10.13/envs/venv3.1/lib/python3.10/site-packages/fiftyone/utils/yolo.py:1029: UserWarning: Ignoring object with label 'Mobile phone' not in provided classes\n",
      "  warnings.warn(msg)\n",
      "/Users/jayden/.pyenv/versions/3.10.13/envs/venv3.1/lib/python3.10/site-packages/fiftyone/utils/yolo.py:1029: UserWarning: Ignoring object with label 'Truck' not in provided classes\n",
      "  warnings.warn(msg)\n",
      "/Users/jayden/.pyenv/versions/3.10.13/envs/venv3.1/lib/python3.10/site-packages/fiftyone/utils/yolo.py:1029: UserWarning: Ignoring object with label 'Van' not in provided classes\n",
      "  warnings.warn(msg)\n",
      "/Users/jayden/.pyenv/versions/3.10.13/envs/venv3.1/lib/python3.10/site-packages/fiftyone/utils/yolo.py:1029: UserWarning: Ignoring object with label 'Salad' not in provided classes\n",
      "  warnings.warn(msg)\n",
      "/Users/jayden/.pyenv/versions/3.10.13/envs/venv3.1/lib/python3.10/site-packages/fiftyone/utils/yolo.py:1029: UserWarning: Ignoring object with label 'Wheelchair' not in provided classes\n",
      "  warnings.warn(msg)\n",
      "/Users/jayden/.pyenv/versions/3.10.13/envs/venv3.1/lib/python3.10/site-packages/fiftyone/utils/yolo.py:1029: UserWarning: Ignoring object with label 'Swim cap' not in provided classes\n",
      "  warnings.warn(msg)\n",
      "/Users/jayden/.pyenv/versions/3.10.13/envs/venv3.1/lib/python3.10/site-packages/fiftyone/utils/yolo.py:1029: UserWarning: Ignoring object with label 'Goggles' not in provided classes\n",
      "  warnings.warn(msg)\n",
      "/Users/jayden/.pyenv/versions/3.10.13/envs/venv3.1/lib/python3.10/site-packages/fiftyone/utils/yolo.py:1029: UserWarning: Ignoring object with label 'Football' not in provided classes\n",
      "  warnings.warn(msg)\n",
      "/Users/jayden/.pyenv/versions/3.10.13/envs/venv3.1/lib/python3.10/site-packages/fiftyone/utils/yolo.py:1029: UserWarning: Ignoring object with label 'Houseplant' not in provided classes\n",
      "  warnings.warn(msg)\n",
      "/Users/jayden/.pyenv/versions/3.10.13/envs/venv3.1/lib/python3.10/site-packages/fiftyone/utils/yolo.py:1029: UserWarning: Ignoring object with label 'Flowerpot' not in provided classes\n",
      "  warnings.warn(msg)\n",
      "/Users/jayden/.pyenv/versions/3.10.13/envs/venv3.1/lib/python3.10/site-packages/fiftyone/utils/yolo.py:1029: UserWarning: Ignoring object with label 'Miniskirt' not in provided classes\n",
      "  warnings.warn(msg)\n",
      "/Users/jayden/.pyenv/versions/3.10.13/envs/venv3.1/lib/python3.10/site-packages/fiftyone/utils/yolo.py:1029: UserWarning: Ignoring object with label 'Shorts' not in provided classes\n",
      "  warnings.warn(msg)\n",
      "/Users/jayden/.pyenv/versions/3.10.13/envs/venv3.1/lib/python3.10/site-packages/fiftyone/utils/yolo.py:1029: UserWarning: Ignoring object with label 'Kangaroo' not in provided classes\n",
      "  warnings.warn(msg)\n",
      "/Users/jayden/.pyenv/versions/3.10.13/envs/venv3.1/lib/python3.10/site-packages/fiftyone/utils/yolo.py:1029: UserWarning: Ignoring object with label 'Poster' not in provided classes\n",
      "  warnings.warn(msg)\n",
      "/Users/jayden/.pyenv/versions/3.10.13/envs/venv3.1/lib/python3.10/site-packages/fiftyone/utils/yolo.py:1029: UserWarning: Ignoring object with label 'Billboard' not in provided classes\n",
      "  warnings.warn(msg)\n",
      "/Users/jayden/.pyenv/versions/3.10.13/envs/venv3.1/lib/python3.10/site-packages/fiftyone/utils/yolo.py:1029: UserWarning: Ignoring object with label 'Billiard table' not in provided classes\n",
      "  warnings.warn(msg)\n"
     ]
    },
    {
     "name": "stdout",
     "output_type": "stream",
     "text": [
      "  10% |█|-------------|  192/2000 [955.6ms elapsed, 9.0s remaining, 200.9 samples/s]  "
     ]
    },
    {
     "name": "stderr",
     "output_type": "stream",
     "text": [
      "/Users/jayden/.pyenv/versions/3.10.13/envs/venv3.1/lib/python3.10/site-packages/fiftyone/utils/yolo.py:1029: UserWarning: Ignoring object with label 'Watercraft' not in provided classes\n",
      "  warnings.warn(msg)\n",
      "/Users/jayden/.pyenv/versions/3.10.13/envs/venv3.1/lib/python3.10/site-packages/fiftyone/utils/yolo.py:1029: UserWarning: Ignoring object with label 'Penguin' not in provided classes\n",
      "  warnings.warn(msg)\n",
      "/Users/jayden/.pyenv/versions/3.10.13/envs/venv3.1/lib/python3.10/site-packages/fiftyone/utils/yolo.py:1029: UserWarning: Ignoring object with label 'Taxi' not in provided classes\n",
      "  warnings.warn(msg)\n",
      "/Users/jayden/.pyenv/versions/3.10.13/envs/venv3.1/lib/python3.10/site-packages/fiftyone/utils/yolo.py:1029: UserWarning: Ignoring object with label 'Fruit' not in provided classes\n",
      "  warnings.warn(msg)\n",
      "/Users/jayden/.pyenv/versions/3.10.13/envs/venv3.1/lib/python3.10/site-packages/fiftyone/utils/yolo.py:1029: UserWarning: Ignoring object with label 'Sculpture' not in provided classes\n",
      "  warnings.warn(msg)\n",
      "/Users/jayden/.pyenv/versions/3.10.13/envs/venv3.1/lib/python3.10/site-packages/fiftyone/utils/yolo.py:1029: UserWarning: Ignoring object with label 'Hiking equipment' not in provided classes\n",
      "  warnings.warn(msg)\n",
      "/Users/jayden/.pyenv/versions/3.10.13/envs/venv3.1/lib/python3.10/site-packages/fiftyone/utils/yolo.py:1029: UserWarning: Ignoring object with label 'Television' not in provided classes\n",
      "  warnings.warn(msg)\n",
      "/Users/jayden/.pyenv/versions/3.10.13/envs/venv3.1/lib/python3.10/site-packages/fiftyone/utils/yolo.py:1029: UserWarning: Ignoring object with label 'Rugby ball' not in provided classes\n",
      "  warnings.warn(msg)\n",
      "/Users/jayden/.pyenv/versions/3.10.13/envs/venv3.1/lib/python3.10/site-packages/fiftyone/utils/yolo.py:1029: UserWarning: Ignoring object with label 'Sandwich' not in provided classes\n",
      "  warnings.warn(msg)\n",
      "/Users/jayden/.pyenv/versions/3.10.13/envs/venv3.1/lib/python3.10/site-packages/fiftyone/utils/yolo.py:1029: UserWarning: Ignoring object with label 'Bread' not in provided classes\n",
      "  warnings.warn(msg)\n",
      "/Users/jayden/.pyenv/versions/3.10.13/envs/venv3.1/lib/python3.10/site-packages/fiftyone/utils/yolo.py:1029: UserWarning: Ignoring object with label 'Sunglasses' not in provided classes\n",
      "  warnings.warn(msg)\n",
      "/Users/jayden/.pyenv/versions/3.10.13/envs/venv3.1/lib/python3.10/site-packages/fiftyone/utils/yolo.py:1029: UserWarning: Ignoring object with label 'Kite' not in provided classes\n",
      "  warnings.warn(msg)\n",
      "/Users/jayden/.pyenv/versions/3.10.13/envs/venv3.1/lib/python3.10/site-packages/fiftyone/utils/yolo.py:1029: UserWarning: Ignoring object with label 'Umbrella' not in provided classes\n",
      "  warnings.warn(msg)\n"
     ]
    },
    {
     "name": "stdout",
     "output_type": "stream",
     "text": [
      "  14% |██\\------------|  272/2000 [1.3s elapsed, 8.2s remaining, 198.7 samples/s]     "
     ]
    },
    {
     "name": "stderr",
     "output_type": "stream",
     "text": [
      "/Users/jayden/.pyenv/versions/3.10.13/envs/venv3.1/lib/python3.10/site-packages/fiftyone/utils/yolo.py:1029: UserWarning: Ignoring object with label 'Vegetable' not in provided classes\n",
      "  warnings.warn(msg)\n",
      "/Users/jayden/.pyenv/versions/3.10.13/envs/venv3.1/lib/python3.10/site-packages/fiftyone/utils/yolo.py:1029: UserWarning: Ignoring object with label 'Guitar' not in provided classes\n",
      "  warnings.warn(msg)\n",
      "/Users/jayden/.pyenv/versions/3.10.13/envs/venv3.1/lib/python3.10/site-packages/fiftyone/utils/yolo.py:1029: UserWarning: Ignoring object with label 'Cattle' not in provided classes\n",
      "  warnings.warn(msg)\n",
      "/Users/jayden/.pyenv/versions/3.10.13/envs/venv3.1/lib/python3.10/site-packages/fiftyone/utils/yolo.py:1029: UserWarning: Ignoring object with label 'Motorcycle' not in provided classes\n",
      "  warnings.warn(msg)\n",
      "/Users/jayden/.pyenv/versions/3.10.13/envs/venv3.1/lib/python3.10/site-packages/fiftyone/utils/yolo.py:1029: UserWarning: Ignoring object with label 'Telephone' not in provided classes\n",
      "  warnings.warn(msg)\n",
      "/Users/jayden/.pyenv/versions/3.10.13/envs/venv3.1/lib/python3.10/site-packages/fiftyone/utils/yolo.py:1029: UserWarning: Ignoring object with label 'Chest of drawers' not in provided classes\n",
      "  warnings.warn(msg)\n",
      "/Users/jayden/.pyenv/versions/3.10.13/envs/venv3.1/lib/python3.10/site-packages/fiftyone/utils/yolo.py:1029: UserWarning: Ignoring object with label 'Drawer' not in provided classes\n",
      "  warnings.warn(msg)\n",
      "/Users/jayden/.pyenv/versions/3.10.13/envs/venv3.1/lib/python3.10/site-packages/fiftyone/utils/yolo.py:1029: UserWarning: Ignoring object with label 'Microphone' not in provided classes\n",
      "  warnings.warn(msg)\n",
      "/Users/jayden/.pyenv/versions/3.10.13/envs/venv3.1/lib/python3.10/site-packages/fiftyone/utils/yolo.py:1029: UserWarning: Ignoring object with label 'Scoreboard' not in provided classes\n",
      "  warnings.warn(msg)\n",
      "/Users/jayden/.pyenv/versions/3.10.13/envs/venv3.1/lib/python3.10/site-packages/fiftyone/utils/yolo.py:1029: UserWarning: Ignoring object with label 'Dessert' not in provided classes\n",
      "  warnings.warn(msg)\n",
      "/Users/jayden/.pyenv/versions/3.10.13/envs/venv3.1/lib/python3.10/site-packages/fiftyone/utils/yolo.py:1029: UserWarning: Ignoring object with label 'Doll' not in provided classes\n",
      "  warnings.warn(msg)\n",
      "/Users/jayden/.pyenv/versions/3.10.13/envs/venv3.1/lib/python3.10/site-packages/fiftyone/utils/yolo.py:1029: UserWarning: Ignoring object with label 'Hat' not in provided classes\n",
      "  warnings.warn(msg)\n",
      "/Users/jayden/.pyenv/versions/3.10.13/envs/venv3.1/lib/python3.10/site-packages/fiftyone/utils/yolo.py:1029: UserWarning: Ignoring object with label 'Drink' not in provided classes\n",
      "  warnings.warn(msg)\n",
      "/Users/jayden/.pyenv/versions/3.10.13/envs/venv3.1/lib/python3.10/site-packages/fiftyone/utils/yolo.py:1029: UserWarning: Ignoring object with label 'Tableware' not in provided classes\n",
      "  warnings.warn(msg)\n",
      "/Users/jayden/.pyenv/versions/3.10.13/envs/venv3.1/lib/python3.10/site-packages/fiftyone/utils/yolo.py:1029: UserWarning: Ignoring object with label 'Pizza' not in provided classes\n",
      "  warnings.warn(msg)\n",
      "/Users/jayden/.pyenv/versions/3.10.13/envs/venv3.1/lib/python3.10/site-packages/fiftyone/utils/yolo.py:1029: UserWarning: Ignoring object with label 'Drum' not in provided classes\n",
      "  warnings.warn(msg)\n",
      "/Users/jayden/.pyenv/versions/3.10.13/envs/venv3.1/lib/python3.10/site-packages/fiftyone/utils/yolo.py:1029: UserWarning: Ignoring object with label 'Luggage and bags' not in provided classes\n",
      "  warnings.warn(msg)\n",
      "/Users/jayden/.pyenv/versions/3.10.13/envs/venv3.1/lib/python3.10/site-packages/fiftyone/utils/yolo.py:1029: UserWarning: Ignoring object with label 'Tennis ball' not in provided classes\n",
      "  warnings.warn(msg)\n",
      "/Users/jayden/.pyenv/versions/3.10.13/envs/venv3.1/lib/python3.10/site-packages/fiftyone/utils/yolo.py:1029: UserWarning: Ignoring object with label 'Racket' not in provided classes\n",
      "  warnings.warn(msg)\n",
      "/Users/jayden/.pyenv/versions/3.10.13/envs/venv3.1/lib/python3.10/site-packages/fiftyone/utils/yolo.py:1029: UserWarning: Ignoring object with label 'Seafood' not in provided classes\n",
      "  warnings.warn(msg)\n"
     ]
    },
    {
     "name": "stdout",
     "output_type": "stream",
     "text": [
      "  16% |██/------------|  325/2000 [1.5s elapsed, 7.5s remaining, 239.1 samples/s]     "
     ]
    },
    {
     "name": "stderr",
     "output_type": "stream",
     "text": [
      "/Users/jayden/.pyenv/versions/3.10.13/envs/venv3.1/lib/python3.10/site-packages/fiftyone/utils/yolo.py:1029: UserWarning: Ignoring object with label 'Door' not in provided classes\n",
      "  warnings.warn(msg)\n",
      "/Users/jayden/.pyenv/versions/3.10.13/envs/venv3.1/lib/python3.10/site-packages/fiftyone/utils/yolo.py:1029: UserWarning: Ignoring object with label 'Trumpet' not in provided classes\n",
      "  warnings.warn(msg)\n",
      "/Users/jayden/.pyenv/versions/3.10.13/envs/venv3.1/lib/python3.10/site-packages/fiftyone/utils/yolo.py:1029: UserWarning: Ignoring object with label 'Jet ski' not in provided classes\n",
      "  warnings.warn(msg)\n",
      "/Users/jayden/.pyenv/versions/3.10.13/envs/venv3.1/lib/python3.10/site-packages/fiftyone/utils/yolo.py:1029: UserWarning: Ignoring object with label 'Pastry' not in provided classes\n",
      "  warnings.warn(msg)\n",
      "/Users/jayden/.pyenv/versions/3.10.13/envs/venv3.1/lib/python3.10/site-packages/fiftyone/utils/yolo.py:1029: UserWarning: Ignoring object with label 'Sink' not in provided classes\n",
      "  warnings.warn(msg)\n",
      "/Users/jayden/.pyenv/versions/3.10.13/envs/venv3.1/lib/python3.10/site-packages/fiftyone/utils/yolo.py:1029: UserWarning: Ignoring object with label 'Tap' not in provided classes\n",
      "  warnings.warn(msg)\n",
      "/Users/jayden/.pyenv/versions/3.10.13/envs/venv3.1/lib/python3.10/site-packages/fiftyone/utils/yolo.py:1029: UserWarning: Ignoring object with label 'Egg (Food)' not in provided classes\n",
      "  warnings.warn(msg)\n",
      "/Users/jayden/.pyenv/versions/3.10.13/envs/venv3.1/lib/python3.10/site-packages/fiftyone/utils/yolo.py:1029: UserWarning: Ignoring object with label 'Accordion' not in provided classes\n",
      "  warnings.warn(msg)\n",
      "/Users/jayden/.pyenv/versions/3.10.13/envs/venv3.1/lib/python3.10/site-packages/fiftyone/utils/yolo.py:1029: UserWarning: Ignoring object with label 'Candle' not in provided classes\n",
      "  warnings.warn(msg)\n",
      "/Users/jayden/.pyenv/versions/3.10.13/envs/venv3.1/lib/python3.10/site-packages/fiftyone/utils/yolo.py:1029: UserWarning: Ignoring object with label 'Harpsichord' not in provided classes\n",
      "  warnings.warn(msg)\n",
      "/Users/jayden/.pyenv/versions/3.10.13/envs/venv3.1/lib/python3.10/site-packages/fiftyone/utils/yolo.py:1029: UserWarning: Ignoring object with label 'Piano' not in provided classes\n",
      "  warnings.warn(msg)\n",
      "/Users/jayden/.pyenv/versions/3.10.13/envs/venv3.1/lib/python3.10/site-packages/fiftyone/utils/yolo.py:1029: UserWarning: Ignoring object with label 'Bed' not in provided classes\n",
      "  warnings.warn(msg)\n",
      "/Users/jayden/.pyenv/versions/3.10.13/envs/venv3.1/lib/python3.10/site-packages/fiftyone/utils/yolo.py:1029: UserWarning: Ignoring object with label 'Bookcase' not in provided classes\n",
      "  warnings.warn(msg)\n",
      "/Users/jayden/.pyenv/versions/3.10.13/envs/venv3.1/lib/python3.10/site-packages/fiftyone/utils/yolo.py:1029: UserWarning: Ignoring object with label 'Shelf' not in provided classes\n",
      "  warnings.warn(msg)\n",
      "/Users/jayden/.pyenv/versions/3.10.13/envs/venv3.1/lib/python3.10/site-packages/fiftyone/utils/yolo.py:1029: UserWarning: Ignoring object with label 'Book' not in provided classes\n",
      "  warnings.warn(msg)\n",
      "/Users/jayden/.pyenv/versions/3.10.13/envs/venv3.1/lib/python3.10/site-packages/fiftyone/utils/yolo.py:1029: UserWarning: Ignoring object with label 'Desk' not in provided classes\n",
      "  warnings.warn(msg)\n",
      "/Users/jayden/.pyenv/versions/3.10.13/envs/venv3.1/lib/python3.10/site-packages/fiftyone/utils/yolo.py:1029: UserWarning: Ignoring object with label 'Office building' not in provided classes\n",
      "  warnings.warn(msg)\n",
      "/Users/jayden/.pyenv/versions/3.10.13/envs/venv3.1/lib/python3.10/site-packages/fiftyone/utils/yolo.py:1029: UserWarning: Ignoring object with label 'Goat' not in provided classes\n",
      "  warnings.warn(msg)\n"
     ]
    },
    {
     "name": "stdout",
     "output_type": "stream",
     "text": [
      "  19% |██\\------------|  383/2000 [1.7s elapsed, 7.0s remaining, 253.2 samples/s]     "
     ]
    },
    {
     "name": "stderr",
     "output_type": "stream",
     "text": [
      "/Users/jayden/.pyenv/versions/3.10.13/envs/venv3.1/lib/python3.10/site-packages/fiftyone/utils/yolo.py:1029: UserWarning: Ignoring object with label 'Rose' not in provided classes\n",
      "  warnings.warn(msg)\n",
      "/Users/jayden/.pyenv/versions/3.10.13/envs/venv3.1/lib/python3.10/site-packages/fiftyone/utils/yolo.py:1029: UserWarning: Ignoring object with label 'Bus' not in provided classes\n",
      "  warnings.warn(msg)\n",
      "/Users/jayden/.pyenv/versions/3.10.13/envs/venv3.1/lib/python3.10/site-packages/fiftyone/utils/yolo.py:1029: UserWarning: Ignoring object with label 'Barrel' not in provided classes\n",
      "  warnings.warn(msg)\n",
      "/Users/jayden/.pyenv/versions/3.10.13/envs/venv3.1/lib/python3.10/site-packages/fiftyone/utils/yolo.py:1029: UserWarning: Ignoring object with label 'Auto part' not in provided classes\n",
      "  warnings.warn(msg)\n",
      "/Users/jayden/.pyenv/versions/3.10.13/envs/venv3.1/lib/python3.10/site-packages/fiftyone/utils/yolo.py:1029: UserWarning: Ignoring object with label 'Coin' not in provided classes\n",
      "  warnings.warn(msg)\n"
     ]
    },
    {
     "name": "stdout",
     "output_type": "stream",
     "text": [
      "  22% |███/-----------|  446/2000 [1.9s elapsed, 6.4s remaining, 271.6 samples/s]     "
     ]
    },
    {
     "name": "stderr",
     "output_type": "stream",
     "text": [
      "/Users/jayden/.pyenv/versions/3.10.13/envs/venv3.1/lib/python3.10/site-packages/fiftyone/utils/yolo.py:1029: UserWarning: Ignoring object with label 'Parachute' not in provided classes\n",
      "  warnings.warn(msg)\n",
      "/Users/jayden/.pyenv/versions/3.10.13/envs/venv3.1/lib/python3.10/site-packages/fiftyone/utils/yolo.py:1029: UserWarning: Ignoring object with label 'Coffee' not in provided classes\n",
      "  warnings.warn(msg)\n",
      "/Users/jayden/.pyenv/versions/3.10.13/envs/venv3.1/lib/python3.10/site-packages/fiftyone/utils/yolo.py:1029: UserWarning: Ignoring object with label 'Coffee cup' not in provided classes\n",
      "  warnings.warn(msg)\n",
      "/Users/jayden/.pyenv/versions/3.10.13/envs/venv3.1/lib/python3.10/site-packages/fiftyone/utils/yolo.py:1029: UserWarning: Ignoring object with label 'Monkey' not in provided classes\n",
      "  warnings.warn(msg)\n",
      "/Users/jayden/.pyenv/versions/3.10.13/envs/venv3.1/lib/python3.10/site-packages/fiftyone/utils/yolo.py:1029: UserWarning: Ignoring object with label 'High heels' not in provided classes\n",
      "  warnings.warn(msg)\n",
      "/Users/jayden/.pyenv/versions/3.10.13/envs/venv3.1/lib/python3.10/site-packages/fiftyone/utils/yolo.py:1029: UserWarning: Ignoring object with label 'Sandal' not in provided classes\n",
      "  warnings.warn(msg)\n",
      "/Users/jayden/.pyenv/versions/3.10.13/envs/venv3.1/lib/python3.10/site-packages/fiftyone/utils/yolo.py:1029: UserWarning: Ignoring object with label 'Skyscraper' not in provided classes\n",
      "  warnings.warn(msg)\n",
      "/Users/jayden/.pyenv/versions/3.10.13/envs/venv3.1/lib/python3.10/site-packages/fiftyone/utils/yolo.py:1029: UserWarning: Ignoring object with label 'Glove' not in provided classes\n",
      "  warnings.warn(msg)\n"
     ]
    },
    {
     "name": "stdout",
     "output_type": "stream",
     "text": [
      "  25% |███\\-----------|  496/2000 [2.1s elapsed, 6.2s remaining, 270.5 samples/s]     "
     ]
    },
    {
     "name": "stderr",
     "output_type": "stream",
     "text": [
      "/Users/jayden/.pyenv/versions/3.10.13/envs/venv3.1/lib/python3.10/site-packages/fiftyone/utils/yolo.py:1029: UserWarning: Ignoring object with label 'Headphones' not in provided classes\n",
      "  warnings.warn(msg)\n",
      "/Users/jayden/.pyenv/versions/3.10.13/envs/venv3.1/lib/python3.10/site-packages/fiftyone/utils/yolo.py:1029: UserWarning: Ignoring object with label 'Porch' not in provided classes\n",
      "  warnings.warn(msg)\n",
      "/Users/jayden/.pyenv/versions/3.10.13/envs/venv3.1/lib/python3.10/site-packages/fiftyone/utils/yolo.py:1029: UserWarning: Ignoring object with label 'Earrings' not in provided classes\n",
      "  warnings.warn(msg)\n",
      "/Users/jayden/.pyenv/versions/3.10.13/envs/venv3.1/lib/python3.10/site-packages/fiftyone/utils/yolo.py:1029: UserWarning: Ignoring object with label 'Brassiere' not in provided classes\n",
      "  warnings.warn(msg)\n",
      "/Users/jayden/.pyenv/versions/3.10.13/envs/venv3.1/lib/python3.10/site-packages/fiftyone/utils/yolo.py:1029: UserWarning: Ignoring object with label 'Jaguar (Animal)' not in provided classes\n",
      "  warnings.warn(msg)\n",
      "/Users/jayden/.pyenv/versions/3.10.13/envs/venv3.1/lib/python3.10/site-packages/fiftyone/utils/yolo.py:1029: UserWarning: Ignoring object with label 'Leopard' not in provided classes\n",
      "  warnings.warn(msg)\n",
      "/Users/jayden/.pyenv/versions/3.10.13/envs/venv3.1/lib/python3.10/site-packages/fiftyone/utils/yolo.py:1029: UserWarning: Ignoring object with label 'Cheetah' not in provided classes\n",
      "  warnings.warn(msg)\n",
      "/Users/jayden/.pyenv/versions/3.10.13/envs/venv3.1/lib/python3.10/site-packages/fiftyone/utils/yolo.py:1029: UserWarning: Ignoring object with label 'Dairy Product' not in provided classes\n",
      "  warnings.warn(msg)\n",
      "/Users/jayden/.pyenv/versions/3.10.13/envs/venv3.1/lib/python3.10/site-packages/fiftyone/utils/yolo.py:1029: UserWarning: Ignoring object with label 'Cheese' not in provided classes\n",
      "  warnings.warn(msg)\n",
      "/Users/jayden/.pyenv/versions/3.10.13/envs/venv3.1/lib/python3.10/site-packages/fiftyone/utils/yolo.py:1029: UserWarning: Ignoring object with label 'Tank' not in provided classes\n",
      "  warnings.warn(msg)\n",
      "/Users/jayden/.pyenv/versions/3.10.13/envs/venv3.1/lib/python3.10/site-packages/fiftyone/utils/yolo.py:1029: UserWarning: Ignoring object with label 'Vehicle registration plate' not in provided classes\n",
      "  warnings.warn(msg)\n",
      "/Users/jayden/.pyenv/versions/3.10.13/envs/venv3.1/lib/python3.10/site-packages/fiftyone/utils/yolo.py:1029: UserWarning: Ignoring object with label 'Cat' not in provided classes\n",
      "  warnings.warn(msg)\n",
      "/Users/jayden/.pyenv/versions/3.10.13/envs/venv3.1/lib/python3.10/site-packages/fiftyone/utils/yolo.py:1029: UserWarning: Ignoring object with label 'Insect' not in provided classes\n",
      "  warnings.warn(msg)\n",
      "/Users/jayden/.pyenv/versions/3.10.13/envs/venv3.1/lib/python3.10/site-packages/fiftyone/utils/yolo.py:1029: UserWarning: Ignoring object with label 'Beehive' not in provided classes\n",
      "  warnings.warn(msg)\n",
      "/Users/jayden/.pyenv/versions/3.10.13/envs/venv3.1/lib/python3.10/site-packages/fiftyone/utils/yolo.py:1029: UserWarning: Ignoring object with label 'Bee' not in provided classes\n",
      "  warnings.warn(msg)\n",
      "/Users/jayden/.pyenv/versions/3.10.13/envs/venv3.1/lib/python3.10/site-packages/fiftyone/utils/yolo.py:1029: UserWarning: Ignoring object with label 'Tripod' not in provided classes\n",
      "  warnings.warn(msg)\n",
      "/Users/jayden/.pyenv/versions/3.10.13/envs/venv3.1/lib/python3.10/site-packages/fiftyone/utils/yolo.py:1029: UserWarning: Ignoring object with label 'Bear' not in provided classes\n",
      "  warnings.warn(msg)\n"
     ]
    },
    {
     "name": "stdout",
     "output_type": "stream",
     "text": [
      "  28% |████/----------|  553/2000 [2.3s elapsed, 5.8s remaining, 273.2 samples/s]     "
     ]
    },
    {
     "name": "stderr",
     "output_type": "stream",
     "text": [
      "/Users/jayden/.pyenv/versions/3.10.13/envs/venv3.1/lib/python3.10/site-packages/fiftyone/utils/yolo.py:1029: UserWarning: Ignoring object with label 'Traffic light' not in provided classes\n",
      "  warnings.warn(msg)\n",
      "/Users/jayden/.pyenv/versions/3.10.13/envs/venv3.1/lib/python3.10/site-packages/fiftyone/utils/yolo.py:1029: UserWarning: Ignoring object with label 'Skull' not in provided classes\n",
      "  warnings.warn(msg)\n",
      "/Users/jayden/.pyenv/versions/3.10.13/envs/venv3.1/lib/python3.10/site-packages/fiftyone/utils/yolo.py:1029: UserWarning: Ignoring object with label 'Balloon' not in provided classes\n",
      "  warnings.warn(msg)\n",
      "/Users/jayden/.pyenv/versions/3.10.13/envs/venv3.1/lib/python3.10/site-packages/fiftyone/utils/yolo.py:1029: UserWarning: Ignoring object with label 'Sofa bed' not in provided classes\n",
      "  warnings.warn(msg)\n",
      "/Users/jayden/.pyenv/versions/3.10.13/envs/venv3.1/lib/python3.10/site-packages/fiftyone/utils/yolo.py:1029: UserWarning: Ignoring object with label 'Ambulance' not in provided classes\n",
      "  warnings.warn(msg)\n",
      "/Users/jayden/.pyenv/versions/3.10.13/envs/venv3.1/lib/python3.10/site-packages/fiftyone/utils/yolo.py:1029: UserWarning: Ignoring object with label 'Cowboy hat' not in provided classes\n",
      "  warnings.warn(msg)\n",
      "/Users/jayden/.pyenv/versions/3.10.13/envs/venv3.1/lib/python3.10/site-packages/fiftyone/utils/yolo.py:1029: UserWarning: Ignoring object with label 'Football helmet' not in provided classes\n",
      "  warnings.warn(msg)\n",
      "/Users/jayden/.pyenv/versions/3.10.13/envs/venv3.1/lib/python3.10/site-packages/fiftyone/utils/yolo.py:1029: UserWarning: Ignoring object with label 'Camera' not in provided classes\n",
      "  warnings.warn(msg)\n",
      "/Users/jayden/.pyenv/versions/3.10.13/envs/venv3.1/lib/python3.10/site-packages/fiftyone/utils/yolo.py:1029: UserWarning: Ignoring object with label 'Ladder' not in provided classes\n",
      "  warnings.warn(msg)\n"
     ]
    },
    {
     "name": "stdout",
     "output_type": "stream",
     "text": [
      "  33% |████|----------|  651/2000 [2.6s elapsed, 5.2s remaining, 290.7 samples/s]     "
     ]
    },
    {
     "name": "stderr",
     "output_type": "stream",
     "text": [
      "/Users/jayden/.pyenv/versions/3.10.13/envs/venv3.1/lib/python3.10/site-packages/fiftyone/utils/yolo.py:1029: UserWarning: Ignoring object with label 'Cosmetics' not in provided classes\n",
      "  warnings.warn(msg)\n",
      "/Users/jayden/.pyenv/versions/3.10.13/envs/venv3.1/lib/python3.10/site-packages/fiftyone/utils/yolo.py:1029: UserWarning: Ignoring object with label 'Sword' not in provided classes\n",
      "  warnings.warn(msg)\n",
      "/Users/jayden/.pyenv/versions/3.10.13/envs/venv3.1/lib/python3.10/site-packages/fiftyone/utils/yolo.py:1029: UserWarning: Ignoring object with label 'Stairs' not in provided classes\n",
      "  warnings.warn(msg)\n"
     ]
    },
    {
     "name": "stdout",
     "output_type": "stream",
     "text": [
      "  36% |█████----------|  713/2000 [2.8s elapsed, 4.9s remaining, 288.1 samples/s]     "
     ]
    },
    {
     "name": "stderr",
     "output_type": "stream",
     "text": [
      "/Users/jayden/.pyenv/versions/3.10.13/envs/venv3.1/lib/python3.10/site-packages/fiftyone/utils/yolo.py:1029: UserWarning: Ignoring object with label 'Tennis racket' not in provided classes\n",
      "  warnings.warn(msg)\n",
      "/Users/jayden/.pyenv/versions/3.10.13/envs/venv3.1/lib/python3.10/site-packages/fiftyone/utils/yolo.py:1029: UserWarning: Ignoring object with label 'Barge' not in provided classes\n",
      "  warnings.warn(msg)\n",
      "/Users/jayden/.pyenv/versions/3.10.13/envs/venv3.1/lib/python3.10/site-packages/fiftyone/utils/yolo.py:1029: UserWarning: Ignoring object with label 'Cookie' not in provided classes\n",
      "  warnings.warn(msg)\n",
      "/Users/jayden/.pyenv/versions/3.10.13/envs/venv3.1/lib/python3.10/site-packages/fiftyone/utils/yolo.py:1029: UserWarning: Ignoring object with label 'Christmas tree' not in provided classes\n",
      "  warnings.warn(msg)\n",
      "/Users/jayden/.pyenv/versions/3.10.13/envs/venv3.1/lib/python3.10/site-packages/fiftyone/utils/yolo.py:1029: UserWarning: Ignoring object with label 'Orange' not in provided classes\n",
      "  warnings.warn(msg)\n",
      "/Users/jayden/.pyenv/versions/3.10.13/envs/venv3.1/lib/python3.10/site-packages/fiftyone/utils/yolo.py:1029: UserWarning: Ignoring object with label 'Grapefruit' not in provided classes\n",
      "  warnings.warn(msg)\n",
      "/Users/jayden/.pyenv/versions/3.10.13/envs/venv3.1/lib/python3.10/site-packages/fiftyone/utils/yolo.py:1029: UserWarning: Ignoring object with label 'Snowboard' not in provided classes\n",
      "  warnings.warn(msg)\n",
      "/Users/jayden/.pyenv/versions/3.10.13/envs/venv3.1/lib/python3.10/site-packages/fiftyone/utils/yolo.py:1029: UserWarning: Ignoring object with label 'Boot' not in provided classes\n",
      "  warnings.warn(msg)\n",
      "/Users/jayden/.pyenv/versions/3.10.13/envs/venv3.1/lib/python3.10/site-packages/fiftyone/utils/yolo.py:1029: UserWarning: Ignoring object with label 'Box' not in provided classes\n",
      "  warnings.warn(msg)\n",
      "/Users/jayden/.pyenv/versions/3.10.13/envs/venv3.1/lib/python3.10/site-packages/fiftyone/utils/yolo.py:1029: UserWarning: Ignoring object with label 'Tent' not in provided classes\n",
      "  warnings.warn(msg)\n"
     ]
    },
    {
     "name": "stdout",
     "output_type": "stream",
     "text": [
      "  39% |█████|---------|  771/2000 [3.0s elapsed, 4.5s remaining, 298.5 samples/s]     "
     ]
    },
    {
     "name": "stderr",
     "output_type": "stream",
     "text": [
      "/Users/jayden/.pyenv/versions/3.10.13/envs/venv3.1/lib/python3.10/site-packages/fiftyone/utils/yolo.py:1029: UserWarning: Ignoring object with label 'Whiteboard' not in provided classes\n",
      "  warnings.warn(msg)\n",
      "/Users/jayden/.pyenv/versions/3.10.13/envs/venv3.1/lib/python3.10/site-packages/fiftyone/utils/yolo.py:1029: UserWarning: Ignoring object with label 'Waste container' not in provided classes\n",
      "  warnings.warn(msg)\n",
      "/Users/jayden/.pyenv/versions/3.10.13/envs/venv3.1/lib/python3.10/site-packages/fiftyone/utils/yolo.py:1029: UserWarning: Ignoring object with label 'Skirt' not in provided classes\n",
      "  warnings.warn(msg)\n",
      "/Users/jayden/.pyenv/versions/3.10.13/envs/venv3.1/lib/python3.10/site-packages/fiftyone/utils/yolo.py:1029: UserWarning: Ignoring object with label 'Bottle' not in provided classes\n",
      "  warnings.warn(msg)\n",
      "/Users/jayden/.pyenv/versions/3.10.13/envs/venv3.1/lib/python3.10/site-packages/fiftyone/utils/yolo.py:1029: UserWarning: Ignoring object with label 'Ski' not in provided classes\n",
      "  warnings.warn(msg)\n",
      "/Users/jayden/.pyenv/versions/3.10.13/envs/venv3.1/lib/python3.10/site-packages/fiftyone/utils/yolo.py:1029: UserWarning: Ignoring object with label 'Gondola' not in provided classes\n",
      "  warnings.warn(msg)\n"
     ]
    },
    {
     "name": "stdout",
     "output_type": "stream",
     "text": [
      "  42% |██████\\--------|  845/2000 [3.3s elapsed, 4.4s remaining, 278.8 samples/s]     "
     ]
    },
    {
     "name": "stderr",
     "output_type": "stream",
     "text": [
      "/Users/jayden/.pyenv/versions/3.10.13/envs/venv3.1/lib/python3.10/site-packages/fiftyone/utils/yolo.py:1029: UserWarning: Ignoring object with label 'Sun hat' not in provided classes\n",
      "  warnings.warn(msg)\n",
      "/Users/jayden/.pyenv/versions/3.10.13/envs/venv3.1/lib/python3.10/site-packages/fiftyone/utils/yolo.py:1029: UserWarning: Ignoring object with label 'Fedora' not in provided classes\n",
      "  warnings.warn(msg)\n",
      "/Users/jayden/.pyenv/versions/3.10.13/envs/venv3.1/lib/python3.10/site-packages/fiftyone/utils/yolo.py:1029: UserWarning: Ignoring object with label 'Sombrero' not in provided classes\n",
      "  warnings.warn(msg)\n",
      "/Users/jayden/.pyenv/versions/3.10.13/envs/venv3.1/lib/python3.10/site-packages/fiftyone/utils/yolo.py:1029: UserWarning: Ignoring object with label 'Baseball glove' not in provided classes\n",
      "  warnings.warn(msg)\n",
      "/Users/jayden/.pyenv/versions/3.10.13/envs/venv3.1/lib/python3.10/site-packages/fiftyone/utils/yolo.py:1029: UserWarning: Ignoring object with label 'Bull' not in provided classes\n",
      "  warnings.warn(msg)\n",
      "/Users/jayden/.pyenv/versions/3.10.13/envs/venv3.1/lib/python3.10/site-packages/fiftyone/utils/yolo.py:1029: UserWarning: Ignoring object with label 'Mug' not in provided classes\n",
      "  warnings.warn(msg)\n",
      "/Users/jayden/.pyenv/versions/3.10.13/envs/venv3.1/lib/python3.10/site-packages/fiftyone/utils/yolo.py:1029: UserWarning: Ignoring object with label 'Tea' not in provided classes\n",
      "  warnings.warn(msg)\n",
      "/Users/jayden/.pyenv/versions/3.10.13/envs/venv3.1/lib/python3.10/site-packages/fiftyone/utils/yolo.py:1029: UserWarning: Ignoring object with label 'Beer' not in provided classes\n",
      "  warnings.warn(msg)\n",
      "/Users/jayden/.pyenv/versions/3.10.13/envs/venv3.1/lib/python3.10/site-packages/fiftyone/utils/yolo.py:1029: UserWarning: Ignoring object with label 'Cocktail' not in provided classes\n",
      "  warnings.warn(msg)\n",
      "/Users/jayden/.pyenv/versions/3.10.13/envs/venv3.1/lib/python3.10/site-packages/fiftyone/utils/yolo.py:1029: UserWarning: Ignoring object with label 'Rocket' not in provided classes\n",
      "  warnings.warn(msg)\n"
     ]
    },
    {
     "name": "stdout",
     "output_type": "stream",
     "text": [
      "  45% |██████/--------|  901/2000 [3.5s elapsed, 4.2s remaining, 269.0 samples/s]     "
     ]
    },
    {
     "name": "stderr",
     "output_type": "stream",
     "text": [
      "/Users/jayden/.pyenv/versions/3.10.13/envs/venv3.1/lib/python3.10/site-packages/fiftyone/utils/yolo.py:1029: UserWarning: Ignoring object with label 'Juice' not in provided classes\n",
      "  warnings.warn(msg)\n",
      "/Users/jayden/.pyenv/versions/3.10.13/envs/venv3.1/lib/python3.10/site-packages/fiftyone/utils/yolo.py:1029: UserWarning: Ignoring object with label 'Tie' not in provided classes\n",
      "  warnings.warn(msg)\n",
      "/Users/jayden/.pyenv/versions/3.10.13/envs/venv3.1/lib/python3.10/site-packages/fiftyone/utils/yolo.py:1029: UserWarning: Ignoring object with label 'Camel' not in provided classes\n",
      "  warnings.warn(msg)\n",
      "/Users/jayden/.pyenv/versions/3.10.13/envs/venv3.1/lib/python3.10/site-packages/fiftyone/utils/yolo.py:1029: UserWarning: Ignoring object with label 'Computer monitor' not in provided classes\n",
      "  warnings.warn(msg)\n"
     ]
    },
    {
     "name": "stdout",
     "output_type": "stream",
     "text": [
      "  51% |███████/-------| 1012/2000 [4.0s elapsed, 3.8s remaining, 258.2 samples/s]     "
     ]
    },
    {
     "name": "stderr",
     "output_type": "stream",
     "text": [
      "/Users/jayden/.pyenv/versions/3.10.13/envs/venv3.1/lib/python3.10/site-packages/fiftyone/utils/yolo.py:1029: UserWarning: Ignoring object with label 'Train' not in provided classes\n",
      "  warnings.warn(msg)\n",
      "/Users/jayden/.pyenv/versions/3.10.13/envs/venv3.1/lib/python3.10/site-packages/fiftyone/utils/yolo.py:1029: UserWarning: Ignoring object with label 'Ice cream' not in provided classes\n",
      "  warnings.warn(msg)\n",
      "/Users/jayden/.pyenv/versions/3.10.13/envs/venv3.1/lib/python3.10/site-packages/fiftyone/utils/yolo.py:1029: UserWarning: Ignoring object with label 'Street light' not in provided classes\n",
      "  warnings.warn(msg)\n",
      "/Users/jayden/.pyenv/versions/3.10.13/envs/venv3.1/lib/python3.10/site-packages/fiftyone/utils/yolo.py:1029: UserWarning: Ignoring object with label 'Musical keyboard' not in provided classes\n",
      "  warnings.warn(msg)\n",
      "/Users/jayden/.pyenv/versions/3.10.13/envs/venv3.1/lib/python3.10/site-packages/fiftyone/utils/yolo.py:1029: UserWarning: Ignoring object with label 'Scarf' not in provided classes\n",
      "  warnings.warn(msg)\n"
     ]
    },
    {
     "name": "stdout",
     "output_type": "stream",
     "text": [
      "  57% |████████/------| 1141/2000 [4.4s elapsed, 3.1s remaining, 291.6 samples/s]     "
     ]
    },
    {
     "name": "stderr",
     "output_type": "stream",
     "text": [
      "/Users/jayden/.pyenv/versions/3.10.13/envs/venv3.1/lib/python3.10/site-packages/fiftyone/utils/yolo.py:1029: UserWarning: Ignoring object with label 'Cucumber' not in provided classes\n",
      "  warnings.warn(msg)\n",
      "/Users/jayden/.pyenv/versions/3.10.13/envs/venv3.1/lib/python3.10/site-packages/fiftyone/utils/yolo.py:1029: UserWarning: Ignoring object with label 'Submarine sandwich' not in provided classes\n",
      "  warnings.warn(msg)\n",
      "/Users/jayden/.pyenv/versions/3.10.13/envs/venv3.1/lib/python3.10/site-packages/fiftyone/utils/yolo.py:1029: UserWarning: Ignoring object with label 'Backpack' not in provided classes\n",
      "  warnings.warn(msg)\n",
      "/Users/jayden/.pyenv/versions/3.10.13/envs/venv3.1/lib/python3.10/site-packages/fiftyone/utils/yolo.py:1029: UserWarning: Ignoring object with label 'Tool' not in provided classes\n",
      "  warnings.warn(msg)\n",
      "/Users/jayden/.pyenv/versions/3.10.13/envs/venv3.1/lib/python3.10/site-packages/fiftyone/utils/yolo.py:1029: UserWarning: Ignoring object with label 'Honeycomb' not in provided classes\n",
      "  warnings.warn(msg)\n",
      "/Users/jayden/.pyenv/versions/3.10.13/envs/venv3.1/lib/python3.10/site-packages/fiftyone/utils/yolo.py:1029: UserWarning: Ignoring object with label 'Segway' not in provided classes\n",
      "  warnings.warn(msg)\n"
     ]
    },
    {
     "name": "stdout",
     "output_type": "stream",
     "text": [
      "  61% |█████████|-----| 1229/2000 [4.7s elapsed, 2.7s remaining, 300.8 samples/s]     "
     ]
    },
    {
     "name": "stderr",
     "output_type": "stream",
     "text": [
      "/Users/jayden/.pyenv/versions/3.10.13/envs/venv3.1/lib/python3.10/site-packages/fiftyone/utils/yolo.py:1029: UserWarning: Ignoring object with label 'Teddy bear' not in provided classes\n",
      "  warnings.warn(msg)\n",
      "/Users/jayden/.pyenv/versions/3.10.13/envs/venv3.1/lib/python3.10/site-packages/fiftyone/utils/yolo.py:1029: UserWarning: Ignoring object with label 'Rabbit' not in provided classes\n",
      "  warnings.warn(msg)\n",
      "/Users/jayden/.pyenv/versions/3.10.13/envs/venv3.1/lib/python3.10/site-packages/fiftyone/utils/yolo.py:1029: UserWarning: Ignoring object with label 'Treadmill' not in provided classes\n",
      "  warnings.warn(msg)\n",
      "/Users/jayden/.pyenv/versions/3.10.13/envs/venv3.1/lib/python3.10/site-packages/fiftyone/utils/yolo.py:1029: UserWarning: Ignoring object with label 'Carrot' not in provided classes\n",
      "  warnings.warn(msg)\n",
      "/Users/jayden/.pyenv/versions/3.10.13/envs/venv3.1/lib/python3.10/site-packages/fiftyone/utils/yolo.py:1029: UserWarning: Ignoring object with label 'Crown' not in provided classes\n",
      "  warnings.warn(msg)\n",
      "/Users/jayden/.pyenv/versions/3.10.13/envs/venv3.1/lib/python3.10/site-packages/fiftyone/utils/yolo.py:1029: UserWarning: Ignoring object with label 'Picnic basket' not in provided classes\n",
      "  warnings.warn(msg)\n"
     ]
    },
    {
     "name": "stdout",
     "output_type": "stream",
     "text": [
      "  63% |█████████------| 1269/2000 [4.9s elapsed, 2.7s remaining, 280.3 samples/s]     "
     ]
    },
    {
     "name": "stderr",
     "output_type": "stream",
     "text": [
      "/Users/jayden/.pyenv/versions/3.10.13/envs/venv3.1/lib/python3.10/site-packages/fiftyone/utils/yolo.py:1029: UserWarning: Ignoring object with label 'Spoon' not in provided classes\n",
      "  warnings.warn(msg)\n",
      "/Users/jayden/.pyenv/versions/3.10.13/envs/venv3.1/lib/python3.10/site-packages/fiftyone/utils/yolo.py:1029: UserWarning: Ignoring object with label 'Kitchen utensil' not in provided classes\n",
      "  warnings.warn(msg)\n",
      "/Users/jayden/.pyenv/versions/3.10.13/envs/venv3.1/lib/python3.10/site-packages/fiftyone/utils/yolo.py:1029: UserWarning: Ignoring object with label 'Fork' not in provided classes\n",
      "  warnings.warn(msg)\n",
      "/Users/jayden/.pyenv/versions/3.10.13/envs/venv3.1/lib/python3.10/site-packages/fiftyone/utils/yolo.py:1029: UserWarning: Ignoring object with label 'Stop sign' not in provided classes\n",
      "  warnings.warn(msg)\n"
     ]
    },
    {
     "name": "stdout",
     "output_type": "stream",
     "text": [
      "  69% |██████████-----| 1371/2000 [5.3s elapsed, 2.5s remaining, 247.1 samples/s]     "
     ]
    },
    {
     "name": "stderr",
     "output_type": "stream",
     "text": [
      "/Users/jayden/.pyenv/versions/3.10.13/envs/venv3.1/lib/python3.10/site-packages/fiftyone/utils/yolo.py:1029: UserWarning: Ignoring object with label 'Shark' not in provided classes\n",
      "  warnings.warn(msg)\n",
      "/Users/jayden/.pyenv/versions/3.10.13/envs/venv3.1/lib/python3.10/site-packages/fiftyone/utils/yolo.py:1029: UserWarning: Ignoring object with label 'Cabinetry' not in provided classes\n",
      "  warnings.warn(msg)\n"
     ]
    },
    {
     "name": "stdout",
     "output_type": "stream",
     "text": [
      "  71% |██████████|----| 1428/2000 [5.5s elapsed, 2.2s remaining, 255.7 samples/s]     "
     ]
    },
    {
     "name": "stderr",
     "output_type": "stream",
     "text": [
      "/Users/jayden/.pyenv/versions/3.10.13/envs/venv3.1/lib/python3.10/site-packages/fiftyone/utils/yolo.py:1029: UserWarning: Ignoring object with label 'Limousine' not in provided classes\n",
      "  warnings.warn(msg)\n",
      "/Users/jayden/.pyenv/versions/3.10.13/envs/venv3.1/lib/python3.10/site-packages/fiftyone/utils/yolo.py:1029: UserWarning: Ignoring object with label 'Castle' not in provided classes\n",
      "  warnings.warn(msg)\n",
      "/Users/jayden/.pyenv/versions/3.10.13/envs/venv3.1/lib/python3.10/site-packages/fiftyone/utils/yolo.py:1029: UserWarning: Ignoring object with label 'Tower' not in provided classes\n",
      "  warnings.warn(msg)\n"
     ]
    },
    {
     "name": "stdout",
     "output_type": "stream",
     "text": [
      "  74% |███████████----| 1484/2000 [5.7s elapsed, 2.1s remaining, 238.9 samples/s]     "
     ]
    },
    {
     "name": "stderr",
     "output_type": "stream",
     "text": [
      "/Users/jayden/.pyenv/versions/3.10.13/envs/venv3.1/lib/python3.10/site-packages/fiftyone/utils/yolo.py:1029: UserWarning: Ignoring object with label 'Traffic sign' not in provided classes\n",
      "  warnings.warn(msg)\n",
      "/Users/jayden/.pyenv/versions/3.10.13/envs/venv3.1/lib/python3.10/site-packages/fiftyone/utils/yolo.py:1029: UserWarning: Ignoring object with label 'Shirt' not in provided classes\n",
      "  warnings.warn(msg)\n",
      "/Users/jayden/.pyenv/versions/3.10.13/envs/venv3.1/lib/python3.10/site-packages/fiftyone/utils/yolo.py:1029: UserWarning: Ignoring object with label 'Organ (Musical Instrument)' not in provided classes\n",
      "  warnings.warn(msg)\n",
      "/Users/jayden/.pyenv/versions/3.10.13/envs/venv3.1/lib/python3.10/site-packages/fiftyone/utils/yolo.py:1029: UserWarning: Ignoring object with label 'Baseball bat' not in provided classes\n",
      "  warnings.warn(msg)\n",
      "/Users/jayden/.pyenv/versions/3.10.13/envs/venv3.1/lib/python3.10/site-packages/fiftyone/utils/yolo.py:1029: UserWarning: Ignoring object with label 'Potato' not in provided classes\n",
      "  warnings.warn(msg)\n",
      "/Users/jayden/.pyenv/versions/3.10.13/envs/venv3.1/lib/python3.10/site-packages/fiftyone/utils/yolo.py:1029: UserWarning: Ignoring object with label 'French fries' not in provided classes\n",
      "  warnings.warn(msg)\n",
      "/Users/jayden/.pyenv/versions/3.10.13/envs/venv3.1/lib/python3.10/site-packages/fiftyone/utils/yolo.py:1029: UserWarning: Ignoring object with label 'Bird' not in provided classes\n",
      "  warnings.warn(msg)\n"
     ]
    },
    {
     "name": "stdout",
     "output_type": "stream",
     "text": [
      "  78% |███████████/---| 1568/2000 [6.0s elapsed, 1.6s remaining, 278.7 samples/s]     "
     ]
    },
    {
     "name": "stderr",
     "output_type": "stream",
     "text": [
      "/Users/jayden/.pyenv/versions/3.10.13/envs/venv3.1/lib/python3.10/site-packages/fiftyone/utils/yolo.py:1029: UserWarning: Ignoring object with label 'Bathtub' not in provided classes\n",
      "  warnings.warn(msg)\n",
      "/Users/jayden/.pyenv/versions/3.10.13/envs/venv3.1/lib/python3.10/site-packages/fiftyone/utils/yolo.py:1029: UserWarning: Ignoring object with label 'Jacuzzi' not in provided classes\n",
      "  warnings.warn(msg)\n",
      "/Users/jayden/.pyenv/versions/3.10.13/envs/venv3.1/lib/python3.10/site-packages/fiftyone/utils/yolo.py:1029: UserWarning: Ignoring object with label 'Seat belt' not in provided classes\n",
      "  warnings.warn(msg)\n",
      "/Users/jayden/.pyenv/versions/3.10.13/envs/venv3.1/lib/python3.10/site-packages/fiftyone/utils/yolo.py:1029: UserWarning: Ignoring object with label 'Pumpkin' not in provided classes\n",
      "  warnings.warn(msg)\n",
      "/Users/jayden/.pyenv/versions/3.10.13/envs/venv3.1/lib/python3.10/site-packages/fiftyone/utils/yolo.py:1029: UserWarning: Ignoring object with label 'Lily' not in provided classes\n",
      "  warnings.warn(msg)\n",
      "/Users/jayden/.pyenv/versions/3.10.13/envs/venv3.1/lib/python3.10/site-packages/fiftyone/utils/yolo.py:1029: UserWarning: Ignoring object with label 'Marine mammal' not in provided classes\n",
      "  warnings.warn(msg)\n",
      "/Users/jayden/.pyenv/versions/3.10.13/envs/venv3.1/lib/python3.10/site-packages/fiftyone/utils/yolo.py:1029: UserWarning: Ignoring object with label 'Elephant' not in provided classes\n",
      "  warnings.warn(msg)\n"
     ]
    },
    {
     "name": "stdout",
     "output_type": "stream",
     "text": [
      "  82% |████████████\\--| 1636/2000 [6.2s elapsed, 1.3s remaining, 286.4 samples/s]     "
     ]
    },
    {
     "name": "stderr",
     "output_type": "stream",
     "text": [
      "/Users/jayden/.pyenv/versions/3.10.13/envs/venv3.1/lib/python3.10/site-packages/fiftyone/utils/yolo.py:1029: UserWarning: Ignoring object with label 'Parrot' not in provided classes\n",
      "  warnings.warn(msg)\n",
      "/Users/jayden/.pyenv/versions/3.10.13/envs/venv3.1/lib/python3.10/site-packages/fiftyone/utils/yolo.py:1029: UserWarning: Ignoring object with label 'Tortoise' not in provided classes\n",
      "  warnings.warn(msg)\n",
      "/Users/jayden/.pyenv/versions/3.10.13/envs/venv3.1/lib/python3.10/site-packages/fiftyone/utils/yolo.py:1029: UserWarning: Ignoring object with label 'Sea turtle' not in provided classes\n",
      "  warnings.warn(msg)\n",
      "/Users/jayden/.pyenv/versions/3.10.13/envs/venv3.1/lib/python3.10/site-packages/fiftyone/utils/yolo.py:1029: UserWarning: Ignoring object with label 'Reptile' not in provided classes\n",
      "  warnings.warn(msg)\n",
      "/Users/jayden/.pyenv/versions/3.10.13/envs/venv3.1/lib/python3.10/site-packages/fiftyone/utils/yolo.py:1029: UserWarning: Ignoring object with label 'Chopsticks' not in provided classes\n",
      "  warnings.warn(msg)\n",
      "/Users/jayden/.pyenv/versions/3.10.13/envs/venv3.1/lib/python3.10/site-packages/fiftyone/utils/yolo.py:1029: UserWarning: Ignoring object with label 'Bowl' not in provided classes\n",
      "  warnings.warn(msg)\n",
      "/Users/jayden/.pyenv/versions/3.10.13/envs/venv3.1/lib/python3.10/site-packages/fiftyone/utils/yolo.py:1029: UserWarning: Ignoring object with label 'Watermelon' not in provided classes\n",
      "  warnings.warn(msg)\n"
     ]
    },
    {
     "name": "stdout",
     "output_type": "stream",
     "text": [
      "  85% |████████████/--| 1697/2000 [6.4s elapsed, 1.1s remaining, 292.1 samples/s]     "
     ]
    },
    {
     "name": "stderr",
     "output_type": "stream",
     "text": [
      "/Users/jayden/.pyenv/versions/3.10.13/envs/venv3.1/lib/python3.10/site-packages/fiftyone/utils/yolo.py:1029: UserWarning: Ignoring object with label 'Spice rack' not in provided classes\n",
      "  warnings.warn(msg)\n",
      "/Users/jayden/.pyenv/versions/3.10.13/envs/venv3.1/lib/python3.10/site-packages/fiftyone/utils/yolo.py:1029: UserWarning: Ignoring object with label 'Pen' not in provided classes\n",
      "  warnings.warn(msg)\n",
      "/Users/jayden/.pyenv/versions/3.10.13/envs/venv3.1/lib/python3.10/site-packages/fiftyone/utils/yolo.py:1029: UserWarning: Ignoring object with label 'Office supplies' not in provided classes\n",
      "  warnings.warn(msg)\n",
      "/Users/jayden/.pyenv/versions/3.10.13/envs/venv3.1/lib/python3.10/site-packages/fiftyone/utils/yolo.py:1029: UserWarning: Ignoring object with label 'Balance beam' not in provided classes\n",
      "  warnings.warn(msg)\n",
      "/Users/jayden/.pyenv/versions/3.10.13/envs/venv3.1/lib/python3.10/site-packages/fiftyone/utils/yolo.py:1029: UserWarning: Ignoring object with label 'Dolphin' not in provided classes\n",
      "  warnings.warn(msg)\n"
     ]
    },
    {
     "name": "stdout",
     "output_type": "stream",
     "text": [
      "  91% |█████████████/-| 1815/2000 [6.8s elapsed, 625.7ms remaining, 299.1 samples/s]  "
     ]
    },
    {
     "name": "stderr",
     "output_type": "stream",
     "text": [
      "/Users/jayden/.pyenv/versions/3.10.13/envs/venv3.1/lib/python3.10/site-packages/fiftyone/utils/yolo.py:1029: UserWarning: Ignoring object with label 'Flying disc' not in provided classes\n",
      "  warnings.warn(msg)\n"
     ]
    },
    {
     "name": "stdout",
     "output_type": "stream",
     "text": [
      "  95% |██████████████|| 1909/2000 [7.1s elapsed, 309.3ms remaining, 295.6 samples/s]  "
     ]
    },
    {
     "name": "stderr",
     "output_type": "stream",
     "text": [
      "/Users/jayden/.pyenv/versions/3.10.13/envs/venv3.1/lib/python3.10/site-packages/fiftyone/utils/yolo.py:1029: UserWarning: Ignoring object with label 'Dinosaur' not in provided classes\n",
      "  warnings.warn(msg)\n",
      "/Users/jayden/.pyenv/versions/3.10.13/envs/venv3.1/lib/python3.10/site-packages/fiftyone/utils/yolo.py:1029: UserWarning: Ignoring object with label 'Hamburger' not in provided classes\n",
      "  warnings.warn(msg)\n",
      "/Users/jayden/.pyenv/versions/3.10.13/envs/venv3.1/lib/python3.10/site-packages/fiftyone/utils/yolo.py:1029: UserWarning: Ignoring object with label 'Pig' not in provided classes\n",
      "  warnings.warn(msg)\n",
      "/Users/jayden/.pyenv/versions/3.10.13/envs/venv3.1/lib/python3.10/site-packages/fiftyone/utils/yolo.py:1029: UserWarning: Ignoring object with label 'Golf ball' not in provided classes\n",
      "  warnings.warn(msg)\n"
     ]
    },
    {
     "name": "stdout",
     "output_type": "stream",
     "text": [
      "  98% |██████████████-| 1968/2000 [7.3s elapsed, 109.2ms remaining, 293.6 samples/s]  "
     ]
    },
    {
     "name": "stderr",
     "output_type": "stream",
     "text": [
      "/Users/jayden/.pyenv/versions/3.10.13/envs/venv3.1/lib/python3.10/site-packages/fiftyone/utils/yolo.py:1029: UserWarning: Ignoring object with label 'Broccoli' not in provided classes\n",
      "  warnings.warn(msg)\n",
      "/Users/jayden/.pyenv/versions/3.10.13/envs/venv3.1/lib/python3.10/site-packages/fiftyone/utils/yolo.py:1029: UserWarning: Ignoring object with label 'Refrigerator' not in provided classes\n",
      "  warnings.warn(msg)\n",
      "/Users/jayden/.pyenv/versions/3.10.13/envs/venv3.1/lib/python3.10/site-packages/fiftyone/utils/yolo.py:1029: UserWarning: Ignoring object with label 'Snowman' not in provided classes\n",
      "  warnings.warn(msg)\n",
      "/Users/jayden/.pyenv/versions/3.10.13/envs/venv3.1/lib/python3.10/site-packages/fiftyone/utils/yolo.py:1029: UserWarning: Ignoring object with label 'Oboe' not in provided classes\n",
      "  warnings.warn(msg)\n",
      "/Users/jayden/.pyenv/versions/3.10.13/envs/venv3.1/lib/python3.10/site-packages/fiftyone/utils/yolo.py:1029: UserWarning: Ignoring object with label 'Swan' not in provided classes\n",
      "  warnings.warn(msg)\n",
      "/Users/jayden/.pyenv/versions/3.10.13/envs/venv3.1/lib/python3.10/site-packages/fiftyone/utils/yolo.py:1029: UserWarning: Ignoring object with label 'Goose' not in provided classes\n",
      "  warnings.warn(msg)\n"
     ]
    },
    {
     "name": "stdout",
     "output_type": "stream",
     "text": [
      " 100% |███████████████| 2000/2000 [7.5s elapsed, 0s remaining, 301.3 samples/s]       \n",
      "Downloading split 'test' to '/Users/jayden/Desktop/open-images-v7-person/test' if necessary\n",
      "Downloading 'https://storage.googleapis.com/openimages/2018_04/test/test-images-with-rotation.csv' to '/Users/jayden/Desktop/open-images-v7-person/test/metadata/image_ids.csv'\n",
      "Downloading 'https://storage.googleapis.com/openimages/v5/class-descriptions-boxable.csv' to '/Users/jayden/Desktop/open-images-v7-person/test/metadata/classes.csv'\n",
      "Downloading 'https://storage.googleapis.com/openimages/2018_04/bbox_labels_600_hierarchy.json' to '/var/folders/xh/5bmll_z13gvgvfxrbrr5gn_00000gn/T/tmpu6tqtfox/metadata/hierarchy.json'\n",
      "Downloading 'https://storage.googleapis.com/openimages/v5/test-annotations-bbox.csv' to '/Users/jayden/Desktop/open-images-v7-person/test/labels/detections.csv'\n",
      "Downloading 1000 images\n",
      " 100% |█████████████████| 1000/1000 [2.1m elapsed, 0s remaining, 8.2 files/s]      \n",
      "Dataset info written to '/Users/jayden/Desktop/open-images-v7-person/info.json'\n",
      "Loading 'open-images-v7' split 'test'\n",
      " 100% |███████████████| 1000/1000 [7.3s elapsed, 0s remaining, 139.3 samples/s]      \n",
      "Dataset 'open-images-v7-test-1000' created\n",
      "Directory '/Users/jayden/Desktop/open-images-v7-person-yolo' already exists; export will be merged with existing files\n",
      "   1% |/--------------|   11/1000 [112.9ms elapsed, 10.2s remaining, 97.4 samples/s] "
     ]
    },
    {
     "name": "stderr",
     "output_type": "stream",
     "text": [
      "/Users/jayden/.pyenv/versions/3.10.13/envs/venv3.1/lib/python3.10/site-packages/fiftyone/utils/yolo.py:1029: UserWarning: Ignoring object with label 'Car' not in provided classes\n",
      "  warnings.warn(msg)\n",
      "/Users/jayden/.pyenv/versions/3.10.13/envs/venv3.1/lib/python3.10/site-packages/fiftyone/utils/yolo.py:1029: UserWarning: Ignoring object with label 'Clothing' not in provided classes\n",
      "  warnings.warn(msg)\n",
      "/Users/jayden/.pyenv/versions/3.10.13/envs/venv3.1/lib/python3.10/site-packages/fiftyone/utils/yolo.py:1029: UserWarning: Ignoring object with label 'Human body' not in provided classes\n",
      "  warnings.warn(msg)\n",
      "/Users/jayden/.pyenv/versions/3.10.13/envs/venv3.1/lib/python3.10/site-packages/fiftyone/utils/yolo.py:1029: UserWarning: Ignoring object with label 'Wheel' not in provided classes\n",
      "  warnings.warn(msg)\n",
      "/Users/jayden/.pyenv/versions/3.10.13/envs/venv3.1/lib/python3.10/site-packages/fiftyone/utils/yolo.py:1029: UserWarning: Ignoring object with label 'Mammal' not in provided classes\n",
      "  warnings.warn(msg)\n",
      "/Users/jayden/.pyenv/versions/3.10.13/envs/venv3.1/lib/python3.10/site-packages/fiftyone/utils/yolo.py:1029: UserWarning: Ignoring object with label 'Accordion' not in provided classes\n",
      "  warnings.warn(msg)\n",
      "/Users/jayden/.pyenv/versions/3.10.13/envs/venv3.1/lib/python3.10/site-packages/fiftyone/utils/yolo.py:1029: UserWarning: Ignoring object with label 'Building' not in provided classes\n",
      "  warnings.warn(msg)\n",
      "/Users/jayden/.pyenv/versions/3.10.13/envs/venv3.1/lib/python3.10/site-packages/fiftyone/utils/yolo.py:1029: UserWarning: Ignoring object with label 'Bicycle helmet' not in provided classes\n",
      "  warnings.warn(msg)\n",
      "/Users/jayden/.pyenv/versions/3.10.13/envs/venv3.1/lib/python3.10/site-packages/fiftyone/utils/yolo.py:1029: UserWarning: Ignoring object with label 'Bicycle' not in provided classes\n",
      "  warnings.warn(msg)\n",
      "/Users/jayden/.pyenv/versions/3.10.13/envs/venv3.1/lib/python3.10/site-packages/fiftyone/utils/yolo.py:1029: UserWarning: Ignoring object with label 'Bicycle wheel' not in provided classes\n",
      "  warnings.warn(msg)\n",
      "/Users/jayden/.pyenv/versions/3.10.13/envs/venv3.1/lib/python3.10/site-packages/fiftyone/utils/yolo.py:1029: UserWarning: Ignoring object with label 'Train' not in provided classes\n",
      "  warnings.warn(msg)\n",
      "/Users/jayden/.pyenv/versions/3.10.13/envs/venv3.1/lib/python3.10/site-packages/fiftyone/utils/yolo.py:1029: UserWarning: Ignoring object with label 'Human face' not in provided classes\n",
      "  warnings.warn(msg)\n",
      "/Users/jayden/.pyenv/versions/3.10.13/envs/venv3.1/lib/python3.10/site-packages/fiftyone/utils/yolo.py:1029: UserWarning: Ignoring object with label 'Human hair' not in provided classes\n",
      "  warnings.warn(msg)\n",
      "/Users/jayden/.pyenv/versions/3.10.13/envs/venv3.1/lib/python3.10/site-packages/fiftyone/utils/yolo.py:1029: UserWarning: Ignoring object with label 'Girl' not in provided classes\n",
      "  warnings.warn(msg)\n",
      "/Users/jayden/.pyenv/versions/3.10.13/envs/venv3.1/lib/python3.10/site-packages/fiftyone/utils/yolo.py:1029: UserWarning: Ignoring object with label 'Human nose' not in provided classes\n",
      "  warnings.warn(msg)\n",
      "/Users/jayden/.pyenv/versions/3.10.13/envs/venv3.1/lib/python3.10/site-packages/fiftyone/utils/yolo.py:1029: UserWarning: Ignoring object with label 'Human head' not in provided classes\n",
      "  warnings.warn(msg)\n",
      "/Users/jayden/.pyenv/versions/3.10.13/envs/venv3.1/lib/python3.10/site-packages/fiftyone/utils/yolo.py:1029: UserWarning: Ignoring object with label 'Human eye' not in provided classes\n",
      "  warnings.warn(msg)\n",
      "/Users/jayden/.pyenv/versions/3.10.13/envs/venv3.1/lib/python3.10/site-packages/fiftyone/utils/yolo.py:1029: UserWarning: Ignoring object with label 'Human hand' not in provided classes\n",
      "  warnings.warn(msg)\n",
      "/Users/jayden/.pyenv/versions/3.10.13/envs/venv3.1/lib/python3.10/site-packages/fiftyone/utils/yolo.py:1029: UserWarning: Ignoring object with label 'Human ear' not in provided classes\n",
      "  warnings.warn(msg)\n",
      "/Users/jayden/.pyenv/versions/3.10.13/envs/venv3.1/lib/python3.10/site-packages/fiftyone/utils/yolo.py:1029: UserWarning: Ignoring object with label 'Human mouth' not in provided classes\n",
      "  warnings.warn(msg)\n",
      "/Users/jayden/.pyenv/versions/3.10.13/envs/venv3.1/lib/python3.10/site-packages/fiftyone/utils/yolo.py:1029: UserWarning: Ignoring object with label 'Boy' not in provided classes\n",
      "  warnings.warn(msg)\n",
      "/Users/jayden/.pyenv/versions/3.10.13/envs/venv3.1/lib/python3.10/site-packages/fiftyone/utils/yolo.py:1029: UserWarning: Ignoring object with label 'Human arm' not in provided classes\n",
      "  warnings.warn(msg)\n",
      "/Users/jayden/.pyenv/versions/3.10.13/envs/venv3.1/lib/python3.10/site-packages/fiftyone/utils/yolo.py:1029: UserWarning: Ignoring object with label 'Woman' not in provided classes\n",
      "  warnings.warn(msg)\n",
      "/Users/jayden/.pyenv/versions/3.10.13/envs/venv3.1/lib/python3.10/site-packages/fiftyone/utils/yolo.py:1029: UserWarning: Ignoring object with label 'Man' not in provided classes\n",
      "  warnings.warn(msg)\n",
      "/Users/jayden/.pyenv/versions/3.10.13/envs/venv3.1/lib/python3.10/site-packages/fiftyone/utils/yolo.py:1029: UserWarning: Ignoring object with label 'Food' not in provided classes\n",
      "  warnings.warn(msg)\n",
      "/Users/jayden/.pyenv/versions/3.10.13/envs/venv3.1/lib/python3.10/site-packages/fiftyone/utils/yolo.py:1029: UserWarning: Ignoring object with label 'Drink' not in provided classes\n",
      "  warnings.warn(msg)\n",
      "/Users/jayden/.pyenv/versions/3.10.13/envs/venv3.1/lib/python3.10/site-packages/fiftyone/utils/yolo.py:1029: UserWarning: Ignoring object with label 'Tableware' not in provided classes\n",
      "  warnings.warn(msg)\n",
      "/Users/jayden/.pyenv/versions/3.10.13/envs/venv3.1/lib/python3.10/site-packages/fiftyone/utils/yolo.py:1029: UserWarning: Ignoring object with label 'Fast food' not in provided classes\n",
      "  warnings.warn(msg)\n",
      "/Users/jayden/.pyenv/versions/3.10.13/envs/venv3.1/lib/python3.10/site-packages/fiftyone/utils/yolo.py:1029: UserWarning: Ignoring object with label 'Plant' not in provided classes\n",
      "  warnings.warn(msg)\n",
      "/Users/jayden/.pyenv/versions/3.10.13/envs/venv3.1/lib/python3.10/site-packages/fiftyone/utils/yolo.py:1029: UserWarning: Ignoring object with label 'Vehicle' not in provided classes\n",
      "  warnings.warn(msg)\n",
      "/Users/jayden/.pyenv/versions/3.10.13/envs/venv3.1/lib/python3.10/site-packages/fiftyone/utils/yolo.py:1029: UserWarning: Ignoring object with label 'Tree' not in provided classes\n",
      "  warnings.warn(msg)\n",
      "/Users/jayden/.pyenv/versions/3.10.13/envs/venv3.1/lib/python3.10/site-packages/fiftyone/utils/yolo.py:1029: UserWarning: Ignoring object with label 'Poster' not in provided classes\n",
      "  warnings.warn(msg)\n",
      "/Users/jayden/.pyenv/versions/3.10.13/envs/venv3.1/lib/python3.10/site-packages/fiftyone/utils/yolo.py:1029: UserWarning: Ignoring object with label 'Human leg' not in provided classes\n",
      "  warnings.warn(msg)\n",
      "/Users/jayden/.pyenv/versions/3.10.13/envs/venv3.1/lib/python3.10/site-packages/fiftyone/utils/yolo.py:1029: UserWarning: Ignoring object with label 'House' not in provided classes\n",
      "  warnings.warn(msg)\n",
      "/Users/jayden/.pyenv/versions/3.10.13/envs/venv3.1/lib/python3.10/site-packages/fiftyone/utils/yolo.py:1029: UserWarning: Ignoring object with label 'Footwear' not in provided classes\n",
      "  warnings.warn(msg)\n",
      "/Users/jayden/.pyenv/versions/3.10.13/envs/venv3.1/lib/python3.10/site-packages/fiftyone/utils/yolo.py:1029: UserWarning: Ignoring object with label 'Trousers' not in provided classes\n",
      "  warnings.warn(msg)\n",
      "/Users/jayden/.pyenv/versions/3.10.13/envs/venv3.1/lib/python3.10/site-packages/fiftyone/utils/yolo.py:1029: UserWarning: Ignoring object with label 'Dress' not in provided classes\n",
      "  warnings.warn(msg)\n",
      "/Users/jayden/.pyenv/versions/3.10.13/envs/venv3.1/lib/python3.10/site-packages/fiftyone/utils/yolo.py:1029: UserWarning: Ignoring object with label 'Suit' not in provided classes\n",
      "  warnings.warn(msg)\n",
      "/Users/jayden/.pyenv/versions/3.10.13/envs/venv3.1/lib/python3.10/site-packages/fiftyone/utils/yolo.py:1029: UserWarning: Ignoring object with label 'Glasses' not in provided classes\n",
      "  warnings.warn(msg)\n",
      "/Users/jayden/.pyenv/versions/3.10.13/envs/venv3.1/lib/python3.10/site-packages/fiftyone/utils/yolo.py:1029: UserWarning: Ignoring object with label 'High heels' not in provided classes\n",
      "  warnings.warn(msg)\n",
      "/Users/jayden/.pyenv/versions/3.10.13/envs/venv3.1/lib/python3.10/site-packages/fiftyone/utils/yolo.py:1029: UserWarning: Ignoring object with label 'Musical instrument' not in provided classes\n",
      "  warnings.warn(msg)\n",
      "/Users/jayden/.pyenv/versions/3.10.13/envs/venv3.1/lib/python3.10/site-packages/fiftyone/utils/yolo.py:1029: UserWarning: Ignoring object with label 'Guitar' not in provided classes\n",
      "  warnings.warn(msg)\n",
      "/Users/jayden/.pyenv/versions/3.10.13/envs/venv3.1/lib/python3.10/site-packages/fiftyone/utils/yolo.py:1029: UserWarning: Ignoring object with label 'Musical keyboard' not in provided classes\n",
      "  warnings.warn(msg)\n",
      "/Users/jayden/.pyenv/versions/3.10.13/envs/venv3.1/lib/python3.10/site-packages/fiftyone/utils/yolo.py:1029: UserWarning: Ignoring object with label 'Table' not in provided classes\n",
      "  warnings.warn(msg)\n",
      "/Users/jayden/.pyenv/versions/3.10.13/envs/venv3.1/lib/python3.10/site-packages/fiftyone/utils/yolo.py:1029: UserWarning: Ignoring object with label 'Door' not in provided classes\n",
      "  warnings.warn(msg)\n",
      "/Users/jayden/.pyenv/versions/3.10.13/envs/venv3.1/lib/python3.10/site-packages/fiftyone/utils/yolo.py:1029: UserWarning: Ignoring object with label 'Dog' not in provided classes\n",
      "  warnings.warn(msg)\n",
      "/Users/jayden/.pyenv/versions/3.10.13/envs/venv3.1/lib/python3.10/site-packages/fiftyone/utils/yolo.py:1029: UserWarning: Ignoring object with label 'Hat' not in provided classes\n",
      "  warnings.warn(msg)\n",
      "/Users/jayden/.pyenv/versions/3.10.13/envs/venv3.1/lib/python3.10/site-packages/fiftyone/utils/yolo.py:1029: UserWarning: Ignoring object with label 'Flag' not in provided classes\n",
      "  warnings.warn(msg)\n",
      "/Users/jayden/.pyenv/versions/3.10.13/envs/venv3.1/lib/python3.10/site-packages/fiftyone/utils/yolo.py:1029: UserWarning: Ignoring object with label 'Chair' not in provided classes\n",
      "  warnings.warn(msg)\n",
      "/Users/jayden/.pyenv/versions/3.10.13/envs/venv3.1/lib/python3.10/site-packages/fiftyone/utils/yolo.py:1029: UserWarning: Ignoring object with label 'Furniture' not in provided classes\n",
      "  warnings.warn(msg)\n",
      "/Users/jayden/.pyenv/versions/3.10.13/envs/venv3.1/lib/python3.10/site-packages/fiftyone/utils/yolo.py:1029: UserWarning: Ignoring object with label 'Kitchen & dining room table' not in provided classes\n",
      "  warnings.warn(msg)\n",
      "/Users/jayden/.pyenv/versions/3.10.13/envs/venv3.1/lib/python3.10/site-packages/fiftyone/utils/yolo.py:1029: UserWarning: Ignoring object with label 'Watercraft' not in provided classes\n",
      "  warnings.warn(msg)\n",
      "/Users/jayden/.pyenv/versions/3.10.13/envs/venv3.1/lib/python3.10/site-packages/fiftyone/utils/yolo.py:1029: UserWarning: Ignoring object with label 'Horse' not in provided classes\n",
      "  warnings.warn(msg)\n",
      "/Users/jayden/.pyenv/versions/3.10.13/envs/venv3.1/lib/python3.10/site-packages/fiftyone/utils/yolo.py:1029: UserWarning: Ignoring object with label 'Sandal' not in provided classes\n",
      "  warnings.warn(msg)\n",
      "/Users/jayden/.pyenv/versions/3.10.13/envs/venv3.1/lib/python3.10/site-packages/fiftyone/utils/yolo.py:1029: UserWarning: Ignoring object with label 'Human foot' not in provided classes\n",
      "  warnings.warn(msg)\n",
      "/Users/jayden/.pyenv/versions/3.10.13/envs/venv3.1/lib/python3.10/site-packages/fiftyone/utils/yolo.py:1029: UserWarning: Ignoring object with label 'Jeans' not in provided classes\n",
      "  warnings.warn(msg)\n",
      "/Users/jayden/.pyenv/versions/3.10.13/envs/venv3.1/lib/python3.10/site-packages/fiftyone/utils/yolo.py:1029: UserWarning: Ignoring object with label 'Cart' not in provided classes\n",
      "  warnings.warn(msg)\n",
      "/Users/jayden/.pyenv/versions/3.10.13/envs/venv3.1/lib/python3.10/site-packages/fiftyone/utils/yolo.py:1029: UserWarning: Ignoring object with label 'Mule' not in provided classes\n",
      "  warnings.warn(msg)\n",
      "/Users/jayden/.pyenv/versions/3.10.13/envs/venv3.1/lib/python3.10/site-packages/fiftyone/utils/yolo.py:1029: UserWarning: Ignoring object with label 'Flower' not in provided classes\n",
      "  warnings.warn(msg)\n",
      "/Users/jayden/.pyenv/versions/3.10.13/envs/venv3.1/lib/python3.10/site-packages/fiftyone/utils/yolo.py:1029: UserWarning: Ignoring object with label 'Sheep' not in provided classes\n",
      "  warnings.warn(msg)\n",
      "/Users/jayden/.pyenv/versions/3.10.13/envs/venv3.1/lib/python3.10/site-packages/fiftyone/utils/yolo.py:1029: UserWarning: Ignoring object with label 'Cattle' not in provided classes\n",
      "  warnings.warn(msg)\n",
      "/Users/jayden/.pyenv/versions/3.10.13/envs/venv3.1/lib/python3.10/site-packages/fiftyone/utils/yolo.py:1029: UserWarning: Ignoring object with label 'Weapon' not in provided classes\n",
      "  warnings.warn(msg)\n",
      "/Users/jayden/.pyenv/versions/3.10.13/envs/venv3.1/lib/python3.10/site-packages/fiftyone/utils/yolo.py:1029: UserWarning: Ignoring object with label 'Land vehicle' not in provided classes\n",
      "  warnings.warn(msg)\n",
      "/Users/jayden/.pyenv/versions/3.10.13/envs/venv3.1/lib/python3.10/site-packages/fiftyone/utils/yolo.py:1029: UserWarning: Ignoring object with label 'Sports equipment' not in provided classes\n",
      "  warnings.warn(msg)\n",
      "/Users/jayden/.pyenv/versions/3.10.13/envs/venv3.1/lib/python3.10/site-packages/fiftyone/utils/yolo.py:1029: UserWarning: Ignoring object with label 'Convenience store' not in provided classes\n",
      "  warnings.warn(msg)\n",
      "/Users/jayden/.pyenv/versions/3.10.13/envs/venv3.1/lib/python3.10/site-packages/fiftyone/utils/yolo.py:1029: UserWarning: Ignoring object with label 'Ball' not in provided classes\n",
      "  warnings.warn(msg)\n",
      "/Users/jayden/.pyenv/versions/3.10.13/envs/venv3.1/lib/python3.10/site-packages/fiftyone/utils/yolo.py:1029: UserWarning: Ignoring object with label 'Camera' not in provided classes\n",
      "  warnings.warn(msg)\n",
      "/Users/jayden/.pyenv/versions/3.10.13/envs/venv3.1/lib/python3.10/site-packages/fiftyone/utils/yolo.py:1029: UserWarning: Ignoring object with label 'Helicopter' not in provided classes\n",
      "  warnings.warn(msg)\n",
      "/Users/jayden/.pyenv/versions/3.10.13/envs/venv3.1/lib/python3.10/site-packages/fiftyone/utils/yolo.py:1029: UserWarning: Ignoring object with label 'Aircraft' not in provided classes\n",
      "  warnings.warn(msg)\n",
      "/Users/jayden/.pyenv/versions/3.10.13/envs/venv3.1/lib/python3.10/site-packages/fiftyone/utils/yolo.py:1029: UserWarning: Ignoring object with label 'Bus' not in provided classes\n",
      "  warnings.warn(msg)\n",
      "/Users/jayden/.pyenv/versions/3.10.13/envs/venv3.1/lib/python3.10/site-packages/fiftyone/utils/yolo.py:1029: UserWarning: Ignoring object with label 'Window' not in provided classes\n",
      "  warnings.warn(msg)\n"
     ]
    },
    {
     "name": "stdout",
     "output_type": "stream",
     "text": [
      "   7% |█\\-------------|   69/1000 [319.2ms elapsed, 4.3s remaining, 216.2 samples/s] "
     ]
    },
    {
     "name": "stderr",
     "output_type": "stream",
     "text": [
      "/Users/jayden/.pyenv/versions/3.10.13/envs/venv3.1/lib/python3.10/site-packages/fiftyone/utils/yolo.py:1029: UserWarning: Ignoring object with label 'Sports uniform' not in provided classes\n",
      "  warnings.warn(msg)\n",
      "/Users/jayden/.pyenv/versions/3.10.13/envs/venv3.1/lib/python3.10/site-packages/fiftyone/utils/yolo.py:1029: UserWarning: Ignoring object with label 'Sculpture' not in provided classes\n",
      "  warnings.warn(msg)\n",
      "/Users/jayden/.pyenv/versions/3.10.13/envs/venv3.1/lib/python3.10/site-packages/fiftyone/utils/yolo.py:1029: UserWarning: Ignoring object with label 'Eagle' not in provided classes\n",
      "  warnings.warn(msg)\n",
      "/Users/jayden/.pyenv/versions/3.10.13/envs/venv3.1/lib/python3.10/site-packages/fiftyone/utils/yolo.py:1029: UserWarning: Ignoring object with label 'Falcon' not in provided classes\n",
      "  warnings.warn(msg)\n",
      "/Users/jayden/.pyenv/versions/3.10.13/envs/venv3.1/lib/python3.10/site-packages/fiftyone/utils/yolo.py:1029: UserWarning: Ignoring object with label 'Surfboard' not in provided classes\n",
      "  warnings.warn(msg)\n",
      "/Users/jayden/.pyenv/versions/3.10.13/envs/venv3.1/lib/python3.10/site-packages/fiftyone/utils/yolo.py:1029: UserWarning: Ignoring object with label 'Cabinetry' not in provided classes\n",
      "  warnings.warn(msg)\n",
      "/Users/jayden/.pyenv/versions/3.10.13/envs/venv3.1/lib/python3.10/site-packages/fiftyone/utils/yolo.py:1029: UserWarning: Ignoring object with label 'Tire' not in provided classes\n",
      "  warnings.warn(msg)\n",
      "/Users/jayden/.pyenv/versions/3.10.13/envs/venv3.1/lib/python3.10/site-packages/fiftyone/utils/yolo.py:1029: UserWarning: Ignoring object with label 'Kitchen appliance' not in provided classes\n",
      "  warnings.warn(msg)\n",
      "/Users/jayden/.pyenv/versions/3.10.13/envs/venv3.1/lib/python3.10/site-packages/fiftyone/utils/yolo.py:1029: UserWarning: Ignoring object with label 'Home appliance' not in provided classes\n",
      "  warnings.warn(msg)\n",
      "/Users/jayden/.pyenv/versions/3.10.13/envs/venv3.1/lib/python3.10/site-packages/fiftyone/utils/yolo.py:1029: UserWarning: Ignoring object with label 'Refrigerator' not in provided classes\n",
      "  warnings.warn(msg)\n",
      "/Users/jayden/.pyenv/versions/3.10.13/envs/venv3.1/lib/python3.10/site-packages/fiftyone/utils/yolo.py:1029: UserWarning: Ignoring object with label 'Desk' not in provided classes\n",
      "  warnings.warn(msg)\n",
      "/Users/jayden/.pyenv/versions/3.10.13/envs/venv3.1/lib/python3.10/site-packages/fiftyone/utils/yolo.py:1029: UserWarning: Ignoring object with label 'Carnivore' not in provided classes\n",
      "  warnings.warn(msg)\n",
      "/Users/jayden/.pyenv/versions/3.10.13/envs/venv3.1/lib/python3.10/site-packages/fiftyone/utils/yolo.py:1029: UserWarning: Ignoring object with label 'Butterfly' not in provided classes\n",
      "  warnings.warn(msg)\n",
      "/Users/jayden/.pyenv/versions/3.10.13/envs/venv3.1/lib/python3.10/site-packages/fiftyone/utils/yolo.py:1029: UserWarning: Ignoring object with label 'Boat' not in provided classes\n",
      "  warnings.warn(msg)\n",
      "/Users/jayden/.pyenv/versions/3.10.13/envs/venv3.1/lib/python3.10/site-packages/fiftyone/utils/yolo.py:1029: UserWarning: Ignoring object with label 'Jet ski' not in provided classes\n",
      "  warnings.warn(msg)\n",
      "/Users/jayden/.pyenv/versions/3.10.13/envs/venv3.1/lib/python3.10/site-packages/fiftyone/utils/yolo.py:1029: UserWarning: Ignoring object with label 'Airplane' not in provided classes\n",
      "  warnings.warn(msg)\n",
      "/Users/jayden/.pyenv/versions/3.10.13/envs/venv3.1/lib/python3.10/site-packages/fiftyone/utils/yolo.py:1029: UserWarning: Ignoring object with label 'Van' not in provided classes\n",
      "  warnings.warn(msg)\n",
      "/Users/jayden/.pyenv/versions/3.10.13/envs/venv3.1/lib/python3.10/site-packages/fiftyone/utils/yolo.py:1029: UserWarning: Ignoring object with label 'Motorcycle' not in provided classes\n",
      "  warnings.warn(msg)\n",
      "/Users/jayden/.pyenv/versions/3.10.13/envs/venv3.1/lib/python3.10/site-packages/fiftyone/utils/yolo.py:1029: UserWarning: Ignoring object with label 'Computer monitor' not in provided classes\n",
      "  warnings.warn(msg)\n",
      "/Users/jayden/.pyenv/versions/3.10.13/envs/venv3.1/lib/python3.10/site-packages/fiftyone/utils/yolo.py:1029: UserWarning: Ignoring object with label 'Volleyball (Ball)' not in provided classes\n",
      "  warnings.warn(msg)\n",
      "/Users/jayden/.pyenv/versions/3.10.13/envs/venv3.1/lib/python3.10/site-packages/fiftyone/utils/yolo.py:1029: UserWarning: Ignoring object with label 'Fashion accessory' not in provided classes\n",
      "  warnings.warn(msg)\n",
      "/Users/jayden/.pyenv/versions/3.10.13/envs/venv3.1/lib/python3.10/site-packages/fiftyone/utils/yolo.py:1029: UserWarning: Ignoring object with label 'Skunk' not in provided classes\n",
      "  warnings.warn(msg)\n",
      "/Users/jayden/.pyenv/versions/3.10.13/envs/venv3.1/lib/python3.10/site-packages/fiftyone/utils/yolo.py:1029: UserWarning: Ignoring object with label 'Animal' not in provided classes\n",
      "  warnings.warn(msg)\n",
      "/Users/jayden/.pyenv/versions/3.10.13/envs/venv3.1/lib/python3.10/site-packages/fiftyone/utils/yolo.py:1029: UserWarning: Ignoring object with label 'Vehicle registration plate' not in provided classes\n",
      "  warnings.warn(msg)\n",
      "/Users/jayden/.pyenv/versions/3.10.13/envs/venv3.1/lib/python3.10/site-packages/fiftyone/utils/yolo.py:1029: UserWarning: Ignoring object with label 'Swimming pool' not in provided classes\n",
      "  warnings.warn(msg)\n",
      "/Users/jayden/.pyenv/versions/3.10.13/envs/venv3.1/lib/python3.10/site-packages/fiftyone/utils/yolo.py:1029: UserWarning: Ignoring object with label 'Cake' not in provided classes\n",
      "  warnings.warn(msg)\n",
      "/Users/jayden/.pyenv/versions/3.10.13/envs/venv3.1/lib/python3.10/site-packages/fiftyone/utils/yolo.py:1029: UserWarning: Ignoring object with label 'Dessert' not in provided classes\n",
      "  warnings.warn(msg)\n",
      "/Users/jayden/.pyenv/versions/3.10.13/envs/venv3.1/lib/python3.10/site-packages/fiftyone/utils/yolo.py:1029: UserWarning: Ignoring object with label 'Sunglasses' not in provided classes\n",
      "  warnings.warn(msg)\n"
     ]
    },
    {
     "name": "stdout",
     "output_type": "stream",
     "text": [
      "  13% |██-------------|  134/1000 [624.8ms elapsed, 4.0s remaining, 214.5 samples/s] "
     ]
    },
    {
     "name": "stderr",
     "output_type": "stream",
     "text": [
      "/Users/jayden/.pyenv/versions/3.10.13/envs/venv3.1/lib/python3.10/site-packages/fiftyone/utils/yolo.py:1029: UserWarning: Ignoring object with label 'Microphone' not in provided classes\n",
      "  warnings.warn(msg)\n",
      "/Users/jayden/.pyenv/versions/3.10.13/envs/venv3.1/lib/python3.10/site-packages/fiftyone/utils/yolo.py:1029: UserWarning: Ignoring object with label 'Personal flotation device' not in provided classes\n",
      "  warnings.warn(msg)\n",
      "/Users/jayden/.pyenv/versions/3.10.13/envs/venv3.1/lib/python3.10/site-packages/fiftyone/utils/yolo.py:1029: UserWarning: Ignoring object with label 'Paddle' not in provided classes\n",
      "  warnings.warn(msg)\n",
      "/Users/jayden/.pyenv/versions/3.10.13/envs/venv3.1/lib/python3.10/site-packages/fiftyone/utils/yolo.py:1029: UserWarning: Ignoring object with label 'Drum' not in provided classes\n",
      "  warnings.warn(msg)\n",
      "/Users/jayden/.pyenv/versions/3.10.13/envs/venv3.1/lib/python3.10/site-packages/fiftyone/utils/yolo.py:1029: UserWarning: Ignoring object with label 'Truck' not in provided classes\n",
      "  warnings.warn(msg)\n",
      "/Users/jayden/.pyenv/versions/3.10.13/envs/venv3.1/lib/python3.10/site-packages/fiftyone/utils/yolo.py:1029: UserWarning: Ignoring object with label 'Helmet' not in provided classes\n",
      "  warnings.warn(msg)\n",
      "/Users/jayden/.pyenv/versions/3.10.13/envs/venv3.1/lib/python3.10/site-packages/fiftyone/utils/yolo.py:1029: UserWarning: Ignoring object with label 'Umbrella' not in provided classes\n",
      "  warnings.warn(msg)\n",
      "/Users/jayden/.pyenv/versions/3.10.13/envs/venv3.1/lib/python3.10/site-packages/fiftyone/utils/yolo.py:1029: UserWarning: Ignoring object with label 'Golf ball' not in provided classes\n",
      "  warnings.warn(msg)\n",
      "/Users/jayden/.pyenv/versions/3.10.13/envs/venv3.1/lib/python3.10/site-packages/fiftyone/utils/yolo.py:1029: UserWarning: Ignoring object with label 'Bull' not in provided classes\n",
      "  warnings.warn(msg)\n",
      "/Users/jayden/.pyenv/versions/3.10.13/envs/venv3.1/lib/python3.10/site-packages/fiftyone/utils/yolo.py:1029: UserWarning: Ignoring object with label 'Roller skates' not in provided classes\n",
      "  warnings.warn(msg)\n",
      "/Users/jayden/.pyenv/versions/3.10.13/envs/venv3.1/lib/python3.10/site-packages/fiftyone/utils/yolo.py:1029: UserWarning: Ignoring object with label 'Football' not in provided classes\n",
      "  warnings.warn(msg)\n",
      "/Users/jayden/.pyenv/versions/3.10.13/envs/venv3.1/lib/python3.10/site-packages/fiftyone/utils/yolo.py:1029: UserWarning: Ignoring object with label 'Tennis racket' not in provided classes\n",
      "  warnings.warn(msg)\n",
      "/Users/jayden/.pyenv/versions/3.10.13/envs/venv3.1/lib/python3.10/site-packages/fiftyone/utils/yolo.py:1029: UserWarning: Ignoring object with label 'Bowling equipment' not in provided classes\n",
      "  warnings.warn(msg)\n",
      "/Users/jayden/.pyenv/versions/3.10.13/envs/venv3.1/lib/python3.10/site-packages/fiftyone/utils/yolo.py:1029: UserWarning: Ignoring object with label 'Tortoise' not in provided classes\n",
      "  warnings.warn(msg)\n",
      "/Users/jayden/.pyenv/versions/3.10.13/envs/venv3.1/lib/python3.10/site-packages/fiftyone/utils/yolo.py:1029: UserWarning: Ignoring object with label 'Sea turtle' not in provided classes\n",
      "  warnings.warn(msg)\n"
     ]
    },
    {
     "name": "stdout",
     "output_type": "stream",
     "text": [
      "  20% |██|------------|  195/1000 [836.9ms elapsed, 3.5s remaining, 233.0 samples/s] "
     ]
    },
    {
     "name": "stderr",
     "output_type": "stream",
     "text": [
      "/Users/jayden/.pyenv/versions/3.10.13/envs/venv3.1/lib/python3.10/site-packages/fiftyone/utils/yolo.py:1029: UserWarning: Ignoring object with label 'Ski' not in provided classes\n",
      "  warnings.warn(msg)\n",
      "/Users/jayden/.pyenv/versions/3.10.13/envs/venv3.1/lib/python3.10/site-packages/fiftyone/utils/yolo.py:1029: UserWarning: Ignoring object with label 'Goggles' not in provided classes\n",
      "  warnings.warn(msg)\n",
      "/Users/jayden/.pyenv/versions/3.10.13/envs/venv3.1/lib/python3.10/site-packages/fiftyone/utils/yolo.py:1029: UserWarning: Ignoring object with label 'Auto part' not in provided classes\n",
      "  warnings.warn(msg)\n",
      "/Users/jayden/.pyenv/versions/3.10.13/envs/venv3.1/lib/python3.10/site-packages/fiftyone/utils/yolo.py:1029: UserWarning: Ignoring object with label 'Skyscraper' not in provided classes\n",
      "  warnings.warn(msg)\n",
      "/Users/jayden/.pyenv/versions/3.10.13/envs/venv3.1/lib/python3.10/site-packages/fiftyone/utils/yolo.py:1029: UserWarning: Ignoring object with label 'Baked goods' not in provided classes\n",
      "  warnings.warn(msg)\n",
      "/Users/jayden/.pyenv/versions/3.10.13/envs/venv3.1/lib/python3.10/site-packages/fiftyone/utils/yolo.py:1029: UserWarning: Ignoring object with label 'Snack' not in provided classes\n",
      "  warnings.warn(msg)\n",
      "/Users/jayden/.pyenv/versions/3.10.13/envs/venv3.1/lib/python3.10/site-packages/fiftyone/utils/yolo.py:1029: UserWarning: Ignoring object with label 'French fries' not in provided classes\n",
      "  warnings.warn(msg)\n",
      "/Users/jayden/.pyenv/versions/3.10.13/envs/venv3.1/lib/python3.10/site-packages/fiftyone/utils/yolo.py:1029: UserWarning: Ignoring object with label 'Hamburger' not in provided classes\n",
      "  warnings.warn(msg)\n",
      "/Users/jayden/.pyenv/versions/3.10.13/envs/venv3.1/lib/python3.10/site-packages/fiftyone/utils/yolo.py:1029: UserWarning: Ignoring object with label 'Wheelchair' not in provided classes\n",
      "  warnings.warn(msg)\n",
      "/Users/jayden/.pyenv/versions/3.10.13/envs/venv3.1/lib/python3.10/site-packages/fiftyone/utils/yolo.py:1029: UserWarning: Ignoring object with label 'Shirt' not in provided classes\n",
      "  warnings.warn(msg)\n",
      "/Users/jayden/.pyenv/versions/3.10.13/envs/venv3.1/lib/python3.10/site-packages/fiftyone/utils/yolo.py:1029: UserWarning: Ignoring object with label 'Office supplies' not in provided classes\n",
      "  warnings.warn(msg)\n",
      "/Users/jayden/.pyenv/versions/3.10.13/envs/venv3.1/lib/python3.10/site-packages/fiftyone/utils/yolo.py:1029: UserWarning: Ignoring object with label 'Baseball glove' not in provided classes\n",
      "  warnings.warn(msg)\n",
      "/Users/jayden/.pyenv/versions/3.10.13/envs/venv3.1/lib/python3.10/site-packages/fiftyone/utils/yolo.py:1029: UserWarning: Ignoring object with label 'Canoe' not in provided classes\n",
      "  warnings.warn(msg)\n"
     ]
    },
    {
     "name": "stdout",
     "output_type": "stream",
     "text": [
      "  24% |███------------|  241/1000 [1.0s elapsed, 3.2s remaining, 247.8 samples/s]    "
     ]
    },
    {
     "name": "stderr",
     "output_type": "stream",
     "text": [
      "/Users/jayden/.pyenv/versions/3.10.13/envs/venv3.1/lib/python3.10/site-packages/fiftyone/utils/yolo.py:1029: UserWarning: Ignoring object with label 'Football helmet' not in provided classes\n",
      "  warnings.warn(msg)\n",
      "/Users/jayden/.pyenv/versions/3.10.13/envs/venv3.1/lib/python3.10/site-packages/fiftyone/utils/yolo.py:1029: UserWarning: Ignoring object with label 'Horizontal bar' not in provided classes\n",
      "  warnings.warn(msg)\n",
      "/Users/jayden/.pyenv/versions/3.10.13/envs/venv3.1/lib/python3.10/site-packages/fiftyone/utils/yolo.py:1029: UserWarning: Ignoring object with label 'Hiking equipment' not in provided classes\n",
      "  warnings.warn(msg)\n",
      "/Users/jayden/.pyenv/versions/3.10.13/envs/venv3.1/lib/python3.10/site-packages/fiftyone/utils/yolo.py:1029: UserWarning: Ignoring object with label 'Infant bed' not in provided classes\n",
      "  warnings.warn(msg)\n",
      "/Users/jayden/.pyenv/versions/3.10.13/envs/venv3.1/lib/python3.10/site-packages/fiftyone/utils/yolo.py:1029: UserWarning: Ignoring object with label 'Toy' not in provided classes\n",
      "  warnings.warn(msg)\n",
      "/Users/jayden/.pyenv/versions/3.10.13/envs/venv3.1/lib/python3.10/site-packages/fiftyone/utils/yolo.py:1029: UserWarning: Ignoring object with label 'Belt' not in provided classes\n",
      "  warnings.warn(msg)\n",
      "/Users/jayden/.pyenv/versions/3.10.13/envs/venv3.1/lib/python3.10/site-packages/fiftyone/utils/yolo.py:1029: UserWarning: Ignoring object with label 'Tent' not in provided classes\n",
      "  warnings.warn(msg)\n",
      "/Users/jayden/.pyenv/versions/3.10.13/envs/venv3.1/lib/python3.10/site-packages/fiftyone/utils/yolo.py:1029: UserWarning: Ignoring object with label 'Segway' not in provided classes\n",
      "  warnings.warn(msg)\n",
      "/Users/jayden/.pyenv/versions/3.10.13/envs/venv3.1/lib/python3.10/site-packages/fiftyone/utils/yolo.py:1029: UserWarning: Ignoring object with label 'Sink' not in provided classes\n",
      "  warnings.warn(msg)\n",
      "/Users/jayden/.pyenv/versions/3.10.13/envs/venv3.1/lib/python3.10/site-packages/fiftyone/utils/yolo.py:1029: UserWarning: Ignoring object with label 'Plumbing fixture' not in provided classes\n",
      "  warnings.warn(msg)\n",
      "/Users/jayden/.pyenv/versions/3.10.13/envs/venv3.1/lib/python3.10/site-packages/fiftyone/utils/yolo.py:1029: UserWarning: Ignoring object with label 'Tap' not in provided classes\n",
      "  warnings.warn(msg)\n",
      "/Users/jayden/.pyenv/versions/3.10.13/envs/venv3.1/lib/python3.10/site-packages/fiftyone/utils/yolo.py:1029: UserWarning: Ignoring object with label 'Racket' not in provided classes\n",
      "  warnings.warn(msg)\n",
      "/Users/jayden/.pyenv/versions/3.10.13/envs/venv3.1/lib/python3.10/site-packages/fiftyone/utils/yolo.py:1029: UserWarning: Ignoring object with label 'Table tennis racket' not in provided classes\n",
      "  warnings.warn(msg)\n"
     ]
    },
    {
     "name": "stdout",
     "output_type": "stream",
     "text": [
      "  29% |████|----------|  290/1000 [1.2s elapsed, 3.0s remaining, 238.3 samples/s]    "
     ]
    },
    {
     "name": "stderr",
     "output_type": "stream",
     "text": [
      "/Users/jayden/.pyenv/versions/3.10.13/envs/venv3.1/lib/python3.10/site-packages/fiftyone/utils/yolo.py:1029: UserWarning: Ignoring object with label 'Computer keyboard' not in provided classes\n",
      "  warnings.warn(msg)\n",
      "/Users/jayden/.pyenv/versions/3.10.13/envs/venv3.1/lib/python3.10/site-packages/fiftyone/utils/yolo.py:1029: UserWarning: Ignoring object with label 'Laptop' not in provided classes\n",
      "  warnings.warn(msg)\n",
      "/Users/jayden/.pyenv/versions/3.10.13/envs/venv3.1/lib/python3.10/site-packages/fiftyone/utils/yolo.py:1029: UserWarning: Ignoring object with label 'Lipstick' not in provided classes\n",
      "  warnings.warn(msg)\n",
      "/Users/jayden/.pyenv/versions/3.10.13/envs/venv3.1/lib/python3.10/site-packages/fiftyone/utils/yolo.py:1029: UserWarning: Ignoring object with label 'Book' not in provided classes\n",
      "  warnings.warn(msg)\n",
      "/Users/jayden/.pyenv/versions/3.10.13/envs/venv3.1/lib/python3.10/site-packages/fiftyone/utils/yolo.py:1029: UserWarning: Ignoring object with label 'Lion' not in provided classes\n",
      "  warnings.warn(msg)\n",
      "/Users/jayden/.pyenv/versions/3.10.13/envs/venv3.1/lib/python3.10/site-packages/fiftyone/utils/yolo.py:1029: UserWarning: Ignoring object with label 'Swim cap' not in provided classes\n",
      "  warnings.warn(msg)\n",
      "/Users/jayden/.pyenv/versions/3.10.13/envs/venv3.1/lib/python3.10/site-packages/fiftyone/utils/yolo.py:1029: UserWarning: Ignoring object with label 'Swimwear' not in provided classes\n",
      "  warnings.warn(msg)\n",
      "/Users/jayden/.pyenv/versions/3.10.13/envs/venv3.1/lib/python3.10/site-packages/fiftyone/utils/yolo.py:1029: UserWarning: Ignoring object with label 'Balloon' not in provided classes\n",
      "  warnings.warn(msg)\n",
      "/Users/jayden/.pyenv/versions/3.10.13/envs/venv3.1/lib/python3.10/site-packages/fiftyone/utils/yolo.py:1029: UserWarning: Ignoring object with label 'Glove' not in provided classes\n",
      "  warnings.warn(msg)\n",
      "/Users/jayden/.pyenv/versions/3.10.13/envs/venv3.1/lib/python3.10/site-packages/fiftyone/utils/yolo.py:1029: UserWarning: Ignoring object with label 'Bookcase' not in provided classes\n",
      "  warnings.warn(msg)\n",
      "/Users/jayden/.pyenv/versions/3.10.13/envs/venv3.1/lib/python3.10/site-packages/fiftyone/utils/yolo.py:1029: UserWarning: Ignoring object with label 'Shelf' not in provided classes\n",
      "  warnings.warn(msg)\n",
      "/Users/jayden/.pyenv/versions/3.10.13/envs/venv3.1/lib/python3.10/site-packages/fiftyone/utils/yolo.py:1029: UserWarning: Ignoring object with label 'Human beard' not in provided classes\n",
      "  warnings.warn(msg)\n",
      "/Users/jayden/.pyenv/versions/3.10.13/envs/venv3.1/lib/python3.10/site-packages/fiftyone/utils/yolo.py:1029: UserWarning: Ignoring object with label 'Shorts' not in provided classes\n",
      "  warnings.warn(msg)\n",
      "/Users/jayden/.pyenv/versions/3.10.13/envs/venv3.1/lib/python3.10/site-packages/fiftyone/utils/yolo.py:1029: UserWarning: Ignoring object with label 'Wine glass' not in provided classes\n",
      "  warnings.warn(msg)\n",
      "/Users/jayden/.pyenv/versions/3.10.13/envs/venv3.1/lib/python3.10/site-packages/fiftyone/utils/yolo.py:1029: UserWarning: Ignoring object with label 'Wine' not in provided classes\n",
      "  warnings.warn(msg)\n",
      "/Users/jayden/.pyenv/versions/3.10.13/envs/venv3.1/lib/python3.10/site-packages/fiftyone/utils/yolo.py:1029: UserWarning: Ignoring object with label 'Jacket' not in provided classes\n",
      "  warnings.warn(msg)\n",
      "/Users/jayden/.pyenv/versions/3.10.13/envs/venv3.1/lib/python3.10/site-packages/fiftyone/utils/yolo.py:1029: UserWarning: Ignoring object with label 'Sock' not in provided classes\n",
      "  warnings.warn(msg)\n",
      "/Users/jayden/.pyenv/versions/3.10.13/envs/venv3.1/lib/python3.10/site-packages/fiftyone/utils/yolo.py:1029: UserWarning: Ignoring object with label 'Fish' not in provided classes\n",
      "  warnings.warn(msg)\n"
     ]
    },
    {
     "name": "stdout",
     "output_type": "stream",
     "text": [
      "  34% |█████----------|  341/1000 [1.5s elapsed, 2.8s remaining, 249.1 samples/s]    "
     ]
    },
    {
     "name": "stderr",
     "output_type": "stream",
     "text": [
      "/Users/jayden/.pyenv/versions/3.10.13/envs/venv3.1/lib/python3.10/site-packages/fiftyone/utils/yolo.py:1029: UserWarning: Ignoring object with label 'Harp' not in provided classes\n",
      "  warnings.warn(msg)\n",
      "/Users/jayden/.pyenv/versions/3.10.13/envs/venv3.1/lib/python3.10/site-packages/fiftyone/utils/yolo.py:1029: UserWarning: Ignoring object with label 'Duck' not in provided classes\n",
      "  warnings.warn(msg)\n",
      "/Users/jayden/.pyenv/versions/3.10.13/envs/venv3.1/lib/python3.10/site-packages/fiftyone/utils/yolo.py:1029: UserWarning: Ignoring object with label 'Pillow' not in provided classes\n",
      "  warnings.warn(msg)\n",
      "/Users/jayden/.pyenv/versions/3.10.13/envs/venv3.1/lib/python3.10/site-packages/fiftyone/utils/yolo.py:1029: UserWarning: Ignoring object with label 'Medical equipment' not in provided classes\n",
      "  warnings.warn(msg)\n",
      "/Users/jayden/.pyenv/versions/3.10.13/envs/venv3.1/lib/python3.10/site-packages/fiftyone/utils/yolo.py:1029: UserWarning: Ignoring object with label 'Bed' not in provided classes\n",
      "  warnings.warn(msg)\n",
      "/Users/jayden/.pyenv/versions/3.10.13/envs/venv3.1/lib/python3.10/site-packages/fiftyone/utils/yolo.py:1029: UserWarning: Ignoring object with label 'Coffee' not in provided classes\n",
      "  warnings.warn(msg)\n",
      "/Users/jayden/.pyenv/versions/3.10.13/envs/venv3.1/lib/python3.10/site-packages/fiftyone/utils/yolo.py:1029: UserWarning: Ignoring object with label 'Coffee cup' not in provided classes\n",
      "  warnings.warn(msg)\n",
      "/Users/jayden/.pyenv/versions/3.10.13/envs/venv3.1/lib/python3.10/site-packages/fiftyone/utils/yolo.py:1029: UserWarning: Ignoring object with label 'Tea' not in provided classes\n",
      "  warnings.warn(msg)\n",
      "/Users/jayden/.pyenv/versions/3.10.13/envs/venv3.1/lib/python3.10/site-packages/fiftyone/utils/yolo.py:1029: UserWarning: Ignoring object with label 'Billboard' not in provided classes\n",
      "  warnings.warn(msg)\n",
      "/Users/jayden/.pyenv/versions/3.10.13/envs/venv3.1/lib/python3.10/site-packages/fiftyone/utils/yolo.py:1029: UserWarning: Ignoring object with label 'Countertop' not in provided classes\n",
      "  warnings.warn(msg)\n",
      "/Users/jayden/.pyenv/versions/3.10.13/envs/venv3.1/lib/python3.10/site-packages/fiftyone/utils/yolo.py:1029: UserWarning: Ignoring object with label 'Tablet computer' not in provided classes\n",
      "  warnings.warn(msg)\n",
      "/Users/jayden/.pyenv/versions/3.10.13/envs/venv3.1/lib/python3.10/site-packages/fiftyone/utils/yolo.py:1029: UserWarning: Ignoring object with label 'Mobile phone' not in provided classes\n",
      "  warnings.warn(msg)\n",
      "/Users/jayden/.pyenv/versions/3.10.13/envs/venv3.1/lib/python3.10/site-packages/fiftyone/utils/yolo.py:1029: UserWarning: Ignoring object with label 'Grape' not in provided classes\n",
      "  warnings.warn(msg)\n",
      "/Users/jayden/.pyenv/versions/3.10.13/envs/venv3.1/lib/python3.10/site-packages/fiftyone/utils/yolo.py:1029: UserWarning: Ignoring object with label 'Fruit' not in provided classes\n",
      "  warnings.warn(msg)\n",
      "/Users/jayden/.pyenv/versions/3.10.13/envs/venv3.1/lib/python3.10/site-packages/fiftyone/utils/yolo.py:1029: UserWarning: Ignoring object with label 'Limousine' not in provided classes\n",
      "  warnings.warn(msg)\n",
      "/Users/jayden/.pyenv/versions/3.10.13/envs/venv3.1/lib/python3.10/site-packages/fiftyone/utils/yolo.py:1029: UserWarning: Ignoring object with label 'Harpsichord' not in provided classes\n",
      "  warnings.warn(msg)\n",
      "/Users/jayden/.pyenv/versions/3.10.13/envs/venv3.1/lib/python3.10/site-packages/fiftyone/utils/yolo.py:1029: UserWarning: Ignoring object with label 'Stool' not in provided classes\n",
      "  warnings.warn(msg)\n",
      "/Users/jayden/.pyenv/versions/3.10.13/envs/venv3.1/lib/python3.10/site-packages/fiftyone/utils/yolo.py:1029: UserWarning: Ignoring object with label 'Piano' not in provided classes\n",
      "  warnings.warn(msg)\n"
     ]
    },
    {
     "name": "stdout",
     "output_type": "stream",
     "text": [
      "  39% |█████|---------|  394/1000 [1.7s elapsed, 2.5s remaining, 248.9 samples/s]    "
     ]
    },
    {
     "name": "stderr",
     "output_type": "stream",
     "text": [
      "/Users/jayden/.pyenv/versions/3.10.13/envs/venv3.1/lib/python3.10/site-packages/fiftyone/utils/yolo.py:1029: UserWarning: Ignoring object with label 'Skateboard' not in provided classes\n",
      "  warnings.warn(msg)\n",
      "/Users/jayden/.pyenv/versions/3.10.13/envs/venv3.1/lib/python3.10/site-packages/fiftyone/utils/yolo.py:1029: UserWarning: Ignoring object with label 'Band-aid' not in provided classes\n",
      "  warnings.warn(msg)\n",
      "/Users/jayden/.pyenv/versions/3.10.13/envs/venv3.1/lib/python3.10/site-packages/fiftyone/utils/yolo.py:1029: UserWarning: Ignoring object with label 'Treadmill' not in provided classes\n",
      "  warnings.warn(msg)\n",
      "/Users/jayden/.pyenv/versions/3.10.13/envs/venv3.1/lib/python3.10/site-packages/fiftyone/utils/yolo.py:1029: UserWarning: Ignoring object with label 'Candle' not in provided classes\n",
      "  warnings.warn(msg)\n",
      "/Users/jayden/.pyenv/versions/3.10.13/envs/venv3.1/lib/python3.10/site-packages/fiftyone/utils/yolo.py:1029: UserWarning: Ignoring object with label 'Coat' not in provided classes\n",
      "  warnings.warn(msg)\n",
      "/Users/jayden/.pyenv/versions/3.10.13/envs/venv3.1/lib/python3.10/site-packages/fiftyone/utils/yolo.py:1029: UserWarning: Ignoring object with label 'Snowboard' not in provided classes\n",
      "  warnings.warn(msg)\n",
      "/Users/jayden/.pyenv/versions/3.10.13/envs/venv3.1/lib/python3.10/site-packages/fiftyone/utils/yolo.py:1029: UserWarning: Ignoring object with label 'Rugby ball' not in provided classes\n",
      "  warnings.warn(msg)\n",
      "/Users/jayden/.pyenv/versions/3.10.13/envs/venv3.1/lib/python3.10/site-packages/fiftyone/utils/yolo.py:1029: UserWarning: Ignoring object with label 'Pumpkin' not in provided classes\n",
      "  warnings.warn(msg)\n",
      "/Users/jayden/.pyenv/versions/3.10.13/envs/venv3.1/lib/python3.10/site-packages/fiftyone/utils/yolo.py:1029: UserWarning: Ignoring object with label 'Squash (Plant)' not in provided classes\n",
      "  warnings.warn(msg)\n"
     ]
    },
    {
     "name": "stdout",
     "output_type": "stream",
     "text": [
      "  47% |███████\\-------|  472/1000 [2.0s elapsed, 2.2s remaining, 240.1 samples/s]    "
     ]
    },
    {
     "name": "stderr",
     "output_type": "stream",
     "text": [
      "/Users/jayden/.pyenv/versions/3.10.13/envs/venv3.1/lib/python3.10/site-packages/fiftyone/utils/yolo.py:1029: UserWarning: Ignoring object with label 'Saxophone' not in provided classes\n",
      "  warnings.warn(msg)\n",
      "/Users/jayden/.pyenv/versions/3.10.13/envs/venv3.1/lib/python3.10/site-packages/fiftyone/utils/yolo.py:1029: UserWarning: Ignoring object with label 'French horn' not in provided classes\n",
      "  warnings.warn(msg)\n",
      "/Users/jayden/.pyenv/versions/3.10.13/envs/venv3.1/lib/python3.10/site-packages/fiftyone/utils/yolo.py:1029: UserWarning: Ignoring object with label 'Vegetable' not in provided classes\n",
      "  warnings.warn(msg)\n",
      "/Users/jayden/.pyenv/versions/3.10.13/envs/venv3.1/lib/python3.10/site-packages/fiftyone/utils/yolo.py:1029: UserWarning: Ignoring object with label 'Watermelon' not in provided classes\n",
      "  warnings.warn(msg)\n",
      "/Users/jayden/.pyenv/versions/3.10.13/envs/venv3.1/lib/python3.10/site-packages/fiftyone/utils/yolo.py:1029: UserWarning: Ignoring object with label 'Bottle' not in provided classes\n",
      "  warnings.warn(msg)\n",
      "/Users/jayden/.pyenv/versions/3.10.13/envs/venv3.1/lib/python3.10/site-packages/fiftyone/utils/yolo.py:1029: UserWarning: Ignoring object with label 'Fedora' not in provided classes\n",
      "  warnings.warn(msg)\n",
      "/Users/jayden/.pyenv/versions/3.10.13/envs/venv3.1/lib/python3.10/site-packages/fiftyone/utils/yolo.py:1029: UserWarning: Ignoring object with label 'Platter' not in provided classes\n",
      "  warnings.warn(msg)\n"
     ]
    },
    {
     "name": "stdout",
     "output_type": "stream",
     "text": [
      "  53% |███████/-------|  526/1000 [2.2s elapsed, 2.0s remaining, 246.3 samples/s]    "
     ]
    },
    {
     "name": "stderr",
     "output_type": "stream",
     "text": [
      "/Users/jayden/.pyenv/versions/3.10.13/envs/venv3.1/lib/python3.10/site-packages/fiftyone/utils/yolo.py:1029: UserWarning: Ignoring object with label 'Bronze sculpture' not in provided classes\n",
      "  warnings.warn(msg)\n",
      "/Users/jayden/.pyenv/versions/3.10.13/envs/venv3.1/lib/python3.10/site-packages/fiftyone/utils/yolo.py:1029: UserWarning: Ignoring object with label 'Violin' not in provided classes\n",
      "  warnings.warn(msg)\n",
      "/Users/jayden/.pyenv/versions/3.10.13/envs/venv3.1/lib/python3.10/site-packages/fiftyone/utils/yolo.py:1029: UserWarning: Ignoring object with label 'Box' not in provided classes\n",
      "  warnings.warn(msg)\n",
      "/Users/jayden/.pyenv/versions/3.10.13/envs/venv3.1/lib/python3.10/site-packages/fiftyone/utils/yolo.py:1029: UserWarning: Ignoring object with label 'Rifle' not in provided classes\n",
      "  warnings.warn(msg)\n",
      "/Users/jayden/.pyenv/versions/3.10.13/envs/venv3.1/lib/python3.10/site-packages/fiftyone/utils/yolo.py:1029: UserWarning: Ignoring object with label 'Luggage and bags' not in provided classes\n",
      "  warnings.warn(msg)\n",
      "/Users/jayden/.pyenv/versions/3.10.13/envs/venv3.1/lib/python3.10/site-packages/fiftyone/utils/yolo.py:1029: UserWarning: Ignoring object with label 'Drawer' not in provided classes\n",
      "  warnings.warn(msg)\n",
      "/Users/jayden/.pyenv/versions/3.10.13/envs/venv3.1/lib/python3.10/site-packages/fiftyone/utils/yolo.py:1029: UserWarning: Ignoring object with label 'Trombone' not in provided classes\n",
      "  warnings.warn(msg)\n",
      "/Users/jayden/.pyenv/versions/3.10.13/envs/venv3.1/lib/python3.10/site-packages/fiftyone/utils/yolo.py:1029: UserWarning: Ignoring object with label 'Trumpet' not in provided classes\n",
      "  warnings.warn(msg)\n",
      "/Users/jayden/.pyenv/versions/3.10.13/envs/venv3.1/lib/python3.10/site-packages/fiftyone/utils/yolo.py:1029: UserWarning: Ignoring object with label 'Tin can' not in provided classes\n",
      "  warnings.warn(msg)\n",
      "/Users/jayden/.pyenv/versions/3.10.13/envs/venv3.1/lib/python3.10/site-packages/fiftyone/utils/yolo.py:1029: UserWarning: Ignoring object with label 'Backpack' not in provided classes\n",
      "  warnings.warn(msg)\n",
      "/Users/jayden/.pyenv/versions/3.10.13/envs/venv3.1/lib/python3.10/site-packages/fiftyone/utils/yolo.py:1029: UserWarning: Ignoring object with label 'Elephant' not in provided classes\n",
      "  warnings.warn(msg)\n",
      "/Users/jayden/.pyenv/versions/3.10.13/envs/venv3.1/lib/python3.10/site-packages/fiftyone/utils/yolo.py:1029: UserWarning: Ignoring object with label 'Cowboy hat' not in provided classes\n",
      "  warnings.warn(msg)\n"
     ]
    },
    {
     "name": "stdout",
     "output_type": "stream",
     "text": [
      "  60% |█████████|-----|  603/1000 [2.5s elapsed, 1.6s remaining, 242.9 samples/s]    "
     ]
    },
    {
     "name": "stderr",
     "output_type": "stream",
     "text": [
      "/Users/jayden/.pyenv/versions/3.10.13/envs/venv3.1/lib/python3.10/site-packages/fiftyone/utils/yolo.py:1029: UserWarning: Ignoring object with label 'Office building' not in provided classes\n",
      "  warnings.warn(msg)\n",
      "/Users/jayden/.pyenv/versions/3.10.13/envs/venv3.1/lib/python3.10/site-packages/fiftyone/utils/yolo.py:1029: UserWarning: Ignoring object with label 'Dairy Product' not in provided classes\n",
      "  warnings.warn(msg)\n",
      "/Users/jayden/.pyenv/versions/3.10.13/envs/venv3.1/lib/python3.10/site-packages/fiftyone/utils/yolo.py:1029: UserWarning: Ignoring object with label 'Cheese' not in provided classes\n",
      "  warnings.warn(msg)\n",
      "/Users/jayden/.pyenv/versions/3.10.13/envs/venv3.1/lib/python3.10/site-packages/fiftyone/utils/yolo.py:1029: UserWarning: Ignoring object with label 'Scarf' not in provided classes\n",
      "  warnings.warn(msg)\n",
      "/Users/jayden/.pyenv/versions/3.10.13/envs/venv3.1/lib/python3.10/site-packages/fiftyone/utils/yolo.py:1029: UserWarning: Ignoring object with label 'Suitcase' not in provided classes\n",
      "  warnings.warn(msg)\n",
      "/Users/jayden/.pyenv/versions/3.10.13/envs/venv3.1/lib/python3.10/site-packages/fiftyone/utils/yolo.py:1029: UserWarning: Ignoring object with label 'Ladder' not in provided classes\n",
      "  warnings.warn(msg)\n"
     ]
    },
    {
     "name": "stdout",
     "output_type": "stream",
     "text": [
      "  65% |█████████------|  652/1000 [2.7s elapsed, 1.4s remaining, 265.4 samples/s]    "
     ]
    },
    {
     "name": "stderr",
     "output_type": "stream",
     "text": [
      "/Users/jayden/.pyenv/versions/3.10.13/envs/venv3.1/lib/python3.10/site-packages/fiftyone/utils/yolo.py:1029: UserWarning: Ignoring object with label 'Television' not in provided classes\n",
      "  warnings.warn(msg)\n",
      "/Users/jayden/.pyenv/versions/3.10.13/envs/venv3.1/lib/python3.10/site-packages/fiftyone/utils/yolo.py:1029: UserWarning: Ignoring object with label 'Scoreboard' not in provided classes\n",
      "  warnings.warn(msg)\n"
     ]
    },
    {
     "name": "stdout",
     "output_type": "stream",
     "text": [
      "  70% |██████████|----|  701/1000 [2.9s elapsed, 1.2s remaining, 248.5 samples/s]    "
     ]
    },
    {
     "name": "stderr",
     "output_type": "stream",
     "text": [
      "/Users/jayden/.pyenv/versions/3.10.13/envs/venv3.1/lib/python3.10/site-packages/fiftyone/utils/yolo.py:1029: UserWarning: Ignoring object with label 'Seafood' not in provided classes\n",
      "  warnings.warn(msg)\n",
      "/Users/jayden/.pyenv/versions/3.10.13/envs/venv3.1/lib/python3.10/site-packages/fiftyone/utils/yolo.py:1029: UserWarning: Ignoring object with label 'Bow and arrow' not in provided classes\n",
      "  warnings.warn(msg)\n",
      "/Users/jayden/.pyenv/versions/3.10.13/envs/venv3.1/lib/python3.10/site-packages/fiftyone/utils/yolo.py:1029: UserWarning: Ignoring object with label 'Tripod' not in provided classes\n",
      "  warnings.warn(msg)\n",
      "/Users/jayden/.pyenv/versions/3.10.13/envs/venv3.1/lib/python3.10/site-packages/fiftyone/utils/yolo.py:1029: UserWarning: Ignoring object with label 'Sushi' not in provided classes\n",
      "  warnings.warn(msg)\n"
     ]
    },
    {
     "name": "stdout",
     "output_type": "stream",
     "text": [
      "  76% |███████████----|  757/1000 [3.1s elapsed, 980.1ms remaining, 249.9 samples/s] "
     ]
    },
    {
     "name": "stderr",
     "output_type": "stream",
     "text": [
      "/Users/jayden/.pyenv/versions/3.10.13/envs/venv3.1/lib/python3.10/site-packages/fiftyone/utils/yolo.py:1029: UserWarning: Ignoring object with label 'Ambulance' not in provided classes\n",
      "  warnings.warn(msg)\n",
      "/Users/jayden/.pyenv/versions/3.10.13/envs/venv3.1/lib/python3.10/site-packages/fiftyone/utils/yolo.py:1029: UserWarning: Ignoring object with label 'Parachute' not in provided classes\n",
      "  warnings.warn(msg)\n",
      "/Users/jayden/.pyenv/versions/3.10.13/envs/venv3.1/lib/python3.10/site-packages/fiftyone/utils/yolo.py:1029: UserWarning: Ignoring object with label 'Goat' not in provided classes\n",
      "  warnings.warn(msg)\n",
      "/Users/jayden/.pyenv/versions/3.10.13/envs/venv3.1/lib/python3.10/site-packages/fiftyone/utils/yolo.py:1029: UserWarning: Ignoring object with label 'Oboe' not in provided classes\n",
      "  warnings.warn(msg)\n",
      "/Users/jayden/.pyenv/versions/3.10.13/envs/venv3.1/lib/python3.10/site-packages/fiftyone/utils/yolo.py:1029: UserWarning: Ignoring object with label 'Ice cream' not in provided classes\n",
      "  warnings.warn(msg)\n",
      "/Users/jayden/.pyenv/versions/3.10.13/envs/venv3.1/lib/python3.10/site-packages/fiftyone/utils/yolo.py:1029: UserWarning: Ignoring object with label 'Balance beam' not in provided classes\n",
      "  warnings.warn(msg)\n",
      "/Users/jayden/.pyenv/versions/3.10.13/envs/venv3.1/lib/python3.10/site-packages/fiftyone/utils/yolo.py:1029: UserWarning: Ignoring object with label 'Sun hat' not in provided classes\n",
      "  warnings.warn(msg)\n",
      "/Users/jayden/.pyenv/versions/3.10.13/envs/venv3.1/lib/python3.10/site-packages/fiftyone/utils/yolo.py:1029: UserWarning: Ignoring object with label 'Honeycomb' not in provided classes\n",
      "  warnings.warn(msg)\n",
      "/Users/jayden/.pyenv/versions/3.10.13/envs/venv3.1/lib/python3.10/site-packages/fiftyone/utils/yolo.py:1029: UserWarning: Ignoring object with label 'Invertebrate' not in provided classes\n",
      "  warnings.warn(msg)\n",
      "/Users/jayden/.pyenv/versions/3.10.13/envs/venv3.1/lib/python3.10/site-packages/fiftyone/utils/yolo.py:1029: UserWarning: Ignoring object with label 'Beehive' not in provided classes\n",
      "  warnings.warn(msg)\n",
      "/Users/jayden/.pyenv/versions/3.10.13/envs/venv3.1/lib/python3.10/site-packages/fiftyone/utils/yolo.py:1029: UserWarning: Ignoring object with label 'Bee' not in provided classes\n",
      "  warnings.warn(msg)\n",
      "/Users/jayden/.pyenv/versions/3.10.13/envs/venv3.1/lib/python3.10/site-packages/fiftyone/utils/yolo.py:1029: UserWarning: Ignoring object with label 'Porcupine' not in provided classes\n",
      "  warnings.warn(msg)\n",
      "/Users/jayden/.pyenv/versions/3.10.13/envs/venv3.1/lib/python3.10/site-packages/fiftyone/utils/yolo.py:1029: UserWarning: Ignoring object with label 'Hedgehog' not in provided classes\n",
      "  warnings.warn(msg)\n",
      "/Users/jayden/.pyenv/versions/3.10.13/envs/venv3.1/lib/python3.10/site-packages/fiftyone/utils/yolo.py:1029: UserWarning: Ignoring object with label 'Vase' not in provided classes\n",
      "  warnings.warn(msg)\n"
     ]
    },
    {
     "name": "stdout",
     "output_type": "stream",
     "text": [
      "  81% |████████████|--|  812/1000 [3.3s elapsed, 747.5ms remaining, 253.6 samples/s] "
     ]
    },
    {
     "name": "stderr",
     "output_type": "stream",
     "text": [
      "/Users/jayden/.pyenv/versions/3.10.13/envs/venv3.1/lib/python3.10/site-packages/fiftyone/utils/yolo.py:1029: UserWarning: Ignoring object with label 'Bowl' not in provided classes\n",
      "  warnings.warn(msg)\n",
      "/Users/jayden/.pyenv/versions/3.10.13/envs/venv3.1/lib/python3.10/site-packages/fiftyone/utils/yolo.py:1029: UserWarning: Ignoring object with label 'Flute' not in provided classes\n",
      "  warnings.warn(msg)\n",
      "/Users/jayden/.pyenv/versions/3.10.13/envs/venv3.1/lib/python3.10/site-packages/fiftyone/utils/yolo.py:1029: UserWarning: Ignoring object with label 'Street light' not in provided classes\n",
      "  warnings.warn(msg)\n",
      "/Users/jayden/.pyenv/versions/3.10.13/envs/venv3.1/lib/python3.10/site-packages/fiftyone/utils/yolo.py:1029: UserWarning: Ignoring object with label 'Traffic light' not in provided classes\n",
      "  warnings.warn(msg)\n",
      "/Users/jayden/.pyenv/versions/3.10.13/envs/venv3.1/lib/python3.10/site-packages/fiftyone/utils/yolo.py:1029: UserWarning: Ignoring object with label 'Crown' not in provided classes\n",
      "  warnings.warn(msg)\n",
      "/Users/jayden/.pyenv/versions/3.10.13/envs/venv3.1/lib/python3.10/site-packages/fiftyone/utils/yolo.py:1029: UserWarning: Ignoring object with label 'Beer' not in provided classes\n",
      "  warnings.warn(msg)\n"
     ]
    },
    {
     "name": "stdout",
     "output_type": "stream",
     "text": [
      "  86% |████████████---|  865/1000 [3.5s elapsed, 535.5ms remaining, 253.4 samples/s] "
     ]
    },
    {
     "name": "stderr",
     "output_type": "stream",
     "text": [
      "/Users/jayden/.pyenv/versions/3.10.13/envs/venv3.1/lib/python3.10/site-packages/fiftyone/utils/yolo.py:1029: UserWarning: Ignoring object with label 'Baseball bat' not in provided classes\n",
      "  warnings.warn(msg)\n",
      "/Users/jayden/.pyenv/versions/3.10.13/envs/venv3.1/lib/python3.10/site-packages/fiftyone/utils/yolo.py:1029: UserWarning: Ignoring object with label 'Pastry' not in provided classes\n",
      "  warnings.warn(msg)\n",
      "/Users/jayden/.pyenv/versions/3.10.13/envs/venv3.1/lib/python3.10/site-packages/fiftyone/utils/yolo.py:1029: UserWarning: Ignoring object with label 'Organ (Musical Instrument)' not in provided classes\n",
      "  warnings.warn(msg)\n",
      "/Users/jayden/.pyenv/versions/3.10.13/envs/venv3.1/lib/python3.10/site-packages/fiftyone/utils/yolo.py:1029: UserWarning: Ignoring object with label 'Tank' not in provided classes\n",
      "  warnings.warn(msg)\n",
      "/Users/jayden/.pyenv/versions/3.10.13/envs/venv3.1/lib/python3.10/site-packages/fiftyone/utils/yolo.py:1029: UserWarning: Ignoring object with label 'Turtle' not in provided classes\n",
      "  warnings.warn(msg)\n"
     ]
    },
    {
     "name": "stdout",
     "output_type": "stream",
     "text": [
      "  97% |██████████████-|  974/1000 [4.0s elapsed, 98.8ms remaining, 263.7 samples/s]  "
     ]
    },
    {
     "name": "stderr",
     "output_type": "stream",
     "text": [
      "/Users/jayden/.pyenv/versions/3.10.13/envs/venv3.1/lib/python3.10/site-packages/fiftyone/utils/yolo.py:1029: UserWarning: Ignoring object with label 'Cat' not in provided classes\n",
      "  warnings.warn(msg)\n",
      "/Users/jayden/.pyenv/versions/3.10.13/envs/venv3.1/lib/python3.10/site-packages/fiftyone/utils/yolo.py:1029: UserWarning: Ignoring object with label 'Rose' not in provided classes\n",
      "  warnings.warn(msg)\n"
     ]
    },
    {
     "name": "stdout",
     "output_type": "stream",
     "text": [
      " 100% |███████████████| 1000/1000 [4.1s elapsed, 0s remaining, 252.9 samples/s]      \n"
     ]
    },
    {
     "name": "stderr",
     "output_type": "stream",
     "text": [
      "/Users/jayden/.pyenv/versions/3.10.13/envs/venv3.1/lib/python3.10/site-packages/fiftyone/utils/yolo.py:1029: UserWarning: Ignoring object with label 'Waste container' not in provided classes\n",
      "  warnings.warn(msg)\n"
     ]
    }
   ],
   "source": [
    "for split, num in [(\"train\", 7000), (\"validation\", 2000), (\"test\", 1000)]:\n",
    "    dataset = foz.load_zoo_dataset(\n",
    "        name=\"open-images-v7\",\n",
    "        split=split,\n",
    "        label_types=[\"detections\"],\n",
    "        classes=classes,\n",
    "        dataset_dir=dataset_origin,\n",
    "        max_samples=num,\n",
    "        shuffle=True,\n",
    "        drop_existing_dataset=True,\n",
    "    )\n",
    "\n",
    "    dataset.export(\n",
    "        export_dir=dataset_new,\n",
    "        dataset_type=fo.types.YOLOv5Dataset,\n",
    "        label_field=\"ground_truth\",\n",
    "        split=\"val\" if split == \"validation\" else split,\n",
    "        classes=classes,\n",
    "        overwrite=False,\n",
    "    )"
   ]
  }
 ],
 "metadata": {
  "kernelspec": {
   "display_name": "venv3.1",
   "language": "python",
   "name": "python3"
  },
  "language_info": {
   "codemirror_mode": {
    "name": "ipython",
    "version": 3
   },
   "file_extension": ".py",
   "mimetype": "text/x-python",
   "name": "python",
   "nbconvert_exporter": "python",
   "pygments_lexer": "ipython3",
   "version": "3.10.13"
  }
 },
 "nbformat": 4,
 "nbformat_minor": 2
}
